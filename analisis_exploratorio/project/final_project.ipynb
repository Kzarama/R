{
 "cells": [
  {
   "cell_type": "code",
   "execution_count": 1,
   "id": "76367f9b",
   "metadata": {},
   "outputs": [],
   "source": [
    "# install.packages(\"readxl\")\n",
    "library(\"readxl\")"
   ]
  },
  {
   "cell_type": "markdown",
   "id": "48714545",
   "metadata": {},
   "source": [
    "# Proyecto final de analisis exploratorio\n",
    "\n",
    "### Integrantes\n",
    "Kevin Zarama  \n",
    "Cristhian Castillo\n",
    "\n",
    "## Carga de datos"
   ]
  },
  {
   "cell_type": "code",
   "execution_count": 8,
   "id": "76d236c7",
   "metadata": {},
   "outputs": [
    {
     "data": {
      "text/html": [
       "<table class=\"dataframe\">\n",
       "<caption>A tibble: 6 × 22</caption>\n",
       "<thead>\n",
       "\t<tr><th scope=col>Div</th><th scope=col>Date</th><th scope=col>HomeTeam</th><th scope=col>AwayTeam</th><th scope=col>FTHG</th><th scope=col>FTAG</th><th scope=col>FTR</th><th scope=col>HTHG</th><th scope=col>HTAG</th><th scope=col>HTR</th><th scope=col>⋯</th><th scope=col>HST</th><th scope=col>AST</th><th scope=col>HFKC</th><th scope=col>AFKC</th><th scope=col>HC</th><th scope=col>AC</th><th scope=col>HY</th><th scope=col>AY</th><th scope=col>HR</th><th scope=col>AR</th></tr>\n",
       "\t<tr><th scope=col>&lt;chr&gt;</th><th scope=col>&lt;dttm&gt;</th><th scope=col>&lt;chr&gt;</th><th scope=col>&lt;chr&gt;</th><th scope=col>&lt;dbl&gt;</th><th scope=col>&lt;dbl&gt;</th><th scope=col>&lt;chr&gt;</th><th scope=col>&lt;dbl&gt;</th><th scope=col>&lt;dbl&gt;</th><th scope=col>&lt;chr&gt;</th><th scope=col>⋯</th><th scope=col>&lt;dbl&gt;</th><th scope=col>&lt;dbl&gt;</th><th scope=col>&lt;dbl&gt;</th><th scope=col>&lt;dbl&gt;</th><th scope=col>&lt;dbl&gt;</th><th scope=col>&lt;dbl&gt;</th><th scope=col>&lt;dbl&gt;</th><th scope=col>&lt;dbl&gt;</th><th scope=col>&lt;dbl&gt;</th><th scope=col>&lt;dbl&gt;</th></tr>\n",
       "</thead>\n",
       "<tbody>\n",
       "\t<tr><td>B1</td><td>2018-07-27</td><td>Standard  </td><td>Gent            </td><td>3</td><td>2</td><td>H</td><td>1</td><td>1</td><td>D</td><td>⋯</td><td>8</td><td>5</td><td>22</td><td>18</td><td>2</td><td>5</td><td>2</td><td>3</td><td>0</td><td>0</td></tr>\n",
       "\t<tr><td>B1</td><td>2018-07-28</td><td>Kortrijk  </td><td>Anderlecht      </td><td>1</td><td>4</td><td>A</td><td>0</td><td>2</td><td>A</td><td>⋯</td><td>1</td><td>6</td><td>22</td><td>19</td><td>6</td><td>2</td><td>2</td><td>1</td><td>0</td><td>0</td></tr>\n",
       "\t<tr><td>B1</td><td>2018-07-28</td><td>Oostende  </td><td>Mouscron        </td><td>2</td><td>1</td><td>H</td><td>0</td><td>1</td><td>A</td><td>⋯</td><td>5</td><td>2</td><td>22</td><td>21</td><td>4</td><td>0</td><td>4</td><td>5</td><td>0</td><td>2</td></tr>\n",
       "\t<tr><td>B1</td><td>2018-07-28</td><td>St Truiden</td><td>Cercle Brugge   </td><td>0</td><td>0</td><td>D</td><td>0</td><td>0</td><td>D</td><td>⋯</td><td>3</td><td>6</td><td>23</td><td>16</td><td>2</td><td>5</td><td>2</td><td>3</td><td>0</td><td>0</td></tr>\n",
       "\t<tr><td>B1</td><td>2018-07-28</td><td>Waregem   </td><td>Waasland-Beveren</td><td>2</td><td>2</td><td>D</td><td>1</td><td>0</td><td>H</td><td>⋯</td><td>5</td><td>4</td><td>19</td><td>18</td><td>5</td><td>4</td><td>3</td><td>2</td><td>0</td><td>0</td></tr>\n",
       "\t<tr><td>B1</td><td>2018-07-29</td><td>Charleroi </td><td>Antwerp         </td><td>0</td><td>1</td><td>A</td><td>0</td><td>1</td><td>A</td><td>⋯</td><td>5</td><td>3</td><td>18</td><td>15</td><td>7</td><td>3</td><td>1</td><td>2</td><td>0</td><td>0</td></tr>\n",
       "</tbody>\n",
       "</table>\n"
      ],
      "text/latex": [
       "A tibble: 6 × 22\n",
       "\\begin{tabular}{lllllllllllllllllllll}\n",
       " Div & Date & HomeTeam & AwayTeam & FTHG & FTAG & FTR & HTHG & HTAG & HTR & ⋯ & HST & AST & HFKC & AFKC & HC & AC & HY & AY & HR & AR\\\\\n",
       " <chr> & <dttm> & <chr> & <chr> & <dbl> & <dbl> & <chr> & <dbl> & <dbl> & <chr> & ⋯ & <dbl> & <dbl> & <dbl> & <dbl> & <dbl> & <dbl> & <dbl> & <dbl> & <dbl> & <dbl>\\\\\n",
       "\\hline\n",
       "\t B1 & 2018-07-27 & Standard   & Gent             & 3 & 2 & H & 1 & 1 & D & ⋯ & 8 & 5 & 22 & 18 & 2 & 5 & 2 & 3 & 0 & 0\\\\\n",
       "\t B1 & 2018-07-28 & Kortrijk   & Anderlecht       & 1 & 4 & A & 0 & 2 & A & ⋯ & 1 & 6 & 22 & 19 & 6 & 2 & 2 & 1 & 0 & 0\\\\\n",
       "\t B1 & 2018-07-28 & Oostende   & Mouscron         & 2 & 1 & H & 0 & 1 & A & ⋯ & 5 & 2 & 22 & 21 & 4 & 0 & 4 & 5 & 0 & 2\\\\\n",
       "\t B1 & 2018-07-28 & St Truiden & Cercle Brugge    & 0 & 0 & D & 0 & 0 & D & ⋯ & 3 & 6 & 23 & 16 & 2 & 5 & 2 & 3 & 0 & 0\\\\\n",
       "\t B1 & 2018-07-28 & Waregem    & Waasland-Beveren & 2 & 2 & D & 1 & 0 & H & ⋯ & 5 & 4 & 19 & 18 & 5 & 4 & 3 & 2 & 0 & 0\\\\\n",
       "\t B1 & 2018-07-29 & Charleroi  & Antwerp          & 0 & 1 & A & 0 & 1 & A & ⋯ & 5 & 3 & 18 & 15 & 7 & 3 & 1 & 2 & 0 & 0\\\\\n",
       "\\end{tabular}\n"
      ],
      "text/markdown": [
       "\n",
       "A tibble: 6 × 22\n",
       "\n",
       "| Div &lt;chr&gt; | Date &lt;dttm&gt; | HomeTeam &lt;chr&gt; | AwayTeam &lt;chr&gt; | FTHG &lt;dbl&gt; | FTAG &lt;dbl&gt; | FTR &lt;chr&gt; | HTHG &lt;dbl&gt; | HTAG &lt;dbl&gt; | HTR &lt;chr&gt; | ⋯ ⋯ | HST &lt;dbl&gt; | AST &lt;dbl&gt; | HFKC &lt;dbl&gt; | AFKC &lt;dbl&gt; | HC &lt;dbl&gt; | AC &lt;dbl&gt; | HY &lt;dbl&gt; | AY &lt;dbl&gt; | HR &lt;dbl&gt; | AR &lt;dbl&gt; |\n",
       "|---|---|---|---|---|---|---|---|---|---|---|---|---|---|---|---|---|---|---|---|---|\n",
       "| B1 | 2018-07-27 | Standard   | Gent             | 3 | 2 | H | 1 | 1 | D | ⋯ | 8 | 5 | 22 | 18 | 2 | 5 | 2 | 3 | 0 | 0 |\n",
       "| B1 | 2018-07-28 | Kortrijk   | Anderlecht       | 1 | 4 | A | 0 | 2 | A | ⋯ | 1 | 6 | 22 | 19 | 6 | 2 | 2 | 1 | 0 | 0 |\n",
       "| B1 | 2018-07-28 | Oostende   | Mouscron         | 2 | 1 | H | 0 | 1 | A | ⋯ | 5 | 2 | 22 | 21 | 4 | 0 | 4 | 5 | 0 | 2 |\n",
       "| B1 | 2018-07-28 | St Truiden | Cercle Brugge    | 0 | 0 | D | 0 | 0 | D | ⋯ | 3 | 6 | 23 | 16 | 2 | 5 | 2 | 3 | 0 | 0 |\n",
       "| B1 | 2018-07-28 | Waregem    | Waasland-Beveren | 2 | 2 | D | 1 | 0 | H | ⋯ | 5 | 4 | 19 | 18 | 5 | 4 | 3 | 2 | 0 | 0 |\n",
       "| B1 | 2018-07-29 | Charleroi  | Antwerp          | 0 | 1 | A | 0 | 1 | A | ⋯ | 5 | 3 | 18 | 15 | 7 | 3 | 1 | 2 | 0 | 0 |\n",
       "\n"
      ],
      "text/plain": [
       "  Div Date       HomeTeam   AwayTeam         FTHG FTAG FTR HTHG HTAG HTR ⋯ HST\n",
       "1 B1  2018-07-27 Standard   Gent             3    2    H   1    1    D   ⋯ 8  \n",
       "2 B1  2018-07-28 Kortrijk   Anderlecht       1    4    A   0    2    A   ⋯ 1  \n",
       "3 B1  2018-07-28 Oostende   Mouscron         2    1    H   0    1    A   ⋯ 5  \n",
       "4 B1  2018-07-28 St Truiden Cercle Brugge    0    0    D   0    0    D   ⋯ 3  \n",
       "5 B1  2018-07-28 Waregem    Waasland-Beveren 2    2    D   1    0    H   ⋯ 5  \n",
       "6 B1  2018-07-29 Charleroi  Antwerp          0    1    A   0    1    A   ⋯ 5  \n",
       "  AST HFKC AFKC HC AC HY AY HR AR\n",
       "1 5   22   18   2  5  2  3  0  0 \n",
       "2 6   22   19   6  2  2  1  0  0 \n",
       "3 2   22   21   4  0  4  5  0  2 \n",
       "4 6   23   16   2  5  2  3  0  0 \n",
       "5 4   19   18   5  4  3  2  0  0 \n",
       "6 3   18   15   7  3  1  2  0  0 "
      ]
     },
     "metadata": {},
     "output_type": "display_data"
    }
   ],
   "source": [
    "my_data_1 <- read_excel(\"BELGA.xlsx\", sheet=\"18-19\")\n",
    "\n",
    "cols <- c(1:22)\n",
    "my_data_1 <- my_data_1[, cols]\n",
    "\n",
    "head(my_data_1)"
   ]
  },
  {
   "cell_type": "code",
   "execution_count": 6,
   "id": "5e2d7341",
   "metadata": {},
   "outputs": [
    {
     "name": "stdout",
     "output_type": "stream",
     "text": [
      "tibble [240 × 22] (S3: tbl_df/tbl/data.frame)\n",
      " $ Div     : chr [1:240] \"B1\" \"B1\" \"B1\" \"B1\" ...\n",
      " $ Date    : POSIXct[1:240], format: \"2018-07-27\" \"2018-07-28\" ...\n",
      " $ HomeTeam: chr [1:240] \"Standard\" \"Kortrijk\" \"Oostende\" \"St Truiden\" ...\n",
      " $ AwayTeam: chr [1:240] \"Gent\" \"Anderlecht\" \"Mouscron\" \"Cercle Brugge\" ...\n",
      " $ FTHG    : num [1:240] 3 1 2 0 2 0 5 0 0 0 ...\n",
      " $ FTAG    : num [1:240] 2 4 1 0 2 1 2 4 0 0 ...\n",
      " $ FTR     : chr [1:240] \"H\" \"A\" \"H\" \"D\" ...\n",
      " $ HTHG    : num [1:240] 1 0 0 0 1 0 3 0 0 0 ...\n",
      " $ HTAG    : num [1:240] 1 2 1 0 0 1 0 2 0 0 ...\n",
      " $ HTR     : chr [1:240] \"D\" \"A\" \"A\" \"D\" ...\n",
      " $ HS      : num [1:240] 10 8 11 9 8 10 12 5 7 24 ...\n",
      " $ AS      : num [1:240] 11 11 6 10 6 6 9 20 19 0 ...\n",
      " $ HST     : num [1:240] 8 1 5 3 5 5 8 1 4 12 ...\n",
      " $ AST     : num [1:240] 5 6 2 6 4 3 5 7 11 0 ...\n",
      " $ HFKC    : num [1:240] 22 22 22 23 19 18 12 14 15 14 ...\n",
      " $ AFKC    : num [1:240] 18 19 21 16 18 15 16 8 11 21 ...\n",
      " $ HC      : num [1:240] 2 6 4 2 5 7 4 2 3 9 ...\n",
      " $ AC      : num [1:240] 5 2 0 5 4 3 4 9 10 1 ...\n",
      " $ HY      : num [1:240] 2 2 4 2 3 1 0 1 3 1 ...\n",
      " $ AY      : num [1:240] 3 1 5 3 2 2 4 0 1 2 ...\n",
      " $ HR      : num [1:240] 0 0 0 0 0 0 0 1 0 0 ...\n",
      " $ AR      : num [1:240] 0 0 2 0 0 0 1 0 1 0 ...\n"
     ]
    }
   ],
   "source": [
    "str(my_data_1)"
   ]
  },
  {
   "cell_type": "code",
   "execution_count": null,
   "id": "89326e92",
   "metadata": {},
   "outputs": [],
   "source": []
  },
  {
   "cell_type": "code",
   "execution_count": null,
   "id": "4f7c8a36",
   "metadata": {},
   "outputs": [],
   "source": []
  },
  {
   "cell_type": "code",
   "execution_count": null,
   "id": "53ca1ce9",
   "metadata": {},
   "outputs": [],
   "source": []
  },
  {
   "cell_type": "code",
   "execution_count": null,
   "id": "60693861",
   "metadata": {},
   "outputs": [],
   "source": []
  },
  {
   "cell_type": "code",
   "execution_count": null,
   "id": "88d9d92f",
   "metadata": {},
   "outputs": [],
   "source": []
  },
  {
   "cell_type": "code",
   "execution_count": 3,
   "id": "cf29bde4",
   "metadata": {},
   "outputs": [
    {
     "data": {
      "text/html": [
       "<table class=\"dataframe\">\n",
       "<caption>A tibble: 6 × 23</caption>\n",
       "<thead>\n",
       "\t<tr><th scope=col>Div</th><th scope=col>Date</th><th scope=col>Time</th><th scope=col>HomeTeam</th><th scope=col>AwayTeam</th><th scope=col>FTHG</th><th scope=col>FTAG</th><th scope=col>FTR</th><th scope=col>HTHG</th><th scope=col>HTAG</th><th scope=col>⋯</th><th scope=col>HST</th><th scope=col>AST</th><th scope=col>HF</th><th scope=col>AF</th><th scope=col>HC</th><th scope=col>AC</th><th scope=col>HY</th><th scope=col>AY</th><th scope=col>HR</th><th scope=col>AR</th></tr>\n",
       "\t<tr><th scope=col>&lt;chr&gt;</th><th scope=col>&lt;dttm&gt;</th><th scope=col>&lt;dttm&gt;</th><th scope=col>&lt;chr&gt;</th><th scope=col>&lt;chr&gt;</th><th scope=col>&lt;dbl&gt;</th><th scope=col>&lt;dbl&gt;</th><th scope=col>&lt;chr&gt;</th><th scope=col>&lt;dbl&gt;</th><th scope=col>&lt;dbl&gt;</th><th scope=col>⋯</th><th scope=col>&lt;dbl&gt;</th><th scope=col>&lt;dbl&gt;</th><th scope=col>&lt;dbl&gt;</th><th scope=col>&lt;dbl&gt;</th><th scope=col>&lt;dbl&gt;</th><th scope=col>&lt;dbl&gt;</th><th scope=col>&lt;dbl&gt;</th><th scope=col>&lt;dbl&gt;</th><th scope=col>&lt;dbl&gt;</th><th scope=col>&lt;dbl&gt;</th></tr>\n",
       "</thead>\n",
       "<tbody>\n",
       "\t<tr><td>B1</td><td>2019-07-26</td><td>1899-12-31 19:30:00</td><td>Genk            </td><td>Kortrijk   </td><td>2</td><td>1</td><td>H</td><td>0</td><td>1</td><td>⋯</td><td>2</td><td> 4</td><td> 7</td><td>22</td><td>6</td><td> 2</td><td>0</td><td>1</td><td>0</td><td>0</td></tr>\n",
       "\t<tr><td>B1</td><td>2019-07-27</td><td>1899-12-31 17:00:00</td><td>Cercle Brugge   </td><td>Standard   </td><td>0</td><td>2</td><td>A</td><td>0</td><td>0</td><td>⋯</td><td>5</td><td> 9</td><td>16</td><td>15</td><td>3</td><td> 7</td><td>2</td><td>2</td><td>1</td><td>0</td></tr>\n",
       "\t<tr><td>B1</td><td>2019-07-27</td><td>1899-12-31 19:00:00</td><td>St Truiden      </td><td>Mouscron   </td><td>0</td><td>1</td><td>A</td><td>0</td><td>1</td><td>⋯</td><td>4</td><td> 6</td><td>10</td><td>21</td><td>5</td><td> 5</td><td>2</td><td>4</td><td>0</td><td>0</td></tr>\n",
       "\t<tr><td>B1</td><td>2019-07-27</td><td>1899-12-31 19:00:00</td><td>Waregem         </td><td>Mechelen   </td><td>0</td><td>2</td><td>A</td><td>0</td><td>1</td><td>⋯</td><td>2</td><td> 5</td><td>14</td><td>21</td><td>4</td><td> 2</td><td>3</td><td>1</td><td>0</td><td>0</td></tr>\n",
       "\t<tr><td>B1</td><td>2019-07-27</td><td>1899-12-31 19:30:00</td><td>Waasland-Beveren</td><td>Club Brugge</td><td>1</td><td>3</td><td>A</td><td>1</td><td>1</td><td>⋯</td><td>2</td><td>22</td><td>18</td><td>12</td><td>1</td><td>14</td><td>3</td><td>1</td><td>0</td><td>0</td></tr>\n",
       "\t<tr><td>B1</td><td>2019-07-28</td><td>1899-12-31 13:30:00</td><td>Anderlecht      </td><td>Oostende   </td><td>1</td><td>2</td><td>A</td><td>1</td><td>1</td><td>⋯</td><td>6</td><td> 6</td><td>12</td><td>17</td><td>5</td><td> 2</td><td>1</td><td>3</td><td>0</td><td>0</td></tr>\n",
       "</tbody>\n",
       "</table>\n"
      ],
      "text/latex": [
       "A tibble: 6 × 23\n",
       "\\begin{tabular}{lllllllllllllllllllll}\n",
       " Div & Date & Time & HomeTeam & AwayTeam & FTHG & FTAG & FTR & HTHG & HTAG & ⋯ & HST & AST & HF & AF & HC & AC & HY & AY & HR & AR\\\\\n",
       " <chr> & <dttm> & <dttm> & <chr> & <chr> & <dbl> & <dbl> & <chr> & <dbl> & <dbl> & ⋯ & <dbl> & <dbl> & <dbl> & <dbl> & <dbl> & <dbl> & <dbl> & <dbl> & <dbl> & <dbl>\\\\\n",
       "\\hline\n",
       "\t B1 & 2019-07-26 & 1899-12-31 19:30:00 & Genk             & Kortrijk    & 2 & 1 & H & 0 & 1 & ⋯ & 2 &  4 &  7 & 22 & 6 &  2 & 0 & 1 & 0 & 0\\\\\n",
       "\t B1 & 2019-07-27 & 1899-12-31 17:00:00 & Cercle Brugge    & Standard    & 0 & 2 & A & 0 & 0 & ⋯ & 5 &  9 & 16 & 15 & 3 &  7 & 2 & 2 & 1 & 0\\\\\n",
       "\t B1 & 2019-07-27 & 1899-12-31 19:00:00 & St Truiden       & Mouscron    & 0 & 1 & A & 0 & 1 & ⋯ & 4 &  6 & 10 & 21 & 5 &  5 & 2 & 4 & 0 & 0\\\\\n",
       "\t B1 & 2019-07-27 & 1899-12-31 19:00:00 & Waregem          & Mechelen    & 0 & 2 & A & 0 & 1 & ⋯ & 2 &  5 & 14 & 21 & 4 &  2 & 3 & 1 & 0 & 0\\\\\n",
       "\t B1 & 2019-07-27 & 1899-12-31 19:30:00 & Waasland-Beveren & Club Brugge & 1 & 3 & A & 1 & 1 & ⋯ & 2 & 22 & 18 & 12 & 1 & 14 & 3 & 1 & 0 & 0\\\\\n",
       "\t B1 & 2019-07-28 & 1899-12-31 13:30:00 & Anderlecht       & Oostende    & 1 & 2 & A & 1 & 1 & ⋯ & 6 &  6 & 12 & 17 & 5 &  2 & 1 & 3 & 0 & 0\\\\\n",
       "\\end{tabular}\n"
      ],
      "text/markdown": [
       "\n",
       "A tibble: 6 × 23\n",
       "\n",
       "| Div &lt;chr&gt; | Date &lt;dttm&gt; | Time &lt;dttm&gt; | HomeTeam &lt;chr&gt; | AwayTeam &lt;chr&gt; | FTHG &lt;dbl&gt; | FTAG &lt;dbl&gt; | FTR &lt;chr&gt; | HTHG &lt;dbl&gt; | HTAG &lt;dbl&gt; | ⋯ ⋯ | HST &lt;dbl&gt; | AST &lt;dbl&gt; | HF &lt;dbl&gt; | AF &lt;dbl&gt; | HC &lt;dbl&gt; | AC &lt;dbl&gt; | HY &lt;dbl&gt; | AY &lt;dbl&gt; | HR &lt;dbl&gt; | AR &lt;dbl&gt; |\n",
       "|---|---|---|---|---|---|---|---|---|---|---|---|---|---|---|---|---|---|---|---|---|\n",
       "| B1 | 2019-07-26 | 1899-12-31 19:30:00 | Genk             | Kortrijk    | 2 | 1 | H | 0 | 1 | ⋯ | 2 |  4 |  7 | 22 | 6 |  2 | 0 | 1 | 0 | 0 |\n",
       "| B1 | 2019-07-27 | 1899-12-31 17:00:00 | Cercle Brugge    | Standard    | 0 | 2 | A | 0 | 0 | ⋯ | 5 |  9 | 16 | 15 | 3 |  7 | 2 | 2 | 1 | 0 |\n",
       "| B1 | 2019-07-27 | 1899-12-31 19:00:00 | St Truiden       | Mouscron    | 0 | 1 | A | 0 | 1 | ⋯ | 4 |  6 | 10 | 21 | 5 |  5 | 2 | 4 | 0 | 0 |\n",
       "| B1 | 2019-07-27 | 1899-12-31 19:00:00 | Waregem          | Mechelen    | 0 | 2 | A | 0 | 1 | ⋯ | 2 |  5 | 14 | 21 | 4 |  2 | 3 | 1 | 0 | 0 |\n",
       "| B1 | 2019-07-27 | 1899-12-31 19:30:00 | Waasland-Beveren | Club Brugge | 1 | 3 | A | 1 | 1 | ⋯ | 2 | 22 | 18 | 12 | 1 | 14 | 3 | 1 | 0 | 0 |\n",
       "| B1 | 2019-07-28 | 1899-12-31 13:30:00 | Anderlecht       | Oostende    | 1 | 2 | A | 1 | 1 | ⋯ | 6 |  6 | 12 | 17 | 5 |  2 | 1 | 3 | 0 | 0 |\n",
       "\n"
      ],
      "text/plain": [
       "  Div Date       Time                HomeTeam         AwayTeam    FTHG FTAG FTR\n",
       "1 B1  2019-07-26 1899-12-31 19:30:00 Genk             Kortrijk    2    1    H  \n",
       "2 B1  2019-07-27 1899-12-31 17:00:00 Cercle Brugge    Standard    0    2    A  \n",
       "3 B1  2019-07-27 1899-12-31 19:00:00 St Truiden       Mouscron    0    1    A  \n",
       "4 B1  2019-07-27 1899-12-31 19:00:00 Waregem          Mechelen    0    2    A  \n",
       "5 B1  2019-07-27 1899-12-31 19:30:00 Waasland-Beveren Club Brugge 1    3    A  \n",
       "6 B1  2019-07-28 1899-12-31 13:30:00 Anderlecht       Oostende    1    2    A  \n",
       "  HTHG HTAG ⋯ HST AST HF AF HC AC HY AY HR AR\n",
       "1 0    1    ⋯ 2    4   7 22 6   2 0  1  0  0 \n",
       "2 0    0    ⋯ 5    9  16 15 3   7 2  2  1  0 \n",
       "3 0    1    ⋯ 4    6  10 21 5   5 2  4  0  0 \n",
       "4 0    1    ⋯ 2    5  14 21 4   2 3  1  0  0 \n",
       "5 1    1    ⋯ 2   22  18 12 1  14 3  1  0  0 \n",
       "6 1    1    ⋯ 6    6  12 17 5   2 1  3  0  0 "
      ]
     },
     "metadata": {},
     "output_type": "display_data"
    }
   ],
   "source": [
    "my_data_2 <- read_excel(\"BELGA.xlsx\", sheet=\"19-20\")\n",
    "\n",
    "cols <- c(1:23)\n",
    "my_data_2 <- my_data_2[, cols]\n",
    "\n",
    "head(my_data_2)"
   ]
  },
  {
   "cell_type": "code",
   "execution_count": 4,
   "id": "53918c16",
   "metadata": {},
   "outputs": [
    {
     "data": {
      "text/html": [
       "<table class=\"dataframe\">\n",
       "<caption>A tibble: 6 × 23</caption>\n",
       "<thead>\n",
       "\t<tr><th scope=col>Div</th><th scope=col>Date</th><th scope=col>Time</th><th scope=col>HomeTeam</th><th scope=col>AwayTeam</th><th scope=col>FTHG</th><th scope=col>FTAG</th><th scope=col>FTR</th><th scope=col>HTHG</th><th scope=col>HTAG</th><th scope=col>⋯</th><th scope=col>HST</th><th scope=col>AST</th><th scope=col>HF</th><th scope=col>AF</th><th scope=col>HC</th><th scope=col>AC</th><th scope=col>HY</th><th scope=col>AY</th><th scope=col>HR</th><th scope=col>AR</th></tr>\n",
       "\t<tr><th scope=col>&lt;chr&gt;</th><th scope=col>&lt;dttm&gt;</th><th scope=col>&lt;dttm&gt;</th><th scope=col>&lt;chr&gt;</th><th scope=col>&lt;chr&gt;</th><th scope=col>&lt;dbl&gt;</th><th scope=col>&lt;dbl&gt;</th><th scope=col>&lt;chr&gt;</th><th scope=col>&lt;dbl&gt;</th><th scope=col>&lt;dbl&gt;</th><th scope=col>⋯</th><th scope=col>&lt;dbl&gt;</th><th scope=col>&lt;dbl&gt;</th><th scope=col>&lt;dbl&gt;</th><th scope=col>&lt;dbl&gt;</th><th scope=col>&lt;dbl&gt;</th><th scope=col>&lt;dbl&gt;</th><th scope=col>&lt;dbl&gt;</th><th scope=col>&lt;dbl&gt;</th><th scope=col>&lt;dbl&gt;</th><th scope=col>&lt;dbl&gt;</th></tr>\n",
       "</thead>\n",
       "<tbody>\n",
       "\t<tr><td>B1</td><td>2020-08-08</td><td>1899-12-31 15:30:00</td><td>Club Brugge</td><td>Charleroi    </td><td>0</td><td>1</td><td>A</td><td>0</td><td>0</td><td>⋯</td><td>5</td><td>4</td><td>10</td><td>11</td><td>10</td><td>2</td><td>2</td><td>3</td><td>0</td><td>0</td></tr>\n",
       "\t<tr><td>B1</td><td>2020-08-08</td><td>1899-12-31 18:00:00</td><td>Antwerp    </td><td>Mouscron     </td><td>1</td><td>1</td><td>D</td><td>0</td><td>0</td><td>⋯</td><td>9</td><td>2</td><td> 8</td><td> 5</td><td> 7</td><td>3</td><td>2</td><td>1</td><td>0</td><td>0</td></tr>\n",
       "\t<tr><td>B1</td><td>2020-08-08</td><td>1899-12-31 18:00:00</td><td>Standard   </td><td>Cercle Brugge</td><td>1</td><td>0</td><td>H</td><td>0</td><td>0</td><td>⋯</td><td>8</td><td>1</td><td>10</td><td>11</td><td> 5</td><td>4</td><td>1</td><td>1</td><td>0</td><td>0</td></tr>\n",
       "\t<tr><td>B1</td><td>2020-08-09</td><td>1899-12-31 12:30:00</td><td>St Truiden </td><td>Gent         </td><td>2</td><td>1</td><td>H</td><td>1</td><td>1</td><td>⋯</td><td>8</td><td>2</td><td>19</td><td>13</td><td> 6</td><td>3</td><td>2</td><td>2</td><td>0</td><td>0</td></tr>\n",
       "\t<tr><td>B1</td><td>2020-08-09</td><td>1899-12-31 15:00:00</td><td>Waregem    </td><td>Genk         </td><td>1</td><td>2</td><td>A</td><td>1</td><td>0</td><td>⋯</td><td>6</td><td>4</td><td>15</td><td>16</td><td> 9</td><td>8</td><td>3</td><td>1</td><td>0</td><td>0</td></tr>\n",
       "\t<tr><td>B1</td><td>2020-08-09</td><td>1899-12-31 17:15:00</td><td>Mechelen   </td><td>Anderlecht   </td><td>2</td><td>2</td><td>D</td><td>0</td><td>0</td><td>⋯</td><td>4</td><td>2</td><td>21</td><td>17</td><td> 2</td><td>7</td><td>3</td><td>3</td><td>0</td><td>0</td></tr>\n",
       "</tbody>\n",
       "</table>\n"
      ],
      "text/latex": [
       "A tibble: 6 × 23\n",
       "\\begin{tabular}{lllllllllllllllllllll}\n",
       " Div & Date & Time & HomeTeam & AwayTeam & FTHG & FTAG & FTR & HTHG & HTAG & ⋯ & HST & AST & HF & AF & HC & AC & HY & AY & HR & AR\\\\\n",
       " <chr> & <dttm> & <dttm> & <chr> & <chr> & <dbl> & <dbl> & <chr> & <dbl> & <dbl> & ⋯ & <dbl> & <dbl> & <dbl> & <dbl> & <dbl> & <dbl> & <dbl> & <dbl> & <dbl> & <dbl>\\\\\n",
       "\\hline\n",
       "\t B1 & 2020-08-08 & 1899-12-31 15:30:00 & Club Brugge & Charleroi     & 0 & 1 & A & 0 & 0 & ⋯ & 5 & 4 & 10 & 11 & 10 & 2 & 2 & 3 & 0 & 0\\\\\n",
       "\t B1 & 2020-08-08 & 1899-12-31 18:00:00 & Antwerp     & Mouscron      & 1 & 1 & D & 0 & 0 & ⋯ & 9 & 2 &  8 &  5 &  7 & 3 & 2 & 1 & 0 & 0\\\\\n",
       "\t B1 & 2020-08-08 & 1899-12-31 18:00:00 & Standard    & Cercle Brugge & 1 & 0 & H & 0 & 0 & ⋯ & 8 & 1 & 10 & 11 &  5 & 4 & 1 & 1 & 0 & 0\\\\\n",
       "\t B1 & 2020-08-09 & 1899-12-31 12:30:00 & St Truiden  & Gent          & 2 & 1 & H & 1 & 1 & ⋯ & 8 & 2 & 19 & 13 &  6 & 3 & 2 & 2 & 0 & 0\\\\\n",
       "\t B1 & 2020-08-09 & 1899-12-31 15:00:00 & Waregem     & Genk          & 1 & 2 & A & 1 & 0 & ⋯ & 6 & 4 & 15 & 16 &  9 & 8 & 3 & 1 & 0 & 0\\\\\n",
       "\t B1 & 2020-08-09 & 1899-12-31 17:15:00 & Mechelen    & Anderlecht    & 2 & 2 & D & 0 & 0 & ⋯ & 4 & 2 & 21 & 17 &  2 & 7 & 3 & 3 & 0 & 0\\\\\n",
       "\\end{tabular}\n"
      ],
      "text/markdown": [
       "\n",
       "A tibble: 6 × 23\n",
       "\n",
       "| Div &lt;chr&gt; | Date &lt;dttm&gt; | Time &lt;dttm&gt; | HomeTeam &lt;chr&gt; | AwayTeam &lt;chr&gt; | FTHG &lt;dbl&gt; | FTAG &lt;dbl&gt; | FTR &lt;chr&gt; | HTHG &lt;dbl&gt; | HTAG &lt;dbl&gt; | ⋯ ⋯ | HST &lt;dbl&gt; | AST &lt;dbl&gt; | HF &lt;dbl&gt; | AF &lt;dbl&gt; | HC &lt;dbl&gt; | AC &lt;dbl&gt; | HY &lt;dbl&gt; | AY &lt;dbl&gt; | HR &lt;dbl&gt; | AR &lt;dbl&gt; |\n",
       "|---|---|---|---|---|---|---|---|---|---|---|---|---|---|---|---|---|---|---|---|---|\n",
       "| B1 | 2020-08-08 | 1899-12-31 15:30:00 | Club Brugge | Charleroi     | 0 | 1 | A | 0 | 0 | ⋯ | 5 | 4 | 10 | 11 | 10 | 2 | 2 | 3 | 0 | 0 |\n",
       "| B1 | 2020-08-08 | 1899-12-31 18:00:00 | Antwerp     | Mouscron      | 1 | 1 | D | 0 | 0 | ⋯ | 9 | 2 |  8 |  5 |  7 | 3 | 2 | 1 | 0 | 0 |\n",
       "| B1 | 2020-08-08 | 1899-12-31 18:00:00 | Standard    | Cercle Brugge | 1 | 0 | H | 0 | 0 | ⋯ | 8 | 1 | 10 | 11 |  5 | 4 | 1 | 1 | 0 | 0 |\n",
       "| B1 | 2020-08-09 | 1899-12-31 12:30:00 | St Truiden  | Gent          | 2 | 1 | H | 1 | 1 | ⋯ | 8 | 2 | 19 | 13 |  6 | 3 | 2 | 2 | 0 | 0 |\n",
       "| B1 | 2020-08-09 | 1899-12-31 15:00:00 | Waregem     | Genk          | 1 | 2 | A | 1 | 0 | ⋯ | 6 | 4 | 15 | 16 |  9 | 8 | 3 | 1 | 0 | 0 |\n",
       "| B1 | 2020-08-09 | 1899-12-31 17:15:00 | Mechelen    | Anderlecht    | 2 | 2 | D | 0 | 0 | ⋯ | 4 | 2 | 21 | 17 |  2 | 7 | 3 | 3 | 0 | 0 |\n",
       "\n"
      ],
      "text/plain": [
       "  Div Date       Time                HomeTeam    AwayTeam      FTHG FTAG FTR\n",
       "1 B1  2020-08-08 1899-12-31 15:30:00 Club Brugge Charleroi     0    1    A  \n",
       "2 B1  2020-08-08 1899-12-31 18:00:00 Antwerp     Mouscron      1    1    D  \n",
       "3 B1  2020-08-08 1899-12-31 18:00:00 Standard    Cercle Brugge 1    0    H  \n",
       "4 B1  2020-08-09 1899-12-31 12:30:00 St Truiden  Gent          2    1    H  \n",
       "5 B1  2020-08-09 1899-12-31 15:00:00 Waregem     Genk          1    2    A  \n",
       "6 B1  2020-08-09 1899-12-31 17:15:00 Mechelen    Anderlecht    2    2    D  \n",
       "  HTHG HTAG ⋯ HST AST HF AF HC AC HY AY HR AR\n",
       "1 0    0    ⋯ 5   4   10 11 10 2  2  3  0  0 \n",
       "2 0    0    ⋯ 9   2    8  5  7 3  2  1  0  0 \n",
       "3 0    0    ⋯ 8   1   10 11  5 4  1  1  0  0 \n",
       "4 1    1    ⋯ 8   2   19 13  6 3  2  2  0  0 \n",
       "5 1    0    ⋯ 6   4   15 16  9 8  3  1  0  0 \n",
       "6 0    0    ⋯ 4   2   21 17  2 7  3  3  0  0 "
      ]
     },
     "metadata": {},
     "output_type": "display_data"
    }
   ],
   "source": [
    "my_data_3 <- read_excel(\"BELGA.xlsx\", sheet=\"20-21\")\n",
    "\n",
    "cols <- c(1:23)\n",
    "my_data_3 <- my_data_3[, cols]\n",
    "\n",
    "head(my_data_3)"
   ]
  }
 ],
 "metadata": {
  "kernelspec": {
   "display_name": "R",
   "language": "R",
   "name": "ir"
  },
  "language_info": {
   "codemirror_mode": "r",
   "file_extension": ".r",
   "mimetype": "text/x-r-source",
   "name": "R",
   "pygments_lexer": "r",
   "version": "4.1.1"
  }
 },
 "nbformat": 4,
 "nbformat_minor": 5
}
