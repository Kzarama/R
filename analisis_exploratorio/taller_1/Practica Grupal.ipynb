{
 "cells": [
  {
   "cell_type": "markdown",
   "metadata": {},
   "source": [
    "# Practica Grupal 1"
   ]
  },
  {
   "cell_type": "markdown",
   "metadata": {},
   "source": [
    "## Packages"
   ]
  },
  {
   "cell_type": "code",
   "execution_count": 1,
   "metadata": {
    "ExecuteTime": {
     "end_time": "2021-08-24T17:31:10.861326Z",
     "start_time": "2021-08-24T17:31:10.284Z"
    }
   },
   "outputs": [
    {
     "name": "stderr",
     "output_type": "stream",
     "text": [
      "\n",
      "Attaching package: ‘dplyr’\n",
      "\n",
      "\n",
      "The following objects are masked from ‘package:stats’:\n",
      "\n",
      "    filter, lag\n",
      "\n",
      "\n",
      "The following objects are masked from ‘package:base’:\n",
      "\n",
      "    intersect, setdiff, setequal, union\n",
      "\n",
      "\n",
      "Warning message:\n",
      "“package ‘data.table’ was built under R version 3.6.3”\n",
      "\n",
      "Attaching package: ‘data.table’\n",
      "\n",
      "\n",
      "The following objects are masked from ‘package:dplyr’:\n",
      "\n",
      "    between, first, last\n",
      "\n",
      "\n"
     ]
    }
   ],
   "source": [
    "library(\"dplyr\")\n",
    "library(data.table)"
   ]
  },
  {
   "cell_type": "markdown",
   "metadata": {},
   "source": [
    "## Load Data"
   ]
  },
  {
   "cell_type": "code",
   "execution_count": 2,
   "metadata": {
    "ExecuteTime": {
     "end_time": "2021-08-24T17:31:14.604831Z",
     "start_time": "2021-08-24T17:31:10.288Z"
    }
   },
   "outputs": [],
   "source": [
    "df = read.csv2(\"datasets/SABERTYT20162.csv\", sep = \";\", dec = \",\", encoding =\"latin1\", na.strings = c(\"NA\",\"\"))"
   ]
  },
  {
   "cell_type": "code",
   "execution_count": 3,
   "metadata": {
    "ExecuteTime": {
     "end_time": "2021-08-24T17:31:14.822910Z",
     "start_time": "2021-08-24T17:31:10.308Z"
    },
    "scrolled": true
   },
   "outputs": [
    {
     "data": {
      "text/html": [
       "<table>\n",
       "<caption>A data.frame: 53040 × 104</caption>\n",
       "<thead>\n",
       "\t<tr><th scope=col>ESTU_TIPODOCUMENTO</th><th scope=col>ESTU_NACIONALIDAD</th><th scope=col>ESTU_GENERO</th><th scope=col>ESTU_FECHANACIMIENTO</th><th scope=col>PERIODO</th><th scope=col>ESTU_CONSECUTIVO</th><th scope=col>ESTU_ESTUDIANTE</th><th scope=col>ESTU_ESTADOCIVIL</th><th scope=col>ESTU_TIENE_ETNIA</th><th scope=col>ESTU_ETNIA</th><th scope=col>⋯</th><th scope=col>MOD_INGLES_DESEM</th><th scope=col>MOD_INGLES_PNAL</th><th scope=col>MOD_INGLES_PGREF</th><th scope=col>MOD_COMUNI_ESCRITA_PUNT</th><th scope=col>MOD_COMUNI_ESCRITA_DESEM</th><th scope=col>MOD_COMUNI_ESCRITA_PNAL</th><th scope=col>MOD_COMUNI_ESCRITA_PGREF</th><th scope=col>ESTU_ESTADO</th><th scope=col>INSE</th><th scope=col>NSE</th></tr>\n",
       "\t<tr><th scope=col>&lt;fct&gt;</th><th scope=col>&lt;fct&gt;</th><th scope=col>&lt;fct&gt;</th><th scope=col>&lt;fct&gt;</th><th scope=col>&lt;int&gt;</th><th scope=col>&lt;fct&gt;</th><th scope=col>&lt;fct&gt;</th><th scope=col>&lt;fct&gt;</th><th scope=col>&lt;fct&gt;</th><th scope=col>&lt;fct&gt;</th><th scope=col>⋯</th><th scope=col>&lt;fct&gt;</th><th scope=col>&lt;int&gt;</th><th scope=col>&lt;int&gt;</th><th scope=col>&lt;int&gt;</th><th scope=col>&lt;int&gt;</th><th scope=col>&lt;int&gt;</th><th scope=col>&lt;int&gt;</th><th scope=col>&lt;fct&gt;</th><th scope=col>&lt;dbl&gt;</th><th scope=col>&lt;fct&gt;</th></tr>\n",
       "</thead>\n",
       "<tbody>\n",
       "\t<tr><td>CC</td><td>1 COLOMBIA</td><td>M</td><td>15/08/1990</td><td>20164</td><td>EK201640024941</td><td>ESTUDIANTE</td><td>UNIÓN LIBRE</td><td>NO</td><td>NA                              </td><td>⋯</td><td>A2 </td><td> 79</td><td> 59</td><td>121</td><td>4</td><td>87</td><td>85</td><td>PUBLICAR</td><td>57.14241</td><td>NSE3</td></tr>\n",
       "\t<tr><td>CC</td><td>1 COLOMBIA</td><td>M</td><td>26/09/1990</td><td>20164</td><td>EK201640012159</td><td>ESTUDIANTE</td><td>SOLTERO    </td><td>NA</td><td>NA                              </td><td>⋯</td><td>A2 </td><td> 75</td><td> 74</td><td>123</td><td>4</td><td>89</td><td>87</td><td>PUBLICAR</td><td>65.76637</td><td>NSE4</td></tr>\n",
       "\t<tr><td>CC</td><td>1 COLOMBIA</td><td>F</td><td>28/10/1994</td><td>20164</td><td>EK201640041435</td><td>ESTUDIANTE</td><td>SOLTERO    </td><td>NO</td><td>NA                              </td><td>⋯</td><td>B1 </td><td> 97</td><td> 98</td><td> 99</td><td>2</td><td>43</td><td>44</td><td>PUBLICAR</td><td>47.68200</td><td>NSE2</td></tr>\n",
       "\t<tr><td>CC</td><td>1 COLOMBIA</td><td>F</td><td>24/09/1979</td><td>20164</td><td>EK201640003654</td><td>ESTUDIANTE</td><td>UNIÓN LIBRE</td><td>NO</td><td>NA                              </td><td>⋯</td><td>A1 </td><td> 32</td><td> 30</td><td> 75</td><td>1</td><td>13</td><td>11</td><td>PUBLICAR</td><td>55.56398</td><td>NSE3</td></tr>\n",
       "\t<tr><td>CC</td><td>1 COLOMBIA</td><td>M</td><td>6/07/1988 </td><td>20164</td><td>EK201640018456</td><td>ESTUDIANTE</td><td>SOLTERO    </td><td>NO</td><td>NA                              </td><td>⋯</td><td>A1-</td><td> 15</td><td> 19</td><td> 86</td><td>2</td><td>29</td><td>34</td><td>PUBLICAR</td><td>27.01330</td><td>NSE1</td></tr>\n",
       "\t<tr><td>CC</td><td>1 COLOMBIA</td><td>M</td><td>31/12/1992</td><td>20164</td><td>EK201640035645</td><td>ESTUDIANTE</td><td>SOLTERO    </td><td>NO</td><td>NA                              </td><td>⋯</td><td>A2 </td><td> 80</td><td> 81</td><td>105</td><td>3</td><td>63</td><td>63</td><td>PUBLICAR</td><td>50.76707</td><td>NSE2</td></tr>\n",
       "\t<tr><td>CC</td><td>1 COLOMBIA</td><td>F</td><td>19/04/1975</td><td>20164</td><td>EK201640031656</td><td>ESTUDIANTE</td><td>UNIÓN LIBRE</td><td>SI</td><td>19 Otro grupo étnico minoritario</td><td>⋯</td><td>A1-</td><td> 11</td><td> 14</td><td> 99</td><td>2</td><td>43</td><td>43</td><td>PUBLICAR</td><td>45.54980</td><td>NSE1</td></tr>\n",
       "\t<tr><td>CC</td><td>1 COLOMBIA</td><td>M</td><td>1/04/1995 </td><td>20164</td><td>EK201640018226</td><td>ESTUDIANTE</td><td>SOLTERO    </td><td>NA</td><td>NA                              </td><td>⋯</td><td>A1-</td><td> 23</td><td> 21</td><td> 84</td><td>2</td><td>22</td><td>22</td><td>PUBLICAR</td><td>55.05894</td><td>NSE2</td></tr>\n",
       "\t<tr><td>CC</td><td>1 COLOMBIA</td><td>M</td><td>20/12/1988</td><td>20164</td><td>EK201640020916</td><td>ESTUDIANTE</td><td>SOLTERO    </td><td>NO</td><td>NA                              </td><td>⋯</td><td>A1 </td><td> 43</td><td> 26</td><td>118</td><td>3</td><td>81</td><td>79</td><td>PUBLICAR</td><td>60.17477</td><td>NSE4</td></tr>\n",
       "\t<tr><td>CC</td><td>1 COLOMBIA</td><td>F</td><td>30/12/1997</td><td>20164</td><td>EK201640025179</td><td>ESTUDIANTE</td><td>SOLTERO    </td><td>NO</td><td>NA                              </td><td>⋯</td><td>B1 </td><td> 94</td><td> 94</td><td>127</td><td>4</td><td>94</td><td>93</td><td>PUBLICAR</td><td>48.95934</td><td>NSE2</td></tr>\n",
       "\t<tr><td>CC</td><td>1 COLOMBIA</td><td>M</td><td>5/03/1977 </td><td>20164</td><td>EK201640024939</td><td>ESTUDIANTE</td><td>CASADO     </td><td>NO</td><td>NA                              </td><td>⋯</td><td>A2 </td><td> 72</td><td> 71</td><td>104</td><td>3</td><td>58</td><td>55</td><td>PUBLICAR</td><td>48.77295</td><td>NSE2</td></tr>\n",
       "\t<tr><td>CC</td><td>1 COLOMBIA</td><td>F</td><td>21/01/1986</td><td>20164</td><td>EK201640019567</td><td>ESTUDIANTE</td><td>SOLTERO    </td><td>NO</td><td>NA                              </td><td>⋯</td><td>A1-</td><td>  2</td><td>  2</td><td> 87</td><td>2</td><td>30</td><td>30</td><td>PUBLICAR</td><td>47.26551</td><td>NSE2</td></tr>\n",
       "\t<tr><td>CC</td><td>1 COLOMBIA</td><td>F</td><td>11/11/1989</td><td>20164</td><td>EK201640034881</td><td>ESTUDIANTE</td><td>SOLTERO    </td><td>NA</td><td>NA                              </td><td>⋯</td><td>A1 </td><td> 51</td><td> 49</td><td>108</td><td>3</td><td>71</td><td>68</td><td>PUBLICAR</td><td>48.31694</td><td>NSE2</td></tr>\n",
       "\t<tr><td>CC</td><td>1 COLOMBIA</td><td>F</td><td>6/06/1995 </td><td>20164</td><td>EK201640022299</td><td>ESTUDIANTE</td><td>SOLTERO    </td><td>NO</td><td>NA                              </td><td>⋯</td><td>A2 </td><td> 84</td><td> 84</td><td>115</td><td>3</td><td>75</td><td>72</td><td>PUBLICAR</td><td>35.79830</td><td>NSE1</td></tr>\n",
       "\t<tr><td>CC</td><td>1 COLOMBIA</td><td>M</td><td>9/11/1985 </td><td>20164</td><td>EK201640022060</td><td>ESTUDIANTE</td><td>CASADO     </td><td>NO</td><td>NA                              </td><td>⋯</td><td>A2 </td><td> 62</td><td> 81</td><td>107</td><td>3</td><td>70</td><td>75</td><td>PUBLICAR</td><td>52.17062</td><td>NSE2</td></tr>\n",
       "\t<tr><td>CC</td><td>1 COLOMBIA</td><td>F</td><td>20/04/1992</td><td>20164</td><td>EK201640035927</td><td>ESTUDIANTE</td><td>SOLTERO    </td><td>NO</td><td>NA                              </td><td>⋯</td><td>A1 </td><td> 41</td><td> 49</td><td> 85</td><td>2</td><td>26</td><td>27</td><td>PUBLICAR</td><td>39.70657</td><td>NSE1</td></tr>\n",
       "\t<tr><td>CC</td><td>1 COLOMBIA</td><td>F</td><td>5/07/1995 </td><td>20164</td><td>EK201640015538</td><td>ESTUDIANTE</td><td>SOLTERO    </td><td>SI</td><td>1 Comunidad afrodescendiente    </td><td>⋯</td><td>A1-</td><td> 13</td><td> 21</td><td>107</td><td>3</td><td>70</td><td>72</td><td>PUBLICAR</td><td>65.68092</td><td>NSE4</td></tr>\n",
       "\t<tr><td>CC</td><td>1 COLOMBIA</td><td>M</td><td>8/06/1973 </td><td>20164</td><td>EK201640015754</td><td>ESTUDIANTE</td><td>CASADO     </td><td>NO</td><td>NA                              </td><td>⋯</td><td>A2 </td><td> 62</td><td> 50</td><td> 74</td><td>1</td><td>12</td><td>13</td><td>PUBLICAR</td><td>61.84396</td><td>NSE4</td></tr>\n",
       "\t<tr><td>CC</td><td>1 COLOMBIA</td><td>M</td><td>29/01/1996</td><td>20164</td><td>EK201640019267</td><td>ESTUDIANTE</td><td>SOLTERO    </td><td>NO</td><td>NA                              </td><td>⋯</td><td>A1-</td><td> 11</td><td>  9</td><td>110</td><td>3</td><td>73</td><td>70</td><td>PUBLICAR</td><td>41.84544</td><td>NSE1</td></tr>\n",
       "\t<tr><td>CC</td><td>1 COLOMBIA</td><td>M</td><td>3/01/1991 </td><td>20164</td><td>EK201640020311</td><td>ESTUDIANTE</td><td>SOLTERO    </td><td>NO</td><td>NA                              </td><td>⋯</td><td>A1-</td><td>  1</td><td>  1</td><td> 85</td><td>2</td><td>27</td><td>32</td><td>PUBLICAR</td><td>45.51286</td><td>NSE1</td></tr>\n",
       "\t<tr><td>CC</td><td>1 COLOMBIA</td><td>F</td><td>15/05/1990</td><td>20164</td><td>EK201640003286</td><td>ESTUDIANTE</td><td>UNIÓN LIBRE</td><td>NO</td><td>NA                              </td><td>⋯</td><td>A2 </td><td> 75</td><td> 73</td><td>100</td><td>2</td><td>48</td><td>44</td><td>PUBLICAR</td><td>45.74596</td><td>NSE2</td></tr>\n",
       "\t<tr><td>CC</td><td>1 COLOMBIA</td><td>M</td><td>12/08/1990</td><td>20164</td><td>EK201640014656</td><td>ESTUDIANTE</td><td>SOLTERO    </td><td>NO</td><td>NA                              </td><td>⋯</td><td>B1 </td><td> 92</td><td> 79</td><td>104</td><td>3</td><td>55</td><td>51</td><td>PUBLICAR</td><td>67.44420</td><td>NSE4</td></tr>\n",
       "\t<tr><td>CC</td><td>1 COLOMBIA</td><td>M</td><td>29/07/1996</td><td>20164</td><td>EK201640036254</td><td>ESTUDIANTE</td><td>SOLTERO    </td><td>NO</td><td>NA                              </td><td>⋯</td><td>B2 </td><td> 99</td><td>100</td><td> 86</td><td>2</td><td>30</td><td>35</td><td>PUBLICAR</td><td>66.06796</td><td>NSE4</td></tr>\n",
       "\t<tr><td>TI</td><td>1 COLOMBIA</td><td>F</td><td>29/04/1999</td><td>20164</td><td>EK201640038644</td><td>ESTUDIANTE</td><td>SOLTERO    </td><td>NO</td><td>NA                              </td><td>⋯</td><td>A2 </td><td> 69</td><td> 80</td><td>103</td><td>3</td><td>54</td><td>62</td><td>PUBLICAR</td><td>45.49249</td><td>NSE1</td></tr>\n",
       "\t<tr><td>CC</td><td>1 COLOMBIA</td><td>M</td><td>14/10/1994</td><td>20164</td><td>EK201640008561</td><td>ESTUDIANTE</td><td>SOLTERO    </td><td>NA</td><td>NA                              </td><td>⋯</td><td>A1-</td><td>  4</td><td>  2</td><td> 96</td><td>2</td><td>34</td><td>30</td><td>PUBLICAR</td><td>38.80205</td><td>NSE1</td></tr>\n",
       "\t<tr><td>CC</td><td>1 COLOMBIA</td><td>F</td><td>24/01/1993</td><td>20164</td><td>EK201640025582</td><td>ESTUDIANTE</td><td>SOLTERO    </td><td>NO</td><td>NA                              </td><td>⋯</td><td>A1 </td><td> 34</td><td> 34</td><td> 85</td><td>2</td><td>27</td><td>26</td><td>PUBLICAR</td><td>49.26491</td><td>NSE2</td></tr>\n",
       "\t<tr><td>CC</td><td>1 COLOMBIA</td><td>M</td><td>23/08/1994</td><td>20164</td><td>EK201640024375</td><td>ESTUDIANTE</td><td>SOLTERO    </td><td>NO</td><td>NA                              </td><td>⋯</td><td>A1 </td><td> 36</td><td> 54</td><td>106</td><td>3</td><td>66</td><td>72</td><td>PUBLICAR</td><td>35.89268</td><td>NSE1</td></tr>\n",
       "\t<tr><td>CC</td><td>1 COLOMBIA</td><td>F</td><td>15/02/1994</td><td>20164</td><td>EK201640037272</td><td>ESTUDIANTE</td><td>SOLTERO    </td><td>NO</td><td>NA                              </td><td>⋯</td><td>A1-</td><td> 15</td><td>  9</td><td> 57</td><td>1</td><td> 1</td><td> 1</td><td>PUBLICAR</td><td>52.95712</td><td>NSE2</td></tr>\n",
       "\t<tr><td>CC</td><td>1 COLOMBIA</td><td>M</td><td>12/05/1995</td><td>20164</td><td>EK201640024654</td><td>ESTUDIANTE</td><td>SOLTERO    </td><td>NO</td><td>NA                              </td><td>⋯</td><td>B2 </td><td>100</td><td>100</td><td> 62</td><td>1</td><td> 3</td><td> 3</td><td>PUBLICAR</td><td>67.39774</td><td>NSE4</td></tr>\n",
       "\t<tr><td>CC</td><td>1 COLOMBIA</td><td>M</td><td>13/07/1997</td><td>20164</td><td>EK201640038440</td><td>ESTUDIANTE</td><td>SOLTERO    </td><td>NO</td><td>NA                              </td><td>⋯</td><td>A1-</td><td>  6</td><td>  5</td><td> 87</td><td>2</td><td>30</td><td>26</td><td>PUBLICAR</td><td>53.40542</td><td>NSE2</td></tr>\n",
       "\t<tr><td>⋮</td><td>⋮</td><td>⋮</td><td>⋮</td><td>⋮</td><td>⋮</td><td>⋮</td><td>⋮</td><td>⋮</td><td>⋮</td><td>⋱</td><td>⋮</td><td>⋮</td><td>⋮</td><td>⋮</td><td>⋮</td><td>⋮</td><td>⋮</td><td>⋮</td><td>⋮</td><td>⋮</td></tr>\n",
       "\t<tr><td>CC</td><td>1 COLOMBIA</td><td>F</td><td>10/12/1993</td><td>20164</td><td>EK201640009311</td><td>ESTUDIANTE</td><td>SOLTERO    </td><td>NO</td><td>NA         </td><td>⋯</td><td>B1 </td><td>95</td><td>94</td><td>108</td><td>3</td><td> 71</td><td>68</td><td>PUBLICAR</td><td>62.11897</td><td>NSE4</td></tr>\n",
       "\t<tr><td>CC</td><td>1 COLOMBIA</td><td>M</td><td>30/10/1994</td><td>20164</td><td>EK201640017032</td><td>ESTUDIANTE</td><td>SOLTERO    </td><td>NO</td><td>NA         </td><td>⋯</td><td>B1 </td><td>87</td><td>86</td><td> 99</td><td>2</td><td> 42</td><td>38</td><td>PUBLICAR</td><td>74.18563</td><td>NSE4</td></tr>\n",
       "\t<tr><td>CC</td><td>1 COLOMBIA</td><td>M</td><td>4/05/1996 </td><td>20164</td><td>EK201640004573</td><td>ESTUDIANTE</td><td>UNIÓN LIBRE</td><td>NO</td><td>NA         </td><td>⋯</td><td>B1 </td><td>94</td><td>99</td><td>142</td><td>4</td><td> 98</td><td>99</td><td>PUBLICAR</td><td>45.45835</td><td>NSE1</td></tr>\n",
       "\t<tr><td>TI</td><td>1 COLOMBIA</td><td>M</td><td>6/12/1997 </td><td>20164</td><td>EK201640009827</td><td>ESTUDIANTE</td><td>SOLTERO    </td><td>SI</td><td>100 Ninguno</td><td>⋯</td><td>A2 </td><td>80</td><td>81</td><td>120</td><td>3</td><td> 86</td><td>87</td><td>PUBLICAR</td><td>49.35806</td><td>NSE2</td></tr>\n",
       "\t<tr><td>CC</td><td>1 COLOMBIA</td><td>M</td><td>18/10/1984</td><td>20164</td><td>EK201640014911</td><td>ESTUDIANTE</td><td>SOLTERO    </td><td>NO</td><td>NA         </td><td>⋯</td><td>B1 </td><td>92</td><td>83</td><td>151</td><td>4</td><td>100</td><td>99</td><td>PUBLICAR</td><td>60.00939</td><td>NSE4</td></tr>\n",
       "\t<tr><td>CC</td><td>1 COLOMBIA</td><td>M</td><td>27/10/1997</td><td>20164</td><td>EK201640002398</td><td>ESTUDIANTE</td><td>SOLTERO    </td><td>NO</td><td>NA         </td><td>⋯</td><td>A1 </td><td>40</td><td>27</td><td> 83</td><td>2</td><td> 22</td><td>23</td><td>PUBLICAR</td><td>57.56484</td><td>NSE3</td></tr>\n",
       "\t<tr><td>CC</td><td>1 COLOMBIA</td><td>M</td><td>17/07/1995</td><td>20164</td><td>EK201640019236</td><td>ESTUDIANTE</td><td>SOLTERO    </td><td>NO</td><td>NA         </td><td>⋯</td><td>A1 </td><td>61</td><td>45</td><td> 97</td><td>2</td><td> 35</td><td>35</td><td>PUBLICAR</td><td>58.47617</td><td>NSE3</td></tr>\n",
       "\t<tr><td>CC</td><td>1 COLOMBIA</td><td>M</td><td>11/08/1965</td><td>20164</td><td>EK201640027307</td><td>ESTUDIANTE</td><td>UNIÓN LIBRE</td><td>NO</td><td>NA         </td><td>⋯</td><td>B1 </td><td>90</td><td>89</td><td>102</td><td>3</td><td> 52</td><td>48</td><td>PUBLICAR</td><td>      NA</td><td>NA  </td></tr>\n",
       "\t<tr><td>CC</td><td>1 COLOMBIA</td><td>F</td><td>23/01/1993</td><td>20164</td><td>EK201640013986</td><td>ESTUDIANTE</td><td>SOLTERO    </td><td>NO</td><td>NA         </td><td>⋯</td><td>A1 </td><td>56</td><td>36</td><td>110</td><td>3</td><td> 73</td><td>70</td><td>PUBLICAR</td><td>45.47826</td><td>NSE1</td></tr>\n",
       "\t<tr><td>CC</td><td>1 COLOMBIA</td><td>F</td><td>16/03/1996</td><td>20164</td><td>EK201640014683</td><td>ESTUDIANTE</td><td>SOLTERO    </td><td>NO</td><td>NA         </td><td>⋯</td><td>B1 </td><td>87</td><td>86</td><td>103</td><td>3</td><td> 54</td><td>50</td><td>PUBLICAR</td><td>59.37988</td><td>NSE4</td></tr>\n",
       "\t<tr><td>CC</td><td>1 COLOMBIA</td><td>M</td><td>11/10/1983</td><td>20164</td><td>EK201640005781</td><td>ESTUDIANTE</td><td>CASADO     </td><td>NO</td><td>NA         </td><td>⋯</td><td>A1 </td><td>60</td><td>60</td><td>100</td><td>2</td><td> 49</td><td>49</td><td>PUBLICAR</td><td>40.61375</td><td>NSE1</td></tr>\n",
       "\t<tr><td>CC</td><td>1 COLOMBIA</td><td>F</td><td>19/10/1988</td><td>20164</td><td>EK201640035572</td><td>ESTUDIANTE</td><td>SOLTERO    </td><td>NO</td><td>NA         </td><td>⋯</td><td>A1 </td><td>30</td><td>30</td><td>127</td><td>4</td><td> 95</td><td>95</td><td>PUBLICAR</td><td>50.84579</td><td>NSE2</td></tr>\n",
       "\t<tr><td>CC</td><td>1 COLOMBIA</td><td>M</td><td>13/11/1993</td><td>20164</td><td>EK201640016125</td><td>ESTUDIANTE</td><td>SOLTERO    </td><td>NO</td><td>NA         </td><td>⋯</td><td>A1 </td><td>52</td><td>72</td><td> 79</td><td>1</td><td> 17</td><td>21</td><td>PUBLICAR</td><td>36.51019</td><td>NSE1</td></tr>\n",
       "\t<tr><td>CC</td><td>1 COLOMBIA</td><td>M</td><td>10/09/1993</td><td>20164</td><td>EK201640005428</td><td>ESTUDIANTE</td><td>SOLTERO    </td><td>NO</td><td>NA         </td><td>⋯</td><td>A1 </td><td>48</td><td>68</td><td>104</td><td>3</td><td> 56</td><td>62</td><td>PUBLICAR</td><td>38.98832</td><td>NSE1</td></tr>\n",
       "\t<tr><td>CC</td><td>1 COLOMBIA</td><td>M</td><td>12/05/1983</td><td>20164</td><td>EK201640017673</td><td>ESTUDIANTE</td><td>CASADO     </td><td>NO</td><td>NA         </td><td>⋯</td><td>A1 </td><td>31</td><td>31</td><td> 83</td><td>2</td><td> 21</td><td>21</td><td>PUBLICAR</td><td>40.90001</td><td>NSE1</td></tr>\n",
       "\t<tr><td>CC</td><td>1 COLOMBIA</td><td>M</td><td>8/01/1994 </td><td>20164</td><td>EK201640012284</td><td>ESTUDIANTE</td><td>SOLTERO    </td><td>NO</td><td>NA         </td><td>⋯</td><td>A2 </td><td>67</td><td>85</td><td>126</td><td>4</td><td> 93</td><td>96</td><td>PUBLICAR</td><td>29.50433</td><td>NSE1</td></tr>\n",
       "\t<tr><td>CC</td><td>1 COLOMBIA</td><td>M</td><td>12/02/1994</td><td>20164</td><td>EK201640007449</td><td>ESTUDIANTE</td><td>SOLTERO    </td><td>NO</td><td>NA         </td><td>⋯</td><td>A1 </td><td>57</td><td>76</td><td> 86</td><td>2</td><td> 29</td><td>34</td><td>PUBLICAR</td><td>41.27336</td><td>NSE1</td></tr>\n",
       "\t<tr><td>CC</td><td>1 COLOMBIA</td><td>F</td><td>1/09/1980 </td><td>20164</td><td>EK201640029555</td><td>ESTUDIANTE</td><td>SOLTERO    </td><td>NO</td><td>NA         </td><td>⋯</td><td>A1 </td><td>50</td><td>48</td><td>106</td><td>3</td><td> 66</td><td>62</td><td>PUBLICAR</td><td>52.12639</td><td>NSE2</td></tr>\n",
       "\t<tr><td>TI</td><td>1 COLOMBIA</td><td>F</td><td>26/01/1999</td><td>20164</td><td>EK201640019263</td><td>ESTUDIANTE</td><td>SOLTERO    </td><td>NO</td><td>NA         </td><td>⋯</td><td>A1 </td><td>38</td><td>35</td><td>105</td><td>3</td><td> 62</td><td>58</td><td>PUBLICAR</td><td>54.18112</td><td>NSE2</td></tr>\n",
       "\t<tr><td>CC</td><td>1 COLOMBIA</td><td>F</td><td>3/04/1995 </td><td>20164</td><td>EK201640028894</td><td>ESTUDIANTE</td><td>SOLTERO    </td><td>NO</td><td>NA         </td><td>⋯</td><td>A1 </td><td>59</td><td>58</td><td> 99</td><td>2</td><td> 42</td><td>39</td><td>PUBLICAR</td><td>63.16856</td><td>NSE4</td></tr>\n",
       "\t<tr><td>CC</td><td>1 COLOMBIA</td><td>F</td><td>23/09/1992</td><td>20164</td><td>EK201640038187</td><td>ESTUDIANTE</td><td>CASADO     </td><td>NO</td><td>NA         </td><td>⋯</td><td>A1-</td><td>20</td><td>12</td><td>104</td><td>3</td><td> 60</td><td>60</td><td>PUBLICAR</td><td>49.44874</td><td>NSE2</td></tr>\n",
       "\t<tr><td>CC</td><td>1 COLOMBIA</td><td>F</td><td>8/08/1993 </td><td>20164</td><td>EK201640028017</td><td>ESTUDIANTE</td><td>SOLTERO    </td><td>NO</td><td>NA         </td><td>⋯</td><td>A1-</td><td>16</td><td>20</td><td>104</td><td>3</td><td> 56</td><td>57</td><td>PUBLICAR</td><td>43.10047</td><td>NSE1</td></tr>\n",
       "\t<tr><td>CC</td><td>1 COLOMBIA</td><td>M</td><td>14/10/1981</td><td>20164</td><td>EK201640008378</td><td>ESTUDIANTE</td><td>CASADO     </td><td>NO</td><td>NA         </td><td>⋯</td><td>A1 </td><td>27</td><td>33</td><td> 88</td><td>2</td><td> 31</td><td>32</td><td>PUBLICAR</td><td>55.88203</td><td>NSE3</td></tr>\n",
       "\t<tr><td>CC</td><td>1 COLOMBIA</td><td>F</td><td>9/08/1986 </td><td>20164</td><td>EK201640024984</td><td>ESTUDIANTE</td><td>SOLTERO    </td><td>NO</td><td>NA         </td><td>⋯</td><td>A1 </td><td>59</td><td>59</td><td> 79</td><td>1</td><td> 17</td><td>17</td><td>PUBLICAR</td><td>34.65459</td><td>NSE1</td></tr>\n",
       "\t<tr><td>CC</td><td>1 COLOMBIA</td><td>M</td><td>10/08/1995</td><td>20164</td><td>EK201640017927</td><td>ESTUDIANTE</td><td>SOLTERO    </td><td>NO</td><td>NA         </td><td>⋯</td><td>B1 </td><td>91</td><td>77</td><td> 79</td><td>1</td><td> 17</td><td>18</td><td>PUBLICAR</td><td>58.50796</td><td>NSE3</td></tr>\n",
       "\t<tr><td>CC</td><td>1 COLOMBIA</td><td>M</td><td>22/01/1992</td><td>20164</td><td>EK201640005823</td><td>ESTUDIANTE</td><td>SOLTERO    </td><td>NO</td><td>NA         </td><td>⋯</td><td>A1 </td><td>38</td><td>56</td><td>104</td><td>3</td><td> 57</td><td>63</td><td>PUBLICAR</td><td>45.34484</td><td>NSE1</td></tr>\n",
       "\t<tr><td>CC</td><td>1 COLOMBIA</td><td>M</td><td>7/07/1992 </td><td>20164</td><td>EK201640005164</td><td>ESTUDIANTE</td><td>SOLTERO    </td><td>NO</td><td>NA         </td><td>⋯</td><td>A1 </td><td>48</td><td>68</td><td> 75</td><td>1</td><td> 12</td><td>15</td><td>PUBLICAR</td><td>39.95549</td><td>NSE1</td></tr>\n",
       "\t<tr><td>CC</td><td>1 COLOMBIA</td><td>M</td><td>7/09/1988 </td><td>20164</td><td>EK201640001818</td><td>ESTUDIANTE</td><td>UNIÓN LIBRE</td><td>NO</td><td>NA         </td><td>⋯</td><td>A1 </td><td>31</td><td>39</td><td> 60</td><td>1</td><td>  2</td><td> 2</td><td>PUBLICAR</td><td>60.76680</td><td>NSE4</td></tr>\n",
       "\t<tr><td>CC</td><td>1 COLOMBIA</td><td>F</td><td>2/02/1994 </td><td>20164</td><td>EK201640011583</td><td>ESTUDIANTE</td><td>SOLTERO    </td><td>NO</td><td>NA         </td><td>⋯</td><td>A1 </td><td>53</td><td>63</td><td>122</td><td>4</td><td> 88</td><td>89</td><td>PUBLICAR</td><td>69.01630</td><td>NSE4</td></tr>\n",
       "\t<tr><td>CC</td><td>1 COLOMBIA</td><td>M</td><td>15/02/1988</td><td>20164</td><td>EK201640024848</td><td>ESTUDIANTE</td><td>SOLTERO    </td><td>NO</td><td>NA         </td><td>⋯</td><td>A1-</td><td> 3</td><td> 3</td><td>118</td><td>3</td><td> 80</td><td>80</td><td>PUBLICAR</td><td>41.91418</td><td>NSE1</td></tr>\n",
       "</tbody>\n",
       "</table>\n"
      ],
      "text/latex": [
       "A data.frame: 53040 × 104\n",
       "\\begin{tabular}{lllllllllllllllllllll}\n",
       " ESTU\\_TIPODOCUMENTO & ESTU\\_NACIONALIDAD & ESTU\\_GENERO & ESTU\\_FECHANACIMIENTO & PERIODO & ESTU\\_CONSECUTIVO & ESTU\\_ESTUDIANTE & ESTU\\_ESTADOCIVIL & ESTU\\_TIENE\\_ETNIA & ESTU\\_ETNIA & ⋯ & MOD\\_INGLES\\_DESEM & MOD\\_INGLES\\_PNAL & MOD\\_INGLES\\_PGREF & MOD\\_COMUNI\\_ESCRITA\\_PUNT & MOD\\_COMUNI\\_ESCRITA\\_DESEM & MOD\\_COMUNI\\_ESCRITA\\_PNAL & MOD\\_COMUNI\\_ESCRITA\\_PGREF & ESTU\\_ESTADO & INSE & NSE\\\\\n",
       " <fct> & <fct> & <fct> & <fct> & <int> & <fct> & <fct> & <fct> & <fct> & <fct> & ⋯ & <fct> & <int> & <int> & <int> & <int> & <int> & <int> & <fct> & <dbl> & <fct>\\\\\n",
       "\\hline\n",
       "\t CC & 1 COLOMBIA & M & 15/08/1990 & 20164 & EK201640024941 & ESTUDIANTE & UNIÓN LIBRE & NO & NA                               & ⋯ & A2  &  79 &  59 & 121 & 4 & 87 & 85 & PUBLICAR & 57.14241 & NSE3\\\\\n",
       "\t CC & 1 COLOMBIA & M & 26/09/1990 & 20164 & EK201640012159 & ESTUDIANTE & SOLTERO     & NA & NA                               & ⋯ & A2  &  75 &  74 & 123 & 4 & 89 & 87 & PUBLICAR & 65.76637 & NSE4\\\\\n",
       "\t CC & 1 COLOMBIA & F & 28/10/1994 & 20164 & EK201640041435 & ESTUDIANTE & SOLTERO     & NO & NA                               & ⋯ & B1  &  97 &  98 &  99 & 2 & 43 & 44 & PUBLICAR & 47.68200 & NSE2\\\\\n",
       "\t CC & 1 COLOMBIA & F & 24/09/1979 & 20164 & EK201640003654 & ESTUDIANTE & UNIÓN LIBRE & NO & NA                               & ⋯ & A1  &  32 &  30 &  75 & 1 & 13 & 11 & PUBLICAR & 55.56398 & NSE3\\\\\n",
       "\t CC & 1 COLOMBIA & M & 6/07/1988  & 20164 & EK201640018456 & ESTUDIANTE & SOLTERO     & NO & NA                               & ⋯ & A1- &  15 &  19 &  86 & 2 & 29 & 34 & PUBLICAR & 27.01330 & NSE1\\\\\n",
       "\t CC & 1 COLOMBIA & M & 31/12/1992 & 20164 & EK201640035645 & ESTUDIANTE & SOLTERO     & NO & NA                               & ⋯ & A2  &  80 &  81 & 105 & 3 & 63 & 63 & PUBLICAR & 50.76707 & NSE2\\\\\n",
       "\t CC & 1 COLOMBIA & F & 19/04/1975 & 20164 & EK201640031656 & ESTUDIANTE & UNIÓN LIBRE & SI & 19 Otro grupo étnico minoritario & ⋯ & A1- &  11 &  14 &  99 & 2 & 43 & 43 & PUBLICAR & 45.54980 & NSE1\\\\\n",
       "\t CC & 1 COLOMBIA & M & 1/04/1995  & 20164 & EK201640018226 & ESTUDIANTE & SOLTERO     & NA & NA                               & ⋯ & A1- &  23 &  21 &  84 & 2 & 22 & 22 & PUBLICAR & 55.05894 & NSE2\\\\\n",
       "\t CC & 1 COLOMBIA & M & 20/12/1988 & 20164 & EK201640020916 & ESTUDIANTE & SOLTERO     & NO & NA                               & ⋯ & A1  &  43 &  26 & 118 & 3 & 81 & 79 & PUBLICAR & 60.17477 & NSE4\\\\\n",
       "\t CC & 1 COLOMBIA & F & 30/12/1997 & 20164 & EK201640025179 & ESTUDIANTE & SOLTERO     & NO & NA                               & ⋯ & B1  &  94 &  94 & 127 & 4 & 94 & 93 & PUBLICAR & 48.95934 & NSE2\\\\\n",
       "\t CC & 1 COLOMBIA & M & 5/03/1977  & 20164 & EK201640024939 & ESTUDIANTE & CASADO      & NO & NA                               & ⋯ & A2  &  72 &  71 & 104 & 3 & 58 & 55 & PUBLICAR & 48.77295 & NSE2\\\\\n",
       "\t CC & 1 COLOMBIA & F & 21/01/1986 & 20164 & EK201640019567 & ESTUDIANTE & SOLTERO     & NO & NA                               & ⋯ & A1- &   2 &   2 &  87 & 2 & 30 & 30 & PUBLICAR & 47.26551 & NSE2\\\\\n",
       "\t CC & 1 COLOMBIA & F & 11/11/1989 & 20164 & EK201640034881 & ESTUDIANTE & SOLTERO     & NA & NA                               & ⋯ & A1  &  51 &  49 & 108 & 3 & 71 & 68 & PUBLICAR & 48.31694 & NSE2\\\\\n",
       "\t CC & 1 COLOMBIA & F & 6/06/1995  & 20164 & EK201640022299 & ESTUDIANTE & SOLTERO     & NO & NA                               & ⋯ & A2  &  84 &  84 & 115 & 3 & 75 & 72 & PUBLICAR & 35.79830 & NSE1\\\\\n",
       "\t CC & 1 COLOMBIA & M & 9/11/1985  & 20164 & EK201640022060 & ESTUDIANTE & CASADO      & NO & NA                               & ⋯ & A2  &  62 &  81 & 107 & 3 & 70 & 75 & PUBLICAR & 52.17062 & NSE2\\\\\n",
       "\t CC & 1 COLOMBIA & F & 20/04/1992 & 20164 & EK201640035927 & ESTUDIANTE & SOLTERO     & NO & NA                               & ⋯ & A1  &  41 &  49 &  85 & 2 & 26 & 27 & PUBLICAR & 39.70657 & NSE1\\\\\n",
       "\t CC & 1 COLOMBIA & F & 5/07/1995  & 20164 & EK201640015538 & ESTUDIANTE & SOLTERO     & SI & 1 Comunidad afrodescendiente     & ⋯ & A1- &  13 &  21 & 107 & 3 & 70 & 72 & PUBLICAR & 65.68092 & NSE4\\\\\n",
       "\t CC & 1 COLOMBIA & M & 8/06/1973  & 20164 & EK201640015754 & ESTUDIANTE & CASADO      & NO & NA                               & ⋯ & A2  &  62 &  50 &  74 & 1 & 12 & 13 & PUBLICAR & 61.84396 & NSE4\\\\\n",
       "\t CC & 1 COLOMBIA & M & 29/01/1996 & 20164 & EK201640019267 & ESTUDIANTE & SOLTERO     & NO & NA                               & ⋯ & A1- &  11 &   9 & 110 & 3 & 73 & 70 & PUBLICAR & 41.84544 & NSE1\\\\\n",
       "\t CC & 1 COLOMBIA & M & 3/01/1991  & 20164 & EK201640020311 & ESTUDIANTE & SOLTERO     & NO & NA                               & ⋯ & A1- &   1 &   1 &  85 & 2 & 27 & 32 & PUBLICAR & 45.51286 & NSE1\\\\\n",
       "\t CC & 1 COLOMBIA & F & 15/05/1990 & 20164 & EK201640003286 & ESTUDIANTE & UNIÓN LIBRE & NO & NA                               & ⋯ & A2  &  75 &  73 & 100 & 2 & 48 & 44 & PUBLICAR & 45.74596 & NSE2\\\\\n",
       "\t CC & 1 COLOMBIA & M & 12/08/1990 & 20164 & EK201640014656 & ESTUDIANTE & SOLTERO     & NO & NA                               & ⋯ & B1  &  92 &  79 & 104 & 3 & 55 & 51 & PUBLICAR & 67.44420 & NSE4\\\\\n",
       "\t CC & 1 COLOMBIA & M & 29/07/1996 & 20164 & EK201640036254 & ESTUDIANTE & SOLTERO     & NO & NA                               & ⋯ & B2  &  99 & 100 &  86 & 2 & 30 & 35 & PUBLICAR & 66.06796 & NSE4\\\\\n",
       "\t TI & 1 COLOMBIA & F & 29/04/1999 & 20164 & EK201640038644 & ESTUDIANTE & SOLTERO     & NO & NA                               & ⋯ & A2  &  69 &  80 & 103 & 3 & 54 & 62 & PUBLICAR & 45.49249 & NSE1\\\\\n",
       "\t CC & 1 COLOMBIA & M & 14/10/1994 & 20164 & EK201640008561 & ESTUDIANTE & SOLTERO     & NA & NA                               & ⋯ & A1- &   4 &   2 &  96 & 2 & 34 & 30 & PUBLICAR & 38.80205 & NSE1\\\\\n",
       "\t CC & 1 COLOMBIA & F & 24/01/1993 & 20164 & EK201640025582 & ESTUDIANTE & SOLTERO     & NO & NA                               & ⋯ & A1  &  34 &  34 &  85 & 2 & 27 & 26 & PUBLICAR & 49.26491 & NSE2\\\\\n",
       "\t CC & 1 COLOMBIA & M & 23/08/1994 & 20164 & EK201640024375 & ESTUDIANTE & SOLTERO     & NO & NA                               & ⋯ & A1  &  36 &  54 & 106 & 3 & 66 & 72 & PUBLICAR & 35.89268 & NSE1\\\\\n",
       "\t CC & 1 COLOMBIA & F & 15/02/1994 & 20164 & EK201640037272 & ESTUDIANTE & SOLTERO     & NO & NA                               & ⋯ & A1- &  15 &   9 &  57 & 1 &  1 &  1 & PUBLICAR & 52.95712 & NSE2\\\\\n",
       "\t CC & 1 COLOMBIA & M & 12/05/1995 & 20164 & EK201640024654 & ESTUDIANTE & SOLTERO     & NO & NA                               & ⋯ & B2  & 100 & 100 &  62 & 1 &  3 &  3 & PUBLICAR & 67.39774 & NSE4\\\\\n",
       "\t CC & 1 COLOMBIA & M & 13/07/1997 & 20164 & EK201640038440 & ESTUDIANTE & SOLTERO     & NO & NA                               & ⋯ & A1- &   6 &   5 &  87 & 2 & 30 & 26 & PUBLICAR & 53.40542 & NSE2\\\\\n",
       "\t ⋮ & ⋮ & ⋮ & ⋮ & ⋮ & ⋮ & ⋮ & ⋮ & ⋮ & ⋮ & ⋱ & ⋮ & ⋮ & ⋮ & ⋮ & ⋮ & ⋮ & ⋮ & ⋮ & ⋮ & ⋮\\\\\n",
       "\t CC & 1 COLOMBIA & F & 10/12/1993 & 20164 & EK201640009311 & ESTUDIANTE & SOLTERO     & NO & NA          & ⋯ & B1  & 95 & 94 & 108 & 3 &  71 & 68 & PUBLICAR & 62.11897 & NSE4\\\\\n",
       "\t CC & 1 COLOMBIA & M & 30/10/1994 & 20164 & EK201640017032 & ESTUDIANTE & SOLTERO     & NO & NA          & ⋯ & B1  & 87 & 86 &  99 & 2 &  42 & 38 & PUBLICAR & 74.18563 & NSE4\\\\\n",
       "\t CC & 1 COLOMBIA & M & 4/05/1996  & 20164 & EK201640004573 & ESTUDIANTE & UNIÓN LIBRE & NO & NA          & ⋯ & B1  & 94 & 99 & 142 & 4 &  98 & 99 & PUBLICAR & 45.45835 & NSE1\\\\\n",
       "\t TI & 1 COLOMBIA & M & 6/12/1997  & 20164 & EK201640009827 & ESTUDIANTE & SOLTERO     & SI & 100 Ninguno & ⋯ & A2  & 80 & 81 & 120 & 3 &  86 & 87 & PUBLICAR & 49.35806 & NSE2\\\\\n",
       "\t CC & 1 COLOMBIA & M & 18/10/1984 & 20164 & EK201640014911 & ESTUDIANTE & SOLTERO     & NO & NA          & ⋯ & B1  & 92 & 83 & 151 & 4 & 100 & 99 & PUBLICAR & 60.00939 & NSE4\\\\\n",
       "\t CC & 1 COLOMBIA & M & 27/10/1997 & 20164 & EK201640002398 & ESTUDIANTE & SOLTERO     & NO & NA          & ⋯ & A1  & 40 & 27 &  83 & 2 &  22 & 23 & PUBLICAR & 57.56484 & NSE3\\\\\n",
       "\t CC & 1 COLOMBIA & M & 17/07/1995 & 20164 & EK201640019236 & ESTUDIANTE & SOLTERO     & NO & NA          & ⋯ & A1  & 61 & 45 &  97 & 2 &  35 & 35 & PUBLICAR & 58.47617 & NSE3\\\\\n",
       "\t CC & 1 COLOMBIA & M & 11/08/1965 & 20164 & EK201640027307 & ESTUDIANTE & UNIÓN LIBRE & NO & NA          & ⋯ & B1  & 90 & 89 & 102 & 3 &  52 & 48 & PUBLICAR &       NA & NA  \\\\\n",
       "\t CC & 1 COLOMBIA & F & 23/01/1993 & 20164 & EK201640013986 & ESTUDIANTE & SOLTERO     & NO & NA          & ⋯ & A1  & 56 & 36 & 110 & 3 &  73 & 70 & PUBLICAR & 45.47826 & NSE1\\\\\n",
       "\t CC & 1 COLOMBIA & F & 16/03/1996 & 20164 & EK201640014683 & ESTUDIANTE & SOLTERO     & NO & NA          & ⋯ & B1  & 87 & 86 & 103 & 3 &  54 & 50 & PUBLICAR & 59.37988 & NSE4\\\\\n",
       "\t CC & 1 COLOMBIA & M & 11/10/1983 & 20164 & EK201640005781 & ESTUDIANTE & CASADO      & NO & NA          & ⋯ & A1  & 60 & 60 & 100 & 2 &  49 & 49 & PUBLICAR & 40.61375 & NSE1\\\\\n",
       "\t CC & 1 COLOMBIA & F & 19/10/1988 & 20164 & EK201640035572 & ESTUDIANTE & SOLTERO     & NO & NA          & ⋯ & A1  & 30 & 30 & 127 & 4 &  95 & 95 & PUBLICAR & 50.84579 & NSE2\\\\\n",
       "\t CC & 1 COLOMBIA & M & 13/11/1993 & 20164 & EK201640016125 & ESTUDIANTE & SOLTERO     & NO & NA          & ⋯ & A1  & 52 & 72 &  79 & 1 &  17 & 21 & PUBLICAR & 36.51019 & NSE1\\\\\n",
       "\t CC & 1 COLOMBIA & M & 10/09/1993 & 20164 & EK201640005428 & ESTUDIANTE & SOLTERO     & NO & NA          & ⋯ & A1  & 48 & 68 & 104 & 3 &  56 & 62 & PUBLICAR & 38.98832 & NSE1\\\\\n",
       "\t CC & 1 COLOMBIA & M & 12/05/1983 & 20164 & EK201640017673 & ESTUDIANTE & CASADO      & NO & NA          & ⋯ & A1  & 31 & 31 &  83 & 2 &  21 & 21 & PUBLICAR & 40.90001 & NSE1\\\\\n",
       "\t CC & 1 COLOMBIA & M & 8/01/1994  & 20164 & EK201640012284 & ESTUDIANTE & SOLTERO     & NO & NA          & ⋯ & A2  & 67 & 85 & 126 & 4 &  93 & 96 & PUBLICAR & 29.50433 & NSE1\\\\\n",
       "\t CC & 1 COLOMBIA & M & 12/02/1994 & 20164 & EK201640007449 & ESTUDIANTE & SOLTERO     & NO & NA          & ⋯ & A1  & 57 & 76 &  86 & 2 &  29 & 34 & PUBLICAR & 41.27336 & NSE1\\\\\n",
       "\t CC & 1 COLOMBIA & F & 1/09/1980  & 20164 & EK201640029555 & ESTUDIANTE & SOLTERO     & NO & NA          & ⋯ & A1  & 50 & 48 & 106 & 3 &  66 & 62 & PUBLICAR & 52.12639 & NSE2\\\\\n",
       "\t TI & 1 COLOMBIA & F & 26/01/1999 & 20164 & EK201640019263 & ESTUDIANTE & SOLTERO     & NO & NA          & ⋯ & A1  & 38 & 35 & 105 & 3 &  62 & 58 & PUBLICAR & 54.18112 & NSE2\\\\\n",
       "\t CC & 1 COLOMBIA & F & 3/04/1995  & 20164 & EK201640028894 & ESTUDIANTE & SOLTERO     & NO & NA          & ⋯ & A1  & 59 & 58 &  99 & 2 &  42 & 39 & PUBLICAR & 63.16856 & NSE4\\\\\n",
       "\t CC & 1 COLOMBIA & F & 23/09/1992 & 20164 & EK201640038187 & ESTUDIANTE & CASADO      & NO & NA          & ⋯ & A1- & 20 & 12 & 104 & 3 &  60 & 60 & PUBLICAR & 49.44874 & NSE2\\\\\n",
       "\t CC & 1 COLOMBIA & F & 8/08/1993  & 20164 & EK201640028017 & ESTUDIANTE & SOLTERO     & NO & NA          & ⋯ & A1- & 16 & 20 & 104 & 3 &  56 & 57 & PUBLICAR & 43.10047 & NSE1\\\\\n",
       "\t CC & 1 COLOMBIA & M & 14/10/1981 & 20164 & EK201640008378 & ESTUDIANTE & CASADO      & NO & NA          & ⋯ & A1  & 27 & 33 &  88 & 2 &  31 & 32 & PUBLICAR & 55.88203 & NSE3\\\\\n",
       "\t CC & 1 COLOMBIA & F & 9/08/1986  & 20164 & EK201640024984 & ESTUDIANTE & SOLTERO     & NO & NA          & ⋯ & A1  & 59 & 59 &  79 & 1 &  17 & 17 & PUBLICAR & 34.65459 & NSE1\\\\\n",
       "\t CC & 1 COLOMBIA & M & 10/08/1995 & 20164 & EK201640017927 & ESTUDIANTE & SOLTERO     & NO & NA          & ⋯ & B1  & 91 & 77 &  79 & 1 &  17 & 18 & PUBLICAR & 58.50796 & NSE3\\\\\n",
       "\t CC & 1 COLOMBIA & M & 22/01/1992 & 20164 & EK201640005823 & ESTUDIANTE & SOLTERO     & NO & NA          & ⋯ & A1  & 38 & 56 & 104 & 3 &  57 & 63 & PUBLICAR & 45.34484 & NSE1\\\\\n",
       "\t CC & 1 COLOMBIA & M & 7/07/1992  & 20164 & EK201640005164 & ESTUDIANTE & SOLTERO     & NO & NA          & ⋯ & A1  & 48 & 68 &  75 & 1 &  12 & 15 & PUBLICAR & 39.95549 & NSE1\\\\\n",
       "\t CC & 1 COLOMBIA & M & 7/09/1988  & 20164 & EK201640001818 & ESTUDIANTE & UNIÓN LIBRE & NO & NA          & ⋯ & A1  & 31 & 39 &  60 & 1 &   2 &  2 & PUBLICAR & 60.76680 & NSE4\\\\\n",
       "\t CC & 1 COLOMBIA & F & 2/02/1994  & 20164 & EK201640011583 & ESTUDIANTE & SOLTERO     & NO & NA          & ⋯ & A1  & 53 & 63 & 122 & 4 &  88 & 89 & PUBLICAR & 69.01630 & NSE4\\\\\n",
       "\t CC & 1 COLOMBIA & M & 15/02/1988 & 20164 & EK201640024848 & ESTUDIANTE & SOLTERO     & NO & NA          & ⋯ & A1- &  3 &  3 & 118 & 3 &  80 & 80 & PUBLICAR & 41.91418 & NSE1\\\\\n",
       "\\end{tabular}\n"
      ],
      "text/markdown": [
       "\n",
       "A data.frame: 53040 × 104\n",
       "\n",
       "| ESTU_TIPODOCUMENTO &lt;fct&gt; | ESTU_NACIONALIDAD &lt;fct&gt; | ESTU_GENERO &lt;fct&gt; | ESTU_FECHANACIMIENTO &lt;fct&gt; | PERIODO &lt;int&gt; | ESTU_CONSECUTIVO &lt;fct&gt; | ESTU_ESTUDIANTE &lt;fct&gt; | ESTU_ESTADOCIVIL &lt;fct&gt; | ESTU_TIENE_ETNIA &lt;fct&gt; | ESTU_ETNIA &lt;fct&gt; | ⋯ ⋯ | MOD_INGLES_DESEM &lt;fct&gt; | MOD_INGLES_PNAL &lt;int&gt; | MOD_INGLES_PGREF &lt;int&gt; | MOD_COMUNI_ESCRITA_PUNT &lt;int&gt; | MOD_COMUNI_ESCRITA_DESEM &lt;int&gt; | MOD_COMUNI_ESCRITA_PNAL &lt;int&gt; | MOD_COMUNI_ESCRITA_PGREF &lt;int&gt; | ESTU_ESTADO &lt;fct&gt; | INSE &lt;dbl&gt; | NSE &lt;fct&gt; |\n",
       "|---|---|---|---|---|---|---|---|---|---|---|---|---|---|---|---|---|---|---|---|---|\n",
       "| CC | 1 COLOMBIA | M | 15/08/1990 | 20164 | EK201640024941 | ESTUDIANTE | UNIÓN LIBRE | NO | NA                               | ⋯ | A2  |  79 |  59 | 121 | 4 | 87 | 85 | PUBLICAR | 57.14241 | NSE3 |\n",
       "| CC | 1 COLOMBIA | M | 26/09/1990 | 20164 | EK201640012159 | ESTUDIANTE | SOLTERO     | NA | NA                               | ⋯ | A2  |  75 |  74 | 123 | 4 | 89 | 87 | PUBLICAR | 65.76637 | NSE4 |\n",
       "| CC | 1 COLOMBIA | F | 28/10/1994 | 20164 | EK201640041435 | ESTUDIANTE | SOLTERO     | NO | NA                               | ⋯ | B1  |  97 |  98 |  99 | 2 | 43 | 44 | PUBLICAR | 47.68200 | NSE2 |\n",
       "| CC | 1 COLOMBIA | F | 24/09/1979 | 20164 | EK201640003654 | ESTUDIANTE | UNIÓN LIBRE | NO | NA                               | ⋯ | A1  |  32 |  30 |  75 | 1 | 13 | 11 | PUBLICAR | 55.56398 | NSE3 |\n",
       "| CC | 1 COLOMBIA | M | 6/07/1988  | 20164 | EK201640018456 | ESTUDIANTE | SOLTERO     | NO | NA                               | ⋯ | A1- |  15 |  19 |  86 | 2 | 29 | 34 | PUBLICAR | 27.01330 | NSE1 |\n",
       "| CC | 1 COLOMBIA | M | 31/12/1992 | 20164 | EK201640035645 | ESTUDIANTE | SOLTERO     | NO | NA                               | ⋯ | A2  |  80 |  81 | 105 | 3 | 63 | 63 | PUBLICAR | 50.76707 | NSE2 |\n",
       "| CC | 1 COLOMBIA | F | 19/04/1975 | 20164 | EK201640031656 | ESTUDIANTE | UNIÓN LIBRE | SI | 19 Otro grupo étnico minoritario | ⋯ | A1- |  11 |  14 |  99 | 2 | 43 | 43 | PUBLICAR | 45.54980 | NSE1 |\n",
       "| CC | 1 COLOMBIA | M | 1/04/1995  | 20164 | EK201640018226 | ESTUDIANTE | SOLTERO     | NA | NA                               | ⋯ | A1- |  23 |  21 |  84 | 2 | 22 | 22 | PUBLICAR | 55.05894 | NSE2 |\n",
       "| CC | 1 COLOMBIA | M | 20/12/1988 | 20164 | EK201640020916 | ESTUDIANTE | SOLTERO     | NO | NA                               | ⋯ | A1  |  43 |  26 | 118 | 3 | 81 | 79 | PUBLICAR | 60.17477 | NSE4 |\n",
       "| CC | 1 COLOMBIA | F | 30/12/1997 | 20164 | EK201640025179 | ESTUDIANTE | SOLTERO     | NO | NA                               | ⋯ | B1  |  94 |  94 | 127 | 4 | 94 | 93 | PUBLICAR | 48.95934 | NSE2 |\n",
       "| CC | 1 COLOMBIA | M | 5/03/1977  | 20164 | EK201640024939 | ESTUDIANTE | CASADO      | NO | NA                               | ⋯ | A2  |  72 |  71 | 104 | 3 | 58 | 55 | PUBLICAR | 48.77295 | NSE2 |\n",
       "| CC | 1 COLOMBIA | F | 21/01/1986 | 20164 | EK201640019567 | ESTUDIANTE | SOLTERO     | NO | NA                               | ⋯ | A1- |   2 |   2 |  87 | 2 | 30 | 30 | PUBLICAR | 47.26551 | NSE2 |\n",
       "| CC | 1 COLOMBIA | F | 11/11/1989 | 20164 | EK201640034881 | ESTUDIANTE | SOLTERO     | NA | NA                               | ⋯ | A1  |  51 |  49 | 108 | 3 | 71 | 68 | PUBLICAR | 48.31694 | NSE2 |\n",
       "| CC | 1 COLOMBIA | F | 6/06/1995  | 20164 | EK201640022299 | ESTUDIANTE | SOLTERO     | NO | NA                               | ⋯ | A2  |  84 |  84 | 115 | 3 | 75 | 72 | PUBLICAR | 35.79830 | NSE1 |\n",
       "| CC | 1 COLOMBIA | M | 9/11/1985  | 20164 | EK201640022060 | ESTUDIANTE | CASADO      | NO | NA                               | ⋯ | A2  |  62 |  81 | 107 | 3 | 70 | 75 | PUBLICAR | 52.17062 | NSE2 |\n",
       "| CC | 1 COLOMBIA | F | 20/04/1992 | 20164 | EK201640035927 | ESTUDIANTE | SOLTERO     | NO | NA                               | ⋯ | A1  |  41 |  49 |  85 | 2 | 26 | 27 | PUBLICAR | 39.70657 | NSE1 |\n",
       "| CC | 1 COLOMBIA | F | 5/07/1995  | 20164 | EK201640015538 | ESTUDIANTE | SOLTERO     | SI | 1 Comunidad afrodescendiente     | ⋯ | A1- |  13 |  21 | 107 | 3 | 70 | 72 | PUBLICAR | 65.68092 | NSE4 |\n",
       "| CC | 1 COLOMBIA | M | 8/06/1973  | 20164 | EK201640015754 | ESTUDIANTE | CASADO      | NO | NA                               | ⋯ | A2  |  62 |  50 |  74 | 1 | 12 | 13 | PUBLICAR | 61.84396 | NSE4 |\n",
       "| CC | 1 COLOMBIA | M | 29/01/1996 | 20164 | EK201640019267 | ESTUDIANTE | SOLTERO     | NO | NA                               | ⋯ | A1- |  11 |   9 | 110 | 3 | 73 | 70 | PUBLICAR | 41.84544 | NSE1 |\n",
       "| CC | 1 COLOMBIA | M | 3/01/1991  | 20164 | EK201640020311 | ESTUDIANTE | SOLTERO     | NO | NA                               | ⋯ | A1- |   1 |   1 |  85 | 2 | 27 | 32 | PUBLICAR | 45.51286 | NSE1 |\n",
       "| CC | 1 COLOMBIA | F | 15/05/1990 | 20164 | EK201640003286 | ESTUDIANTE | UNIÓN LIBRE | NO | NA                               | ⋯ | A2  |  75 |  73 | 100 | 2 | 48 | 44 | PUBLICAR | 45.74596 | NSE2 |\n",
       "| CC | 1 COLOMBIA | M | 12/08/1990 | 20164 | EK201640014656 | ESTUDIANTE | SOLTERO     | NO | NA                               | ⋯ | B1  |  92 |  79 | 104 | 3 | 55 | 51 | PUBLICAR | 67.44420 | NSE4 |\n",
       "| CC | 1 COLOMBIA | M | 29/07/1996 | 20164 | EK201640036254 | ESTUDIANTE | SOLTERO     | NO | NA                               | ⋯ | B2  |  99 | 100 |  86 | 2 | 30 | 35 | PUBLICAR | 66.06796 | NSE4 |\n",
       "| TI | 1 COLOMBIA | F | 29/04/1999 | 20164 | EK201640038644 | ESTUDIANTE | SOLTERO     | NO | NA                               | ⋯ | A2  |  69 |  80 | 103 | 3 | 54 | 62 | PUBLICAR | 45.49249 | NSE1 |\n",
       "| CC | 1 COLOMBIA | M | 14/10/1994 | 20164 | EK201640008561 | ESTUDIANTE | SOLTERO     | NA | NA                               | ⋯ | A1- |   4 |   2 |  96 | 2 | 34 | 30 | PUBLICAR | 38.80205 | NSE1 |\n",
       "| CC | 1 COLOMBIA | F | 24/01/1993 | 20164 | EK201640025582 | ESTUDIANTE | SOLTERO     | NO | NA                               | ⋯ | A1  |  34 |  34 |  85 | 2 | 27 | 26 | PUBLICAR | 49.26491 | NSE2 |\n",
       "| CC | 1 COLOMBIA | M | 23/08/1994 | 20164 | EK201640024375 | ESTUDIANTE | SOLTERO     | NO | NA                               | ⋯ | A1  |  36 |  54 | 106 | 3 | 66 | 72 | PUBLICAR | 35.89268 | NSE1 |\n",
       "| CC | 1 COLOMBIA | F | 15/02/1994 | 20164 | EK201640037272 | ESTUDIANTE | SOLTERO     | NO | NA                               | ⋯ | A1- |  15 |   9 |  57 | 1 |  1 |  1 | PUBLICAR | 52.95712 | NSE2 |\n",
       "| CC | 1 COLOMBIA | M | 12/05/1995 | 20164 | EK201640024654 | ESTUDIANTE | SOLTERO     | NO | NA                               | ⋯ | B2  | 100 | 100 |  62 | 1 |  3 |  3 | PUBLICAR | 67.39774 | NSE4 |\n",
       "| CC | 1 COLOMBIA | M | 13/07/1997 | 20164 | EK201640038440 | ESTUDIANTE | SOLTERO     | NO | NA                               | ⋯ | A1- |   6 |   5 |  87 | 2 | 30 | 26 | PUBLICAR | 53.40542 | NSE2 |\n",
       "| ⋮ | ⋮ | ⋮ | ⋮ | ⋮ | ⋮ | ⋮ | ⋮ | ⋮ | ⋮ | ⋱ | ⋮ | ⋮ | ⋮ | ⋮ | ⋮ | ⋮ | ⋮ | ⋮ | ⋮ | ⋮ |\n",
       "| CC | 1 COLOMBIA | F | 10/12/1993 | 20164 | EK201640009311 | ESTUDIANTE | SOLTERO     | NO | NA          | ⋯ | B1  | 95 | 94 | 108 | 3 |  71 | 68 | PUBLICAR | 62.11897 | NSE4 |\n",
       "| CC | 1 COLOMBIA | M | 30/10/1994 | 20164 | EK201640017032 | ESTUDIANTE | SOLTERO     | NO | NA          | ⋯ | B1  | 87 | 86 |  99 | 2 |  42 | 38 | PUBLICAR | 74.18563 | NSE4 |\n",
       "| CC | 1 COLOMBIA | M | 4/05/1996  | 20164 | EK201640004573 | ESTUDIANTE | UNIÓN LIBRE | NO | NA          | ⋯ | B1  | 94 | 99 | 142 | 4 |  98 | 99 | PUBLICAR | 45.45835 | NSE1 |\n",
       "| TI | 1 COLOMBIA | M | 6/12/1997  | 20164 | EK201640009827 | ESTUDIANTE | SOLTERO     | SI | 100 Ninguno | ⋯ | A2  | 80 | 81 | 120 | 3 |  86 | 87 | PUBLICAR | 49.35806 | NSE2 |\n",
       "| CC | 1 COLOMBIA | M | 18/10/1984 | 20164 | EK201640014911 | ESTUDIANTE | SOLTERO     | NO | NA          | ⋯ | B1  | 92 | 83 | 151 | 4 | 100 | 99 | PUBLICAR | 60.00939 | NSE4 |\n",
       "| CC | 1 COLOMBIA | M | 27/10/1997 | 20164 | EK201640002398 | ESTUDIANTE | SOLTERO     | NO | NA          | ⋯ | A1  | 40 | 27 |  83 | 2 |  22 | 23 | PUBLICAR | 57.56484 | NSE3 |\n",
       "| CC | 1 COLOMBIA | M | 17/07/1995 | 20164 | EK201640019236 | ESTUDIANTE | SOLTERO     | NO | NA          | ⋯ | A1  | 61 | 45 |  97 | 2 |  35 | 35 | PUBLICAR | 58.47617 | NSE3 |\n",
       "| CC | 1 COLOMBIA | M | 11/08/1965 | 20164 | EK201640027307 | ESTUDIANTE | UNIÓN LIBRE | NO | NA          | ⋯ | B1  | 90 | 89 | 102 | 3 |  52 | 48 | PUBLICAR |       NA | NA   |\n",
       "| CC | 1 COLOMBIA | F | 23/01/1993 | 20164 | EK201640013986 | ESTUDIANTE | SOLTERO     | NO | NA          | ⋯ | A1  | 56 | 36 | 110 | 3 |  73 | 70 | PUBLICAR | 45.47826 | NSE1 |\n",
       "| CC | 1 COLOMBIA | F | 16/03/1996 | 20164 | EK201640014683 | ESTUDIANTE | SOLTERO     | NO | NA          | ⋯ | B1  | 87 | 86 | 103 | 3 |  54 | 50 | PUBLICAR | 59.37988 | NSE4 |\n",
       "| CC | 1 COLOMBIA | M | 11/10/1983 | 20164 | EK201640005781 | ESTUDIANTE | CASADO      | NO | NA          | ⋯ | A1  | 60 | 60 | 100 | 2 |  49 | 49 | PUBLICAR | 40.61375 | NSE1 |\n",
       "| CC | 1 COLOMBIA | F | 19/10/1988 | 20164 | EK201640035572 | ESTUDIANTE | SOLTERO     | NO | NA          | ⋯ | A1  | 30 | 30 | 127 | 4 |  95 | 95 | PUBLICAR | 50.84579 | NSE2 |\n",
       "| CC | 1 COLOMBIA | M | 13/11/1993 | 20164 | EK201640016125 | ESTUDIANTE | SOLTERO     | NO | NA          | ⋯ | A1  | 52 | 72 |  79 | 1 |  17 | 21 | PUBLICAR | 36.51019 | NSE1 |\n",
       "| CC | 1 COLOMBIA | M | 10/09/1993 | 20164 | EK201640005428 | ESTUDIANTE | SOLTERO     | NO | NA          | ⋯ | A1  | 48 | 68 | 104 | 3 |  56 | 62 | PUBLICAR | 38.98832 | NSE1 |\n",
       "| CC | 1 COLOMBIA | M | 12/05/1983 | 20164 | EK201640017673 | ESTUDIANTE | CASADO      | NO | NA          | ⋯ | A1  | 31 | 31 |  83 | 2 |  21 | 21 | PUBLICAR | 40.90001 | NSE1 |\n",
       "| CC | 1 COLOMBIA | M | 8/01/1994  | 20164 | EK201640012284 | ESTUDIANTE | SOLTERO     | NO | NA          | ⋯ | A2  | 67 | 85 | 126 | 4 |  93 | 96 | PUBLICAR | 29.50433 | NSE1 |\n",
       "| CC | 1 COLOMBIA | M | 12/02/1994 | 20164 | EK201640007449 | ESTUDIANTE | SOLTERO     | NO | NA          | ⋯ | A1  | 57 | 76 |  86 | 2 |  29 | 34 | PUBLICAR | 41.27336 | NSE1 |\n",
       "| CC | 1 COLOMBIA | F | 1/09/1980  | 20164 | EK201640029555 | ESTUDIANTE | SOLTERO     | NO | NA          | ⋯ | A1  | 50 | 48 | 106 | 3 |  66 | 62 | PUBLICAR | 52.12639 | NSE2 |\n",
       "| TI | 1 COLOMBIA | F | 26/01/1999 | 20164 | EK201640019263 | ESTUDIANTE | SOLTERO     | NO | NA          | ⋯ | A1  | 38 | 35 | 105 | 3 |  62 | 58 | PUBLICAR | 54.18112 | NSE2 |\n",
       "| CC | 1 COLOMBIA | F | 3/04/1995  | 20164 | EK201640028894 | ESTUDIANTE | SOLTERO     | NO | NA          | ⋯ | A1  | 59 | 58 |  99 | 2 |  42 | 39 | PUBLICAR | 63.16856 | NSE4 |\n",
       "| CC | 1 COLOMBIA | F | 23/09/1992 | 20164 | EK201640038187 | ESTUDIANTE | CASADO      | NO | NA          | ⋯ | A1- | 20 | 12 | 104 | 3 |  60 | 60 | PUBLICAR | 49.44874 | NSE2 |\n",
       "| CC | 1 COLOMBIA | F | 8/08/1993  | 20164 | EK201640028017 | ESTUDIANTE | SOLTERO     | NO | NA          | ⋯ | A1- | 16 | 20 | 104 | 3 |  56 | 57 | PUBLICAR | 43.10047 | NSE1 |\n",
       "| CC | 1 COLOMBIA | M | 14/10/1981 | 20164 | EK201640008378 | ESTUDIANTE | CASADO      | NO | NA          | ⋯ | A1  | 27 | 33 |  88 | 2 |  31 | 32 | PUBLICAR | 55.88203 | NSE3 |\n",
       "| CC | 1 COLOMBIA | F | 9/08/1986  | 20164 | EK201640024984 | ESTUDIANTE | SOLTERO     | NO | NA          | ⋯ | A1  | 59 | 59 |  79 | 1 |  17 | 17 | PUBLICAR | 34.65459 | NSE1 |\n",
       "| CC | 1 COLOMBIA | M | 10/08/1995 | 20164 | EK201640017927 | ESTUDIANTE | SOLTERO     | NO | NA          | ⋯ | B1  | 91 | 77 |  79 | 1 |  17 | 18 | PUBLICAR | 58.50796 | NSE3 |\n",
       "| CC | 1 COLOMBIA | M | 22/01/1992 | 20164 | EK201640005823 | ESTUDIANTE | SOLTERO     | NO | NA          | ⋯ | A1  | 38 | 56 | 104 | 3 |  57 | 63 | PUBLICAR | 45.34484 | NSE1 |\n",
       "| CC | 1 COLOMBIA | M | 7/07/1992  | 20164 | EK201640005164 | ESTUDIANTE | SOLTERO     | NO | NA          | ⋯ | A1  | 48 | 68 |  75 | 1 |  12 | 15 | PUBLICAR | 39.95549 | NSE1 |\n",
       "| CC | 1 COLOMBIA | M | 7/09/1988  | 20164 | EK201640001818 | ESTUDIANTE | UNIÓN LIBRE | NO | NA          | ⋯ | A1  | 31 | 39 |  60 | 1 |   2 |  2 | PUBLICAR | 60.76680 | NSE4 |\n",
       "| CC | 1 COLOMBIA | F | 2/02/1994  | 20164 | EK201640011583 | ESTUDIANTE | SOLTERO     | NO | NA          | ⋯ | A1  | 53 | 63 | 122 | 4 |  88 | 89 | PUBLICAR | 69.01630 | NSE4 |\n",
       "| CC | 1 COLOMBIA | M | 15/02/1988 | 20164 | EK201640024848 | ESTUDIANTE | SOLTERO     | NO | NA          | ⋯ | A1- |  3 |  3 | 118 | 3 |  80 | 80 | PUBLICAR | 41.91418 | NSE1 |\n",
       "\n"
      ],
      "text/plain": [
       "      ESTU_TIPODOCUMENTO ESTU_NACIONALIDAD ESTU_GENERO ESTU_FECHANACIMIENTO\n",
       "1     CC                 1 COLOMBIA        M           15/08/1990          \n",
       "2     CC                 1 COLOMBIA        M           26/09/1990          \n",
       "3     CC                 1 COLOMBIA        F           28/10/1994          \n",
       "4     CC                 1 COLOMBIA        F           24/09/1979          \n",
       "5     CC                 1 COLOMBIA        M           6/07/1988           \n",
       "6     CC                 1 COLOMBIA        M           31/12/1992          \n",
       "7     CC                 1 COLOMBIA        F           19/04/1975          \n",
       "8     CC                 1 COLOMBIA        M           1/04/1995           \n",
       "9     CC                 1 COLOMBIA        M           20/12/1988          \n",
       "10    CC                 1 COLOMBIA        F           30/12/1997          \n",
       "11    CC                 1 COLOMBIA        M           5/03/1977           \n",
       "12    CC                 1 COLOMBIA        F           21/01/1986          \n",
       "13    CC                 1 COLOMBIA        F           11/11/1989          \n",
       "14    CC                 1 COLOMBIA        F           6/06/1995           \n",
       "15    CC                 1 COLOMBIA        M           9/11/1985           \n",
       "16    CC                 1 COLOMBIA        F           20/04/1992          \n",
       "17    CC                 1 COLOMBIA        F           5/07/1995           \n",
       "18    CC                 1 COLOMBIA        M           8/06/1973           \n",
       "19    CC                 1 COLOMBIA        M           29/01/1996          \n",
       "20    CC                 1 COLOMBIA        M           3/01/1991           \n",
       "21    CC                 1 COLOMBIA        F           15/05/1990          \n",
       "22    CC                 1 COLOMBIA        M           12/08/1990          \n",
       "23    CC                 1 COLOMBIA        M           29/07/1996          \n",
       "24    TI                 1 COLOMBIA        F           29/04/1999          \n",
       "25    CC                 1 COLOMBIA        M           14/10/1994          \n",
       "26    CC                 1 COLOMBIA        F           24/01/1993          \n",
       "27    CC                 1 COLOMBIA        M           23/08/1994          \n",
       "28    CC                 1 COLOMBIA        F           15/02/1994          \n",
       "29    CC                 1 COLOMBIA        M           12/05/1995          \n",
       "30    CC                 1 COLOMBIA        M           13/07/1997          \n",
       "⋮     ⋮                  ⋮                 ⋮           ⋮                   \n",
       "53011 CC                 1 COLOMBIA        F           10/12/1993          \n",
       "53012 CC                 1 COLOMBIA        M           30/10/1994          \n",
       "53013 CC                 1 COLOMBIA        M           4/05/1996           \n",
       "53014 TI                 1 COLOMBIA        M           6/12/1997           \n",
       "53015 CC                 1 COLOMBIA        M           18/10/1984          \n",
       "53016 CC                 1 COLOMBIA        M           27/10/1997          \n",
       "53017 CC                 1 COLOMBIA        M           17/07/1995          \n",
       "53018 CC                 1 COLOMBIA        M           11/08/1965          \n",
       "53019 CC                 1 COLOMBIA        F           23/01/1993          \n",
       "53020 CC                 1 COLOMBIA        F           16/03/1996          \n",
       "53021 CC                 1 COLOMBIA        M           11/10/1983          \n",
       "53022 CC                 1 COLOMBIA        F           19/10/1988          \n",
       "53023 CC                 1 COLOMBIA        M           13/11/1993          \n",
       "53024 CC                 1 COLOMBIA        M           10/09/1993          \n",
       "53025 CC                 1 COLOMBIA        M           12/05/1983          \n",
       "53026 CC                 1 COLOMBIA        M           8/01/1994           \n",
       "53027 CC                 1 COLOMBIA        M           12/02/1994          \n",
       "53028 CC                 1 COLOMBIA        F           1/09/1980           \n",
       "53029 TI                 1 COLOMBIA        F           26/01/1999          \n",
       "53030 CC                 1 COLOMBIA        F           3/04/1995           \n",
       "53031 CC                 1 COLOMBIA        F           23/09/1992          \n",
       "53032 CC                 1 COLOMBIA        F           8/08/1993           \n",
       "53033 CC                 1 COLOMBIA        M           14/10/1981          \n",
       "53034 CC                 1 COLOMBIA        F           9/08/1986           \n",
       "53035 CC                 1 COLOMBIA        M           10/08/1995          \n",
       "53036 CC                 1 COLOMBIA        M           22/01/1992          \n",
       "53037 CC                 1 COLOMBIA        M           7/07/1992           \n",
       "53038 CC                 1 COLOMBIA        M           7/09/1988           \n",
       "53039 CC                 1 COLOMBIA        F           2/02/1994           \n",
       "53040 CC                 1 COLOMBIA        M           15/02/1988          \n",
       "      PERIODO ESTU_CONSECUTIVO ESTU_ESTUDIANTE ESTU_ESTADOCIVIL\n",
       "1     20164   EK201640024941   ESTUDIANTE      UNIÓN LIBRE     \n",
       "2     20164   EK201640012159   ESTUDIANTE      SOLTERO         \n",
       "3     20164   EK201640041435   ESTUDIANTE      SOLTERO         \n",
       "4     20164   EK201640003654   ESTUDIANTE      UNIÓN LIBRE     \n",
       "5     20164   EK201640018456   ESTUDIANTE      SOLTERO         \n",
       "6     20164   EK201640035645   ESTUDIANTE      SOLTERO         \n",
       "7     20164   EK201640031656   ESTUDIANTE      UNIÓN LIBRE     \n",
       "8     20164   EK201640018226   ESTUDIANTE      SOLTERO         \n",
       "9     20164   EK201640020916   ESTUDIANTE      SOLTERO         \n",
       "10    20164   EK201640025179   ESTUDIANTE      SOLTERO         \n",
       "11    20164   EK201640024939   ESTUDIANTE      CASADO          \n",
       "12    20164   EK201640019567   ESTUDIANTE      SOLTERO         \n",
       "13    20164   EK201640034881   ESTUDIANTE      SOLTERO         \n",
       "14    20164   EK201640022299   ESTUDIANTE      SOLTERO         \n",
       "15    20164   EK201640022060   ESTUDIANTE      CASADO          \n",
       "16    20164   EK201640035927   ESTUDIANTE      SOLTERO         \n",
       "17    20164   EK201640015538   ESTUDIANTE      SOLTERO         \n",
       "18    20164   EK201640015754   ESTUDIANTE      CASADO          \n",
       "19    20164   EK201640019267   ESTUDIANTE      SOLTERO         \n",
       "20    20164   EK201640020311   ESTUDIANTE      SOLTERO         \n",
       "21    20164   EK201640003286   ESTUDIANTE      UNIÓN LIBRE     \n",
       "22    20164   EK201640014656   ESTUDIANTE      SOLTERO         \n",
       "23    20164   EK201640036254   ESTUDIANTE      SOLTERO         \n",
       "24    20164   EK201640038644   ESTUDIANTE      SOLTERO         \n",
       "25    20164   EK201640008561   ESTUDIANTE      SOLTERO         \n",
       "26    20164   EK201640025582   ESTUDIANTE      SOLTERO         \n",
       "27    20164   EK201640024375   ESTUDIANTE      SOLTERO         \n",
       "28    20164   EK201640037272   ESTUDIANTE      SOLTERO         \n",
       "29    20164   EK201640024654   ESTUDIANTE      SOLTERO         \n",
       "30    20164   EK201640038440   ESTUDIANTE      SOLTERO         \n",
       "⋮     ⋮       ⋮                ⋮               ⋮               \n",
       "53011 20164   EK201640009311   ESTUDIANTE      SOLTERO         \n",
       "53012 20164   EK201640017032   ESTUDIANTE      SOLTERO         \n",
       "53013 20164   EK201640004573   ESTUDIANTE      UNIÓN LIBRE     \n",
       "53014 20164   EK201640009827   ESTUDIANTE      SOLTERO         \n",
       "53015 20164   EK201640014911   ESTUDIANTE      SOLTERO         \n",
       "53016 20164   EK201640002398   ESTUDIANTE      SOLTERO         \n",
       "53017 20164   EK201640019236   ESTUDIANTE      SOLTERO         \n",
       "53018 20164   EK201640027307   ESTUDIANTE      UNIÓN LIBRE     \n",
       "53019 20164   EK201640013986   ESTUDIANTE      SOLTERO         \n",
       "53020 20164   EK201640014683   ESTUDIANTE      SOLTERO         \n",
       "53021 20164   EK201640005781   ESTUDIANTE      CASADO          \n",
       "53022 20164   EK201640035572   ESTUDIANTE      SOLTERO         \n",
       "53023 20164   EK201640016125   ESTUDIANTE      SOLTERO         \n",
       "53024 20164   EK201640005428   ESTUDIANTE      SOLTERO         \n",
       "53025 20164   EK201640017673   ESTUDIANTE      CASADO          \n",
       "53026 20164   EK201640012284   ESTUDIANTE      SOLTERO         \n",
       "53027 20164   EK201640007449   ESTUDIANTE      SOLTERO         \n",
       "53028 20164   EK201640029555   ESTUDIANTE      SOLTERO         \n",
       "53029 20164   EK201640019263   ESTUDIANTE      SOLTERO         \n",
       "53030 20164   EK201640028894   ESTUDIANTE      SOLTERO         \n",
       "53031 20164   EK201640038187   ESTUDIANTE      CASADO          \n",
       "53032 20164   EK201640028017   ESTUDIANTE      SOLTERO         \n",
       "53033 20164   EK201640008378   ESTUDIANTE      CASADO          \n",
       "53034 20164   EK201640024984   ESTUDIANTE      SOLTERO         \n",
       "53035 20164   EK201640017927   ESTUDIANTE      SOLTERO         \n",
       "53036 20164   EK201640005823   ESTUDIANTE      SOLTERO         \n",
       "53037 20164   EK201640005164   ESTUDIANTE      SOLTERO         \n",
       "53038 20164   EK201640001818   ESTUDIANTE      UNIÓN LIBRE     \n",
       "53039 20164   EK201640011583   ESTUDIANTE      SOLTERO         \n",
       "53040 20164   EK201640024848   ESTUDIANTE      SOLTERO         \n",
       "      ESTU_TIENE_ETNIA ESTU_ETNIA                       ⋯ MOD_INGLES_DESEM\n",
       "1     NO               NA                               ⋯ A2              \n",
       "2     NA               NA                               ⋯ A2              \n",
       "3     NO               NA                               ⋯ B1              \n",
       "4     NO               NA                               ⋯ A1              \n",
       "5     NO               NA                               ⋯ A1-             \n",
       "6     NO               NA                               ⋯ A2              \n",
       "7     SI               19 Otro grupo étnico minoritario ⋯ A1-             \n",
       "8     NA               NA                               ⋯ A1-             \n",
       "9     NO               NA                               ⋯ A1              \n",
       "10    NO               NA                               ⋯ B1              \n",
       "11    NO               NA                               ⋯ A2              \n",
       "12    NO               NA                               ⋯ A1-             \n",
       "13    NA               NA                               ⋯ A1              \n",
       "14    NO               NA                               ⋯ A2              \n",
       "15    NO               NA                               ⋯ A2              \n",
       "16    NO               NA                               ⋯ A1              \n",
       "17    SI               1 Comunidad afrodescendiente     ⋯ A1-             \n",
       "18    NO               NA                               ⋯ A2              \n",
       "19    NO               NA                               ⋯ A1-             \n",
       "20    NO               NA                               ⋯ A1-             \n",
       "21    NO               NA                               ⋯ A2              \n",
       "22    NO               NA                               ⋯ B1              \n",
       "23    NO               NA                               ⋯ B2              \n",
       "24    NO               NA                               ⋯ A2              \n",
       "25    NA               NA                               ⋯ A1-             \n",
       "26    NO               NA                               ⋯ A1              \n",
       "27    NO               NA                               ⋯ A1              \n",
       "28    NO               NA                               ⋯ A1-             \n",
       "29    NO               NA                               ⋯ B2              \n",
       "30    NO               NA                               ⋯ A1-             \n",
       "⋮     ⋮                ⋮                                ⋱ ⋮               \n",
       "53011 NO               NA                               ⋯ B1              \n",
       "53012 NO               NA                               ⋯ B1              \n",
       "53013 NO               NA                               ⋯ B1              \n",
       "53014 SI               100 Ninguno                      ⋯ A2              \n",
       "53015 NO               NA                               ⋯ B1              \n",
       "53016 NO               NA                               ⋯ A1              \n",
       "53017 NO               NA                               ⋯ A1              \n",
       "53018 NO               NA                               ⋯ B1              \n",
       "53019 NO               NA                               ⋯ A1              \n",
       "53020 NO               NA                               ⋯ B1              \n",
       "53021 NO               NA                               ⋯ A1              \n",
       "53022 NO               NA                               ⋯ A1              \n",
       "53023 NO               NA                               ⋯ A1              \n",
       "53024 NO               NA                               ⋯ A1              \n",
       "53025 NO               NA                               ⋯ A1              \n",
       "53026 NO               NA                               ⋯ A2              \n",
       "53027 NO               NA                               ⋯ A1              \n",
       "53028 NO               NA                               ⋯ A1              \n",
       "53029 NO               NA                               ⋯ A1              \n",
       "53030 NO               NA                               ⋯ A1              \n",
       "53031 NO               NA                               ⋯ A1-             \n",
       "53032 NO               NA                               ⋯ A1-             \n",
       "53033 NO               NA                               ⋯ A1              \n",
       "53034 NO               NA                               ⋯ A1              \n",
       "53035 NO               NA                               ⋯ B1              \n",
       "53036 NO               NA                               ⋯ A1              \n",
       "53037 NO               NA                               ⋯ A1              \n",
       "53038 NO               NA                               ⋯ A1              \n",
       "53039 NO               NA                               ⋯ A1              \n",
       "53040 NO               NA                               ⋯ A1-             \n",
       "      MOD_INGLES_PNAL MOD_INGLES_PGREF MOD_COMUNI_ESCRITA_PUNT\n",
       "1      79              59              121                    \n",
       "2      75              74              123                    \n",
       "3      97              98               99                    \n",
       "4      32              30               75                    \n",
       "5      15              19               86                    \n",
       "6      80              81              105                    \n",
       "7      11              14               99                    \n",
       "8      23              21               84                    \n",
       "9      43              26              118                    \n",
       "10     94              94              127                    \n",
       "11     72              71              104                    \n",
       "12      2               2               87                    \n",
       "13     51              49              108                    \n",
       "14     84              84              115                    \n",
       "15     62              81              107                    \n",
       "16     41              49               85                    \n",
       "17     13              21              107                    \n",
       "18     62              50               74                    \n",
       "19     11               9              110                    \n",
       "20      1               1               85                    \n",
       "21     75              73              100                    \n",
       "22     92              79              104                    \n",
       "23     99             100               86                    \n",
       "24     69              80              103                    \n",
       "25      4               2               96                    \n",
       "26     34              34               85                    \n",
       "27     36              54              106                    \n",
       "28     15               9               57                    \n",
       "29    100             100               62                    \n",
       "30      6               5               87                    \n",
       "⋮     ⋮               ⋮                ⋮                      \n",
       "53011 95              94               108                    \n",
       "53012 87              86                99                    \n",
       "53013 94              99               142                    \n",
       "53014 80              81               120                    \n",
       "53015 92              83               151                    \n",
       "53016 40              27                83                    \n",
       "53017 61              45                97                    \n",
       "53018 90              89               102                    \n",
       "53019 56              36               110                    \n",
       "53020 87              86               103                    \n",
       "53021 60              60               100                    \n",
       "53022 30              30               127                    \n",
       "53023 52              72                79                    \n",
       "53024 48              68               104                    \n",
       "53025 31              31                83                    \n",
       "53026 67              85               126                    \n",
       "53027 57              76                86                    \n",
       "53028 50              48               106                    \n",
       "53029 38              35               105                    \n",
       "53030 59              58                99                    \n",
       "53031 20              12               104                    \n",
       "53032 16              20               104                    \n",
       "53033 27              33                88                    \n",
       "53034 59              59                79                    \n",
       "53035 91              77                79                    \n",
       "53036 38              56               104                    \n",
       "53037 48              68                75                    \n",
       "53038 31              39                60                    \n",
       "53039 53              63               122                    \n",
       "53040  3               3               118                    \n",
       "      MOD_COMUNI_ESCRITA_DESEM MOD_COMUNI_ESCRITA_PNAL MOD_COMUNI_ESCRITA_PGREF\n",
       "1     4                        87                      85                      \n",
       "2     4                        89                      87                      \n",
       "3     2                        43                      44                      \n",
       "4     1                        13                      11                      \n",
       "5     2                        29                      34                      \n",
       "6     3                        63                      63                      \n",
       "7     2                        43                      43                      \n",
       "8     2                        22                      22                      \n",
       "9     3                        81                      79                      \n",
       "10    4                        94                      93                      \n",
       "11    3                        58                      55                      \n",
       "12    2                        30                      30                      \n",
       "13    3                        71                      68                      \n",
       "14    3                        75                      72                      \n",
       "15    3                        70                      75                      \n",
       "16    2                        26                      27                      \n",
       "17    3                        70                      72                      \n",
       "18    1                        12                      13                      \n",
       "19    3                        73                      70                      \n",
       "20    2                        27                      32                      \n",
       "21    2                        48                      44                      \n",
       "22    3                        55                      51                      \n",
       "23    2                        30                      35                      \n",
       "24    3                        54                      62                      \n",
       "25    2                        34                      30                      \n",
       "26    2                        27                      26                      \n",
       "27    3                        66                      72                      \n",
       "28    1                         1                       1                      \n",
       "29    1                         3                       3                      \n",
       "30    2                        30                      26                      \n",
       "⋮     ⋮                        ⋮                       ⋮                       \n",
       "53011 3                         71                     68                      \n",
       "53012 2                         42                     38                      \n",
       "53013 4                         98                     99                      \n",
       "53014 3                         86                     87                      \n",
       "53015 4                        100                     99                      \n",
       "53016 2                         22                     23                      \n",
       "53017 2                         35                     35                      \n",
       "53018 3                         52                     48                      \n",
       "53019 3                         73                     70                      \n",
       "53020 3                         54                     50                      \n",
       "53021 2                         49                     49                      \n",
       "53022 4                         95                     95                      \n",
       "53023 1                         17                     21                      \n",
       "53024 3                         56                     62                      \n",
       "53025 2                         21                     21                      \n",
       "53026 4                         93                     96                      \n",
       "53027 2                         29                     34                      \n",
       "53028 3                         66                     62                      \n",
       "53029 3                         62                     58                      \n",
       "53030 2                         42                     39                      \n",
       "53031 3                         60                     60                      \n",
       "53032 3                         56                     57                      \n",
       "53033 2                         31                     32                      \n",
       "53034 1                         17                     17                      \n",
       "53035 1                         17                     18                      \n",
       "53036 3                         57                     63                      \n",
       "53037 1                         12                     15                      \n",
       "53038 1                          2                      2                      \n",
       "53039 4                         88                     89                      \n",
       "53040 3                         80                     80                      \n",
       "      ESTU_ESTADO INSE     NSE \n",
       "1     PUBLICAR    57.14241 NSE3\n",
       "2     PUBLICAR    65.76637 NSE4\n",
       "3     PUBLICAR    47.68200 NSE2\n",
       "4     PUBLICAR    55.56398 NSE3\n",
       "5     PUBLICAR    27.01330 NSE1\n",
       "6     PUBLICAR    50.76707 NSE2\n",
       "7     PUBLICAR    45.54980 NSE1\n",
       "8     PUBLICAR    55.05894 NSE2\n",
       "9     PUBLICAR    60.17477 NSE4\n",
       "10    PUBLICAR    48.95934 NSE2\n",
       "11    PUBLICAR    48.77295 NSE2\n",
       "12    PUBLICAR    47.26551 NSE2\n",
       "13    PUBLICAR    48.31694 NSE2\n",
       "14    PUBLICAR    35.79830 NSE1\n",
       "15    PUBLICAR    52.17062 NSE2\n",
       "16    PUBLICAR    39.70657 NSE1\n",
       "17    PUBLICAR    65.68092 NSE4\n",
       "18    PUBLICAR    61.84396 NSE4\n",
       "19    PUBLICAR    41.84544 NSE1\n",
       "20    PUBLICAR    45.51286 NSE1\n",
       "21    PUBLICAR    45.74596 NSE2\n",
       "22    PUBLICAR    67.44420 NSE4\n",
       "23    PUBLICAR    66.06796 NSE4\n",
       "24    PUBLICAR    45.49249 NSE1\n",
       "25    PUBLICAR    38.80205 NSE1\n",
       "26    PUBLICAR    49.26491 NSE2\n",
       "27    PUBLICAR    35.89268 NSE1\n",
       "28    PUBLICAR    52.95712 NSE2\n",
       "29    PUBLICAR    67.39774 NSE4\n",
       "30    PUBLICAR    53.40542 NSE2\n",
       "⋮     ⋮           ⋮        ⋮   \n",
       "53011 PUBLICAR    62.11897 NSE4\n",
       "53012 PUBLICAR    74.18563 NSE4\n",
       "53013 PUBLICAR    45.45835 NSE1\n",
       "53014 PUBLICAR    49.35806 NSE2\n",
       "53015 PUBLICAR    60.00939 NSE4\n",
       "53016 PUBLICAR    57.56484 NSE3\n",
       "53017 PUBLICAR    58.47617 NSE3\n",
       "53018 PUBLICAR          NA NA  \n",
       "53019 PUBLICAR    45.47826 NSE1\n",
       "53020 PUBLICAR    59.37988 NSE4\n",
       "53021 PUBLICAR    40.61375 NSE1\n",
       "53022 PUBLICAR    50.84579 NSE2\n",
       "53023 PUBLICAR    36.51019 NSE1\n",
       "53024 PUBLICAR    38.98832 NSE1\n",
       "53025 PUBLICAR    40.90001 NSE1\n",
       "53026 PUBLICAR    29.50433 NSE1\n",
       "53027 PUBLICAR    41.27336 NSE1\n",
       "53028 PUBLICAR    52.12639 NSE2\n",
       "53029 PUBLICAR    54.18112 NSE2\n",
       "53030 PUBLICAR    63.16856 NSE4\n",
       "53031 PUBLICAR    49.44874 NSE2\n",
       "53032 PUBLICAR    43.10047 NSE1\n",
       "53033 PUBLICAR    55.88203 NSE3\n",
       "53034 PUBLICAR    34.65459 NSE1\n",
       "53035 PUBLICAR    58.50796 NSE3\n",
       "53036 PUBLICAR    45.34484 NSE1\n",
       "53037 PUBLICAR    39.95549 NSE1\n",
       "53038 PUBLICAR    60.76680 NSE4\n",
       "53039 PUBLICAR    69.01630 NSE4\n",
       "53040 PUBLICAR    41.91418 NSE1"
      ]
     },
     "metadata": {},
     "output_type": "display_data"
    }
   ],
   "source": [
    "df"
   ]
  },
  {
   "cell_type": "markdown",
   "metadata": {},
   "source": [
    "## Filtrado de Datos"
   ]
  },
  {
   "cell_type": "markdown",
   "metadata": {},
   "source": [
    "Nos quedaremos únicamente con los datos necesarios para los analisis."
   ]
  },
  {
   "cell_type": "markdown",
   "metadata": {},
   "source": [
    "### Resultados listos para publicar"
   ]
  },
  {
   "cell_type": "markdown",
   "metadata": {},
   "source": [
    "Nos interesa realizar el estudio de los resultados listos para publicarse."
   ]
  },
  {
   "cell_type": "markdown",
   "metadata": {},
   "source": [
    "Revisamos los niveles de los datos de la variable ESTUD_ESTADO que nos indica el estado del resultado."
   ]
  },
  {
   "cell_type": "code",
   "execution_count": 4,
   "metadata": {
    "ExecuteTime": {
     "end_time": "2021-08-24T17:31:14.839407Z",
     "start_time": "2021-08-24T17:31:10.314Z"
    },
    "scrolled": true
   },
   "outputs": [
    {
     "data": {
      "text/html": [
       "<style>\n",
       ".list-inline {list-style: none; margin:0; padding: 0}\n",
       ".list-inline>li {display: inline-block}\n",
       ".list-inline>li:not(:last-child)::after {content: \"\\00b7\"; padding: 0 .5ex}\n",
       "</style>\n",
       "<ol class=list-inline><li>PUBLICAR</li><li>VALIDEZ OFICINA JURÍDICA</li></ol>\n",
       "\n",
       "<details>\n",
       "\t<summary style=display:list-item;cursor:pointer>\n",
       "\t\t<strong>Levels</strong>:\n",
       "\t</summary>\n",
       "\t<style>\n",
       "\t.list-inline {list-style: none; margin:0; padding: 0}\n",
       "\t.list-inline>li {display: inline-block}\n",
       "\t.list-inline>li:not(:last-child)::after {content: \"\\00b7\"; padding: 0 .5ex}\n",
       "\t</style>\n",
       "\t<ol class=list-inline><li>'PUBLICAR'</li><li>'VALIDEZ OFICINA JURÍDICA'</li></ol>\n",
       "</details>"
      ],
      "text/latex": [
       "\\begin{enumerate*}\n",
       "\\item PUBLICAR\n",
       "\\item VALIDEZ OFICINA JURÍDICA\n",
       "\\end{enumerate*}\n",
       "\n",
       "\\emph{Levels}: \\begin{enumerate*}\n",
       "\\item 'PUBLICAR'\n",
       "\\item 'VALIDEZ OFICINA JURÍDICA'\n",
       "\\end{enumerate*}\n"
      ],
      "text/markdown": [
       "1. PUBLICAR\n",
       "2. VALIDEZ OFICINA JURÍDICA\n",
       "\n",
       "\n",
       "\n",
       "**Levels**: 1. 'PUBLICAR'\n",
       "2. 'VALIDEZ OFICINA JURÍDICA'\n",
       "\n",
       "\n"
      ],
      "text/plain": [
       "[1] PUBLICAR                 VALIDEZ OFICINA JURÍDICA\n",
       "Levels: PUBLICAR VALIDEZ OFICINA JURÍDICA"
      ]
     },
     "metadata": {},
     "output_type": "display_data"
    }
   ],
   "source": [
    "unique(df$ESTU_ESTADO)"
   ]
  },
  {
   "cell_type": "markdown",
   "metadata": {},
   "source": [
    "Nos damos cuenta que solo tenemos los 2 valores esperado por lo que procedemos a filtrar los publicados."
   ]
  },
  {
   "cell_type": "code",
   "execution_count": 5,
   "metadata": {
    "ExecuteTime": {
     "end_time": "2021-08-24T17:31:14.892330Z",
     "start_time": "2021-08-24T17:31:10.318Z"
    }
   },
   "outputs": [],
   "source": [
    "df_published = df[df$ESTU_ESTADO == \"PUBLICAR\",]"
   ]
  },
  {
   "cell_type": "code",
   "execution_count": 6,
   "metadata": {
    "ExecuteTime": {
     "end_time": "2021-08-24T17:31:14.908889Z",
     "start_time": "2021-08-24T17:31:10.322Z"
    }
   },
   "outputs": [
    {
     "data": {
      "text/html": [
       "PUBLICAR\n",
       "<details>\n",
       "\t<summary style=display:list-item;cursor:pointer>\n",
       "\t\t<strong>Levels</strong>:\n",
       "\t</summary>\n",
       "\t<style>\n",
       "\t.list-inline {list-style: none; margin:0; padding: 0}\n",
       "\t.list-inline>li {display: inline-block}\n",
       "\t.list-inline>li:not(:last-child)::after {content: \"\\00b7\"; padding: 0 .5ex}\n",
       "\t</style>\n",
       "\t<ol class=list-inline><li>'PUBLICAR'</li><li>'VALIDEZ OFICINA JURÍDICA'</li></ol>\n",
       "</details>"
      ],
      "text/latex": [
       "PUBLICAR\n",
       "\\emph{Levels}: \\begin{enumerate*}\n",
       "\\item 'PUBLICAR'\n",
       "\\item 'VALIDEZ OFICINA JURÍDICA'\n",
       "\\end{enumerate*}\n"
      ],
      "text/markdown": [
       "PUBLICAR\n",
       "**Levels**: 1. 'PUBLICAR'\n",
       "2. 'VALIDEZ OFICINA JURÍDICA'\n",
       "\n",
       "\n"
      ],
      "text/plain": [
       "[1] PUBLICAR\n",
       "Levels: PUBLICAR VALIDEZ OFICINA JURÍDICA"
      ]
     },
     "metadata": {},
     "output_type": "display_data"
    }
   ],
   "source": [
    "unique(df_published$ESTU_ESTADO)"
   ]
  },
  {
   "cell_type": "markdown",
   "metadata": {},
   "source": [
    "Ahora solo tenemos los resultados listos para publicarse."
   ]
  },
  {
   "cell_type": "markdown",
   "metadata": {},
   "source": [
    "### Filtrado de Columnas"
   ]
  },
  {
   "cell_type": "markdown",
   "metadata": {},
   "source": [
    "Solo necesitamos los datos de la columna 1 a la 15 y de la 85 a la 104 para el analisis, por lo que procedemos a retirar el resto de variables."
   ]
  },
  {
   "cell_type": "code",
   "execution_count": 7,
   "metadata": {
    "ExecuteTime": {
     "end_time": "2021-08-24T17:31:14.924954Z",
     "start_time": "2021-08-24T17:31:10.327Z"
    }
   },
   "outputs": [],
   "source": [
    "cols = c(1:15,85:104)\n",
    "df_published = df_published[,cols]"
   ]
  },
  {
   "cell_type": "code",
   "execution_count": 8,
   "metadata": {
    "ExecuteTime": {
     "end_time": "2021-08-24T17:31:14.951220Z",
     "start_time": "2021-08-24T17:31:10.331Z"
    },
    "scrolled": true
   },
   "outputs": [
    {
     "data": {
      "text/html": [
       "<table>\n",
       "<caption>A data.frame: 5 × 35</caption>\n",
       "<thead>\n",
       "\t<tr><th></th><th scope=col>ESTU_TIPODOCUMENTO</th><th scope=col>ESTU_NACIONALIDAD</th><th scope=col>ESTU_GENERO</th><th scope=col>ESTU_FECHANACIMIENTO</th><th scope=col>PERIODO</th><th scope=col>ESTU_CONSECUTIVO</th><th scope=col>ESTU_ESTUDIANTE</th><th scope=col>ESTU_ESTADOCIVIL</th><th scope=col>ESTU_TIENE_ETNIA</th><th scope=col>ESTU_ETNIA</th><th scope=col>⋯</th><th scope=col>MOD_INGLES_DESEM</th><th scope=col>MOD_INGLES_PNAL</th><th scope=col>MOD_INGLES_PGREF</th><th scope=col>MOD_COMUNI_ESCRITA_PUNT</th><th scope=col>MOD_COMUNI_ESCRITA_DESEM</th><th scope=col>MOD_COMUNI_ESCRITA_PNAL</th><th scope=col>MOD_COMUNI_ESCRITA_PGREF</th><th scope=col>ESTU_ESTADO</th><th scope=col>INSE</th><th scope=col>NSE</th></tr>\n",
       "\t<tr><th></th><th scope=col>&lt;fct&gt;</th><th scope=col>&lt;fct&gt;</th><th scope=col>&lt;fct&gt;</th><th scope=col>&lt;fct&gt;</th><th scope=col>&lt;int&gt;</th><th scope=col>&lt;fct&gt;</th><th scope=col>&lt;fct&gt;</th><th scope=col>&lt;fct&gt;</th><th scope=col>&lt;fct&gt;</th><th scope=col>&lt;fct&gt;</th><th scope=col>⋯</th><th scope=col>&lt;fct&gt;</th><th scope=col>&lt;int&gt;</th><th scope=col>&lt;int&gt;</th><th scope=col>&lt;int&gt;</th><th scope=col>&lt;int&gt;</th><th scope=col>&lt;int&gt;</th><th scope=col>&lt;int&gt;</th><th scope=col>&lt;fct&gt;</th><th scope=col>&lt;dbl&gt;</th><th scope=col>&lt;fct&gt;</th></tr>\n",
       "</thead>\n",
       "<tbody>\n",
       "\t<tr><th scope=row>1</th><td>CC</td><td>1 COLOMBIA</td><td>M</td><td>15/08/1990</td><td>20164</td><td>EK201640024941</td><td>ESTUDIANTE</td><td>UNIÓN LIBRE</td><td>NO</td><td>NA</td><td>⋯</td><td>A2 </td><td>79</td><td>59</td><td>121</td><td>4</td><td>87</td><td>85</td><td>PUBLICAR</td><td>57.14241</td><td>NSE3</td></tr>\n",
       "\t<tr><th scope=row>2</th><td>CC</td><td>1 COLOMBIA</td><td>M</td><td>26/09/1990</td><td>20164</td><td>EK201640012159</td><td>ESTUDIANTE</td><td>SOLTERO    </td><td>NA</td><td>NA</td><td>⋯</td><td>A2 </td><td>75</td><td>74</td><td>123</td><td>4</td><td>89</td><td>87</td><td>PUBLICAR</td><td>65.76637</td><td>NSE4</td></tr>\n",
       "\t<tr><th scope=row>3</th><td>CC</td><td>1 COLOMBIA</td><td>F</td><td>28/10/1994</td><td>20164</td><td>EK201640041435</td><td>ESTUDIANTE</td><td>SOLTERO    </td><td>NO</td><td>NA</td><td>⋯</td><td>B1 </td><td>97</td><td>98</td><td> 99</td><td>2</td><td>43</td><td>44</td><td>PUBLICAR</td><td>47.68200</td><td>NSE2</td></tr>\n",
       "\t<tr><th scope=row>4</th><td>CC</td><td>1 COLOMBIA</td><td>F</td><td>24/09/1979</td><td>20164</td><td>EK201640003654</td><td>ESTUDIANTE</td><td>UNIÓN LIBRE</td><td>NO</td><td>NA</td><td>⋯</td><td>A1 </td><td>32</td><td>30</td><td> 75</td><td>1</td><td>13</td><td>11</td><td>PUBLICAR</td><td>55.56398</td><td>NSE3</td></tr>\n",
       "\t<tr><th scope=row>5</th><td>CC</td><td>1 COLOMBIA</td><td>M</td><td>6/07/1988 </td><td>20164</td><td>EK201640018456</td><td>ESTUDIANTE</td><td>SOLTERO    </td><td>NO</td><td>NA</td><td>⋯</td><td>A1-</td><td>15</td><td>19</td><td> 86</td><td>2</td><td>29</td><td>34</td><td>PUBLICAR</td><td>27.01330</td><td>NSE1</td></tr>\n",
       "</tbody>\n",
       "</table>\n"
      ],
      "text/latex": [
       "A data.frame: 5 × 35\n",
       "\\begin{tabular}{r|lllllllllllllllllllll}\n",
       "  & ESTU\\_TIPODOCUMENTO & ESTU\\_NACIONALIDAD & ESTU\\_GENERO & ESTU\\_FECHANACIMIENTO & PERIODO & ESTU\\_CONSECUTIVO & ESTU\\_ESTUDIANTE & ESTU\\_ESTADOCIVIL & ESTU\\_TIENE\\_ETNIA & ESTU\\_ETNIA & ⋯ & MOD\\_INGLES\\_DESEM & MOD\\_INGLES\\_PNAL & MOD\\_INGLES\\_PGREF & MOD\\_COMUNI\\_ESCRITA\\_PUNT & MOD\\_COMUNI\\_ESCRITA\\_DESEM & MOD\\_COMUNI\\_ESCRITA\\_PNAL & MOD\\_COMUNI\\_ESCRITA\\_PGREF & ESTU\\_ESTADO & INSE & NSE\\\\\n",
       "  & <fct> & <fct> & <fct> & <fct> & <int> & <fct> & <fct> & <fct> & <fct> & <fct> & ⋯ & <fct> & <int> & <int> & <int> & <int> & <int> & <int> & <fct> & <dbl> & <fct>\\\\\n",
       "\\hline\n",
       "\t1 & CC & 1 COLOMBIA & M & 15/08/1990 & 20164 & EK201640024941 & ESTUDIANTE & UNIÓN LIBRE & NO & NA & ⋯ & A2  & 79 & 59 & 121 & 4 & 87 & 85 & PUBLICAR & 57.14241 & NSE3\\\\\n",
       "\t2 & CC & 1 COLOMBIA & M & 26/09/1990 & 20164 & EK201640012159 & ESTUDIANTE & SOLTERO     & NA & NA & ⋯ & A2  & 75 & 74 & 123 & 4 & 89 & 87 & PUBLICAR & 65.76637 & NSE4\\\\\n",
       "\t3 & CC & 1 COLOMBIA & F & 28/10/1994 & 20164 & EK201640041435 & ESTUDIANTE & SOLTERO     & NO & NA & ⋯ & B1  & 97 & 98 &  99 & 2 & 43 & 44 & PUBLICAR & 47.68200 & NSE2\\\\\n",
       "\t4 & CC & 1 COLOMBIA & F & 24/09/1979 & 20164 & EK201640003654 & ESTUDIANTE & UNIÓN LIBRE & NO & NA & ⋯ & A1  & 32 & 30 &  75 & 1 & 13 & 11 & PUBLICAR & 55.56398 & NSE3\\\\\n",
       "\t5 & CC & 1 COLOMBIA & M & 6/07/1988  & 20164 & EK201640018456 & ESTUDIANTE & SOLTERO     & NO & NA & ⋯ & A1- & 15 & 19 &  86 & 2 & 29 & 34 & PUBLICAR & 27.01330 & NSE1\\\\\n",
       "\\end{tabular}\n"
      ],
      "text/markdown": [
       "\n",
       "A data.frame: 5 × 35\n",
       "\n",
       "| <!--/--> | ESTU_TIPODOCUMENTO &lt;fct&gt; | ESTU_NACIONALIDAD &lt;fct&gt; | ESTU_GENERO &lt;fct&gt; | ESTU_FECHANACIMIENTO &lt;fct&gt; | PERIODO &lt;int&gt; | ESTU_CONSECUTIVO &lt;fct&gt; | ESTU_ESTUDIANTE &lt;fct&gt; | ESTU_ESTADOCIVIL &lt;fct&gt; | ESTU_TIENE_ETNIA &lt;fct&gt; | ESTU_ETNIA &lt;fct&gt; | ⋯ ⋯ | MOD_INGLES_DESEM &lt;fct&gt; | MOD_INGLES_PNAL &lt;int&gt; | MOD_INGLES_PGREF &lt;int&gt; | MOD_COMUNI_ESCRITA_PUNT &lt;int&gt; | MOD_COMUNI_ESCRITA_DESEM &lt;int&gt; | MOD_COMUNI_ESCRITA_PNAL &lt;int&gt; | MOD_COMUNI_ESCRITA_PGREF &lt;int&gt; | ESTU_ESTADO &lt;fct&gt; | INSE &lt;dbl&gt; | NSE &lt;fct&gt; |\n",
       "|---|---|---|---|---|---|---|---|---|---|---|---|---|---|---|---|---|---|---|---|---|---|\n",
       "| 1 | CC | 1 COLOMBIA | M | 15/08/1990 | 20164 | EK201640024941 | ESTUDIANTE | UNIÓN LIBRE | NO | NA | ⋯ | A2  | 79 | 59 | 121 | 4 | 87 | 85 | PUBLICAR | 57.14241 | NSE3 |\n",
       "| 2 | CC | 1 COLOMBIA | M | 26/09/1990 | 20164 | EK201640012159 | ESTUDIANTE | SOLTERO     | NA | NA | ⋯ | A2  | 75 | 74 | 123 | 4 | 89 | 87 | PUBLICAR | 65.76637 | NSE4 |\n",
       "| 3 | CC | 1 COLOMBIA | F | 28/10/1994 | 20164 | EK201640041435 | ESTUDIANTE | SOLTERO     | NO | NA | ⋯ | B1  | 97 | 98 |  99 | 2 | 43 | 44 | PUBLICAR | 47.68200 | NSE2 |\n",
       "| 4 | CC | 1 COLOMBIA | F | 24/09/1979 | 20164 | EK201640003654 | ESTUDIANTE | UNIÓN LIBRE | NO | NA | ⋯ | A1  | 32 | 30 |  75 | 1 | 13 | 11 | PUBLICAR | 55.56398 | NSE3 |\n",
       "| 5 | CC | 1 COLOMBIA | M | 6/07/1988  | 20164 | EK201640018456 | ESTUDIANTE | SOLTERO     | NO | NA | ⋯ | A1- | 15 | 19 |  86 | 2 | 29 | 34 | PUBLICAR | 27.01330 | NSE1 |\n",
       "\n"
      ],
      "text/plain": [
       "  ESTU_TIPODOCUMENTO ESTU_NACIONALIDAD ESTU_GENERO ESTU_FECHANACIMIENTO PERIODO\n",
       "1 CC                 1 COLOMBIA        M           15/08/1990           20164  \n",
       "2 CC                 1 COLOMBIA        M           26/09/1990           20164  \n",
       "3 CC                 1 COLOMBIA        F           28/10/1994           20164  \n",
       "4 CC                 1 COLOMBIA        F           24/09/1979           20164  \n",
       "5 CC                 1 COLOMBIA        M           6/07/1988            20164  \n",
       "  ESTU_CONSECUTIVO ESTU_ESTUDIANTE ESTU_ESTADOCIVIL ESTU_TIENE_ETNIA ESTU_ETNIA\n",
       "1 EK201640024941   ESTUDIANTE      UNIÓN LIBRE      NO               NA        \n",
       "2 EK201640012159   ESTUDIANTE      SOLTERO          NA               NA        \n",
       "3 EK201640041435   ESTUDIANTE      SOLTERO          NO               NA        \n",
       "4 EK201640003654   ESTUDIANTE      UNIÓN LIBRE      NO               NA        \n",
       "5 EK201640018456   ESTUDIANTE      SOLTERO          NO               NA        \n",
       "  ⋯ MOD_INGLES_DESEM MOD_INGLES_PNAL MOD_INGLES_PGREF MOD_COMUNI_ESCRITA_PUNT\n",
       "1 ⋯ A2               79              59               121                    \n",
       "2 ⋯ A2               75              74               123                    \n",
       "3 ⋯ B1               97              98                99                    \n",
       "4 ⋯ A1               32              30                75                    \n",
       "5 ⋯ A1-              15              19                86                    \n",
       "  MOD_COMUNI_ESCRITA_DESEM MOD_COMUNI_ESCRITA_PNAL MOD_COMUNI_ESCRITA_PGREF\n",
       "1 4                        87                      85                      \n",
       "2 4                        89                      87                      \n",
       "3 2                        43                      44                      \n",
       "4 1                        13                      11                      \n",
       "5 2                        29                      34                      \n",
       "  ESTU_ESTADO INSE     NSE \n",
       "1 PUBLICAR    57.14241 NSE3\n",
       "2 PUBLICAR    65.76637 NSE4\n",
       "3 PUBLICAR    47.68200 NSE2\n",
       "4 PUBLICAR    55.56398 NSE3\n",
       "5 PUBLICAR    27.01330 NSE1"
      ]
     },
     "metadata": {},
     "output_type": "display_data"
    }
   ],
   "source": [
    "df_published[c(1:5),]"
   ]
  },
  {
   "cell_type": "markdown",
   "metadata": {},
   "source": [
    "### Nacionalidad"
   ]
  },
  {
   "cell_type": "markdown",
   "metadata": {},
   "source": [
    "Solo necesitamos a los estudiantes de nacionalidad Colombiana por lo que descartamos a los que no tengan dicha nacionalidad."
   ]
  },
  {
   "cell_type": "markdown",
   "metadata": {},
   "source": [
    "Revisamos primero que no existan problemas en la forma que están escritas las nacionalidades."
   ]
  },
  {
   "cell_type": "code",
   "execution_count": 9,
   "metadata": {
    "ExecuteTime": {
     "end_time": "2021-08-24T17:31:14.975658Z",
     "start_time": "2021-08-24T17:31:10.337Z"
    }
   },
   "outputs": [
    {
     "data": {
      "text/html": [
       "<style>\n",
       ".list-inline {list-style: none; margin:0; padding: 0}\n",
       ".list-inline>li {display: inline-block}\n",
       ".list-inline>li:not(:last-child)::after {content: \"\\00b7\"; padding: 0 .5ex}\n",
       "</style>\n",
       "<ol class=list-inline><li>1 COLOMBIA</li><li>236 ESTADOS UNIDOS</li><li>241 VENEZUELA</li><li>50 COMORAS</li><li>46 CHILE</li><li>209 ESPAÑA</li><li>64 REPÚBLICA DOMINICANA</li><li>174 PERÚ</li><li>83 ALEMANIA</li><li>167 OMÁN</li><li>119 COREA DEL SUR</li><li>67 EL SALVADOR</li><li>55 COSTA DE MARFIL</li><li>65 ECUADOR</li><li>171 PANAMÁ</li><li>3 ALAND</li><li>118 COREA DEL NORTE</li><li>144 MÉXICO</li><li>112 JAPÓN</li><li>96 HAITI</li></ol>\n",
       "\n",
       "<details>\n",
       "\t<summary style=display:list-item;cursor:pointer>\n",
       "\t\t<strong>Levels</strong>:\n",
       "\t</summary>\n",
       "\t<style>\n",
       "\t.list-inline {list-style: none; margin:0; padding: 0}\n",
       "\t.list-inline>li {display: inline-block}\n",
       "\t.list-inline>li:not(:last-child)::after {content: \"\\00b7\"; padding: 0 .5ex}\n",
       "\t</style>\n",
       "\t<ol class=list-inline><li>'1 COLOMBIA'</li><li>'112 JAPÓN'</li><li>'118 COREA DEL NORTE'</li><li>'119 COREA DEL SUR'</li><li>'12 ARGENTINA'</li><li>'144 MÉXICO'</li><li>'167 OMÁN'</li><li>'171 PANAMÁ'</li><li>'174 PERÚ'</li><li>'209 ESPAÑA'</li><li>'236 ESTADOS UNIDOS'</li><li>'241 VENEZUELA'</li><li>'3 ALAND'</li><li>'46 CHILE'</li><li>'50 COMORAS'</li><li>'55 COSTA DE MARFIL'</li><li>'64 REPÚBLICA DOMINICANA'</li><li>'65 ECUADOR'</li><li>'67 EL SALVADOR'</li><li>'83 ALEMANIA'</li><li>'96 HAITI'</li></ol>\n",
       "</details>"
      ],
      "text/latex": [
       "\\begin{enumerate*}\n",
       "\\item 1 COLOMBIA\n",
       "\\item 236 ESTADOS UNIDOS\n",
       "\\item 241 VENEZUELA\n",
       "\\item 50 COMORAS\n",
       "\\item 46 CHILE\n",
       "\\item 209 ESPAÑA\n",
       "\\item 64 REPÚBLICA DOMINICANA\n",
       "\\item 174 PERÚ\n",
       "\\item 83 ALEMANIA\n",
       "\\item 167 OMÁN\n",
       "\\item 119 COREA DEL SUR\n",
       "\\item 67 EL SALVADOR\n",
       "\\item 55 COSTA DE MARFIL\n",
       "\\item 65 ECUADOR\n",
       "\\item 171 PANAMÁ\n",
       "\\item 3 ALAND\n",
       "\\item 118 COREA DEL NORTE\n",
       "\\item 144 MÉXICO\n",
       "\\item 112 JAPÓN\n",
       "\\item 96 HAITI\n",
       "\\end{enumerate*}\n",
       "\n",
       "\\emph{Levels}: \\begin{enumerate*}\n",
       "\\item '1 COLOMBIA'\n",
       "\\item '112 JAPÓN'\n",
       "\\item '118 COREA DEL NORTE'\n",
       "\\item '119 COREA DEL SUR'\n",
       "\\item '12 ARGENTINA'\n",
       "\\item '144 MÉXICO'\n",
       "\\item '167 OMÁN'\n",
       "\\item '171 PANAMÁ'\n",
       "\\item '174 PERÚ'\n",
       "\\item '209 ESPAÑA'\n",
       "\\item '236 ESTADOS UNIDOS'\n",
       "\\item '241 VENEZUELA'\n",
       "\\item '3 ALAND'\n",
       "\\item '46 CHILE'\n",
       "\\item '50 COMORAS'\n",
       "\\item '55 COSTA DE MARFIL'\n",
       "\\item '64 REPÚBLICA DOMINICANA'\n",
       "\\item '65 ECUADOR'\n",
       "\\item '67 EL SALVADOR'\n",
       "\\item '83 ALEMANIA'\n",
       "\\item '96 HAITI'\n",
       "\\end{enumerate*}\n"
      ],
      "text/markdown": [
       "1. 1 COLOMBIA\n",
       "2. 236 ESTADOS UNIDOS\n",
       "3. 241 VENEZUELA\n",
       "4. 50 COMORAS\n",
       "5. 46 CHILE\n",
       "6. 209 ESPAÑA\n",
       "7. 64 REPÚBLICA DOMINICANA\n",
       "8. 174 PERÚ\n",
       "9. 83 ALEMANIA\n",
       "10. 167 OMÁN\n",
       "11. 119 COREA DEL SUR\n",
       "12. 67 EL SALVADOR\n",
       "13. 55 COSTA DE MARFIL\n",
       "14. 65 ECUADOR\n",
       "15. 171 PANAMÁ\n",
       "16. 3 ALAND\n",
       "17. 118 COREA DEL NORTE\n",
       "18. 144 MÉXICO\n",
       "19. 112 JAPÓN\n",
       "20. 96 HAITI\n",
       "\n",
       "\n",
       "\n",
       "**Levels**: 1. '1 COLOMBIA'\n",
       "2. '112 JAPÓN'\n",
       "3. '118 COREA DEL NORTE'\n",
       "4. '119 COREA DEL SUR'\n",
       "5. '12 ARGENTINA'\n",
       "6. '144 MÉXICO'\n",
       "7. '167 OMÁN'\n",
       "8. '171 PANAMÁ'\n",
       "9. '174 PERÚ'\n",
       "10. '209 ESPAÑA'\n",
       "11. '236 ESTADOS UNIDOS'\n",
       "12. '241 VENEZUELA'\n",
       "13. '3 ALAND'\n",
       "14. '46 CHILE'\n",
       "15. '50 COMORAS'\n",
       "16. '55 COSTA DE MARFIL'\n",
       "17. '64 REPÚBLICA DOMINICANA'\n",
       "18. '65 ECUADOR'\n",
       "19. '67 EL SALVADOR'\n",
       "20. '83 ALEMANIA'\n",
       "21. '96 HAITI'\n",
       "\n",
       "\n"
      ],
      "text/plain": [
       " [1] 1 COLOMBIA              236 ESTADOS UNIDOS      241 VENEZUELA          \n",
       " [4] 50 COMORAS              46 CHILE                209 ESPAÑA             \n",
       " [7] 64 REPÚBLICA DOMINICANA 174 PERÚ                83 ALEMANIA            \n",
       "[10] 167 OMÁN                119 COREA DEL SUR       67 EL SALVADOR         \n",
       "[13] 55 COSTA DE MARFIL      65 ECUADOR              171 PANAMÁ             \n",
       "[16] 3 ALAND                 118 COREA DEL NORTE     144 MÉXICO             \n",
       "[19] 112 JAPÓN               96 HAITI               \n",
       "21 Levels: 1 COLOMBIA 112 JAPÓN 118 COREA DEL NORTE ... 96 HAITI"
      ]
     },
     "metadata": {},
     "output_type": "display_data"
    }
   ],
   "source": [
    "unique(df_published$ESTU_NACIONALIDAD)"
   ]
  },
  {
   "cell_type": "markdown",
   "metadata": {},
   "source": [
    "Podemos ver que no hay nacionalidades mal escritas o que se encuentren repetidas pero escritas de diferentes formas."
   ]
  },
  {
   "cell_type": "markdown",
   "metadata": {},
   "source": [
    "Suponemos que el número al inicio de la nacionalidad es un identificador del país y no genera problemas para el estudio, sin embargo no estaría de más preguntar el porque este dato se encuentra de esta forma para estar seguros de que no se trata de un problema."
   ]
  },
  {
   "cell_type": "code",
   "execution_count": 10,
   "metadata": {
    "ExecuteTime": {
     "end_time": "2021-08-24T17:31:15.000409Z",
     "start_time": "2021-08-24T17:31:10.340Z"
    }
   },
   "outputs": [],
   "source": [
    "df_published = df_published[df_published$ESTU_NACIONALIDAD == \"1 COLOMBIA\",]"
   ]
  },
  {
   "cell_type": "code",
   "execution_count": 11,
   "metadata": {
    "ExecuteTime": {
     "end_time": "2021-08-24T17:31:15.031189Z",
     "start_time": "2021-08-24T17:31:10.345Z"
    }
   },
   "outputs": [
    {
     "data": {
      "text/html": [
       "<table>\n",
       "<caption>A data.frame: 5 × 35</caption>\n",
       "<thead>\n",
       "\t<tr><th></th><th scope=col>ESTU_TIPODOCUMENTO</th><th scope=col>ESTU_NACIONALIDAD</th><th scope=col>ESTU_GENERO</th><th scope=col>ESTU_FECHANACIMIENTO</th><th scope=col>PERIODO</th><th scope=col>ESTU_CONSECUTIVO</th><th scope=col>ESTU_ESTUDIANTE</th><th scope=col>ESTU_ESTADOCIVIL</th><th scope=col>ESTU_TIENE_ETNIA</th><th scope=col>ESTU_ETNIA</th><th scope=col>⋯</th><th scope=col>MOD_INGLES_DESEM</th><th scope=col>MOD_INGLES_PNAL</th><th scope=col>MOD_INGLES_PGREF</th><th scope=col>MOD_COMUNI_ESCRITA_PUNT</th><th scope=col>MOD_COMUNI_ESCRITA_DESEM</th><th scope=col>MOD_COMUNI_ESCRITA_PNAL</th><th scope=col>MOD_COMUNI_ESCRITA_PGREF</th><th scope=col>ESTU_ESTADO</th><th scope=col>INSE</th><th scope=col>NSE</th></tr>\n",
       "\t<tr><th></th><th scope=col>&lt;fct&gt;</th><th scope=col>&lt;fct&gt;</th><th scope=col>&lt;fct&gt;</th><th scope=col>&lt;fct&gt;</th><th scope=col>&lt;int&gt;</th><th scope=col>&lt;fct&gt;</th><th scope=col>&lt;fct&gt;</th><th scope=col>&lt;fct&gt;</th><th scope=col>&lt;fct&gt;</th><th scope=col>&lt;fct&gt;</th><th scope=col>⋯</th><th scope=col>&lt;fct&gt;</th><th scope=col>&lt;int&gt;</th><th scope=col>&lt;int&gt;</th><th scope=col>&lt;int&gt;</th><th scope=col>&lt;int&gt;</th><th scope=col>&lt;int&gt;</th><th scope=col>&lt;int&gt;</th><th scope=col>&lt;fct&gt;</th><th scope=col>&lt;dbl&gt;</th><th scope=col>&lt;fct&gt;</th></tr>\n",
       "</thead>\n",
       "<tbody>\n",
       "\t<tr><th scope=row>1</th><td>CC</td><td>1 COLOMBIA</td><td>M</td><td>15/08/1990</td><td>20164</td><td>EK201640024941</td><td>ESTUDIANTE</td><td>UNIÓN LIBRE</td><td>NO</td><td>NA</td><td>⋯</td><td>A2 </td><td>79</td><td>59</td><td>121</td><td>4</td><td>87</td><td>85</td><td>PUBLICAR</td><td>57.14241</td><td>NSE3</td></tr>\n",
       "\t<tr><th scope=row>2</th><td>CC</td><td>1 COLOMBIA</td><td>M</td><td>26/09/1990</td><td>20164</td><td>EK201640012159</td><td>ESTUDIANTE</td><td>SOLTERO    </td><td>NA</td><td>NA</td><td>⋯</td><td>A2 </td><td>75</td><td>74</td><td>123</td><td>4</td><td>89</td><td>87</td><td>PUBLICAR</td><td>65.76637</td><td>NSE4</td></tr>\n",
       "\t<tr><th scope=row>3</th><td>CC</td><td>1 COLOMBIA</td><td>F</td><td>28/10/1994</td><td>20164</td><td>EK201640041435</td><td>ESTUDIANTE</td><td>SOLTERO    </td><td>NO</td><td>NA</td><td>⋯</td><td>B1 </td><td>97</td><td>98</td><td> 99</td><td>2</td><td>43</td><td>44</td><td>PUBLICAR</td><td>47.68200</td><td>NSE2</td></tr>\n",
       "\t<tr><th scope=row>4</th><td>CC</td><td>1 COLOMBIA</td><td>F</td><td>24/09/1979</td><td>20164</td><td>EK201640003654</td><td>ESTUDIANTE</td><td>UNIÓN LIBRE</td><td>NO</td><td>NA</td><td>⋯</td><td>A1 </td><td>32</td><td>30</td><td> 75</td><td>1</td><td>13</td><td>11</td><td>PUBLICAR</td><td>55.56398</td><td>NSE3</td></tr>\n",
       "\t<tr><th scope=row>5</th><td>CC</td><td>1 COLOMBIA</td><td>M</td><td>6/07/1988 </td><td>20164</td><td>EK201640018456</td><td>ESTUDIANTE</td><td>SOLTERO    </td><td>NO</td><td>NA</td><td>⋯</td><td>A1-</td><td>15</td><td>19</td><td> 86</td><td>2</td><td>29</td><td>34</td><td>PUBLICAR</td><td>27.01330</td><td>NSE1</td></tr>\n",
       "</tbody>\n",
       "</table>\n"
      ],
      "text/latex": [
       "A data.frame: 5 × 35\n",
       "\\begin{tabular}{r|lllllllllllllllllllll}\n",
       "  & ESTU\\_TIPODOCUMENTO & ESTU\\_NACIONALIDAD & ESTU\\_GENERO & ESTU\\_FECHANACIMIENTO & PERIODO & ESTU\\_CONSECUTIVO & ESTU\\_ESTUDIANTE & ESTU\\_ESTADOCIVIL & ESTU\\_TIENE\\_ETNIA & ESTU\\_ETNIA & ⋯ & MOD\\_INGLES\\_DESEM & MOD\\_INGLES\\_PNAL & MOD\\_INGLES\\_PGREF & MOD\\_COMUNI\\_ESCRITA\\_PUNT & MOD\\_COMUNI\\_ESCRITA\\_DESEM & MOD\\_COMUNI\\_ESCRITA\\_PNAL & MOD\\_COMUNI\\_ESCRITA\\_PGREF & ESTU\\_ESTADO & INSE & NSE\\\\\n",
       "  & <fct> & <fct> & <fct> & <fct> & <int> & <fct> & <fct> & <fct> & <fct> & <fct> & ⋯ & <fct> & <int> & <int> & <int> & <int> & <int> & <int> & <fct> & <dbl> & <fct>\\\\\n",
       "\\hline\n",
       "\t1 & CC & 1 COLOMBIA & M & 15/08/1990 & 20164 & EK201640024941 & ESTUDIANTE & UNIÓN LIBRE & NO & NA & ⋯ & A2  & 79 & 59 & 121 & 4 & 87 & 85 & PUBLICAR & 57.14241 & NSE3\\\\\n",
       "\t2 & CC & 1 COLOMBIA & M & 26/09/1990 & 20164 & EK201640012159 & ESTUDIANTE & SOLTERO     & NA & NA & ⋯ & A2  & 75 & 74 & 123 & 4 & 89 & 87 & PUBLICAR & 65.76637 & NSE4\\\\\n",
       "\t3 & CC & 1 COLOMBIA & F & 28/10/1994 & 20164 & EK201640041435 & ESTUDIANTE & SOLTERO     & NO & NA & ⋯ & B1  & 97 & 98 &  99 & 2 & 43 & 44 & PUBLICAR & 47.68200 & NSE2\\\\\n",
       "\t4 & CC & 1 COLOMBIA & F & 24/09/1979 & 20164 & EK201640003654 & ESTUDIANTE & UNIÓN LIBRE & NO & NA & ⋯ & A1  & 32 & 30 &  75 & 1 & 13 & 11 & PUBLICAR & 55.56398 & NSE3\\\\\n",
       "\t5 & CC & 1 COLOMBIA & M & 6/07/1988  & 20164 & EK201640018456 & ESTUDIANTE & SOLTERO     & NO & NA & ⋯ & A1- & 15 & 19 &  86 & 2 & 29 & 34 & PUBLICAR & 27.01330 & NSE1\\\\\n",
       "\\end{tabular}\n"
      ],
      "text/markdown": [
       "\n",
       "A data.frame: 5 × 35\n",
       "\n",
       "| <!--/--> | ESTU_TIPODOCUMENTO &lt;fct&gt; | ESTU_NACIONALIDAD &lt;fct&gt; | ESTU_GENERO &lt;fct&gt; | ESTU_FECHANACIMIENTO &lt;fct&gt; | PERIODO &lt;int&gt; | ESTU_CONSECUTIVO &lt;fct&gt; | ESTU_ESTUDIANTE &lt;fct&gt; | ESTU_ESTADOCIVIL &lt;fct&gt; | ESTU_TIENE_ETNIA &lt;fct&gt; | ESTU_ETNIA &lt;fct&gt; | ⋯ ⋯ | MOD_INGLES_DESEM &lt;fct&gt; | MOD_INGLES_PNAL &lt;int&gt; | MOD_INGLES_PGREF &lt;int&gt; | MOD_COMUNI_ESCRITA_PUNT &lt;int&gt; | MOD_COMUNI_ESCRITA_DESEM &lt;int&gt; | MOD_COMUNI_ESCRITA_PNAL &lt;int&gt; | MOD_COMUNI_ESCRITA_PGREF &lt;int&gt; | ESTU_ESTADO &lt;fct&gt; | INSE &lt;dbl&gt; | NSE &lt;fct&gt; |\n",
       "|---|---|---|---|---|---|---|---|---|---|---|---|---|---|---|---|---|---|---|---|---|---|\n",
       "| 1 | CC | 1 COLOMBIA | M | 15/08/1990 | 20164 | EK201640024941 | ESTUDIANTE | UNIÓN LIBRE | NO | NA | ⋯ | A2  | 79 | 59 | 121 | 4 | 87 | 85 | PUBLICAR | 57.14241 | NSE3 |\n",
       "| 2 | CC | 1 COLOMBIA | M | 26/09/1990 | 20164 | EK201640012159 | ESTUDIANTE | SOLTERO     | NA | NA | ⋯ | A2  | 75 | 74 | 123 | 4 | 89 | 87 | PUBLICAR | 65.76637 | NSE4 |\n",
       "| 3 | CC | 1 COLOMBIA | F | 28/10/1994 | 20164 | EK201640041435 | ESTUDIANTE | SOLTERO     | NO | NA | ⋯ | B1  | 97 | 98 |  99 | 2 | 43 | 44 | PUBLICAR | 47.68200 | NSE2 |\n",
       "| 4 | CC | 1 COLOMBIA | F | 24/09/1979 | 20164 | EK201640003654 | ESTUDIANTE | UNIÓN LIBRE | NO | NA | ⋯ | A1  | 32 | 30 |  75 | 1 | 13 | 11 | PUBLICAR | 55.56398 | NSE3 |\n",
       "| 5 | CC | 1 COLOMBIA | M | 6/07/1988  | 20164 | EK201640018456 | ESTUDIANTE | SOLTERO     | NO | NA | ⋯ | A1- | 15 | 19 |  86 | 2 | 29 | 34 | PUBLICAR | 27.01330 | NSE1 |\n",
       "\n"
      ],
      "text/plain": [
       "  ESTU_TIPODOCUMENTO ESTU_NACIONALIDAD ESTU_GENERO ESTU_FECHANACIMIENTO PERIODO\n",
       "1 CC                 1 COLOMBIA        M           15/08/1990           20164  \n",
       "2 CC                 1 COLOMBIA        M           26/09/1990           20164  \n",
       "3 CC                 1 COLOMBIA        F           28/10/1994           20164  \n",
       "4 CC                 1 COLOMBIA        F           24/09/1979           20164  \n",
       "5 CC                 1 COLOMBIA        M           6/07/1988            20164  \n",
       "  ESTU_CONSECUTIVO ESTU_ESTUDIANTE ESTU_ESTADOCIVIL ESTU_TIENE_ETNIA ESTU_ETNIA\n",
       "1 EK201640024941   ESTUDIANTE      UNIÓN LIBRE      NO               NA        \n",
       "2 EK201640012159   ESTUDIANTE      SOLTERO          NA               NA        \n",
       "3 EK201640041435   ESTUDIANTE      SOLTERO          NO               NA        \n",
       "4 EK201640003654   ESTUDIANTE      UNIÓN LIBRE      NO               NA        \n",
       "5 EK201640018456   ESTUDIANTE      SOLTERO          NO               NA        \n",
       "  ⋯ MOD_INGLES_DESEM MOD_INGLES_PNAL MOD_INGLES_PGREF MOD_COMUNI_ESCRITA_PUNT\n",
       "1 ⋯ A2               79              59               121                    \n",
       "2 ⋯ A2               75              74               123                    \n",
       "3 ⋯ B1               97              98                99                    \n",
       "4 ⋯ A1               32              30                75                    \n",
       "5 ⋯ A1-              15              19                86                    \n",
       "  MOD_COMUNI_ESCRITA_DESEM MOD_COMUNI_ESCRITA_PNAL MOD_COMUNI_ESCRITA_PGREF\n",
       "1 4                        87                      85                      \n",
       "2 4                        89                      87                      \n",
       "3 2                        43                      44                      \n",
       "4 1                        13                      11                      \n",
       "5 2                        29                      34                      \n",
       "  ESTU_ESTADO INSE     NSE \n",
       "1 PUBLICAR    57.14241 NSE3\n",
       "2 PUBLICAR    65.76637 NSE4\n",
       "3 PUBLICAR    47.68200 NSE2\n",
       "4 PUBLICAR    55.56398 NSE3\n",
       "5 PUBLICAR    27.01330 NSE1"
      ]
     },
     "metadata": {},
     "output_type": "display_data"
    }
   ],
   "source": [
    "df_published[c(1:5),]"
   ]
  },
  {
   "cell_type": "code",
   "execution_count": 12,
   "metadata": {
    "ExecuteTime": {
     "end_time": "2021-08-24T17:31:15.047023Z",
     "start_time": "2021-08-24T17:31:10.348Z"
    },
    "scrolled": true
   },
   "outputs": [
    {
     "data": {
      "text/html": [
       "<style>\n",
       ".list-inline {list-style: none; margin:0; padding: 0}\n",
       ".list-inline>li {display: inline-block}\n",
       ".list-inline>li:not(:last-child)::after {content: \"\\00b7\"; padding: 0 .5ex}\n",
       "</style>\n",
       "<ol class=list-inline><li>52665</li><li>35</li></ol>\n"
      ],
      "text/latex": [
       "\\begin{enumerate*}\n",
       "\\item 52665\n",
       "\\item 35\n",
       "\\end{enumerate*}\n"
      ],
      "text/markdown": [
       "1. 52665\n",
       "2. 35\n",
       "\n",
       "\n"
      ],
      "text/plain": [
       "[1] 52665    35"
      ]
     },
     "metadata": {},
     "output_type": "display_data"
    }
   ],
   "source": [
    "dim(df_published)"
   ]
  },
  {
   "cell_type": "markdown",
   "metadata": {
    "ExecuteTime": {
     "end_time": "2021-08-24T12:19:33.178431Z",
     "start_time": "2021-08-24T12:19:33.159Z"
    }
   },
   "source": [
    "Al final nos quedamos con un conjunto de datos de 52665 y de 35 columnas."
   ]
  },
  {
   "cell_type": "markdown",
   "metadata": {},
   "source": [
    "## Formateo de los Datos"
   ]
  },
  {
   "cell_type": "markdown",
   "metadata": {},
   "source": [
    "Revisamos que los datos se encuentren en el formato correcto."
   ]
  },
  {
   "cell_type": "code",
   "execution_count": 13,
   "metadata": {
    "ExecuteTime": {
     "end_time": "2021-08-24T17:31:15.073811Z",
     "start_time": "2021-08-24T17:31:10.356Z"
    }
   },
   "outputs": [
    {
     "data": {
      "text/html": [
       "'data.frame'"
      ],
      "text/latex": [
       "'data.frame'"
      ],
      "text/markdown": [
       "'data.frame'"
      ],
      "text/plain": [
       "[1] \"data.frame\""
      ]
     },
     "metadata": {},
     "output_type": "display_data"
    }
   ],
   "source": [
    "class(df_published)"
   ]
  },
  {
   "cell_type": "markdown",
   "metadata": {},
   "source": [
    "Revisemos la clase de las de las variables"
   ]
  },
  {
   "cell_type": "code",
   "execution_count": 14,
   "metadata": {
    "ExecuteTime": {
     "end_time": "2021-08-24T17:31:15.099783Z",
     "start_time": "2021-08-24T17:31:10.362Z"
    },
    "scrolled": true
   },
   "outputs": [
    {
     "data": {
      "text/html": [
       "<dl>\n",
       "\t<dt>$ESTU_TIPODOCUMENTO</dt>\n",
       "\t\t<dd>'factor'</dd>\n",
       "\t<dt>$ESTU_NACIONALIDAD</dt>\n",
       "\t\t<dd>'factor'</dd>\n",
       "\t<dt>$ESTU_GENERO</dt>\n",
       "\t\t<dd>'factor'</dd>\n",
       "\t<dt>$ESTU_FECHANACIMIENTO</dt>\n",
       "\t\t<dd>'factor'</dd>\n",
       "\t<dt>$PERIODO</dt>\n",
       "\t\t<dd>'integer'</dd>\n",
       "\t<dt>$ESTU_CONSECUTIVO</dt>\n",
       "\t\t<dd>'factor'</dd>\n",
       "\t<dt>$ESTU_ESTUDIANTE</dt>\n",
       "\t\t<dd>'factor'</dd>\n",
       "\t<dt>$ESTU_ESTADOCIVIL</dt>\n",
       "\t\t<dd>'factor'</dd>\n",
       "\t<dt>$ESTU_TIENE_ETNIA</dt>\n",
       "\t\t<dd>'factor'</dd>\n",
       "\t<dt>$ESTU_ETNIA</dt>\n",
       "\t\t<dd>'factor'</dd>\n",
       "\t<dt>$ESTU_LIMITA_MOTRIZ</dt>\n",
       "\t\t<dd>'factor'</dd>\n",
       "\t<dt>$ESTU_LIMITA_INVIDENTE</dt>\n",
       "\t\t<dd>'factor'</dd>\n",
       "\t<dt>$ESTU_LIMITA_CONDICIONESPECIAL</dt>\n",
       "\t\t<dd>'factor'</dd>\n",
       "\t<dt>$ESTU_LIMITA_SORDO</dt>\n",
       "\t\t<dd>'factor'</dd>\n",
       "\t<dt>$ESTU_LIMITA_AUTISMO</dt>\n",
       "\t\t<dd>'factor'</dd>\n",
       "\t<dt>$MOD_RAZONA_CUANTITAT_PUNT</dt>\n",
       "\t\t<dd>'integer'</dd>\n",
       "\t<dt>$MOD_RAZONA_CUANTITATIVO_PNAL</dt>\n",
       "\t\t<dd>'integer'</dd>\n",
       "\t<dt>$MOD_RAZONA_CUANTITATIVO_PGREF</dt>\n",
       "\t\t<dd>'integer'</dd>\n",
       "\t<dt>$MOD_LECTURA_CRITICA_PUNT</dt>\n",
       "\t\t<dd>'integer'</dd>\n",
       "\t<dt>$MOD_LECTURA_CRITICA_PNAL</dt>\n",
       "\t\t<dd>'integer'</dd>\n",
       "\t<dt>$MOD_LECTURA_CRITICA_PGREF</dt>\n",
       "\t\t<dd>'integer'</dd>\n",
       "\t<dt>$MOD_COMPETEN_CIUDADA_PUNT</dt>\n",
       "\t\t<dd>'integer'</dd>\n",
       "\t<dt>$MOD_COMPETEN_CIUDADA_PNAL</dt>\n",
       "\t\t<dd>'integer'</dd>\n",
       "\t<dt>$MOD_COMPETEN_CIUDADA_PGREF</dt>\n",
       "\t\t<dd>'integer'</dd>\n",
       "\t<dt>$MOD_INGLES_PUNT</dt>\n",
       "\t\t<dd>'integer'</dd>\n",
       "\t<dt>$MOD_INGLES_DESEM</dt>\n",
       "\t\t<dd>'factor'</dd>\n",
       "\t<dt>$MOD_INGLES_PNAL</dt>\n",
       "\t\t<dd>'integer'</dd>\n",
       "\t<dt>$MOD_INGLES_PGREF</dt>\n",
       "\t\t<dd>'integer'</dd>\n",
       "\t<dt>$MOD_COMUNI_ESCRITA_PUNT</dt>\n",
       "\t\t<dd>'integer'</dd>\n",
       "\t<dt>$MOD_COMUNI_ESCRITA_DESEM</dt>\n",
       "\t\t<dd>'integer'</dd>\n",
       "\t<dt>$MOD_COMUNI_ESCRITA_PNAL</dt>\n",
       "\t\t<dd>'integer'</dd>\n",
       "\t<dt>$MOD_COMUNI_ESCRITA_PGREF</dt>\n",
       "\t\t<dd>'integer'</dd>\n",
       "\t<dt>$ESTU_ESTADO</dt>\n",
       "\t\t<dd>'factor'</dd>\n",
       "\t<dt>$INSE</dt>\n",
       "\t\t<dd>'numeric'</dd>\n",
       "\t<dt>$NSE</dt>\n",
       "\t\t<dd>'factor'</dd>\n",
       "</dl>\n"
      ],
      "text/latex": [
       "\\begin{description}\n",
       "\\item[\\$ESTU\\_TIPODOCUMENTO] 'factor'\n",
       "\\item[\\$ESTU\\_NACIONALIDAD] 'factor'\n",
       "\\item[\\$ESTU\\_GENERO] 'factor'\n",
       "\\item[\\$ESTU\\_FECHANACIMIENTO] 'factor'\n",
       "\\item[\\$PERIODO] 'integer'\n",
       "\\item[\\$ESTU\\_CONSECUTIVO] 'factor'\n",
       "\\item[\\$ESTU\\_ESTUDIANTE] 'factor'\n",
       "\\item[\\$ESTU\\_ESTADOCIVIL] 'factor'\n",
       "\\item[\\$ESTU\\_TIENE\\_ETNIA] 'factor'\n",
       "\\item[\\$ESTU\\_ETNIA] 'factor'\n",
       "\\item[\\$ESTU\\_LIMITA\\_MOTRIZ] 'factor'\n",
       "\\item[\\$ESTU\\_LIMITA\\_INVIDENTE] 'factor'\n",
       "\\item[\\$ESTU\\_LIMITA\\_CONDICIONESPECIAL] 'factor'\n",
       "\\item[\\$ESTU\\_LIMITA\\_SORDO] 'factor'\n",
       "\\item[\\$ESTU\\_LIMITA\\_AUTISMO] 'factor'\n",
       "\\item[\\$MOD\\_RAZONA\\_CUANTITAT\\_PUNT] 'integer'\n",
       "\\item[\\$MOD\\_RAZONA\\_CUANTITATIVO\\_PNAL] 'integer'\n",
       "\\item[\\$MOD\\_RAZONA\\_CUANTITATIVO\\_PGREF] 'integer'\n",
       "\\item[\\$MOD\\_LECTURA\\_CRITICA\\_PUNT] 'integer'\n",
       "\\item[\\$MOD\\_LECTURA\\_CRITICA\\_PNAL] 'integer'\n",
       "\\item[\\$MOD\\_LECTURA\\_CRITICA\\_PGREF] 'integer'\n",
       "\\item[\\$MOD\\_COMPETEN\\_CIUDADA\\_PUNT] 'integer'\n",
       "\\item[\\$MOD\\_COMPETEN\\_CIUDADA\\_PNAL] 'integer'\n",
       "\\item[\\$MOD\\_COMPETEN\\_CIUDADA\\_PGREF] 'integer'\n",
       "\\item[\\$MOD\\_INGLES\\_PUNT] 'integer'\n",
       "\\item[\\$MOD\\_INGLES\\_DESEM] 'factor'\n",
       "\\item[\\$MOD\\_INGLES\\_PNAL] 'integer'\n",
       "\\item[\\$MOD\\_INGLES\\_PGREF] 'integer'\n",
       "\\item[\\$MOD\\_COMUNI\\_ESCRITA\\_PUNT] 'integer'\n",
       "\\item[\\$MOD\\_COMUNI\\_ESCRITA\\_DESEM] 'integer'\n",
       "\\item[\\$MOD\\_COMUNI\\_ESCRITA\\_PNAL] 'integer'\n",
       "\\item[\\$MOD\\_COMUNI\\_ESCRITA\\_PGREF] 'integer'\n",
       "\\item[\\$ESTU\\_ESTADO] 'factor'\n",
       "\\item[\\$INSE] 'numeric'\n",
       "\\item[\\$NSE] 'factor'\n",
       "\\end{description}\n"
      ],
      "text/markdown": [
       "$ESTU_TIPODOCUMENTO\n",
       ":   'factor'\n",
       "$ESTU_NACIONALIDAD\n",
       ":   'factor'\n",
       "$ESTU_GENERO\n",
       ":   'factor'\n",
       "$ESTU_FECHANACIMIENTO\n",
       ":   'factor'\n",
       "$PERIODO\n",
       ":   'integer'\n",
       "$ESTU_CONSECUTIVO\n",
       ":   'factor'\n",
       "$ESTU_ESTUDIANTE\n",
       ":   'factor'\n",
       "$ESTU_ESTADOCIVIL\n",
       ":   'factor'\n",
       "$ESTU_TIENE_ETNIA\n",
       ":   'factor'\n",
       "$ESTU_ETNIA\n",
       ":   'factor'\n",
       "$ESTU_LIMITA_MOTRIZ\n",
       ":   'factor'\n",
       "$ESTU_LIMITA_INVIDENTE\n",
       ":   'factor'\n",
       "$ESTU_LIMITA_CONDICIONESPECIAL\n",
       ":   'factor'\n",
       "$ESTU_LIMITA_SORDO\n",
       ":   'factor'\n",
       "$ESTU_LIMITA_AUTISMO\n",
       ":   'factor'\n",
       "$MOD_RAZONA_CUANTITAT_PUNT\n",
       ":   'integer'\n",
       "$MOD_RAZONA_CUANTITATIVO_PNAL\n",
       ":   'integer'\n",
       "$MOD_RAZONA_CUANTITATIVO_PGREF\n",
       ":   'integer'\n",
       "$MOD_LECTURA_CRITICA_PUNT\n",
       ":   'integer'\n",
       "$MOD_LECTURA_CRITICA_PNAL\n",
       ":   'integer'\n",
       "$MOD_LECTURA_CRITICA_PGREF\n",
       ":   'integer'\n",
       "$MOD_COMPETEN_CIUDADA_PUNT\n",
       ":   'integer'\n",
       "$MOD_COMPETEN_CIUDADA_PNAL\n",
       ":   'integer'\n",
       "$MOD_COMPETEN_CIUDADA_PGREF\n",
       ":   'integer'\n",
       "$MOD_INGLES_PUNT\n",
       ":   'integer'\n",
       "$MOD_INGLES_DESEM\n",
       ":   'factor'\n",
       "$MOD_INGLES_PNAL\n",
       ":   'integer'\n",
       "$MOD_INGLES_PGREF\n",
       ":   'integer'\n",
       "$MOD_COMUNI_ESCRITA_PUNT\n",
       ":   'integer'\n",
       "$MOD_COMUNI_ESCRITA_DESEM\n",
       ":   'integer'\n",
       "$MOD_COMUNI_ESCRITA_PNAL\n",
       ":   'integer'\n",
       "$MOD_COMUNI_ESCRITA_PGREF\n",
       ":   'integer'\n",
       "$ESTU_ESTADO\n",
       ":   'factor'\n",
       "$INSE\n",
       ":   'numeric'\n",
       "$NSE\n",
       ":   'factor'\n",
       "\n",
       "\n"
      ],
      "text/plain": [
       "$ESTU_TIPODOCUMENTO\n",
       "[1] \"factor\"\n",
       "\n",
       "$ESTU_NACIONALIDAD\n",
       "[1] \"factor\"\n",
       "\n",
       "$ESTU_GENERO\n",
       "[1] \"factor\"\n",
       "\n",
       "$ESTU_FECHANACIMIENTO\n",
       "[1] \"factor\"\n",
       "\n",
       "$PERIODO\n",
       "[1] \"integer\"\n",
       "\n",
       "$ESTU_CONSECUTIVO\n",
       "[1] \"factor\"\n",
       "\n",
       "$ESTU_ESTUDIANTE\n",
       "[1] \"factor\"\n",
       "\n",
       "$ESTU_ESTADOCIVIL\n",
       "[1] \"factor\"\n",
       "\n",
       "$ESTU_TIENE_ETNIA\n",
       "[1] \"factor\"\n",
       "\n",
       "$ESTU_ETNIA\n",
       "[1] \"factor\"\n",
       "\n",
       "$ESTU_LIMITA_MOTRIZ\n",
       "[1] \"factor\"\n",
       "\n",
       "$ESTU_LIMITA_INVIDENTE\n",
       "[1] \"factor\"\n",
       "\n",
       "$ESTU_LIMITA_CONDICIONESPECIAL\n",
       "[1] \"factor\"\n",
       "\n",
       "$ESTU_LIMITA_SORDO\n",
       "[1] \"factor\"\n",
       "\n",
       "$ESTU_LIMITA_AUTISMO\n",
       "[1] \"factor\"\n",
       "\n",
       "$MOD_RAZONA_CUANTITAT_PUNT\n",
       "[1] \"integer\"\n",
       "\n",
       "$MOD_RAZONA_CUANTITATIVO_PNAL\n",
       "[1] \"integer\"\n",
       "\n",
       "$MOD_RAZONA_CUANTITATIVO_PGREF\n",
       "[1] \"integer\"\n",
       "\n",
       "$MOD_LECTURA_CRITICA_PUNT\n",
       "[1] \"integer\"\n",
       "\n",
       "$MOD_LECTURA_CRITICA_PNAL\n",
       "[1] \"integer\"\n",
       "\n",
       "$MOD_LECTURA_CRITICA_PGREF\n",
       "[1] \"integer\"\n",
       "\n",
       "$MOD_COMPETEN_CIUDADA_PUNT\n",
       "[1] \"integer\"\n",
       "\n",
       "$MOD_COMPETEN_CIUDADA_PNAL\n",
       "[1] \"integer\"\n",
       "\n",
       "$MOD_COMPETEN_CIUDADA_PGREF\n",
       "[1] \"integer\"\n",
       "\n",
       "$MOD_INGLES_PUNT\n",
       "[1] \"integer\"\n",
       "\n",
       "$MOD_INGLES_DESEM\n",
       "[1] \"factor\"\n",
       "\n",
       "$MOD_INGLES_PNAL\n",
       "[1] \"integer\"\n",
       "\n",
       "$MOD_INGLES_PGREF\n",
       "[1] \"integer\"\n",
       "\n",
       "$MOD_COMUNI_ESCRITA_PUNT\n",
       "[1] \"integer\"\n",
       "\n",
       "$MOD_COMUNI_ESCRITA_DESEM\n",
       "[1] \"integer\"\n",
       "\n",
       "$MOD_COMUNI_ESCRITA_PNAL\n",
       "[1] \"integer\"\n",
       "\n",
       "$MOD_COMUNI_ESCRITA_PGREF\n",
       "[1] \"integer\"\n",
       "\n",
       "$ESTU_ESTADO\n",
       "[1] \"factor\"\n",
       "\n",
       "$INSE\n",
       "[1] \"numeric\"\n",
       "\n",
       "$NSE\n",
       "[1] \"factor\"\n"
      ]
     },
     "metadata": {},
     "output_type": "display_data"
    }
   ],
   "source": [
    "lapply(df_published, class)"
   ]
  },
  {
   "cell_type": "markdown",
   "metadata": {},
   "source": [
    "Todas las variables menos la fecha de nacimiento, ESTU_TIENE_ETNIA, las limitaciones, MOD_COMUNI_ESCRITA_DESEM y el periodo se encuentran en un formato incorrecto ya que la primera se trata de una fecha y los demás de datos booleanos que se encuentran representados por un SI o NO o una X. Estos datos booleanos se recomienda realizar una estandarización como el uso del 0 y 1 ya que representan datos booleanos."
   ]
  },
  {
   "cell_type": "markdown",
   "metadata": {},
   "source": [
    "### Periodo"
   ]
  },
  {
   "cell_type": "code",
   "execution_count": 15,
   "metadata": {
    "ExecuteTime": {
     "end_time": "2021-08-24T17:31:15.123947Z",
     "start_time": "2021-08-24T17:31:10.369Z"
    }
   },
   "outputs": [
    {
     "data": {
      "text/html": [
       "'integer'"
      ],
      "text/latex": [
       "'integer'"
      ],
      "text/markdown": [
       "'integer'"
      ],
      "text/plain": [
       "[1] \"integer\""
      ]
     },
     "metadata": {},
     "output_type": "display_data"
    }
   ],
   "source": [
    "class(df_published$PERIODO)"
   ]
  },
  {
   "cell_type": "code",
   "execution_count": 16,
   "metadata": {
    "ExecuteTime": {
     "end_time": "2021-08-24T17:31:15.143826Z",
     "start_time": "2021-08-24T17:31:10.373Z"
    }
   },
   "outputs": [],
   "source": [
    "df_published$PERIODO = as.factor(df_published$PERIODO)"
   ]
  },
  {
   "cell_type": "markdown",
   "metadata": {},
   "source": [
    "### MOD_COMUNI_ESCRITA_DESEM"
   ]
  },
  {
   "cell_type": "code",
   "execution_count": 17,
   "metadata": {
    "ExecuteTime": {
     "end_time": "2021-08-24T17:31:15.170914Z",
     "start_time": "2021-08-24T17:31:10.378Z"
    }
   },
   "outputs": [
    {
     "data": {
      "text/html": [
       "'integer'"
      ],
      "text/latex": [
       "'integer'"
      ],
      "text/markdown": [
       "'integer'"
      ],
      "text/plain": [
       "[1] \"integer\""
      ]
     },
     "metadata": {},
     "output_type": "display_data"
    }
   ],
   "source": [
    "class(df_published$MOD_COMUNI_ESCRITA_DESEM)"
   ]
  },
  {
   "cell_type": "code",
   "execution_count": 18,
   "metadata": {
    "ExecuteTime": {
     "end_time": "2021-08-24T17:31:15.182711Z",
     "start_time": "2021-08-24T17:31:10.382Z"
    }
   },
   "outputs": [],
   "source": [
    "df_published$MOD_COMUNI_ESCRITA_DESEM = as.factor(df_published$MOD_COMUNI_ESCRITA_DESEM)"
   ]
  },
  {
   "cell_type": "code",
   "execution_count": 19,
   "metadata": {
    "ExecuteTime": {
     "end_time": "2021-08-24T17:31:15.198023Z",
     "start_time": "2021-08-24T17:31:10.386Z"
    }
   },
   "outputs": [
    {
     "data": {
      "text/html": [
       "<style>\n",
       ".list-inline {list-style: none; margin:0; padding: 0}\n",
       ".list-inline>li {display: inline-block}\n",
       ".list-inline>li:not(:last-child)::after {content: \"\\00b7\"; padding: 0 .5ex}\n",
       "</style>\n",
       "<ol class=list-inline><li>4</li><li>2</li><li>1</li><li>3</li><li>&lt;NA&gt;</li></ol>\n",
       "\n",
       "<details>\n",
       "\t<summary style=display:list-item;cursor:pointer>\n",
       "\t\t<strong>Levels</strong>:\n",
       "\t</summary>\n",
       "\t<style>\n",
       "\t.list-inline {list-style: none; margin:0; padding: 0}\n",
       "\t.list-inline>li {display: inline-block}\n",
       "\t.list-inline>li:not(:last-child)::after {content: \"\\00b7\"; padding: 0 .5ex}\n",
       "\t</style>\n",
       "\t<ol class=list-inline><li>'1'</li><li>'2'</li><li>'3'</li><li>'4'</li></ol>\n",
       "</details>"
      ],
      "text/latex": [
       "\\begin{enumerate*}\n",
       "\\item 4\n",
       "\\item 2\n",
       "\\item 1\n",
       "\\item 3\n",
       "\\item <NA>\n",
       "\\end{enumerate*}\n",
       "\n",
       "\\emph{Levels}: \\begin{enumerate*}\n",
       "\\item '1'\n",
       "\\item '2'\n",
       "\\item '3'\n",
       "\\item '4'\n",
       "\\end{enumerate*}\n"
      ],
      "text/markdown": [
       "1. 4\n",
       "2. 2\n",
       "3. 1\n",
       "4. 3\n",
       "5. &lt;NA&gt;\n",
       "\n",
       "\n",
       "\n",
       "**Levels**: 1. '1'\n",
       "2. '2'\n",
       "3. '3'\n",
       "4. '4'\n",
       "\n",
       "\n"
      ],
      "text/plain": [
       "[1] 4    2    1    3    <NA>\n",
       "Levels: 1 2 3 4"
      ]
     },
     "metadata": {},
     "output_type": "display_data"
    }
   ],
   "source": [
    "unique(df_published$MOD_COMUNI_ESCRITA_DESEM)"
   ]
  },
  {
   "cell_type": "markdown",
   "metadata": {},
   "source": [
    "### Fecha"
   ]
  },
  {
   "cell_type": "code",
   "execution_count": 20,
   "metadata": {
    "ExecuteTime": {
     "end_time": "2021-08-24T17:31:15.211939Z",
     "start_time": "2021-08-24T17:31:10.390Z"
    },
    "scrolled": true
   },
   "outputs": [
    {
     "data": {
      "text/html": [
       "'factor'"
      ],
      "text/latex": [
       "'factor'"
      ],
      "text/markdown": [
       "'factor'"
      ],
      "text/plain": [
       "[1] \"factor\""
      ]
     },
     "metadata": {},
     "output_type": "display_data"
    }
   ],
   "source": [
    "class(df_published$ESTU_FECHANACIMIENTO)"
   ]
  },
  {
   "cell_type": "markdown",
   "metadata": {},
   "source": [
    "Volveremos la fecha al formato correcto."
   ]
  },
  {
   "cell_type": "code",
   "execution_count": 21,
   "metadata": {
    "ExecuteTime": {
     "end_time": "2021-08-24T17:31:15.267295Z",
     "start_time": "2021-08-24T17:31:10.394Z"
    }
   },
   "outputs": [
    {
     "data": {
      "text/html": [
       "<style>\n",
       ".list-inline {list-style: none; margin:0; padding: 0}\n",
       ".list-inline>li {display: inline-block}\n",
       ".list-inline>li:not(:last-child)::after {content: \"\\00b7\"; padding: 0 .5ex}\n",
       "</style>\n",
       "<ol class=list-inline><li>15/08/1990</li><li>26/09/1990</li><li>28/10/1994</li><li>24/09/1979</li><li>6/07/1988</li></ol>\n",
       "\n",
       "<details>\n",
       "\t<summary style=display:list-item;cursor:pointer>\n",
       "\t\t<strong>Levels</strong>:\n",
       "\t</summary>\n",
       "\t<style>\n",
       "\t.list-inline {list-style: none; margin:0; padding: 0}\n",
       "\t.list-inline>li {display: inline-block}\n",
       "\t.list-inline>li:not(:last-child)::after {content: \"\\00b7\"; padding: 0 .5ex}\n",
       "\t</style>\n",
       "\t<ol class=list-inline><li>'1/01/1956'</li><li>'1/01/1972'</li><li>'1/01/1974'</li><li>'1/01/1975'</li><li>'1/01/1976'</li><li>'1/01/1977'</li><li>'1/01/1978'</li><li>'1/01/1980'</li><li>'1/01/1981'</li><li>'1/01/1982'</li><li>'1/01/1983'</li><li>'1/01/1984'</li><li>'1/01/1985'</li><li>'1/01/1986'</li><li>'1/01/1987'</li><li>'1/01/1988'</li><li>'1/01/1989'</li><li>'1/01/1990'</li><li>'1/01/1991'</li><li>'1/01/1992'</li><li>'1/01/1993'</li><li>'1/01/1994'</li><li>'1/01/1995'</li><li>'1/01/1996'</li><li>'1/01/1997'</li><li>'1/01/1998'</li><li>'1/01/1999'</li><li>'1/01/2000'</li><li>'1/02/1968'</li><li>'1/02/1969'</li><li>'1/02/1970'</li><li>'1/02/1972'</li><li>'1/02/1974'</li><li>'1/02/1975'</li><li>'1/02/1976'</li><li>'1/02/1977'</li><li>'1/02/1978'</li><li>'1/02/1980'</li><li>'1/02/1981'</li><li>'1/02/1982'</li><li>'1/02/1983'</li><li>'1/02/1984'</li><li>'1/02/1985'</li><li>'1/02/1986'</li><li>'1/02/1987'</li><li>'1/02/1988'</li><li>'1/02/1989'</li><li>'1/02/1990'</li><li>'1/02/1991'</li><li>'1/02/1992'</li><li>'1/02/1993'</li><li>'1/02/1994'</li><li>'1/02/1995'</li><li>'1/02/1996'</li><li>'1/02/1997'</li><li>'1/02/1998'</li><li>'1/02/1999'</li><li>'1/02/2000'</li><li>'1/03/1956'</li><li>'1/03/1964'</li><li>'1/03/1966'</li><li>'1/03/1969'</li><li>'1/03/1970'</li><li>'1/03/1971'</li><li>'1/03/1974'</li><li>'1/03/1975'</li><li>'1/03/1978'</li><li>'1/03/1979'</li><li>'1/03/1980'</li><li>'1/03/1981'</li><li>'1/03/1982'</li><li>'1/03/1983'</li><li>'1/03/1984'</li><li>'1/03/1985'</li><li>'1/03/1986'</li><li>'1/03/1987'</li><li>'1/03/1988'</li><li>'1/03/1989'</li><li>'1/03/1990'</li><li>'1/03/1991'</li><li>'1/03/1992'</li><li>'1/03/1993'</li><li>'1/03/1994'</li><li>'1/03/1995'</li><li>'1/03/1996'</li><li>'1/03/1997'</li><li>'1/03/1998'</li><li>'1/03/1999'</li><li>'1/04/1956'</li><li>'1/04/1962'</li><li>'1/04/1966'</li><li>'1/04/1968'</li><li>'1/04/1973'</li><li>'1/04/1974'</li><li>'1/04/1976'</li><li>'1/04/1977'</li><li>'1/04/1979'</li><li>'1/04/1981'</li><li>'1/04/1982'</li><li>'1/04/1983'</li><li>'1/04/1984'</li><li>'1/04/1985'</li><li>'1/04/1986'</li><li>'1/04/1987'</li><li>'1/04/1988'</li><li>'1/04/1989'</li><li>'1/04/1990'</li><li>'1/04/1991'</li><li>'1/04/1992'</li><li>'1/04/1993'</li><li>'1/04/1994'</li><li>'1/04/1995'</li><li>'1/04/1996'</li><li>'1/04/1997'</li><li>'1/04/1998'</li><li>'1/04/1999'</li><li>'1/05/1966'</li><li>'1/05/1970'</li><li>'1/05/1972'</li><li>'1/05/1973'</li><li>'1/05/1974'</li><li>'1/05/1975'</li><li>'1/05/1978'</li><li>'1/05/1979'</li><li>'1/05/1980'</li><li>'1/05/1981'</li><li>'1/05/1982'</li><li>'1/05/1983'</li><li>'1/05/1984'</li><li>'1/05/1985'</li><li>'1/05/1986'</li><li>'1/05/1987'</li><li>'1/05/1988'</li><li>'1/05/1989'</li><li>'1/05/1990'</li><li>'1/05/1991'</li><li>'1/05/1992'</li><li>'1/05/1993'</li><li>'1/05/1994'</li><li>'1/05/1995'</li><li>'1/05/1996'</li><li>'1/05/1997'</li><li>'1/05/1998'</li><li>'1/05/1999'</li><li>'1/05/2000'</li><li>'1/06/1962'</li><li>'1/06/1968'</li><li>'1/06/1973'</li><li>'1/06/1974'</li><li>'1/06/1977'</li><li>'1/06/1980'</li><li>'1/06/1981'</li><li>'1/06/1982'</li><li>'1/06/1983'</li><li>'1/06/1984'</li><li>'1/06/1985'</li><li>'1/06/1986'</li><li>'1/06/1987'</li><li>'1/06/1988'</li><li>'1/06/1989'</li><li>'1/06/1990'</li><li>'1/06/1991'</li><li>'1/06/1992'</li><li>'1/06/1993'</li><li>'1/06/1994'</li><li>'1/06/1995'</li><li>'1/06/1996'</li><li>'1/06/1997'</li><li>'1/06/1998'</li><li>'1/06/1999'</li><li>'1/07/1963'</li><li>'1/07/1964'</li><li>'1/07/1972'</li><li>'1/07/1974'</li><li>'1/07/1975'</li><li>'1/07/1976'</li><li>'1/07/1978'</li><li>'1/07/1979'</li><li>'1/07/1980'</li><li>'1/07/1981'</li><li>'1/07/1982'</li><li>'1/07/1983'</li><li>'1/07/1986'</li><li>'1/07/1987'</li><li>'1/07/1988'</li><li>'1/07/1989'</li><li>'1/07/1990'</li><li>'1/07/1991'</li><li>'1/07/1992'</li><li>'1/07/1993'</li><li>'1/07/1994'</li><li>'1/07/1995'</li><li>'1/07/1996'</li><li>'1/07/1997'</li><li>'1/07/1998'</li><li>'1/07/1999'</li><li>'1/07/2000'</li><li>'1/08/1966'</li><li>'1/08/1967'</li><li>'1/08/1970'</li><li>⋯</li><li>'9/05/1995'</li><li>'9/05/1996'</li><li>'9/05/1997'</li><li>'9/05/1998'</li><li>'9/05/2000'</li><li>'9/05/2016'</li><li>'9/06/1956'</li><li>'9/06/1970'</li><li>'9/06/1974'</li><li>'9/06/1976'</li><li>'9/06/1978'</li><li>'9/06/1979'</li><li>'9/06/1980'</li><li>'9/06/1981'</li><li>'9/06/1982'</li><li>'9/06/1983'</li><li>'9/06/1984'</li><li>'9/06/1985'</li><li>'9/06/1986'</li><li>'9/06/1987'</li><li>'9/06/1988'</li><li>'9/06/1989'</li><li>'9/06/1990'</li><li>'9/06/1991'</li><li>'9/06/1992'</li><li>'9/06/1993'</li><li>'9/06/1994'</li><li>'9/06/1995'</li><li>'9/06/1996'</li><li>'9/06/1997'</li><li>'9/06/1998'</li><li>'9/06/1999'</li><li>'9/06/2000'</li><li>'9/07/1967'</li><li>'9/07/1969'</li><li>'9/07/1971'</li><li>'9/07/1973'</li><li>'9/07/1975'</li><li>'9/07/1978'</li><li>'9/07/1979'</li><li>'9/07/1980'</li><li>'9/07/1981'</li><li>'9/07/1982'</li><li>'9/07/1984'</li><li>'9/07/1985'</li><li>'9/07/1986'</li><li>'9/07/1987'</li><li>'9/07/1988'</li><li>'9/07/1989'</li><li>'9/07/1990'</li><li>'9/07/1991'</li><li>'9/07/1992'</li><li>'9/07/1993'</li><li>'9/07/1994'</li><li>'9/07/1995'</li><li>'9/07/1996'</li><li>'9/07/1997'</li><li>'9/07/1998'</li><li>'9/07/1999'</li><li>'9/08/1968'</li><li>'9/08/1971'</li><li>'9/08/1975'</li><li>'9/08/1976'</li><li>'9/08/1978'</li><li>'9/08/1979'</li><li>'9/08/1980'</li><li>'9/08/1981'</li><li>'9/08/1982'</li><li>'9/08/1983'</li><li>'9/08/1984'</li><li>'9/08/1985'</li><li>'9/08/1986'</li><li>'9/08/1987'</li><li>'9/08/1988'</li><li>'9/08/1989'</li><li>'9/08/1990'</li><li>'9/08/1991'</li><li>'9/08/1992'</li><li>'9/08/1993'</li><li>'9/08/1994'</li><li>'9/08/1995'</li><li>'9/08/1996'</li><li>'9/08/1997'</li><li>'9/08/1998'</li><li>'9/08/1999'</li><li>'9/08/2016'</li><li>'9/09/1948'</li><li>'9/09/1955'</li><li>'9/09/1962'</li><li>'9/09/1963'</li><li>'9/09/1967'</li><li>'9/09/1973'</li><li>'9/09/1974'</li><li>'9/09/1976'</li><li>'9/09/1977'</li><li>'9/09/1978'</li><li>'9/09/1979'</li><li>'9/09/1980'</li><li>'9/09/1981'</li><li>'9/09/1982'</li><li>'9/09/1983'</li><li>'9/09/1984'</li><li>'9/09/1985'</li><li>'9/09/1986'</li><li>'9/09/1987'</li><li>'9/09/1988'</li><li>'9/09/1989'</li><li>'9/09/1990'</li><li>'9/09/1991'</li><li>'9/09/1992'</li><li>'9/09/1993'</li><li>'9/09/1994'</li><li>'9/09/1995'</li><li>'9/09/1996'</li><li>'9/09/1997'</li><li>'9/09/1998'</li><li>'9/09/1999'</li><li>'9/10/1962'</li><li>'9/10/1966'</li><li>'9/10/1973'</li><li>'9/10/1974'</li><li>'9/10/1975'</li><li>'9/10/1976'</li><li>'9/10/1977'</li><li>'9/10/1978'</li><li>'9/10/1979'</li><li>'9/10/1981'</li><li>'9/10/1982'</li><li>'9/10/1983'</li><li>'9/10/1984'</li><li>'9/10/1985'</li><li>'9/10/1986'</li><li>'9/10/1987'</li><li>'9/10/1988'</li><li>'9/10/1989'</li><li>'9/10/1990'</li><li>'9/10/1991'</li><li>'9/10/1992'</li><li>'9/10/1993'</li><li>'9/10/1994'</li><li>'9/10/1995'</li><li>'9/10/1996'</li><li>'9/10/1997'</li><li>'9/10/1998'</li><li>'9/10/1999'</li><li>'9/11/1964'</li><li>'9/11/1967'</li><li>'9/11/1974'</li><li>'9/11/1975'</li><li>'9/11/1976'</li><li>'9/11/1978'</li><li>'9/11/1979'</li><li>'9/11/1981'</li><li>'9/11/1982'</li><li>'9/11/1983'</li><li>'9/11/1984'</li><li>'9/11/1985'</li><li>'9/11/1986'</li><li>'9/11/1987'</li><li>'9/11/1988'</li><li>'9/11/1989'</li><li>'9/11/1990'</li><li>'9/11/1992'</li><li>'9/11/1993'</li><li>'9/11/1994'</li><li>'9/11/1995'</li><li>'9/11/1996'</li><li>'9/11/1997'</li><li>'9/11/1998'</li><li>'9/11/1999'</li><li>'9/12/1967'</li><li>'9/12/1968'</li><li>'9/12/1969'</li><li>'9/12/1970'</li><li>'9/12/1971'</li><li>'9/12/1972'</li><li>'9/12/1973'</li><li>'9/12/1978'</li><li>'9/12/1979'</li><li>'9/12/1981'</li><li>'9/12/1982'</li><li>'9/12/1983'</li><li>'9/12/1984'</li><li>'9/12/1985'</li><li>'9/12/1986'</li><li>'9/12/1987'</li><li>'9/12/1988'</li><li>'9/12/1989'</li><li>'9/12/1990'</li><li>'9/12/1991'</li><li>'9/12/1992'</li><li>'9/12/1993'</li><li>'9/12/1994'</li><li>'9/12/1995'</li><li>'9/12/1996'</li><li>'9/12/1997'</li><li>'9/12/1998'</li><li>'9/12/1999'</li><li>'9/12/2004'</li><li>'9/12/2005'</li></ol>\n",
       "</details>"
      ],
      "text/latex": [
       "\\begin{enumerate*}\n",
       "\\item 15/08/1990\n",
       "\\item 26/09/1990\n",
       "\\item 28/10/1994\n",
       "\\item 24/09/1979\n",
       "\\item 6/07/1988\n",
       "\\end{enumerate*}\n",
       "\n",
       "\\emph{Levels}: \\begin{enumerate*}\n",
       "\\item '1/01/1956'\n",
       "\\item '1/01/1972'\n",
       "\\item '1/01/1974'\n",
       "\\item '1/01/1975'\n",
       "\\item '1/01/1976'\n",
       "\\item '1/01/1977'\n",
       "\\item '1/01/1978'\n",
       "\\item '1/01/1980'\n",
       "\\item '1/01/1981'\n",
       "\\item '1/01/1982'\n",
       "\\item '1/01/1983'\n",
       "\\item '1/01/1984'\n",
       "\\item '1/01/1985'\n",
       "\\item '1/01/1986'\n",
       "\\item '1/01/1987'\n",
       "\\item '1/01/1988'\n",
       "\\item '1/01/1989'\n",
       "\\item '1/01/1990'\n",
       "\\item '1/01/1991'\n",
       "\\item '1/01/1992'\n",
       "\\item '1/01/1993'\n",
       "\\item '1/01/1994'\n",
       "\\item '1/01/1995'\n",
       "\\item '1/01/1996'\n",
       "\\item '1/01/1997'\n",
       "\\item '1/01/1998'\n",
       "\\item '1/01/1999'\n",
       "\\item '1/01/2000'\n",
       "\\item '1/02/1968'\n",
       "\\item '1/02/1969'\n",
       "\\item '1/02/1970'\n",
       "\\item '1/02/1972'\n",
       "\\item '1/02/1974'\n",
       "\\item '1/02/1975'\n",
       "\\item '1/02/1976'\n",
       "\\item '1/02/1977'\n",
       "\\item '1/02/1978'\n",
       "\\item '1/02/1980'\n",
       "\\item '1/02/1981'\n",
       "\\item '1/02/1982'\n",
       "\\item '1/02/1983'\n",
       "\\item '1/02/1984'\n",
       "\\item '1/02/1985'\n",
       "\\item '1/02/1986'\n",
       "\\item '1/02/1987'\n",
       "\\item '1/02/1988'\n",
       "\\item '1/02/1989'\n",
       "\\item '1/02/1990'\n",
       "\\item '1/02/1991'\n",
       "\\item '1/02/1992'\n",
       "\\item '1/02/1993'\n",
       "\\item '1/02/1994'\n",
       "\\item '1/02/1995'\n",
       "\\item '1/02/1996'\n",
       "\\item '1/02/1997'\n",
       "\\item '1/02/1998'\n",
       "\\item '1/02/1999'\n",
       "\\item '1/02/2000'\n",
       "\\item '1/03/1956'\n",
       "\\item '1/03/1964'\n",
       "\\item '1/03/1966'\n",
       "\\item '1/03/1969'\n",
       "\\item '1/03/1970'\n",
       "\\item '1/03/1971'\n",
       "\\item '1/03/1974'\n",
       "\\item '1/03/1975'\n",
       "\\item '1/03/1978'\n",
       "\\item '1/03/1979'\n",
       "\\item '1/03/1980'\n",
       "\\item '1/03/1981'\n",
       "\\item '1/03/1982'\n",
       "\\item '1/03/1983'\n",
       "\\item '1/03/1984'\n",
       "\\item '1/03/1985'\n",
       "\\item '1/03/1986'\n",
       "\\item '1/03/1987'\n",
       "\\item '1/03/1988'\n",
       "\\item '1/03/1989'\n",
       "\\item '1/03/1990'\n",
       "\\item '1/03/1991'\n",
       "\\item '1/03/1992'\n",
       "\\item '1/03/1993'\n",
       "\\item '1/03/1994'\n",
       "\\item '1/03/1995'\n",
       "\\item '1/03/1996'\n",
       "\\item '1/03/1997'\n",
       "\\item '1/03/1998'\n",
       "\\item '1/03/1999'\n",
       "\\item '1/04/1956'\n",
       "\\item '1/04/1962'\n",
       "\\item '1/04/1966'\n",
       "\\item '1/04/1968'\n",
       "\\item '1/04/1973'\n",
       "\\item '1/04/1974'\n",
       "\\item '1/04/1976'\n",
       "\\item '1/04/1977'\n",
       "\\item '1/04/1979'\n",
       "\\item '1/04/1981'\n",
       "\\item '1/04/1982'\n",
       "\\item '1/04/1983'\n",
       "\\item '1/04/1984'\n",
       "\\item '1/04/1985'\n",
       "\\item '1/04/1986'\n",
       "\\item '1/04/1987'\n",
       "\\item '1/04/1988'\n",
       "\\item '1/04/1989'\n",
       "\\item '1/04/1990'\n",
       "\\item '1/04/1991'\n",
       "\\item '1/04/1992'\n",
       "\\item '1/04/1993'\n",
       "\\item '1/04/1994'\n",
       "\\item '1/04/1995'\n",
       "\\item '1/04/1996'\n",
       "\\item '1/04/1997'\n",
       "\\item '1/04/1998'\n",
       "\\item '1/04/1999'\n",
       "\\item '1/05/1966'\n",
       "\\item '1/05/1970'\n",
       "\\item '1/05/1972'\n",
       "\\item '1/05/1973'\n",
       "\\item '1/05/1974'\n",
       "\\item '1/05/1975'\n",
       "\\item '1/05/1978'\n",
       "\\item '1/05/1979'\n",
       "\\item '1/05/1980'\n",
       "\\item '1/05/1981'\n",
       "\\item '1/05/1982'\n",
       "\\item '1/05/1983'\n",
       "\\item '1/05/1984'\n",
       "\\item '1/05/1985'\n",
       "\\item '1/05/1986'\n",
       "\\item '1/05/1987'\n",
       "\\item '1/05/1988'\n",
       "\\item '1/05/1989'\n",
       "\\item '1/05/1990'\n",
       "\\item '1/05/1991'\n",
       "\\item '1/05/1992'\n",
       "\\item '1/05/1993'\n",
       "\\item '1/05/1994'\n",
       "\\item '1/05/1995'\n",
       "\\item '1/05/1996'\n",
       "\\item '1/05/1997'\n",
       "\\item '1/05/1998'\n",
       "\\item '1/05/1999'\n",
       "\\item '1/05/2000'\n",
       "\\item '1/06/1962'\n",
       "\\item '1/06/1968'\n",
       "\\item '1/06/1973'\n",
       "\\item '1/06/1974'\n",
       "\\item '1/06/1977'\n",
       "\\item '1/06/1980'\n",
       "\\item '1/06/1981'\n",
       "\\item '1/06/1982'\n",
       "\\item '1/06/1983'\n",
       "\\item '1/06/1984'\n",
       "\\item '1/06/1985'\n",
       "\\item '1/06/1986'\n",
       "\\item '1/06/1987'\n",
       "\\item '1/06/1988'\n",
       "\\item '1/06/1989'\n",
       "\\item '1/06/1990'\n",
       "\\item '1/06/1991'\n",
       "\\item '1/06/1992'\n",
       "\\item '1/06/1993'\n",
       "\\item '1/06/1994'\n",
       "\\item '1/06/1995'\n",
       "\\item '1/06/1996'\n",
       "\\item '1/06/1997'\n",
       "\\item '1/06/1998'\n",
       "\\item '1/06/1999'\n",
       "\\item '1/07/1963'\n",
       "\\item '1/07/1964'\n",
       "\\item '1/07/1972'\n",
       "\\item '1/07/1974'\n",
       "\\item '1/07/1975'\n",
       "\\item '1/07/1976'\n",
       "\\item '1/07/1978'\n",
       "\\item '1/07/1979'\n",
       "\\item '1/07/1980'\n",
       "\\item '1/07/1981'\n",
       "\\item '1/07/1982'\n",
       "\\item '1/07/1983'\n",
       "\\item '1/07/1986'\n",
       "\\item '1/07/1987'\n",
       "\\item '1/07/1988'\n",
       "\\item '1/07/1989'\n",
       "\\item '1/07/1990'\n",
       "\\item '1/07/1991'\n",
       "\\item '1/07/1992'\n",
       "\\item '1/07/1993'\n",
       "\\item '1/07/1994'\n",
       "\\item '1/07/1995'\n",
       "\\item '1/07/1996'\n",
       "\\item '1/07/1997'\n",
       "\\item '1/07/1998'\n",
       "\\item '1/07/1999'\n",
       "\\item '1/07/2000'\n",
       "\\item '1/08/1966'\n",
       "\\item '1/08/1967'\n",
       "\\item '1/08/1970'\n",
       "\\item ⋯\n",
       "\\item '9/05/1995'\n",
       "\\item '9/05/1996'\n",
       "\\item '9/05/1997'\n",
       "\\item '9/05/1998'\n",
       "\\item '9/05/2000'\n",
       "\\item '9/05/2016'\n",
       "\\item '9/06/1956'\n",
       "\\item '9/06/1970'\n",
       "\\item '9/06/1974'\n",
       "\\item '9/06/1976'\n",
       "\\item '9/06/1978'\n",
       "\\item '9/06/1979'\n",
       "\\item '9/06/1980'\n",
       "\\item '9/06/1981'\n",
       "\\item '9/06/1982'\n",
       "\\item '9/06/1983'\n",
       "\\item '9/06/1984'\n",
       "\\item '9/06/1985'\n",
       "\\item '9/06/1986'\n",
       "\\item '9/06/1987'\n",
       "\\item '9/06/1988'\n",
       "\\item '9/06/1989'\n",
       "\\item '9/06/1990'\n",
       "\\item '9/06/1991'\n",
       "\\item '9/06/1992'\n",
       "\\item '9/06/1993'\n",
       "\\item '9/06/1994'\n",
       "\\item '9/06/1995'\n",
       "\\item '9/06/1996'\n",
       "\\item '9/06/1997'\n",
       "\\item '9/06/1998'\n",
       "\\item '9/06/1999'\n",
       "\\item '9/06/2000'\n",
       "\\item '9/07/1967'\n",
       "\\item '9/07/1969'\n",
       "\\item '9/07/1971'\n",
       "\\item '9/07/1973'\n",
       "\\item '9/07/1975'\n",
       "\\item '9/07/1978'\n",
       "\\item '9/07/1979'\n",
       "\\item '9/07/1980'\n",
       "\\item '9/07/1981'\n",
       "\\item '9/07/1982'\n",
       "\\item '9/07/1984'\n",
       "\\item '9/07/1985'\n",
       "\\item '9/07/1986'\n",
       "\\item '9/07/1987'\n",
       "\\item '9/07/1988'\n",
       "\\item '9/07/1989'\n",
       "\\item '9/07/1990'\n",
       "\\item '9/07/1991'\n",
       "\\item '9/07/1992'\n",
       "\\item '9/07/1993'\n",
       "\\item '9/07/1994'\n",
       "\\item '9/07/1995'\n",
       "\\item '9/07/1996'\n",
       "\\item '9/07/1997'\n",
       "\\item '9/07/1998'\n",
       "\\item '9/07/1999'\n",
       "\\item '9/08/1968'\n",
       "\\item '9/08/1971'\n",
       "\\item '9/08/1975'\n",
       "\\item '9/08/1976'\n",
       "\\item '9/08/1978'\n",
       "\\item '9/08/1979'\n",
       "\\item '9/08/1980'\n",
       "\\item '9/08/1981'\n",
       "\\item '9/08/1982'\n",
       "\\item '9/08/1983'\n",
       "\\item '9/08/1984'\n",
       "\\item '9/08/1985'\n",
       "\\item '9/08/1986'\n",
       "\\item '9/08/1987'\n",
       "\\item '9/08/1988'\n",
       "\\item '9/08/1989'\n",
       "\\item '9/08/1990'\n",
       "\\item '9/08/1991'\n",
       "\\item '9/08/1992'\n",
       "\\item '9/08/1993'\n",
       "\\item '9/08/1994'\n",
       "\\item '9/08/1995'\n",
       "\\item '9/08/1996'\n",
       "\\item '9/08/1997'\n",
       "\\item '9/08/1998'\n",
       "\\item '9/08/1999'\n",
       "\\item '9/08/2016'\n",
       "\\item '9/09/1948'\n",
       "\\item '9/09/1955'\n",
       "\\item '9/09/1962'\n",
       "\\item '9/09/1963'\n",
       "\\item '9/09/1967'\n",
       "\\item '9/09/1973'\n",
       "\\item '9/09/1974'\n",
       "\\item '9/09/1976'\n",
       "\\item '9/09/1977'\n",
       "\\item '9/09/1978'\n",
       "\\item '9/09/1979'\n",
       "\\item '9/09/1980'\n",
       "\\item '9/09/1981'\n",
       "\\item '9/09/1982'\n",
       "\\item '9/09/1983'\n",
       "\\item '9/09/1984'\n",
       "\\item '9/09/1985'\n",
       "\\item '9/09/1986'\n",
       "\\item '9/09/1987'\n",
       "\\item '9/09/1988'\n",
       "\\item '9/09/1989'\n",
       "\\item '9/09/1990'\n",
       "\\item '9/09/1991'\n",
       "\\item '9/09/1992'\n",
       "\\item '9/09/1993'\n",
       "\\item '9/09/1994'\n",
       "\\item '9/09/1995'\n",
       "\\item '9/09/1996'\n",
       "\\item '9/09/1997'\n",
       "\\item '9/09/1998'\n",
       "\\item '9/09/1999'\n",
       "\\item '9/10/1962'\n",
       "\\item '9/10/1966'\n",
       "\\item '9/10/1973'\n",
       "\\item '9/10/1974'\n",
       "\\item '9/10/1975'\n",
       "\\item '9/10/1976'\n",
       "\\item '9/10/1977'\n",
       "\\item '9/10/1978'\n",
       "\\item '9/10/1979'\n",
       "\\item '9/10/1981'\n",
       "\\item '9/10/1982'\n",
       "\\item '9/10/1983'\n",
       "\\item '9/10/1984'\n",
       "\\item '9/10/1985'\n",
       "\\item '9/10/1986'\n",
       "\\item '9/10/1987'\n",
       "\\item '9/10/1988'\n",
       "\\item '9/10/1989'\n",
       "\\item '9/10/1990'\n",
       "\\item '9/10/1991'\n",
       "\\item '9/10/1992'\n",
       "\\item '9/10/1993'\n",
       "\\item '9/10/1994'\n",
       "\\item '9/10/1995'\n",
       "\\item '9/10/1996'\n",
       "\\item '9/10/1997'\n",
       "\\item '9/10/1998'\n",
       "\\item '9/10/1999'\n",
       "\\item '9/11/1964'\n",
       "\\item '9/11/1967'\n",
       "\\item '9/11/1974'\n",
       "\\item '9/11/1975'\n",
       "\\item '9/11/1976'\n",
       "\\item '9/11/1978'\n",
       "\\item '9/11/1979'\n",
       "\\item '9/11/1981'\n",
       "\\item '9/11/1982'\n",
       "\\item '9/11/1983'\n",
       "\\item '9/11/1984'\n",
       "\\item '9/11/1985'\n",
       "\\item '9/11/1986'\n",
       "\\item '9/11/1987'\n",
       "\\item '9/11/1988'\n",
       "\\item '9/11/1989'\n",
       "\\item '9/11/1990'\n",
       "\\item '9/11/1992'\n",
       "\\item '9/11/1993'\n",
       "\\item '9/11/1994'\n",
       "\\item '9/11/1995'\n",
       "\\item '9/11/1996'\n",
       "\\item '9/11/1997'\n",
       "\\item '9/11/1998'\n",
       "\\item '9/11/1999'\n",
       "\\item '9/12/1967'\n",
       "\\item '9/12/1968'\n",
       "\\item '9/12/1969'\n",
       "\\item '9/12/1970'\n",
       "\\item '9/12/1971'\n",
       "\\item '9/12/1972'\n",
       "\\item '9/12/1973'\n",
       "\\item '9/12/1978'\n",
       "\\item '9/12/1979'\n",
       "\\item '9/12/1981'\n",
       "\\item '9/12/1982'\n",
       "\\item '9/12/1983'\n",
       "\\item '9/12/1984'\n",
       "\\item '9/12/1985'\n",
       "\\item '9/12/1986'\n",
       "\\item '9/12/1987'\n",
       "\\item '9/12/1988'\n",
       "\\item '9/12/1989'\n",
       "\\item '9/12/1990'\n",
       "\\item '9/12/1991'\n",
       "\\item '9/12/1992'\n",
       "\\item '9/12/1993'\n",
       "\\item '9/12/1994'\n",
       "\\item '9/12/1995'\n",
       "\\item '9/12/1996'\n",
       "\\item '9/12/1997'\n",
       "\\item '9/12/1998'\n",
       "\\item '9/12/1999'\n",
       "\\item '9/12/2004'\n",
       "\\item '9/12/2005'\n",
       "\\end{enumerate*}\n"
      ],
      "text/markdown": [
       "1. 15/08/1990\n",
       "2. 26/09/1990\n",
       "3. 28/10/1994\n",
       "4. 24/09/1979\n",
       "5. 6/07/1988\n",
       "\n",
       "\n",
       "\n",
       "**Levels**: 1. '1/01/1956'\n",
       "2. '1/01/1972'\n",
       "3. '1/01/1974'\n",
       "4. '1/01/1975'\n",
       "5. '1/01/1976'\n",
       "6. '1/01/1977'\n",
       "7. '1/01/1978'\n",
       "8. '1/01/1980'\n",
       "9. '1/01/1981'\n",
       "10. '1/01/1982'\n",
       "11. '1/01/1983'\n",
       "12. '1/01/1984'\n",
       "13. '1/01/1985'\n",
       "14. '1/01/1986'\n",
       "15. '1/01/1987'\n",
       "16. '1/01/1988'\n",
       "17. '1/01/1989'\n",
       "18. '1/01/1990'\n",
       "19. '1/01/1991'\n",
       "20. '1/01/1992'\n",
       "21. '1/01/1993'\n",
       "22. '1/01/1994'\n",
       "23. '1/01/1995'\n",
       "24. '1/01/1996'\n",
       "25. '1/01/1997'\n",
       "26. '1/01/1998'\n",
       "27. '1/01/1999'\n",
       "28. '1/01/2000'\n",
       "29. '1/02/1968'\n",
       "30. '1/02/1969'\n",
       "31. '1/02/1970'\n",
       "32. '1/02/1972'\n",
       "33. '1/02/1974'\n",
       "34. '1/02/1975'\n",
       "35. '1/02/1976'\n",
       "36. '1/02/1977'\n",
       "37. '1/02/1978'\n",
       "38. '1/02/1980'\n",
       "39. '1/02/1981'\n",
       "40. '1/02/1982'\n",
       "41. '1/02/1983'\n",
       "42. '1/02/1984'\n",
       "43. '1/02/1985'\n",
       "44. '1/02/1986'\n",
       "45. '1/02/1987'\n",
       "46. '1/02/1988'\n",
       "47. '1/02/1989'\n",
       "48. '1/02/1990'\n",
       "49. '1/02/1991'\n",
       "50. '1/02/1992'\n",
       "51. '1/02/1993'\n",
       "52. '1/02/1994'\n",
       "53. '1/02/1995'\n",
       "54. '1/02/1996'\n",
       "55. '1/02/1997'\n",
       "56. '1/02/1998'\n",
       "57. '1/02/1999'\n",
       "58. '1/02/2000'\n",
       "59. '1/03/1956'\n",
       "60. '1/03/1964'\n",
       "61. '1/03/1966'\n",
       "62. '1/03/1969'\n",
       "63. '1/03/1970'\n",
       "64. '1/03/1971'\n",
       "65. '1/03/1974'\n",
       "66. '1/03/1975'\n",
       "67. '1/03/1978'\n",
       "68. '1/03/1979'\n",
       "69. '1/03/1980'\n",
       "70. '1/03/1981'\n",
       "71. '1/03/1982'\n",
       "72. '1/03/1983'\n",
       "73. '1/03/1984'\n",
       "74. '1/03/1985'\n",
       "75. '1/03/1986'\n",
       "76. '1/03/1987'\n",
       "77. '1/03/1988'\n",
       "78. '1/03/1989'\n",
       "79. '1/03/1990'\n",
       "80. '1/03/1991'\n",
       "81. '1/03/1992'\n",
       "82. '1/03/1993'\n",
       "83. '1/03/1994'\n",
       "84. '1/03/1995'\n",
       "85. '1/03/1996'\n",
       "86. '1/03/1997'\n",
       "87. '1/03/1998'\n",
       "88. '1/03/1999'\n",
       "89. '1/04/1956'\n",
       "90. '1/04/1962'\n",
       "91. '1/04/1966'\n",
       "92. '1/04/1968'\n",
       "93. '1/04/1973'\n",
       "94. '1/04/1974'\n",
       "95. '1/04/1976'\n",
       "96. '1/04/1977'\n",
       "97. '1/04/1979'\n",
       "98. '1/04/1981'\n",
       "99. '1/04/1982'\n",
       "100. '1/04/1983'\n",
       "101. '1/04/1984'\n",
       "102. '1/04/1985'\n",
       "103. '1/04/1986'\n",
       "104. '1/04/1987'\n",
       "105. '1/04/1988'\n",
       "106. '1/04/1989'\n",
       "107. '1/04/1990'\n",
       "108. '1/04/1991'\n",
       "109. '1/04/1992'\n",
       "110. '1/04/1993'\n",
       "111. '1/04/1994'\n",
       "112. '1/04/1995'\n",
       "113. '1/04/1996'\n",
       "114. '1/04/1997'\n",
       "115. '1/04/1998'\n",
       "116. '1/04/1999'\n",
       "117. '1/05/1966'\n",
       "118. '1/05/1970'\n",
       "119. '1/05/1972'\n",
       "120. '1/05/1973'\n",
       "121. '1/05/1974'\n",
       "122. '1/05/1975'\n",
       "123. '1/05/1978'\n",
       "124. '1/05/1979'\n",
       "125. '1/05/1980'\n",
       "126. '1/05/1981'\n",
       "127. '1/05/1982'\n",
       "128. '1/05/1983'\n",
       "129. '1/05/1984'\n",
       "130. '1/05/1985'\n",
       "131. '1/05/1986'\n",
       "132. '1/05/1987'\n",
       "133. '1/05/1988'\n",
       "134. '1/05/1989'\n",
       "135. '1/05/1990'\n",
       "136. '1/05/1991'\n",
       "137. '1/05/1992'\n",
       "138. '1/05/1993'\n",
       "139. '1/05/1994'\n",
       "140. '1/05/1995'\n",
       "141. '1/05/1996'\n",
       "142. '1/05/1997'\n",
       "143. '1/05/1998'\n",
       "144. '1/05/1999'\n",
       "145. '1/05/2000'\n",
       "146. '1/06/1962'\n",
       "147. '1/06/1968'\n",
       "148. '1/06/1973'\n",
       "149. '1/06/1974'\n",
       "150. '1/06/1977'\n",
       "151. '1/06/1980'\n",
       "152. '1/06/1981'\n",
       "153. '1/06/1982'\n",
       "154. '1/06/1983'\n",
       "155. '1/06/1984'\n",
       "156. '1/06/1985'\n",
       "157. '1/06/1986'\n",
       "158. '1/06/1987'\n",
       "159. '1/06/1988'\n",
       "160. '1/06/1989'\n",
       "161. '1/06/1990'\n",
       "162. '1/06/1991'\n",
       "163. '1/06/1992'\n",
       "164. '1/06/1993'\n",
       "165. '1/06/1994'\n",
       "166. '1/06/1995'\n",
       "167. '1/06/1996'\n",
       "168. '1/06/1997'\n",
       "169. '1/06/1998'\n",
       "170. '1/06/1999'\n",
       "171. '1/07/1963'\n",
       "172. '1/07/1964'\n",
       "173. '1/07/1972'\n",
       "174. '1/07/1974'\n",
       "175. '1/07/1975'\n",
       "176. '1/07/1976'\n",
       "177. '1/07/1978'\n",
       "178. '1/07/1979'\n",
       "179. '1/07/1980'\n",
       "180. '1/07/1981'\n",
       "181. '1/07/1982'\n",
       "182. '1/07/1983'\n",
       "183. '1/07/1986'\n",
       "184. '1/07/1987'\n",
       "185. '1/07/1988'\n",
       "186. '1/07/1989'\n",
       "187. '1/07/1990'\n",
       "188. '1/07/1991'\n",
       "189. '1/07/1992'\n",
       "190. '1/07/1993'\n",
       "191. '1/07/1994'\n",
       "192. '1/07/1995'\n",
       "193. '1/07/1996'\n",
       "194. '1/07/1997'\n",
       "195. '1/07/1998'\n",
       "196. '1/07/1999'\n",
       "197. '1/07/2000'\n",
       "198. '1/08/1966'\n",
       "199. '1/08/1967'\n",
       "200. '1/08/1970'\n",
       "201. ⋯\n",
       "202. '9/05/1995'\n",
       "203. '9/05/1996'\n",
       "204. '9/05/1997'\n",
       "205. '9/05/1998'\n",
       "206. '9/05/2000'\n",
       "207. '9/05/2016'\n",
       "208. '9/06/1956'\n",
       "209. '9/06/1970'\n",
       "210. '9/06/1974'\n",
       "211. '9/06/1976'\n",
       "212. '9/06/1978'\n",
       "213. '9/06/1979'\n",
       "214. '9/06/1980'\n",
       "215. '9/06/1981'\n",
       "216. '9/06/1982'\n",
       "217. '9/06/1983'\n",
       "218. '9/06/1984'\n",
       "219. '9/06/1985'\n",
       "220. '9/06/1986'\n",
       "221. '9/06/1987'\n",
       "222. '9/06/1988'\n",
       "223. '9/06/1989'\n",
       "224. '9/06/1990'\n",
       "225. '9/06/1991'\n",
       "226. '9/06/1992'\n",
       "227. '9/06/1993'\n",
       "228. '9/06/1994'\n",
       "229. '9/06/1995'\n",
       "230. '9/06/1996'\n",
       "231. '9/06/1997'\n",
       "232. '9/06/1998'\n",
       "233. '9/06/1999'\n",
       "234. '9/06/2000'\n",
       "235. '9/07/1967'\n",
       "236. '9/07/1969'\n",
       "237. '9/07/1971'\n",
       "238. '9/07/1973'\n",
       "239. '9/07/1975'\n",
       "240. '9/07/1978'\n",
       "241. '9/07/1979'\n",
       "242. '9/07/1980'\n",
       "243. '9/07/1981'\n",
       "244. '9/07/1982'\n",
       "245. '9/07/1984'\n",
       "246. '9/07/1985'\n",
       "247. '9/07/1986'\n",
       "248. '9/07/1987'\n",
       "249. '9/07/1988'\n",
       "250. '9/07/1989'\n",
       "251. '9/07/1990'\n",
       "252. '9/07/1991'\n",
       "253. '9/07/1992'\n",
       "254. '9/07/1993'\n",
       "255. '9/07/1994'\n",
       "256. '9/07/1995'\n",
       "257. '9/07/1996'\n",
       "258. '9/07/1997'\n",
       "259. '9/07/1998'\n",
       "260. '9/07/1999'\n",
       "261. '9/08/1968'\n",
       "262. '9/08/1971'\n",
       "263. '9/08/1975'\n",
       "264. '9/08/1976'\n",
       "265. '9/08/1978'\n",
       "266. '9/08/1979'\n",
       "267. '9/08/1980'\n",
       "268. '9/08/1981'\n",
       "269. '9/08/1982'\n",
       "270. '9/08/1983'\n",
       "271. '9/08/1984'\n",
       "272. '9/08/1985'\n",
       "273. '9/08/1986'\n",
       "274. '9/08/1987'\n",
       "275. '9/08/1988'\n",
       "276. '9/08/1989'\n",
       "277. '9/08/1990'\n",
       "278. '9/08/1991'\n",
       "279. '9/08/1992'\n",
       "280. '9/08/1993'\n",
       "281. '9/08/1994'\n",
       "282. '9/08/1995'\n",
       "283. '9/08/1996'\n",
       "284. '9/08/1997'\n",
       "285. '9/08/1998'\n",
       "286. '9/08/1999'\n",
       "287. '9/08/2016'\n",
       "288. '9/09/1948'\n",
       "289. '9/09/1955'\n",
       "290. '9/09/1962'\n",
       "291. '9/09/1963'\n",
       "292. '9/09/1967'\n",
       "293. '9/09/1973'\n",
       "294. '9/09/1974'\n",
       "295. '9/09/1976'\n",
       "296. '9/09/1977'\n",
       "297. '9/09/1978'\n",
       "298. '9/09/1979'\n",
       "299. '9/09/1980'\n",
       "300. '9/09/1981'\n",
       "301. '9/09/1982'\n",
       "302. '9/09/1983'\n",
       "303. '9/09/1984'\n",
       "304. '9/09/1985'\n",
       "305. '9/09/1986'\n",
       "306. '9/09/1987'\n",
       "307. '9/09/1988'\n",
       "308. '9/09/1989'\n",
       "309. '9/09/1990'\n",
       "310. '9/09/1991'\n",
       "311. '9/09/1992'\n",
       "312. '9/09/1993'\n",
       "313. '9/09/1994'\n",
       "314. '9/09/1995'\n",
       "315. '9/09/1996'\n",
       "316. '9/09/1997'\n",
       "317. '9/09/1998'\n",
       "318. '9/09/1999'\n",
       "319. '9/10/1962'\n",
       "320. '9/10/1966'\n",
       "321. '9/10/1973'\n",
       "322. '9/10/1974'\n",
       "323. '9/10/1975'\n",
       "324. '9/10/1976'\n",
       "325. '9/10/1977'\n",
       "326. '9/10/1978'\n",
       "327. '9/10/1979'\n",
       "328. '9/10/1981'\n",
       "329. '9/10/1982'\n",
       "330. '9/10/1983'\n",
       "331. '9/10/1984'\n",
       "332. '9/10/1985'\n",
       "333. '9/10/1986'\n",
       "334. '9/10/1987'\n",
       "335. '9/10/1988'\n",
       "336. '9/10/1989'\n",
       "337. '9/10/1990'\n",
       "338. '9/10/1991'\n",
       "339. '9/10/1992'\n",
       "340. '9/10/1993'\n",
       "341. '9/10/1994'\n",
       "342. '9/10/1995'\n",
       "343. '9/10/1996'\n",
       "344. '9/10/1997'\n",
       "345. '9/10/1998'\n",
       "346. '9/10/1999'\n",
       "347. '9/11/1964'\n",
       "348. '9/11/1967'\n",
       "349. '9/11/1974'\n",
       "350. '9/11/1975'\n",
       "351. '9/11/1976'\n",
       "352. '9/11/1978'\n",
       "353. '9/11/1979'\n",
       "354. '9/11/1981'\n",
       "355. '9/11/1982'\n",
       "356. '9/11/1983'\n",
       "357. '9/11/1984'\n",
       "358. '9/11/1985'\n",
       "359. '9/11/1986'\n",
       "360. '9/11/1987'\n",
       "361. '9/11/1988'\n",
       "362. '9/11/1989'\n",
       "363. '9/11/1990'\n",
       "364. '9/11/1992'\n",
       "365. '9/11/1993'\n",
       "366. '9/11/1994'\n",
       "367. '9/11/1995'\n",
       "368. '9/11/1996'\n",
       "369. '9/11/1997'\n",
       "370. '9/11/1998'\n",
       "371. '9/11/1999'\n",
       "372. '9/12/1967'\n",
       "373. '9/12/1968'\n",
       "374. '9/12/1969'\n",
       "375. '9/12/1970'\n",
       "376. '9/12/1971'\n",
       "377. '9/12/1972'\n",
       "378. '9/12/1973'\n",
       "379. '9/12/1978'\n",
       "380. '9/12/1979'\n",
       "381. '9/12/1981'\n",
       "382. '9/12/1982'\n",
       "383. '9/12/1983'\n",
       "384. '9/12/1984'\n",
       "385. '9/12/1985'\n",
       "386. '9/12/1986'\n",
       "387. '9/12/1987'\n",
       "388. '9/12/1988'\n",
       "389. '9/12/1989'\n",
       "390. '9/12/1990'\n",
       "391. '9/12/1991'\n",
       "392. '9/12/1992'\n",
       "393. '9/12/1993'\n",
       "394. '9/12/1994'\n",
       "395. '9/12/1995'\n",
       "396. '9/12/1996'\n",
       "397. '9/12/1997'\n",
       "398. '9/12/1998'\n",
       "399. '9/12/1999'\n",
       "400. '9/12/2004'\n",
       "401. '9/12/2005'\n",
       "\n",
       "\n"
      ],
      "text/plain": [
       "[1] 15/08/1990 26/09/1990 28/10/1994 24/09/1979 6/07/1988 \n",
       "10104 Levels: 1/01/1956 1/01/1972 1/01/1974 1/01/1975 1/01/1976 ... 9/12/2005"
      ]
     },
     "metadata": {},
     "output_type": "display_data"
    }
   ],
   "source": [
    "df_published$ESTU_FECHANACIMIENTO[c(1:5)]"
   ]
  },
  {
   "cell_type": "code",
   "execution_count": 22,
   "metadata": {
    "ExecuteTime": {
     "end_time": "2021-08-24T17:31:15.291442Z",
     "start_time": "2021-08-24T17:31:10.397Z"
    }
   },
   "outputs": [],
   "source": [
    "df_published$ESTU_FECHANACIMIENTO = as.character(df_published$ESTU_FECHANACIMIENTO)"
   ]
  },
  {
   "cell_type": "code",
   "execution_count": 23,
   "metadata": {
    "ExecuteTime": {
     "end_time": "2021-08-24T17:31:15.332244Z",
     "start_time": "2021-08-24T17:31:10.401Z"
    }
   },
   "outputs": [],
   "source": [
    "df_published$ESTU_FECHANACIMIENTO = as.Date(df_published$ESTU_FECHANACIMIENTO, format = \"%d/%m/%Y\")"
   ]
  },
  {
   "cell_type": "code",
   "execution_count": 24,
   "metadata": {
    "ExecuteTime": {
     "end_time": "2021-08-24T17:31:15.350375Z",
     "start_time": "2021-08-24T17:31:10.404Z"
    }
   },
   "outputs": [
    {
     "data": {
      "text/html": [
       "<style>\n",
       ".list-inline {list-style: none; margin:0; padding: 0}\n",
       ".list-inline>li {display: inline-block}\n",
       ".list-inline>li:not(:last-child)::after {content: \"\\00b7\"; padding: 0 .5ex}\n",
       "</style>\n",
       "<ol class=list-inline><li><time datetime=\"1990-08-15\">1990-08-15</time></li><li><time datetime=\"1990-09-26\">1990-09-26</time></li><li><time datetime=\"1994-10-28\">1994-10-28</time></li><li><time datetime=\"1979-09-24\">1979-09-24</time></li><li><time datetime=\"1988-07-06\">1988-07-06</time></li></ol>\n"
      ],
      "text/latex": [
       "\\begin{enumerate*}\n",
       "\\item 1990-08-15\n",
       "\\item 1990-09-26\n",
       "\\item 1994-10-28\n",
       "\\item 1979-09-24\n",
       "\\item 1988-07-06\n",
       "\\end{enumerate*}\n"
      ],
      "text/markdown": [
       "1. 1990-08-15\n",
       "2. 1990-09-26\n",
       "3. 1994-10-28\n",
       "4. 1979-09-24\n",
       "5. 1988-07-06\n",
       "\n",
       "\n"
      ],
      "text/plain": [
       "[1] \"1990-08-15\" \"1990-09-26\" \"1994-10-28\" \"1979-09-24\" \"1988-07-06\""
      ]
     },
     "metadata": {},
     "output_type": "display_data"
    }
   ],
   "source": [
    "df_published$ESTU_FECHANACIMIENTO[c(1:5)]"
   ]
  },
  {
   "cell_type": "code",
   "execution_count": 25,
   "metadata": {
    "ExecuteTime": {
     "end_time": "2021-08-24T17:31:15.366049Z",
     "start_time": "2021-08-24T17:31:10.407Z"
    }
   },
   "outputs": [
    {
     "data": {
      "text/html": [
       "'Date'"
      ],
      "text/latex": [
       "'Date'"
      ],
      "text/markdown": [
       "'Date'"
      ],
      "text/plain": [
       "[1] \"Date\""
      ]
     },
     "metadata": {},
     "output_type": "display_data"
    }
   ],
   "source": [
    "class(df_published$ESTU_FECHANACIMIENTO)"
   ]
  },
  {
   "cell_type": "markdown",
   "metadata": {},
   "source": [
    "Ya tenemos la fecha en el formato correcto"
   ]
  },
  {
   "cell_type": "markdown",
   "metadata": {},
   "source": [
    "### Etnia"
   ]
  },
  {
   "cell_type": "markdown",
   "metadata": {},
   "source": [
    "Estandaricemos la respuesta de si una persona pertenece a algún grupo etnico o no."
   ]
  },
  {
   "cell_type": "code",
   "execution_count": 26,
   "metadata": {
    "ExecuteTime": {
     "end_time": "2021-08-24T17:31:15.382759Z",
     "start_time": "2021-08-24T17:31:10.411Z"
    }
   },
   "outputs": [
    {
     "data": {
      "text/html": [
       "<style>\n",
       ".list-inline {list-style: none; margin:0; padding: 0}\n",
       ".list-inline>li {display: inline-block}\n",
       ".list-inline>li:not(:last-child)::after {content: \"\\00b7\"; padding: 0 .5ex}\n",
       "</style>\n",
       "<ol class=list-inline><li>NO</li><li>&lt;NA&gt;</li><li>SI</li></ol>\n",
       "\n",
       "<details>\n",
       "\t<summary style=display:list-item;cursor:pointer>\n",
       "\t\t<strong>Levels</strong>:\n",
       "\t</summary>\n",
       "\t<style>\n",
       "\t.list-inline {list-style: none; margin:0; padding: 0}\n",
       "\t.list-inline>li {display: inline-block}\n",
       "\t.list-inline>li:not(:last-child)::after {content: \"\\00b7\"; padding: 0 .5ex}\n",
       "\t</style>\n",
       "\t<ol class=list-inline><li>'NO'</li><li>'SI'</li></ol>\n",
       "</details>"
      ],
      "text/latex": [
       "\\begin{enumerate*}\n",
       "\\item NO\n",
       "\\item <NA>\n",
       "\\item SI\n",
       "\\end{enumerate*}\n",
       "\n",
       "\\emph{Levels}: \\begin{enumerate*}\n",
       "\\item 'NO'\n",
       "\\item 'SI'\n",
       "\\end{enumerate*}\n"
      ],
      "text/markdown": [
       "1. NO\n",
       "2. &lt;NA&gt;\n",
       "3. SI\n",
       "\n",
       "\n",
       "\n",
       "**Levels**: 1. 'NO'\n",
       "2. 'SI'\n",
       "\n",
       "\n"
      ],
      "text/plain": [
       "[1] NO   <NA> SI  \n",
       "Levels: NO SI"
      ]
     },
     "metadata": {},
     "output_type": "display_data"
    }
   ],
   "source": [
    "unique(df_published$ESTU_TIENE_ETNIA)"
   ]
  },
  {
   "cell_type": "markdown",
   "metadata": {},
   "source": [
    "Podemos ver que solo cuenta con SI No o valores nulos. Entonces volveremos los si a TRUE y los no a FALSE."
   ]
  },
  {
   "cell_type": "code",
   "execution_count": 27,
   "metadata": {
    "ExecuteTime": {
     "end_time": "2021-08-24T17:31:15.405189Z",
     "start_time": "2021-08-24T17:31:10.415Z"
    }
   },
   "outputs": [],
   "source": [
    "df_published$ESTU_TIENE_ETNIA = as.character(df_published$ESTU_TIENE_ETNIA)"
   ]
  },
  {
   "cell_type": "code",
   "execution_count": 28,
   "metadata": {
    "ExecuteTime": {
     "end_time": "2021-08-24T17:31:15.428229Z",
     "start_time": "2021-08-24T17:31:10.418Z"
    }
   },
   "outputs": [],
   "source": [
    "df_published = df_published %>% mutate(ESTU_TIENE_ETNIA = replace(ESTU_TIENE_ETNIA, ESTU_TIENE_ETNIA == \"NO\", FALSE))"
   ]
  },
  {
   "cell_type": "code",
   "execution_count": 29,
   "metadata": {
    "ExecuteTime": {
     "end_time": "2021-08-24T17:31:15.442420Z",
     "start_time": "2021-08-24T17:31:10.420Z"
    }
   },
   "outputs": [],
   "source": [
    "df_published = df_published %>% mutate(ESTU_TIENE_ETNIA = replace(ESTU_TIENE_ETNIA, ESTU_TIENE_ETNIA == \"SI\", TRUE))"
   ]
  },
  {
   "cell_type": "code",
   "execution_count": 30,
   "metadata": {
    "ExecuteTime": {
     "end_time": "2021-08-24T17:31:15.458629Z",
     "start_time": "2021-08-24T17:31:10.423Z"
    }
   },
   "outputs": [
    {
     "data": {
      "text/html": [
       "'character'"
      ],
      "text/latex": [
       "'character'"
      ],
      "text/markdown": [
       "'character'"
      ],
      "text/plain": [
       "[1] \"character\""
      ]
     },
     "metadata": {},
     "output_type": "display_data"
    }
   ],
   "source": [
    "class(df_published$ESTU_TIENE_ETNIA)"
   ]
  },
  {
   "cell_type": "code",
   "execution_count": 31,
   "metadata": {
    "ExecuteTime": {
     "end_time": "2021-08-24T17:31:15.476134Z",
     "start_time": "2021-08-24T17:31:10.426Z"
    }
   },
   "outputs": [
    {
     "data": {
      "text/html": [
       "<style>\n",
       ".list-inline {list-style: none; margin:0; padding: 0}\n",
       ".list-inline>li {display: inline-block}\n",
       ".list-inline>li:not(:last-child)::after {content: \"\\00b7\"; padding: 0 .5ex}\n",
       "</style>\n",
       "<ol class=list-inline><li>'FALSE'</li><li>NA</li><li>'TRUE'</li></ol>\n"
      ],
      "text/latex": [
       "\\begin{enumerate*}\n",
       "\\item 'FALSE'\n",
       "\\item NA\n",
       "\\item 'TRUE'\n",
       "\\end{enumerate*}\n"
      ],
      "text/markdown": [
       "1. 'FALSE'\n",
       "2. NA\n",
       "3. 'TRUE'\n",
       "\n",
       "\n"
      ],
      "text/plain": [
       "[1] \"FALSE\" NA      \"TRUE\" "
      ]
     },
     "metadata": {},
     "output_type": "display_data"
    }
   ],
   "source": [
    "unique(df_published$ESTU_TIENE_ETNIA)"
   ]
  },
  {
   "cell_type": "code",
   "execution_count": 32,
   "metadata": {
    "ExecuteTime": {
     "end_time": "2021-08-24T17:31:15.501096Z",
     "start_time": "2021-08-24T17:31:10.429Z"
    }
   },
   "outputs": [],
   "source": [
    "df_published$ESTU_TIENE_ETNIA = as.logical(df_published$ESTU_TIENE_ETNIA)"
   ]
  },
  {
   "cell_type": "code",
   "execution_count": 33,
   "metadata": {
    "ExecuteTime": {
     "end_time": "2021-08-24T17:31:15.516694Z",
     "start_time": "2021-08-24T17:31:10.432Z"
    },
    "scrolled": true
   },
   "outputs": [
    {
     "data": {
      "text/html": [
       "'logical'"
      ],
      "text/latex": [
       "'logical'"
      ],
      "text/markdown": [
       "'logical'"
      ],
      "text/plain": [
       "[1] \"logical\""
      ]
     },
     "metadata": {},
     "output_type": "display_data"
    }
   ],
   "source": [
    "class(df_published$ESTU_TIENE_ETNIA)"
   ]
  },
  {
   "cell_type": "markdown",
   "metadata": {},
   "source": [
    "### Limitaciones"
   ]
  },
  {
   "cell_type": "markdown",
   "metadata": {},
   "source": [
    "Ahora revisemos las limitaciones que en su mayoría se encuentran con un formato poco entendible que es una x"
   ]
  },
  {
   "cell_type": "code",
   "execution_count": 34,
   "metadata": {
    "ExecuteTime": {
     "end_time": "2021-08-24T17:31:15.530892Z",
     "start_time": "2021-08-24T17:31:10.437Z"
    }
   },
   "outputs": [
    {
     "data": {
      "text/html": [
       "<style>\n",
       ".list-inline {list-style: none; margin:0; padding: 0}\n",
       ".list-inline>li {display: inline-block}\n",
       ".list-inline>li:not(:last-child)::after {content: \"\\00b7\"; padding: 0 .5ex}\n",
       "</style>\n",
       "<ol class=list-inline><li>'ESTU_LIMITA_MOTRIZ'</li><li>'ESTU_LIMITA_INVIDENTE'</li><li>'ESTU_LIMITA_CONDICIONESPECIAL'</li><li>'ESTU_LIMITA_SORDO'</li><li>'ESTU_LIMITA_AUTISMO'</li></ol>\n"
      ],
      "text/latex": [
       "\\begin{enumerate*}\n",
       "\\item 'ESTU\\_LIMITA\\_MOTRIZ'\n",
       "\\item 'ESTU\\_LIMITA\\_INVIDENTE'\n",
       "\\item 'ESTU\\_LIMITA\\_CONDICIONESPECIAL'\n",
       "\\item 'ESTU\\_LIMITA\\_SORDO'\n",
       "\\item 'ESTU\\_LIMITA\\_AUTISMO'\n",
       "\\end{enumerate*}\n"
      ],
      "text/markdown": [
       "1. 'ESTU_LIMITA_MOTRIZ'\n",
       "2. 'ESTU_LIMITA_INVIDENTE'\n",
       "3. 'ESTU_LIMITA_CONDICIONESPECIAL'\n",
       "4. 'ESTU_LIMITA_SORDO'\n",
       "5. 'ESTU_LIMITA_AUTISMO'\n",
       "\n",
       "\n"
      ],
      "text/plain": [
       "[1] \"ESTU_LIMITA_MOTRIZ\"            \"ESTU_LIMITA_INVIDENTE\"        \n",
       "[3] \"ESTU_LIMITA_CONDICIONESPECIAL\" \"ESTU_LIMITA_SORDO\"            \n",
       "[5] \"ESTU_LIMITA_AUTISMO\"          "
      ]
     },
     "metadata": {},
     "output_type": "display_data"
    }
   ],
   "source": [
    "colnames(df_published)[c(11:15)]"
   ]
  },
  {
   "cell_type": "code",
   "execution_count": 35,
   "metadata": {
    "ExecuteTime": {
     "end_time": "2021-08-24T17:31:15.546705Z",
     "start_time": "2021-08-24T17:31:10.439Z"
    }
   },
   "outputs": [
    {
     "data": {
      "text/html": [
       "<style>\n",
       ".list-inline {list-style: none; margin:0; padding: 0}\n",
       ".list-inline>li {display: inline-block}\n",
       ".list-inline>li:not(:last-child)::after {content: \"\\00b7\"; padding: 0 .5ex}\n",
       "</style>\n",
       "<ol class=list-inline><li>&lt;NA&gt;</li><li>x</li></ol>\n",
       "\n",
       "<details>\n",
       "\t<summary style=display:list-item;cursor:pointer>\n",
       "\t\t<strong>Levels</strong>:\n",
       "\t</summary>\n",
       "\t'x'\n",
       "</details>"
      ],
      "text/latex": [
       "\\begin{enumerate*}\n",
       "\\item <NA>\n",
       "\\item x\n",
       "\\end{enumerate*}\n",
       "\n",
       "\\emph{Levels}: 'x'"
      ],
      "text/markdown": [
       "1. &lt;NA&gt;\n",
       "2. x\n",
       "\n",
       "\n",
       "\n",
       "**Levels**: 'x'"
      ],
      "text/plain": [
       "[1] <NA> x   \n",
       "Levels: x"
      ]
     },
     "metadata": {},
     "output_type": "display_data"
    }
   ],
   "source": [
    "unique(df_published$ESTU_LIMITA_MOTRIZ)"
   ]
  },
  {
   "cell_type": "code",
   "execution_count": 36,
   "metadata": {
    "ExecuteTime": {
     "end_time": "2021-08-24T17:31:15.574165Z",
     "start_time": "2021-08-24T17:31:10.445Z"
    },
    "scrolled": true
   },
   "outputs": [
    {
     "data": {
      "text/html": [
       "<dl>\n",
       "\t<dt>$ESTU_LIMITA_MOTRIZ</dt>\n",
       "\t\t<dd><style>\n",
       ".list-inline {list-style: none; margin:0; padding: 0}\n",
       ".list-inline>li {display: inline-block}\n",
       ".list-inline>li:not(:last-child)::after {content: \"\\00b7\"; padding: 0 .5ex}\n",
       "</style>\n",
       "<ol class=list-inline><li>&lt;NA&gt;</li><li>x</li></ol>\n",
       "\n",
       "<details>\n",
       "\t<summary style=display:list-item;cursor:pointer>\n",
       "\t\t<strong>Levels</strong>:\n",
       "\t</summary>\n",
       "\t'x'\n",
       "</details></dd>\n",
       "\t<dt>$ESTU_LIMITA_INVIDENTE</dt>\n",
       "\t\t<dd><style>\n",
       ".list-inline {list-style: none; margin:0; padding: 0}\n",
       ".list-inline>li {display: inline-block}\n",
       ".list-inline>li:not(:last-child)::after {content: \"\\00b7\"; padding: 0 .5ex}\n",
       "</style>\n",
       "<ol class=list-inline><li>&lt;NA&gt;</li><li>x</li></ol>\n",
       "\n",
       "<details>\n",
       "\t<summary style=display:list-item;cursor:pointer>\n",
       "\t\t<strong>Levels</strong>:\n",
       "\t</summary>\n",
       "\t'x'\n",
       "</details></dd>\n",
       "\t<dt>$ESTU_LIMITA_CONDICIONESPECIAL</dt>\n",
       "\t\t<dd><style>\n",
       ".list-inline {list-style: none; margin:0; padding: 0}\n",
       ".list-inline>li {display: inline-block}\n",
       ".list-inline>li:not(:last-child)::after {content: \"\\00b7\"; padding: 0 .5ex}\n",
       "</style>\n",
       "<ol class=list-inline><li>&lt;NA&gt;</li><li>x</li></ol>\n",
       "\n",
       "<details>\n",
       "\t<summary style=display:list-item;cursor:pointer>\n",
       "\t\t<strong>Levels</strong>:\n",
       "\t</summary>\n",
       "\t'x'\n",
       "</details></dd>\n",
       "\t<dt>$ESTU_LIMITA_SORDO</dt>\n",
       "\t\t<dd><style>\n",
       ".list-inline {list-style: none; margin:0; padding: 0}\n",
       ".list-inline>li {display: inline-block}\n",
       ".list-inline>li:not(:last-child)::after {content: \"\\00b7\"; padding: 0 .5ex}\n",
       "</style>\n",
       "<ol class=list-inline><li>&lt;NA&gt;</li><li>x</li></ol>\n",
       "\n",
       "<details>\n",
       "\t<summary style=display:list-item;cursor:pointer>\n",
       "\t\t<strong>Levels</strong>:\n",
       "\t</summary>\n",
       "\t'x'\n",
       "</details></dd>\n",
       "\t<dt>$ESTU_LIMITA_AUTISMO</dt>\n",
       "\t\t<dd><style>\n",
       ".list-inline {list-style: none; margin:0; padding: 0}\n",
       ".list-inline>li {display: inline-block}\n",
       ".list-inline>li:not(:last-child)::after {content: \"\\00b7\"; padding: 0 .5ex}\n",
       "</style>\n",
       "<ol class=list-inline><li>&lt;NA&gt;</li><li>x</li></ol>\n",
       "\n",
       "<details>\n",
       "\t<summary style=display:list-item;cursor:pointer>\n",
       "\t\t<strong>Levels</strong>:\n",
       "\t</summary>\n",
       "\t'x'\n",
       "</details></dd>\n",
       "</dl>\n"
      ],
      "text/latex": [
       "\\begin{description}\n",
       "\\item[\\$ESTU\\_LIMITA\\_MOTRIZ] \\begin{enumerate*}\n",
       "\\item <NA>\n",
       "\\item x\n",
       "\\end{enumerate*}\n",
       "\n",
       "\\emph{Levels}: 'x'\n",
       "\\item[\\$ESTU\\_LIMITA\\_INVIDENTE] \\begin{enumerate*}\n",
       "\\item <NA>\n",
       "\\item x\n",
       "\\end{enumerate*}\n",
       "\n",
       "\\emph{Levels}: 'x'\n",
       "\\item[\\$ESTU\\_LIMITA\\_CONDICIONESPECIAL] \\begin{enumerate*}\n",
       "\\item <NA>\n",
       "\\item x\n",
       "\\end{enumerate*}\n",
       "\n",
       "\\emph{Levels}: 'x'\n",
       "\\item[\\$ESTU\\_LIMITA\\_SORDO] \\begin{enumerate*}\n",
       "\\item <NA>\n",
       "\\item x\n",
       "\\end{enumerate*}\n",
       "\n",
       "\\emph{Levels}: 'x'\n",
       "\\item[\\$ESTU\\_LIMITA\\_AUTISMO] \\begin{enumerate*}\n",
       "\\item <NA>\n",
       "\\item x\n",
       "\\end{enumerate*}\n",
       "\n",
       "\\emph{Levels}: 'x'\n",
       "\\end{description}\n"
      ],
      "text/markdown": [
       "$ESTU_LIMITA_MOTRIZ\n",
       ":   1. &lt;NA&gt;\n",
       "2. x\n",
       "\n",
       "\n",
       "\n",
       "**Levels**: 'x'\n",
       "$ESTU_LIMITA_INVIDENTE\n",
       ":   1. &lt;NA&gt;\n",
       "2. x\n",
       "\n",
       "\n",
       "\n",
       "**Levels**: 'x'\n",
       "$ESTU_LIMITA_CONDICIONESPECIAL\n",
       ":   1. &lt;NA&gt;\n",
       "2. x\n",
       "\n",
       "\n",
       "\n",
       "**Levels**: 'x'\n",
       "$ESTU_LIMITA_SORDO\n",
       ":   1. &lt;NA&gt;\n",
       "2. x\n",
       "\n",
       "\n",
       "\n",
       "**Levels**: 'x'\n",
       "$ESTU_LIMITA_AUTISMO\n",
       ":   1. &lt;NA&gt;\n",
       "2. x\n",
       "\n",
       "\n",
       "\n",
       "**Levels**: 'x'\n",
       "\n",
       "\n"
      ],
      "text/plain": [
       "$ESTU_LIMITA_MOTRIZ\n",
       "[1] <NA> x   \n",
       "Levels: x\n",
       "\n",
       "$ESTU_LIMITA_INVIDENTE\n",
       "[1] <NA> x   \n",
       "Levels: x\n",
       "\n",
       "$ESTU_LIMITA_CONDICIONESPECIAL\n",
       "[1] <NA> x   \n",
       "Levels: x\n",
       "\n",
       "$ESTU_LIMITA_SORDO\n",
       "[1] <NA> x   \n",
       "Levels: x\n",
       "\n",
       "$ESTU_LIMITA_AUTISMO\n",
       "[1] <NA> x   \n",
       "Levels: x\n"
      ]
     },
     "metadata": {},
     "output_type": "display_data"
    }
   ],
   "source": [
    "lapply(df_published[c(11:15)], unique)"
   ]
  },
  {
   "cell_type": "markdown",
   "metadata": {},
   "source": [
    "Normalmente cuando se pregunta si una persona tiene discapacidad de le pide que llene marque una X, en este caso no sabemos si la X se refiere a una respuesta afirmativa o negativa"
   ]
  },
  {
   "cell_type": "markdown",
   "metadata": {},
   "source": [
    " Sin embargo podemos revisar el número de x marcadas y de campos dejados en blanco."
   ]
  },
  {
   "cell_type": "code",
   "execution_count": 37,
   "metadata": {
    "ExecuteTime": {
     "end_time": "2021-08-24T17:31:15.602283Z",
     "start_time": "2021-08-24T17:31:10.451Z"
    }
   },
   "outputs": [
    {
     "data": {
      "text/html": [
       "<table>\n",
       "<caption>A tibble: 2 × 2</caption>\n",
       "<thead>\n",
       "\t<tr><th scope=col>ESTU_LIMITA_MOTRIZ</th><th scope=col>count</th></tr>\n",
       "\t<tr><th scope=col>&lt;fct&gt;</th><th scope=col>&lt;int&gt;</th></tr>\n",
       "</thead>\n",
       "<tbody>\n",
       "\t<tr><td>x </td><td>   46</td></tr>\n",
       "\t<tr><td>NA</td><td>52619</td></tr>\n",
       "</tbody>\n",
       "</table>\n"
      ],
      "text/latex": [
       "A tibble: 2 × 2\n",
       "\\begin{tabular}{ll}\n",
       " ESTU\\_LIMITA\\_MOTRIZ & count\\\\\n",
       " <fct> & <int>\\\\\n",
       "\\hline\n",
       "\t x  &    46\\\\\n",
       "\t NA & 52619\\\\\n",
       "\\end{tabular}\n"
      ],
      "text/markdown": [
       "\n",
       "A tibble: 2 × 2\n",
       "\n",
       "| ESTU_LIMITA_MOTRIZ &lt;fct&gt; | count &lt;int&gt; |\n",
       "|---|---|\n",
       "| x  |    46 |\n",
       "| NA | 52619 |\n",
       "\n"
      ],
      "text/plain": [
       "  ESTU_LIMITA_MOTRIZ count\n",
       "1 x                     46\n",
       "2 NA                 52619"
      ]
     },
     "metadata": {},
     "output_type": "display_data"
    }
   ],
   "source": [
    "df_published %>% group_by(ESTU_LIMITA_MOTRIZ) %>% summarize(count=n())"
   ]
  },
  {
   "cell_type": "code",
   "execution_count": 38,
   "metadata": {
    "ExecuteTime": {
     "end_time": "2021-08-24T17:31:15.629910Z",
     "start_time": "2021-08-24T17:31:10.455Z"
    }
   },
   "outputs": [
    {
     "data": {
      "text/html": [
       "<table>\n",
       "<caption>A tibble: 2 × 2</caption>\n",
       "<thead>\n",
       "\t<tr><th scope=col>ESTU_LIMITA_INVIDENTE</th><th scope=col>count</th></tr>\n",
       "\t<tr><th scope=col>&lt;fct&gt;</th><th scope=col>&lt;int&gt;</th></tr>\n",
       "</thead>\n",
       "<tbody>\n",
       "\t<tr><td>x </td><td>    4</td></tr>\n",
       "\t<tr><td>NA</td><td>52661</td></tr>\n",
       "</tbody>\n",
       "</table>\n"
      ],
      "text/latex": [
       "A tibble: 2 × 2\n",
       "\\begin{tabular}{ll}\n",
       " ESTU\\_LIMITA\\_INVIDENTE & count\\\\\n",
       " <fct> & <int>\\\\\n",
       "\\hline\n",
       "\t x  &     4\\\\\n",
       "\t NA & 52661\\\\\n",
       "\\end{tabular}\n"
      ],
      "text/markdown": [
       "\n",
       "A tibble: 2 × 2\n",
       "\n",
       "| ESTU_LIMITA_INVIDENTE &lt;fct&gt; | count &lt;int&gt; |\n",
       "|---|---|\n",
       "| x  |     4 |\n",
       "| NA | 52661 |\n",
       "\n"
      ],
      "text/plain": [
       "  ESTU_LIMITA_INVIDENTE count\n",
       "1 x                         4\n",
       "2 NA                    52661"
      ]
     },
     "metadata": {},
     "output_type": "display_data"
    }
   ],
   "source": [
    "df_published %>% group_by(ESTU_LIMITA_INVIDENTE) %>% summarize(count=n())"
   ]
  },
  {
   "cell_type": "code",
   "execution_count": 39,
   "metadata": {
    "ExecuteTime": {
     "end_time": "2021-08-24T17:31:15.751399Z",
     "start_time": "2021-08-24T17:31:10.459Z"
    }
   },
   "outputs": [
    {
     "data": {
      "text/html": [
       "<table>\n",
       "<caption>A tibble: 2 × 2</caption>\n",
       "<thead>\n",
       "\t<tr><th scope=col>ESTU_LIMITA_CONDICIONESPECIAL</th><th scope=col>count</th></tr>\n",
       "\t<tr><th scope=col>&lt;fct&gt;</th><th scope=col>&lt;int&gt;</th></tr>\n",
       "</thead>\n",
       "<tbody>\n",
       "\t<tr><td>x </td><td>    7</td></tr>\n",
       "\t<tr><td>NA</td><td>52658</td></tr>\n",
       "</tbody>\n",
       "</table>\n"
      ],
      "text/latex": [
       "A tibble: 2 × 2\n",
       "\\begin{tabular}{ll}\n",
       " ESTU\\_LIMITA\\_CONDICIONESPECIAL & count\\\\\n",
       " <fct> & <int>\\\\\n",
       "\\hline\n",
       "\t x  &     7\\\\\n",
       "\t NA & 52658\\\\\n",
       "\\end{tabular}\n"
      ],
      "text/markdown": [
       "\n",
       "A tibble: 2 × 2\n",
       "\n",
       "| ESTU_LIMITA_CONDICIONESPECIAL &lt;fct&gt; | count &lt;int&gt; |\n",
       "|---|---|\n",
       "| x  |     7 |\n",
       "| NA | 52658 |\n",
       "\n"
      ],
      "text/plain": [
       "  ESTU_LIMITA_CONDICIONESPECIAL count\n",
       "1 x                                 7\n",
       "2 NA                            52658"
      ]
     },
     "metadata": {},
     "output_type": "display_data"
    }
   ],
   "source": [
    "df_published %>% group_by(ESTU_LIMITA_CONDICIONESPECIAL) %>% summarize(count=n())"
   ]
  },
  {
   "cell_type": "code",
   "execution_count": 40,
   "metadata": {
    "ExecuteTime": {
     "end_time": "2021-08-24T17:31:15.780094Z",
     "start_time": "2021-08-24T17:31:10.463Z"
    }
   },
   "outputs": [
    {
     "data": {
      "text/html": [
       "<table>\n",
       "<caption>A tibble: 2 × 2</caption>\n",
       "<thead>\n",
       "\t<tr><th scope=col>ESTU_LIMITA_SORDO</th><th scope=col>count</th></tr>\n",
       "\t<tr><th scope=col>&lt;fct&gt;</th><th scope=col>&lt;int&gt;</th></tr>\n",
       "</thead>\n",
       "<tbody>\n",
       "\t<tr><td>x </td><td>   29</td></tr>\n",
       "\t<tr><td>NA</td><td>52636</td></tr>\n",
       "</tbody>\n",
       "</table>\n"
      ],
      "text/latex": [
       "A tibble: 2 × 2\n",
       "\\begin{tabular}{ll}\n",
       " ESTU\\_LIMITA\\_SORDO & count\\\\\n",
       " <fct> & <int>\\\\\n",
       "\\hline\n",
       "\t x  &    29\\\\\n",
       "\t NA & 52636\\\\\n",
       "\\end{tabular}\n"
      ],
      "text/markdown": [
       "\n",
       "A tibble: 2 × 2\n",
       "\n",
       "| ESTU_LIMITA_SORDO &lt;fct&gt; | count &lt;int&gt; |\n",
       "|---|---|\n",
       "| x  |    29 |\n",
       "| NA | 52636 |\n",
       "\n"
      ],
      "text/plain": [
       "  ESTU_LIMITA_SORDO count\n",
       "1 x                    29\n",
       "2 NA                52636"
      ]
     },
     "metadata": {},
     "output_type": "display_data"
    }
   ],
   "source": [
    "df_published %>% group_by(ESTU_LIMITA_SORDO) %>% summarize(count=n())"
   ]
  },
  {
   "cell_type": "code",
   "execution_count": 41,
   "metadata": {
    "ExecuteTime": {
     "end_time": "2021-08-24T17:31:15.804279Z",
     "start_time": "2021-08-24T17:31:10.467Z"
    }
   },
   "outputs": [
    {
     "data": {
      "text/html": [
       "<table>\n",
       "<caption>A tibble: 2 × 2</caption>\n",
       "<thead>\n",
       "\t<tr><th scope=col>ESTU_LIMITA_AUTISMO</th><th scope=col>count</th></tr>\n",
       "\t<tr><th scope=col>&lt;fct&gt;</th><th scope=col>&lt;int&gt;</th></tr>\n",
       "</thead>\n",
       "<tbody>\n",
       "\t<tr><td>x </td><td>    3</td></tr>\n",
       "\t<tr><td>NA</td><td>52662</td></tr>\n",
       "</tbody>\n",
       "</table>\n"
      ],
      "text/latex": [
       "A tibble: 2 × 2\n",
       "\\begin{tabular}{ll}\n",
       " ESTU\\_LIMITA\\_AUTISMO & count\\\\\n",
       " <fct> & <int>\\\\\n",
       "\\hline\n",
       "\t x  &     3\\\\\n",
       "\t NA & 52662\\\\\n",
       "\\end{tabular}\n"
      ],
      "text/markdown": [
       "\n",
       "A tibble: 2 × 2\n",
       "\n",
       "| ESTU_LIMITA_AUTISMO &lt;fct&gt; | count &lt;int&gt; |\n",
       "|---|---|\n",
       "| x  |     3 |\n",
       "| NA | 52662 |\n",
       "\n"
      ],
      "text/plain": [
       "  ESTU_LIMITA_AUTISMO count\n",
       "1 x                       3\n",
       "2 NA                  52662"
      ]
     },
     "metadata": {},
     "output_type": "display_data"
    }
   ],
   "source": [
    "df_published %>% group_by(ESTU_LIMITA_AUTISMO) %>% summarize(count=n())"
   ]
  },
  {
   "cell_type": "code",
   "execution_count": 42,
   "metadata": {
    "ExecuteTime": {
     "end_time": "2021-08-24T17:31:15.820412Z",
     "start_time": "2021-08-24T17:31:10.471Z"
    }
   },
   "outputs": [
    {
     "data": {
      "text/html": [
       "<style>\n",
       ".list-inline {list-style: none; margin:0; padding: 0}\n",
       ".list-inline>li {display: inline-block}\n",
       ".list-inline>li:not(:last-child)::after {content: \"\\00b7\"; padding: 0 .5ex}\n",
       "</style>\n",
       "<ol class=list-inline><li>&lt;NA&gt;</li><li>x</li></ol>\n",
       "\n",
       "<details>\n",
       "\t<summary style=display:list-item;cursor:pointer>\n",
       "\t\t<strong>Levels</strong>:\n",
       "\t</summary>\n",
       "\t'x'\n",
       "</details>"
      ],
      "text/latex": [
       "\\begin{enumerate*}\n",
       "\\item <NA>\n",
       "\\item x\n",
       "\\end{enumerate*}\n",
       "\n",
       "\\emph{Levels}: 'x'"
      ],
      "text/markdown": [
       "1. &lt;NA&gt;\n",
       "2. x\n",
       "\n",
       "\n",
       "\n",
       "**Levels**: 'x'"
      ],
      "text/plain": [
       "[1] <NA> x   \n",
       "Levels: x"
      ]
     },
     "metadata": {},
     "output_type": "display_data"
    }
   ],
   "source": [
    "unique(df_published$ESTU_LIMITA_AUTISMO)"
   ]
  },
  {
   "cell_type": "markdown",
   "metadata": {},
   "source": [
    "Con esto podemos ver que las x son realmente personas con discapacidad puesto que representan un porcentaje minoritario."
   ]
  },
  {
   "cell_type": "markdown",
   "metadata": {},
   "source": [
    "Transformaremos los NA a FALSE y las X a TRUE"
   ]
  },
  {
   "cell_type": "markdown",
   "metadata": {},
   "source": [
    "#### ESTU_LIMITA_MOTRIZ"
   ]
  },
  {
   "cell_type": "code",
   "execution_count": 43,
   "metadata": {
    "ExecuteTime": {
     "end_time": "2021-08-24T17:31:15.832521Z",
     "start_time": "2021-08-24T17:31:10.476Z"
    }
   },
   "outputs": [],
   "source": [
    "df_published$ESTU_LIMITA_MOTRIZ = as.character(df_published$ESTU_LIMITA_MOTRIZ)"
   ]
  },
  {
   "cell_type": "code",
   "execution_count": 44,
   "metadata": {
    "ExecuteTime": {
     "end_time": "2021-08-24T17:31:15.848661Z",
     "start_time": "2021-08-24T17:31:10.478Z"
    }
   },
   "outputs": [],
   "source": [
    "df_published$ESTU_LIMITA_MOTRIZ[is.na(df_published$ESTU_LIMITA_MOTRIZ)] = FALSE"
   ]
  },
  {
   "cell_type": "code",
   "execution_count": 45,
   "metadata": {
    "ExecuteTime": {
     "end_time": "2021-08-24T17:31:15.863451Z",
     "start_time": "2021-08-24T17:31:10.482Z"
    }
   },
   "outputs": [],
   "source": [
    "df_published$ESTU_LIMITA_MOTRIZ[df_published$ESTU_LIMITA_MOTRIZ == 'x'] = TRUE"
   ]
  },
  {
   "cell_type": "code",
   "execution_count": 46,
   "metadata": {
    "ExecuteTime": {
     "end_time": "2021-08-24T17:31:15.883570Z",
     "start_time": "2021-08-24T17:31:10.486Z"
    }
   },
   "outputs": [],
   "source": [
    "df_published$ESTU_LIMITA_MOTRIZ = as.logical(df_published$ESTU_LIMITA_MOTRIZ)"
   ]
  },
  {
   "cell_type": "code",
   "execution_count": 47,
   "metadata": {
    "ExecuteTime": {
     "end_time": "2021-08-24T17:31:15.899651Z",
     "start_time": "2021-08-24T17:31:10.490Z"
    }
   },
   "outputs": [
    {
     "data": {
      "text/html": [
       "'logical'"
      ],
      "text/latex": [
       "'logical'"
      ],
      "text/markdown": [
       "'logical'"
      ],
      "text/plain": [
       "[1] \"logical\""
      ]
     },
     "metadata": {},
     "output_type": "display_data"
    }
   ],
   "source": [
    "class(df_published$ESTU_LIMITA_MOTRIZ)"
   ]
  },
  {
   "cell_type": "code",
   "execution_count": 48,
   "metadata": {
    "ExecuteTime": {
     "end_time": "2021-08-24T17:31:15.915419Z",
     "start_time": "2021-08-24T17:31:10.495Z"
    },
    "scrolled": true
   },
   "outputs": [
    {
     "data": {
      "text/html": [
       "<style>\n",
       ".list-inline {list-style: none; margin:0; padding: 0}\n",
       ".list-inline>li {display: inline-block}\n",
       ".list-inline>li:not(:last-child)::after {content: \"\\00b7\"; padding: 0 .5ex}\n",
       "</style>\n",
       "<ol class=list-inline><li>FALSE</li><li>TRUE</li></ol>\n"
      ],
      "text/latex": [
       "\\begin{enumerate*}\n",
       "\\item FALSE\n",
       "\\item TRUE\n",
       "\\end{enumerate*}\n"
      ],
      "text/markdown": [
       "1. FALSE\n",
       "2. TRUE\n",
       "\n",
       "\n"
      ],
      "text/plain": [
       "[1] FALSE  TRUE"
      ]
     },
     "metadata": {},
     "output_type": "display_data"
    }
   ],
   "source": [
    "unique(df_published$ESTU_LIMITA_MOTRIZ)"
   ]
  },
  {
   "cell_type": "markdown",
   "metadata": {},
   "source": [
    "#### ESTU_LIMITA_INVIDENTE"
   ]
  },
  {
   "cell_type": "code",
   "execution_count": 49,
   "metadata": {
    "ExecuteTime": {
     "end_time": "2021-08-24T17:31:15.929592Z",
     "start_time": "2021-08-24T17:31:10.501Z"
    }
   },
   "outputs": [],
   "source": [
    "df_published$ESTU_LIMITA_INVIDENTE = as.character(df_published$ESTU_LIMITA_INVIDENTE)"
   ]
  },
  {
   "cell_type": "code",
   "execution_count": 50,
   "metadata": {
    "ExecuteTime": {
     "end_time": "2021-08-24T17:31:15.942829Z",
     "start_time": "2021-08-24T17:31:10.504Z"
    }
   },
   "outputs": [],
   "source": [
    "df_published$ESTU_LIMITA_INVIDENTE[is.na(df_published$ESTU_LIMITA_INVIDENTE)] = FALSE"
   ]
  },
  {
   "cell_type": "code",
   "execution_count": 51,
   "metadata": {
    "ExecuteTime": {
     "end_time": "2021-08-24T17:31:15.955972Z",
     "start_time": "2021-08-24T17:31:10.506Z"
    }
   },
   "outputs": [],
   "source": [
    "df_published$ESTU_LIMITA_INVIDENTE[df_published$ESTU_LIMITA_INVIDENTE == 'x'] = TRUE"
   ]
  },
  {
   "cell_type": "code",
   "execution_count": 52,
   "metadata": {
    "ExecuteTime": {
     "end_time": "2021-08-24T17:31:15.970007Z",
     "start_time": "2021-08-24T17:31:10.509Z"
    }
   },
   "outputs": [],
   "source": [
    "df_published$ESTU_LIMITA_INVIDENTE = as.logical(df_published$ESTU_LIMITA_INVIDENTE)"
   ]
  },
  {
   "cell_type": "code",
   "execution_count": 53,
   "metadata": {
    "ExecuteTime": {
     "end_time": "2021-08-24T17:31:15.986989Z",
     "start_time": "2021-08-24T17:31:10.512Z"
    }
   },
   "outputs": [
    {
     "data": {
      "text/html": [
       "'logical'"
      ],
      "text/latex": [
       "'logical'"
      ],
      "text/markdown": [
       "'logical'"
      ],
      "text/plain": [
       "[1] \"logical\""
      ]
     },
     "metadata": {},
     "output_type": "display_data"
    }
   ],
   "source": [
    "class(df_published$ESTU_LIMITA_INVIDENTE)"
   ]
  },
  {
   "cell_type": "code",
   "execution_count": 54,
   "metadata": {
    "ExecuteTime": {
     "end_time": "2021-08-24T17:31:16.002704Z",
     "start_time": "2021-08-24T17:31:10.514Z"
    }
   },
   "outputs": [
    {
     "data": {
      "text/html": [
       "<style>\n",
       ".list-inline {list-style: none; margin:0; padding: 0}\n",
       ".list-inline>li {display: inline-block}\n",
       ".list-inline>li:not(:last-child)::after {content: \"\\00b7\"; padding: 0 .5ex}\n",
       "</style>\n",
       "<ol class=list-inline><li>FALSE</li><li>TRUE</li></ol>\n"
      ],
      "text/latex": [
       "\\begin{enumerate*}\n",
       "\\item FALSE\n",
       "\\item TRUE\n",
       "\\end{enumerate*}\n"
      ],
      "text/markdown": [
       "1. FALSE\n",
       "2. TRUE\n",
       "\n",
       "\n"
      ],
      "text/plain": [
       "[1] FALSE  TRUE"
      ]
     },
     "metadata": {},
     "output_type": "display_data"
    }
   ],
   "source": [
    "unique(df_published$ESTU_LIMITA_INVIDENTE)"
   ]
  },
  {
   "cell_type": "markdown",
   "metadata": {},
   "source": [
    "#### ESTU_LIMITA_CONDICIONESPECIAL"
   ]
  },
  {
   "cell_type": "code",
   "execution_count": 55,
   "metadata": {
    "ExecuteTime": {
     "end_time": "2021-08-24T17:31:16.027742Z",
     "start_time": "2021-08-24T17:31:10.519Z"
    }
   },
   "outputs": [],
   "source": [
    "df_published$ESTU_LIMITA_CONDICIONESPECIAL = as.character(df_published$ESTU_LIMITA_CONDICIONESPECIAL)\n",
    "df_published$ESTU_LIMITA_CONDICIONESPECIAL[is.na(df_published$ESTU_LIMITA_CONDICIONESPECIAL)] = FALSE\n",
    "df_published$ESTU_LIMITA_CONDICIONESPECIAL[df_published$ESTU_LIMITA_CONDICIONESPECIAL == 'x'] = TRUE\n",
    "df_published$ESTU_LIMITA_CONDICIONESPECIAL = as.logical(df_published$ESTU_LIMITA_CONDICIONESPECIAL)"
   ]
  },
  {
   "cell_type": "code",
   "execution_count": 56,
   "metadata": {
    "ExecuteTime": {
     "end_time": "2021-08-24T17:31:16.040745Z",
     "start_time": "2021-08-24T17:31:10.522Z"
    }
   },
   "outputs": [
    {
     "data": {
      "text/html": [
       "'logical'"
      ],
      "text/latex": [
       "'logical'"
      ],
      "text/markdown": [
       "'logical'"
      ],
      "text/plain": [
       "[1] \"logical\""
      ]
     },
     "metadata": {},
     "output_type": "display_data"
    }
   ],
   "source": [
    "class(df_published$ESTU_LIMITA_INVIDENTE)"
   ]
  },
  {
   "cell_type": "code",
   "execution_count": 57,
   "metadata": {
    "ExecuteTime": {
     "end_time": "2021-08-24T17:31:16.058058Z",
     "start_time": "2021-08-24T17:31:10.524Z"
    }
   },
   "outputs": [
    {
     "data": {
      "text/html": [
       "<style>\n",
       ".list-inline {list-style: none; margin:0; padding: 0}\n",
       ".list-inline>li {display: inline-block}\n",
       ".list-inline>li:not(:last-child)::after {content: \"\\00b7\"; padding: 0 .5ex}\n",
       "</style>\n",
       "<ol class=list-inline><li>FALSE</li><li>TRUE</li></ol>\n"
      ],
      "text/latex": [
       "\\begin{enumerate*}\n",
       "\\item FALSE\n",
       "\\item TRUE\n",
       "\\end{enumerate*}\n"
      ],
      "text/markdown": [
       "1. FALSE\n",
       "2. TRUE\n",
       "\n",
       "\n"
      ],
      "text/plain": [
       "[1] FALSE  TRUE"
      ]
     },
     "metadata": {},
     "output_type": "display_data"
    }
   ],
   "source": [
    "unique(df_published$ESTU_LIMITA_INVIDENTE)"
   ]
  },
  {
   "cell_type": "markdown",
   "metadata": {},
   "source": [
    "#### ESTU_LIMITA_SORDO"
   ]
  },
  {
   "cell_type": "code",
   "execution_count": 58,
   "metadata": {
    "ExecuteTime": {
     "end_time": "2021-08-24T17:31:16.080914Z",
     "start_time": "2021-08-24T17:31:10.528Z"
    }
   },
   "outputs": [],
   "source": [
    "df_published$ESTU_LIMITA_SORDO = as.character(df_published$ESTU_LIMITA_SORDO)\n",
    "df_published$ESTU_LIMITA_SORDO[is.na(df_published$ESTU_LIMITA_SORDO)] = FALSE\n",
    "df_published$ESTU_LIMITA_SORDO[df_published$ESTU_LIMITA_SORDO == 'x'] = TRUE\n",
    "df_published$ESTU_LIMITA_SORDO = as.logical(df_published$ESTU_LIMITA_SORDO)"
   ]
  },
  {
   "cell_type": "code",
   "execution_count": 59,
   "metadata": {
    "ExecuteTime": {
     "end_time": "2021-08-24T17:31:16.097361Z",
     "start_time": "2021-08-24T17:31:10.531Z"
    }
   },
   "outputs": [
    {
     "data": {
      "text/html": [
       "'logical'"
      ],
      "text/latex": [
       "'logical'"
      ],
      "text/markdown": [
       "'logical'"
      ],
      "text/plain": [
       "[1] \"logical\""
      ]
     },
     "metadata": {},
     "output_type": "display_data"
    }
   ],
   "source": [
    "class(df_published$ESTU_LIMITA_SORDO)"
   ]
  },
  {
   "cell_type": "code",
   "execution_count": 60,
   "metadata": {
    "ExecuteTime": {
     "end_time": "2021-08-24T17:31:16.113332Z",
     "start_time": "2021-08-24T17:31:10.533Z"
    }
   },
   "outputs": [
    {
     "data": {
      "text/html": [
       "<style>\n",
       ".list-inline {list-style: none; margin:0; padding: 0}\n",
       ".list-inline>li {display: inline-block}\n",
       ".list-inline>li:not(:last-child)::after {content: \"\\00b7\"; padding: 0 .5ex}\n",
       "</style>\n",
       "<ol class=list-inline><li>FALSE</li><li>TRUE</li></ol>\n"
      ],
      "text/latex": [
       "\\begin{enumerate*}\n",
       "\\item FALSE\n",
       "\\item TRUE\n",
       "\\end{enumerate*}\n"
      ],
      "text/markdown": [
       "1. FALSE\n",
       "2. TRUE\n",
       "\n",
       "\n"
      ],
      "text/plain": [
       "[1] FALSE  TRUE"
      ]
     },
     "metadata": {},
     "output_type": "display_data"
    }
   ],
   "source": [
    "unique(df_published$ESTU_LIMITA_SORDO)"
   ]
  },
  {
   "cell_type": "markdown",
   "metadata": {},
   "source": [
    "#### ESTU_LIMITA_AUTISMO"
   ]
  },
  {
   "cell_type": "code",
   "execution_count": 61,
   "metadata": {
    "ExecuteTime": {
     "end_time": "2021-08-24T17:31:16.134797Z",
     "start_time": "2021-08-24T17:31:10.537Z"
    }
   },
   "outputs": [],
   "source": [
    "df_published$ESTU_LIMITA_AUTISMO = as.character(df_published$ESTU_LIMITA_AUTISMO)\n",
    "df_published$ESTU_LIMITA_AUTISMO[is.na(df_published$ESTU_LIMITA_AUTISMO)] = FALSE\n",
    "df_published$ESTU_LIMITA_AUTISMO[df_published$ESTU_LIMITA_AUTISMO == 'x'] = TRUE\n",
    "df_published$ESTU_LIMITA_AUTISMO = as.logical(df_published$ESTU_LIMITA_AUTISMO)"
   ]
  },
  {
   "cell_type": "code",
   "execution_count": 62,
   "metadata": {
    "ExecuteTime": {
     "end_time": "2021-08-24T17:31:16.150268Z",
     "start_time": "2021-08-24T17:31:10.540Z"
    }
   },
   "outputs": [
    {
     "data": {
      "text/html": [
       "'logical'"
      ],
      "text/latex": [
       "'logical'"
      ],
      "text/markdown": [
       "'logical'"
      ],
      "text/plain": [
       "[1] \"logical\""
      ]
     },
     "metadata": {},
     "output_type": "display_data"
    }
   ],
   "source": [
    "class(df_published$ESTU_LIMITA_AUTISMO)"
   ]
  },
  {
   "cell_type": "code",
   "execution_count": 63,
   "metadata": {
    "ExecuteTime": {
     "end_time": "2021-08-24T17:31:16.173869Z",
     "start_time": "2021-08-24T17:31:10.542Z"
    }
   },
   "outputs": [
    {
     "data": {
      "text/html": [
       "<style>\n",
       ".list-inline {list-style: none; margin:0; padding: 0}\n",
       ".list-inline>li {display: inline-block}\n",
       ".list-inline>li:not(:last-child)::after {content: \"\\00b7\"; padding: 0 .5ex}\n",
       "</style>\n",
       "<ol class=list-inline><li>FALSE</li><li>TRUE</li></ol>\n"
      ],
      "text/latex": [
       "\\begin{enumerate*}\n",
       "\\item FALSE\n",
       "\\item TRUE\n",
       "\\end{enumerate*}\n"
      ],
      "text/markdown": [
       "1. FALSE\n",
       "2. TRUE\n",
       "\n",
       "\n"
      ],
      "text/plain": [
       "[1] FALSE  TRUE"
      ]
     },
     "metadata": {},
     "output_type": "display_data"
    }
   ],
   "source": [
    "unique(df_published$ESTU_LIMITA_AUTISMO)"
   ]
  },
  {
   "cell_type": "code",
   "execution_count": 64,
   "metadata": {
    "ExecuteTime": {
     "end_time": "2021-08-24T17:31:16.194644Z",
     "start_time": "2021-08-24T17:31:10.545Z"
    }
   },
   "outputs": [
    {
     "data": {
      "text/html": [
       "<dl>\n",
       "\t<dt>$ESTU_LIMITA_MOTRIZ</dt>\n",
       "\t\t<dd><style>\n",
       ".list-inline {list-style: none; margin:0; padding: 0}\n",
       ".list-inline>li {display: inline-block}\n",
       ".list-inline>li:not(:last-child)::after {content: \"\\00b7\"; padding: 0 .5ex}\n",
       "</style>\n",
       "<ol class=list-inline><li>FALSE</li><li>TRUE</li></ol>\n",
       "</dd>\n",
       "\t<dt>$ESTU_LIMITA_INVIDENTE</dt>\n",
       "\t\t<dd><style>\n",
       ".list-inline {list-style: none; margin:0; padding: 0}\n",
       ".list-inline>li {display: inline-block}\n",
       ".list-inline>li:not(:last-child)::after {content: \"\\00b7\"; padding: 0 .5ex}\n",
       "</style>\n",
       "<ol class=list-inline><li>FALSE</li><li>TRUE</li></ol>\n",
       "</dd>\n",
       "\t<dt>$ESTU_LIMITA_CONDICIONESPECIAL</dt>\n",
       "\t\t<dd><style>\n",
       ".list-inline {list-style: none; margin:0; padding: 0}\n",
       ".list-inline>li {display: inline-block}\n",
       ".list-inline>li:not(:last-child)::after {content: \"\\00b7\"; padding: 0 .5ex}\n",
       "</style>\n",
       "<ol class=list-inline><li>FALSE</li><li>TRUE</li></ol>\n",
       "</dd>\n",
       "\t<dt>$ESTU_LIMITA_SORDO</dt>\n",
       "\t\t<dd><style>\n",
       ".list-inline {list-style: none; margin:0; padding: 0}\n",
       ".list-inline>li {display: inline-block}\n",
       ".list-inline>li:not(:last-child)::after {content: \"\\00b7\"; padding: 0 .5ex}\n",
       "</style>\n",
       "<ol class=list-inline><li>FALSE</li><li>TRUE</li></ol>\n",
       "</dd>\n",
       "\t<dt>$ESTU_LIMITA_AUTISMO</dt>\n",
       "\t\t<dd><style>\n",
       ".list-inline {list-style: none; margin:0; padding: 0}\n",
       ".list-inline>li {display: inline-block}\n",
       ".list-inline>li:not(:last-child)::after {content: \"\\00b7\"; padding: 0 .5ex}\n",
       "</style>\n",
       "<ol class=list-inline><li>FALSE</li><li>TRUE</li></ol>\n",
       "</dd>\n",
       "</dl>\n"
      ],
      "text/latex": [
       "\\begin{description}\n",
       "\\item[\\$ESTU\\_LIMITA\\_MOTRIZ] \\begin{enumerate*}\n",
       "\\item FALSE\n",
       "\\item TRUE\n",
       "\\end{enumerate*}\n",
       "\n",
       "\\item[\\$ESTU\\_LIMITA\\_INVIDENTE] \\begin{enumerate*}\n",
       "\\item FALSE\n",
       "\\item TRUE\n",
       "\\end{enumerate*}\n",
       "\n",
       "\\item[\\$ESTU\\_LIMITA\\_CONDICIONESPECIAL] \\begin{enumerate*}\n",
       "\\item FALSE\n",
       "\\item TRUE\n",
       "\\end{enumerate*}\n",
       "\n",
       "\\item[\\$ESTU\\_LIMITA\\_SORDO] \\begin{enumerate*}\n",
       "\\item FALSE\n",
       "\\item TRUE\n",
       "\\end{enumerate*}\n",
       "\n",
       "\\item[\\$ESTU\\_LIMITA\\_AUTISMO] \\begin{enumerate*}\n",
       "\\item FALSE\n",
       "\\item TRUE\n",
       "\\end{enumerate*}\n",
       "\n",
       "\\end{description}\n"
      ],
      "text/markdown": [
       "$ESTU_LIMITA_MOTRIZ\n",
       ":   1. FALSE\n",
       "2. TRUE\n",
       "\n",
       "\n",
       "\n",
       "$ESTU_LIMITA_INVIDENTE\n",
       ":   1. FALSE\n",
       "2. TRUE\n",
       "\n",
       "\n",
       "\n",
       "$ESTU_LIMITA_CONDICIONESPECIAL\n",
       ":   1. FALSE\n",
       "2. TRUE\n",
       "\n",
       "\n",
       "\n",
       "$ESTU_LIMITA_SORDO\n",
       ":   1. FALSE\n",
       "2. TRUE\n",
       "\n",
       "\n",
       "\n",
       "$ESTU_LIMITA_AUTISMO\n",
       ":   1. FALSE\n",
       "2. TRUE\n",
       "\n",
       "\n",
       "\n",
       "\n",
       "\n"
      ],
      "text/plain": [
       "$ESTU_LIMITA_MOTRIZ\n",
       "[1] FALSE  TRUE\n",
       "\n",
       "$ESTU_LIMITA_INVIDENTE\n",
       "[1] FALSE  TRUE\n",
       "\n",
       "$ESTU_LIMITA_CONDICIONESPECIAL\n",
       "[1] FALSE  TRUE\n",
       "\n",
       "$ESTU_LIMITA_SORDO\n",
       "[1] FALSE  TRUE\n",
       "\n",
       "$ESTU_LIMITA_AUTISMO\n",
       "[1] FALSE  TRUE\n"
      ]
     },
     "metadata": {},
     "output_type": "display_data"
    }
   ],
   "source": [
    "lapply(df_published[c(11:15)], unique)"
   ]
  },
  {
   "cell_type": "markdown",
   "metadata": {},
   "source": [
    "Ya tenemos los campos de limitaciones estandarizados"
   ]
  },
  {
   "cell_type": "code",
   "execution_count": 65,
   "metadata": {
    "ExecuteTime": {
     "end_time": "2021-08-24T17:31:16.221526Z",
     "start_time": "2021-08-24T17:31:10.549Z"
    },
    "scrolled": true
   },
   "outputs": [
    {
     "data": {
      "text/html": [
       "<dl>\n",
       "\t<dt>$ESTU_TIPODOCUMENTO</dt>\n",
       "\t\t<dd>'factor'</dd>\n",
       "\t<dt>$ESTU_NACIONALIDAD</dt>\n",
       "\t\t<dd>'factor'</dd>\n",
       "\t<dt>$ESTU_GENERO</dt>\n",
       "\t\t<dd>'factor'</dd>\n",
       "\t<dt>$ESTU_FECHANACIMIENTO</dt>\n",
       "\t\t<dd>'Date'</dd>\n",
       "\t<dt>$PERIODO</dt>\n",
       "\t\t<dd>'factor'</dd>\n",
       "\t<dt>$ESTU_CONSECUTIVO</dt>\n",
       "\t\t<dd>'factor'</dd>\n",
       "\t<dt>$ESTU_ESTUDIANTE</dt>\n",
       "\t\t<dd>'factor'</dd>\n",
       "\t<dt>$ESTU_ESTADOCIVIL</dt>\n",
       "\t\t<dd>'factor'</dd>\n",
       "\t<dt>$ESTU_TIENE_ETNIA</dt>\n",
       "\t\t<dd>'logical'</dd>\n",
       "\t<dt>$ESTU_ETNIA</dt>\n",
       "\t\t<dd>'factor'</dd>\n",
       "\t<dt>$ESTU_LIMITA_MOTRIZ</dt>\n",
       "\t\t<dd>'logical'</dd>\n",
       "\t<dt>$ESTU_LIMITA_INVIDENTE</dt>\n",
       "\t\t<dd>'logical'</dd>\n",
       "\t<dt>$ESTU_LIMITA_CONDICIONESPECIAL</dt>\n",
       "\t\t<dd>'logical'</dd>\n",
       "\t<dt>$ESTU_LIMITA_SORDO</dt>\n",
       "\t\t<dd>'logical'</dd>\n",
       "\t<dt>$ESTU_LIMITA_AUTISMO</dt>\n",
       "\t\t<dd>'logical'</dd>\n",
       "\t<dt>$MOD_RAZONA_CUANTITAT_PUNT</dt>\n",
       "\t\t<dd>'integer'</dd>\n",
       "\t<dt>$MOD_RAZONA_CUANTITATIVO_PNAL</dt>\n",
       "\t\t<dd>'integer'</dd>\n",
       "\t<dt>$MOD_RAZONA_CUANTITATIVO_PGREF</dt>\n",
       "\t\t<dd>'integer'</dd>\n",
       "\t<dt>$MOD_LECTURA_CRITICA_PUNT</dt>\n",
       "\t\t<dd>'integer'</dd>\n",
       "\t<dt>$MOD_LECTURA_CRITICA_PNAL</dt>\n",
       "\t\t<dd>'integer'</dd>\n",
       "\t<dt>$MOD_LECTURA_CRITICA_PGREF</dt>\n",
       "\t\t<dd>'integer'</dd>\n",
       "\t<dt>$MOD_COMPETEN_CIUDADA_PUNT</dt>\n",
       "\t\t<dd>'integer'</dd>\n",
       "\t<dt>$MOD_COMPETEN_CIUDADA_PNAL</dt>\n",
       "\t\t<dd>'integer'</dd>\n",
       "\t<dt>$MOD_COMPETEN_CIUDADA_PGREF</dt>\n",
       "\t\t<dd>'integer'</dd>\n",
       "\t<dt>$MOD_INGLES_PUNT</dt>\n",
       "\t\t<dd>'integer'</dd>\n",
       "\t<dt>$MOD_INGLES_DESEM</dt>\n",
       "\t\t<dd>'factor'</dd>\n",
       "\t<dt>$MOD_INGLES_PNAL</dt>\n",
       "\t\t<dd>'integer'</dd>\n",
       "\t<dt>$MOD_INGLES_PGREF</dt>\n",
       "\t\t<dd>'integer'</dd>\n",
       "\t<dt>$MOD_COMUNI_ESCRITA_PUNT</dt>\n",
       "\t\t<dd>'integer'</dd>\n",
       "\t<dt>$MOD_COMUNI_ESCRITA_DESEM</dt>\n",
       "\t\t<dd>'factor'</dd>\n",
       "\t<dt>$MOD_COMUNI_ESCRITA_PNAL</dt>\n",
       "\t\t<dd>'integer'</dd>\n",
       "\t<dt>$MOD_COMUNI_ESCRITA_PGREF</dt>\n",
       "\t\t<dd>'integer'</dd>\n",
       "\t<dt>$ESTU_ESTADO</dt>\n",
       "\t\t<dd>'factor'</dd>\n",
       "\t<dt>$INSE</dt>\n",
       "\t\t<dd>'numeric'</dd>\n",
       "\t<dt>$NSE</dt>\n",
       "\t\t<dd>'factor'</dd>\n",
       "</dl>\n"
      ],
      "text/latex": [
       "\\begin{description}\n",
       "\\item[\\$ESTU\\_TIPODOCUMENTO] 'factor'\n",
       "\\item[\\$ESTU\\_NACIONALIDAD] 'factor'\n",
       "\\item[\\$ESTU\\_GENERO] 'factor'\n",
       "\\item[\\$ESTU\\_FECHANACIMIENTO] 'Date'\n",
       "\\item[\\$PERIODO] 'factor'\n",
       "\\item[\\$ESTU\\_CONSECUTIVO] 'factor'\n",
       "\\item[\\$ESTU\\_ESTUDIANTE] 'factor'\n",
       "\\item[\\$ESTU\\_ESTADOCIVIL] 'factor'\n",
       "\\item[\\$ESTU\\_TIENE\\_ETNIA] 'logical'\n",
       "\\item[\\$ESTU\\_ETNIA] 'factor'\n",
       "\\item[\\$ESTU\\_LIMITA\\_MOTRIZ] 'logical'\n",
       "\\item[\\$ESTU\\_LIMITA\\_INVIDENTE] 'logical'\n",
       "\\item[\\$ESTU\\_LIMITA\\_CONDICIONESPECIAL] 'logical'\n",
       "\\item[\\$ESTU\\_LIMITA\\_SORDO] 'logical'\n",
       "\\item[\\$ESTU\\_LIMITA\\_AUTISMO] 'logical'\n",
       "\\item[\\$MOD\\_RAZONA\\_CUANTITAT\\_PUNT] 'integer'\n",
       "\\item[\\$MOD\\_RAZONA\\_CUANTITATIVO\\_PNAL] 'integer'\n",
       "\\item[\\$MOD\\_RAZONA\\_CUANTITATIVO\\_PGREF] 'integer'\n",
       "\\item[\\$MOD\\_LECTURA\\_CRITICA\\_PUNT] 'integer'\n",
       "\\item[\\$MOD\\_LECTURA\\_CRITICA\\_PNAL] 'integer'\n",
       "\\item[\\$MOD\\_LECTURA\\_CRITICA\\_PGREF] 'integer'\n",
       "\\item[\\$MOD\\_COMPETEN\\_CIUDADA\\_PUNT] 'integer'\n",
       "\\item[\\$MOD\\_COMPETEN\\_CIUDADA\\_PNAL] 'integer'\n",
       "\\item[\\$MOD\\_COMPETEN\\_CIUDADA\\_PGREF] 'integer'\n",
       "\\item[\\$MOD\\_INGLES\\_PUNT] 'integer'\n",
       "\\item[\\$MOD\\_INGLES\\_DESEM] 'factor'\n",
       "\\item[\\$MOD\\_INGLES\\_PNAL] 'integer'\n",
       "\\item[\\$MOD\\_INGLES\\_PGREF] 'integer'\n",
       "\\item[\\$MOD\\_COMUNI\\_ESCRITA\\_PUNT] 'integer'\n",
       "\\item[\\$MOD\\_COMUNI\\_ESCRITA\\_DESEM] 'factor'\n",
       "\\item[\\$MOD\\_COMUNI\\_ESCRITA\\_PNAL] 'integer'\n",
       "\\item[\\$MOD\\_COMUNI\\_ESCRITA\\_PGREF] 'integer'\n",
       "\\item[\\$ESTU\\_ESTADO] 'factor'\n",
       "\\item[\\$INSE] 'numeric'\n",
       "\\item[\\$NSE] 'factor'\n",
       "\\end{description}\n"
      ],
      "text/markdown": [
       "$ESTU_TIPODOCUMENTO\n",
       ":   'factor'\n",
       "$ESTU_NACIONALIDAD\n",
       ":   'factor'\n",
       "$ESTU_GENERO\n",
       ":   'factor'\n",
       "$ESTU_FECHANACIMIENTO\n",
       ":   'Date'\n",
       "$PERIODO\n",
       ":   'factor'\n",
       "$ESTU_CONSECUTIVO\n",
       ":   'factor'\n",
       "$ESTU_ESTUDIANTE\n",
       ":   'factor'\n",
       "$ESTU_ESTADOCIVIL\n",
       ":   'factor'\n",
       "$ESTU_TIENE_ETNIA\n",
       ":   'logical'\n",
       "$ESTU_ETNIA\n",
       ":   'factor'\n",
       "$ESTU_LIMITA_MOTRIZ\n",
       ":   'logical'\n",
       "$ESTU_LIMITA_INVIDENTE\n",
       ":   'logical'\n",
       "$ESTU_LIMITA_CONDICIONESPECIAL\n",
       ":   'logical'\n",
       "$ESTU_LIMITA_SORDO\n",
       ":   'logical'\n",
       "$ESTU_LIMITA_AUTISMO\n",
       ":   'logical'\n",
       "$MOD_RAZONA_CUANTITAT_PUNT\n",
       ":   'integer'\n",
       "$MOD_RAZONA_CUANTITATIVO_PNAL\n",
       ":   'integer'\n",
       "$MOD_RAZONA_CUANTITATIVO_PGREF\n",
       ":   'integer'\n",
       "$MOD_LECTURA_CRITICA_PUNT\n",
       ":   'integer'\n",
       "$MOD_LECTURA_CRITICA_PNAL\n",
       ":   'integer'\n",
       "$MOD_LECTURA_CRITICA_PGREF\n",
       ":   'integer'\n",
       "$MOD_COMPETEN_CIUDADA_PUNT\n",
       ":   'integer'\n",
       "$MOD_COMPETEN_CIUDADA_PNAL\n",
       ":   'integer'\n",
       "$MOD_COMPETEN_CIUDADA_PGREF\n",
       ":   'integer'\n",
       "$MOD_INGLES_PUNT\n",
       ":   'integer'\n",
       "$MOD_INGLES_DESEM\n",
       ":   'factor'\n",
       "$MOD_INGLES_PNAL\n",
       ":   'integer'\n",
       "$MOD_INGLES_PGREF\n",
       ":   'integer'\n",
       "$MOD_COMUNI_ESCRITA_PUNT\n",
       ":   'integer'\n",
       "$MOD_COMUNI_ESCRITA_DESEM\n",
       ":   'factor'\n",
       "$MOD_COMUNI_ESCRITA_PNAL\n",
       ":   'integer'\n",
       "$MOD_COMUNI_ESCRITA_PGREF\n",
       ":   'integer'\n",
       "$ESTU_ESTADO\n",
       ":   'factor'\n",
       "$INSE\n",
       ":   'numeric'\n",
       "$NSE\n",
       ":   'factor'\n",
       "\n",
       "\n"
      ],
      "text/plain": [
       "$ESTU_TIPODOCUMENTO\n",
       "[1] \"factor\"\n",
       "\n",
       "$ESTU_NACIONALIDAD\n",
       "[1] \"factor\"\n",
       "\n",
       "$ESTU_GENERO\n",
       "[1] \"factor\"\n",
       "\n",
       "$ESTU_FECHANACIMIENTO\n",
       "[1] \"Date\"\n",
       "\n",
       "$PERIODO\n",
       "[1] \"factor\"\n",
       "\n",
       "$ESTU_CONSECUTIVO\n",
       "[1] \"factor\"\n",
       "\n",
       "$ESTU_ESTUDIANTE\n",
       "[1] \"factor\"\n",
       "\n",
       "$ESTU_ESTADOCIVIL\n",
       "[1] \"factor\"\n",
       "\n",
       "$ESTU_TIENE_ETNIA\n",
       "[1] \"logical\"\n",
       "\n",
       "$ESTU_ETNIA\n",
       "[1] \"factor\"\n",
       "\n",
       "$ESTU_LIMITA_MOTRIZ\n",
       "[1] \"logical\"\n",
       "\n",
       "$ESTU_LIMITA_INVIDENTE\n",
       "[1] \"logical\"\n",
       "\n",
       "$ESTU_LIMITA_CONDICIONESPECIAL\n",
       "[1] \"logical\"\n",
       "\n",
       "$ESTU_LIMITA_SORDO\n",
       "[1] \"logical\"\n",
       "\n",
       "$ESTU_LIMITA_AUTISMO\n",
       "[1] \"logical\"\n",
       "\n",
       "$MOD_RAZONA_CUANTITAT_PUNT\n",
       "[1] \"integer\"\n",
       "\n",
       "$MOD_RAZONA_CUANTITATIVO_PNAL\n",
       "[1] \"integer\"\n",
       "\n",
       "$MOD_RAZONA_CUANTITATIVO_PGREF\n",
       "[1] \"integer\"\n",
       "\n",
       "$MOD_LECTURA_CRITICA_PUNT\n",
       "[1] \"integer\"\n",
       "\n",
       "$MOD_LECTURA_CRITICA_PNAL\n",
       "[1] \"integer\"\n",
       "\n",
       "$MOD_LECTURA_CRITICA_PGREF\n",
       "[1] \"integer\"\n",
       "\n",
       "$MOD_COMPETEN_CIUDADA_PUNT\n",
       "[1] \"integer\"\n",
       "\n",
       "$MOD_COMPETEN_CIUDADA_PNAL\n",
       "[1] \"integer\"\n",
       "\n",
       "$MOD_COMPETEN_CIUDADA_PGREF\n",
       "[1] \"integer\"\n",
       "\n",
       "$MOD_INGLES_PUNT\n",
       "[1] \"integer\"\n",
       "\n",
       "$MOD_INGLES_DESEM\n",
       "[1] \"factor\"\n",
       "\n",
       "$MOD_INGLES_PNAL\n",
       "[1] \"integer\"\n",
       "\n",
       "$MOD_INGLES_PGREF\n",
       "[1] \"integer\"\n",
       "\n",
       "$MOD_COMUNI_ESCRITA_PUNT\n",
       "[1] \"integer\"\n",
       "\n",
       "$MOD_COMUNI_ESCRITA_DESEM\n",
       "[1] \"factor\"\n",
       "\n",
       "$MOD_COMUNI_ESCRITA_PNAL\n",
       "[1] \"integer\"\n",
       "\n",
       "$MOD_COMUNI_ESCRITA_PGREF\n",
       "[1] \"integer\"\n",
       "\n",
       "$ESTU_ESTADO\n",
       "[1] \"factor\"\n",
       "\n",
       "$INSE\n",
       "[1] \"numeric\"\n",
       "\n",
       "$NSE\n",
       "[1] \"factor\"\n"
      ]
     },
     "metadata": {},
     "output_type": "display_data"
    }
   ],
   "source": [
    "lapply(df_published, class)"
   ]
  },
  {
   "cell_type": "markdown",
   "metadata": {},
   "source": [
    "Ya tenemos los valores en sus formatos correctos por lo que procederemos a ver la calidad de los datos."
   ]
  },
  {
   "cell_type": "markdown",
   "metadata": {},
   "source": [
    "## Calidad de los Datos"
   ]
  },
  {
   "cell_type": "markdown",
   "metadata": {},
   "source": [
    "### Fecha"
   ]
  },
  {
   "cell_type": "markdown",
   "metadata": {},
   "source": [
    "Todos los datos corresponden al 2016"
   ]
  },
  {
   "cell_type": "code",
   "execution_count": 66,
   "metadata": {
    "ExecuteTime": {
     "end_time": "2021-08-24T17:31:16.241667Z",
     "start_time": "2021-08-24T17:31:10.554Z"
    }
   },
   "outputs": [
    {
     "data": {
      "text/html": [
       "20164\n",
       "<details>\n",
       "\t<summary style=display:list-item;cursor:pointer>\n",
       "\t\t<strong>Levels</strong>:\n",
       "\t</summary>\n",
       "\t'20164'\n",
       "</details>"
      ],
      "text/latex": [
       "20164\n",
       "\\emph{Levels}: '20164'"
      ],
      "text/markdown": [
       "20164\n",
       "**Levels**: '20164'"
      ],
      "text/plain": [
       "[1] 20164\n",
       "Levels: 20164"
      ]
     },
     "metadata": {},
     "output_type": "display_data"
    }
   ],
   "source": [
    "unique(df_published$PERIODO)"
   ]
  },
  {
   "cell_type": "markdown",
   "metadata": {},
   "source": [
    "Podemos notar que hay fechas que han sido mal tomadas puesto que tienen fecha del 2024 cuando actualmente estamos en el 2021, es decir que hay personas que no han nacido en los datos. Este dato debería obtenerse desde una fuente de confianza como la registraduría y evitar que sean las personas quienes llenen estos datos. "
   ]
  },
  {
   "cell_type": "code",
   "execution_count": 67,
   "metadata": {
    "ExecuteTime": {
     "end_time": "2021-08-24T17:31:16.263574Z",
     "start_time": "2021-08-24T17:31:10.559Z"
    }
   },
   "outputs": [
    {
     "data": {
      "text/html": [
       "<time datetime=\"1944-12-13\">1944-12-13</time>"
      ],
      "text/latex": [
       "1944-12-13"
      ],
      "text/markdown": [
       "1944-12-13"
      ],
      "text/plain": [
       "[1] \"1944-12-13\""
      ]
     },
     "metadata": {},
     "output_type": "display_data"
    },
    {
     "data": {
      "text/html": [
       "<time datetime=\"2024-01-16\">2024-01-16</time>"
      ],
      "text/latex": [
       "2024-01-16"
      ],
      "text/markdown": [
       "2024-01-16"
      ],
      "text/plain": [
       "[1] \"2024-01-16\""
      ]
     },
     "metadata": {},
     "output_type": "display_data"
    }
   ],
   "source": [
    "min(df_published$ESTU_FECHANACIMIENTO, na.rm = TRUE)\n",
    "max(df_published$ESTU_FECHANACIMIENTO, na.rm = TRUE)"
   ]
  },
  {
   "cell_type": "markdown",
   "metadata": {},
   "source": [
    "Lo recomendable para esta situación es solicitar los datos a la registraduría o a una fuente que nos permita obtener la fecha de nacimiento con total certeza y sin errores."
   ]
  },
  {
   "cell_type": "code",
   "execution_count": 68,
   "metadata": {
    "ExecuteTime": {
     "end_time": "2021-08-24T17:31:16.438722Z",
     "start_time": "2021-08-24T17:31:10.571Z"
    },
    "scrolled": true
   },
   "outputs": [
    {
     "data": {
      "text/html": [
       "<table>\n",
       "<caption>A data.frame: 92 × 35</caption>\n",
       "<thead>\n",
       "\t<tr><th></th><th scope=col>ESTU_TIPODOCUMENTO</th><th scope=col>ESTU_NACIONALIDAD</th><th scope=col>ESTU_GENERO</th><th scope=col>ESTU_FECHANACIMIENTO</th><th scope=col>PERIODO</th><th scope=col>ESTU_CONSECUTIVO</th><th scope=col>ESTU_ESTUDIANTE</th><th scope=col>ESTU_ESTADOCIVIL</th><th scope=col>ESTU_TIENE_ETNIA</th><th scope=col>ESTU_ETNIA</th><th scope=col>⋯</th><th scope=col>MOD_INGLES_DESEM</th><th scope=col>MOD_INGLES_PNAL</th><th scope=col>MOD_INGLES_PGREF</th><th scope=col>MOD_COMUNI_ESCRITA_PUNT</th><th scope=col>MOD_COMUNI_ESCRITA_DESEM</th><th scope=col>MOD_COMUNI_ESCRITA_PNAL</th><th scope=col>MOD_COMUNI_ESCRITA_PGREF</th><th scope=col>ESTU_ESTADO</th><th scope=col>INSE</th><th scope=col>NSE</th></tr>\n",
       "\t<tr><th></th><th scope=col>&lt;fct&gt;</th><th scope=col>&lt;fct&gt;</th><th scope=col>&lt;fct&gt;</th><th scope=col>&lt;date&gt;</th><th scope=col>&lt;fct&gt;</th><th scope=col>&lt;fct&gt;</th><th scope=col>&lt;fct&gt;</th><th scope=col>&lt;fct&gt;</th><th scope=col>&lt;lgl&gt;</th><th scope=col>&lt;fct&gt;</th><th scope=col>⋯</th><th scope=col>&lt;fct&gt;</th><th scope=col>&lt;int&gt;</th><th scope=col>&lt;int&gt;</th><th scope=col>&lt;int&gt;</th><th scope=col>&lt;fct&gt;</th><th scope=col>&lt;int&gt;</th><th scope=col>&lt;int&gt;</th><th scope=col>&lt;fct&gt;</th><th scope=col>&lt;dbl&gt;</th><th scope=col>&lt;fct&gt;</th></tr>\n",
       "</thead>\n",
       "<tbody>\n",
       "\t<tr><th scope=row>387</th><td>TI</td><td>1 COLOMBIA</td><td>F</td><td>2001-04-16</td><td>20164</td><td>EK201640011705</td><td>ESTUDIANTE</td><td>SOLTERO    </td><td>FALSE</td><td>NA                          </td><td>⋯</td><td>A1 </td><td>49</td><td> 50</td><td>105</td><td>3 </td><td>61</td><td>61</td><td>PUBLICAR</td><td>38.15527</td><td>NSE1</td></tr>\n",
       "\t<tr><th scope=row>406</th><td>TI</td><td>1 COLOMBIA</td><td>F</td><td>2009-08-23</td><td>20164</td><td>EK201640022982</td><td>ESTUDIANTE</td><td>SOLTERO    </td><td>FALSE</td><td>NA                          </td><td>⋯</td><td>A2 </td><td>82</td><td> 82</td><td> 85</td><td>2 </td><td>27</td><td>29</td><td>PUBLICAR</td><td>55.36953</td><td>NSE2</td></tr>\n",
       "\t<tr><th scope=row>696</th><td>CC</td><td>1 COLOMBIA</td><td>F</td><td>2016-08-15</td><td>20164</td><td>EK201640036962</td><td>ESTUDIANTE</td><td>SOLTERO    </td><td>FALSE</td><td>NA                          </td><td>⋯</td><td>A1 </td><td>46</td><td> 44</td><td> 96</td><td>2 </td><td>34</td><td>30</td><td>PUBLICAR</td><td>45.57939</td><td>NSE1</td></tr>\n",
       "\t<tr><th scope=row>831</th><td>CC</td><td>1 COLOMBIA</td><td>M</td><td>2015-10-29</td><td>20164</td><td>EK201640031909</td><td>ESTUDIANTE</td><td>SOLTERO    </td><td>   NA</td><td>NA                          </td><td>⋯</td><td>A2 </td><td>84</td><td> 83</td><td>117</td><td>3 </td><td>78</td><td>75</td><td>PUBLICAR</td><td>59.17248</td><td>NSE4</td></tr>\n",
       "\t<tr><th scope=row>1584</th><td>CC</td><td>1 COLOMBIA</td><td>M</td><td>2016-05-14</td><td>20164</td><td>EK201640016911</td><td>ESTUDIANTE</td><td>SOLTERO    </td><td>FALSE</td><td>NA                          </td><td>⋯</td><td>B2 </td><td>99</td><td> 99</td><td>100</td><td>2 </td><td>47</td><td>46</td><td>PUBLICAR</td><td>48.36100</td><td>NSE2</td></tr>\n",
       "\t<tr><th scope=row>2192</th><td>CC</td><td>1 COLOMBIA</td><td>F</td><td>2004-10-16</td><td>20164</td><td>EK201640039006</td><td>ESTUDIANTE</td><td>UNIÓN LIBRE</td><td>FALSE</td><td>NA                          </td><td>⋯</td><td>A1 </td><td>26</td><td> 24</td><td>120</td><td>3 </td><td>85</td><td>83</td><td>PUBLICAR</td><td>50.44390</td><td>NSE2</td></tr>\n",
       "\t<tr><th scope=row>5020</th><td>TI</td><td>1 COLOMBIA</td><td>F</td><td>2001-01-16</td><td>20164</td><td>EK201640047512</td><td>ESTUDIANTE</td><td>SOLTERO    </td><td>FALSE</td><td>NA                          </td><td>⋯</td><td>A2 </td><td>74</td><td> 75</td><td> 82</td><td>2 </td><td>20</td><td>20</td><td>PUBLICAR</td><td>63.72377</td><td>NSE4</td></tr>\n",
       "\t<tr><th scope=row>5063</th><td>CC</td><td>1 COLOMBIA</td><td>F</td><td>2016-07-08</td><td>20164</td><td>EK201640051188</td><td>ESTUDIANTE</td><td>SOLTERO    </td><td>FALSE</td><td>NA                          </td><td>⋯</td><td>A2 </td><td>69</td><td> 84</td><td> 76</td><td>1 </td><td>14</td><td>16</td><td>PUBLICAR</td><td>      NA</td><td>NA  </td></tr>\n",
       "\t<tr><th scope=row>5065</th><td>CC</td><td>1 COLOMBIA</td><td>F</td><td>2016-08-09</td><td>20164</td><td>EK201640047977</td><td>ESTUDIANTE</td><td>SOLTERO    </td><td>FALSE</td><td>NA                          </td><td>⋯</td><td>A1-</td><td>12</td><td> 10</td><td> 75</td><td>1 </td><td>13</td><td>11</td><td>PUBLICAR</td><td>60.34192</td><td>NSE4</td></tr>\n",
       "\t<tr><th scope=row>5153</th><td>CC</td><td>1 COLOMBIA</td><td>F</td><td>2015-03-30</td><td>20164</td><td>EK201640053450</td><td>ESTUDIANTE</td><td>SOLTERO    </td><td>   NA</td><td>NA                          </td><td>⋯</td><td>A2 </td><td>80</td><td> 77</td><td>123</td><td>4 </td><td>89</td><td>89</td><td>PUBLICAR</td><td>58.73706</td><td>NSE3</td></tr>\n",
       "\t<tr><th scope=row>5641</th><td>CC</td><td>1 COLOMBIA</td><td>F</td><td>2016-01-26</td><td>20164</td><td>EK201640009440</td><td>ESTUDIANTE</td><td>CASADO     </td><td>FALSE</td><td>NA                          </td><td>⋯</td><td>A1 </td><td>36</td><td> 34</td><td>120</td><td>3 </td><td>85</td><td>83</td><td>PUBLICAR</td><td>52.34551</td><td>NSE2</td></tr>\n",
       "\t<tr><th scope=row>5667</th><td>TI</td><td>1 COLOMBIA</td><td>F</td><td>2001-10-22</td><td>20164</td><td>EK201640053791</td><td>ESTUDIANTE</td><td>NA         </td><td>   NA</td><td>NA                          </td><td>⋯</td><td>B2 </td><td>99</td><td>100</td><td>118</td><td>3 </td><td>79</td><td>80</td><td>PUBLICAR</td><td>53.23489</td><td>NSE2</td></tr>\n",
       "\t<tr><th scope=row>6035</th><td>CC</td><td>1 COLOMBIA</td><td>M</td><td>2016-03-03</td><td>20164</td><td>EK201640055312</td><td>ESTUDIANTE</td><td>SOLTERO    </td><td>FALSE</td><td>NA                          </td><td>⋯</td><td>A1 </td><td>48</td><td> 44</td><td>108</td><td>3 </td><td>71</td><td>71</td><td>PUBLICAR</td><td>56.26345</td><td>NSE3</td></tr>\n",
       "\t<tr><th scope=row>6355</th><td>CC</td><td>1 COLOMBIA</td><td>M</td><td>2016-04-04</td><td>20164</td><td>EK201640033078</td><td>ESTUDIANTE</td><td>SOLTERO    </td><td> TRUE</td><td>1 Comunidad afrodescendiente</td><td>⋯</td><td>A1 </td><td>35</td><td> 31</td><td>105</td><td>3 </td><td>64</td><td>64</td><td>PUBLICAR</td><td>56.28231</td><td>NSE3</td></tr>\n",
       "\t<tr><th scope=row>6383</th><td>CC</td><td>1 COLOMBIA</td><td>M</td><td>2002-04-22</td><td>20164</td><td>EK201640042438</td><td>ESTUDIANTE</td><td>SOLTERO    </td><td> TRUE</td><td>100 Ninguno                 </td><td>⋯</td><td>A1 </td><td>44</td><td> 42</td><td>124</td><td>4 </td><td>90</td><td>88</td><td>PUBLICAR</td><td>61.14856</td><td>NSE4</td></tr>\n",
       "\t<tr><th scope=row>9221</th><td>CC</td><td>1 COLOMBIA</td><td>M</td><td>2016-01-31</td><td>20164</td><td>EK201640028658</td><td>ESTUDIANTE</td><td>SOLTERO    </td><td>FALSE</td><td>NA                          </td><td>⋯</td><td>A2 </td><td>72</td><td> 57</td><td> 78</td><td>1 </td><td>15</td><td>16</td><td>PUBLICAR</td><td>38.24368</td><td>NSE1</td></tr>\n",
       "\t<tr><th scope=row>11479</th><td>CC</td><td>1 COLOMBIA</td><td>M</td><td>2016-05-18</td><td>20164</td><td>EK201640021121</td><td>ESTUDIANTE</td><td>SOLTERO    </td><td>FALSE</td><td>NA                          </td><td>⋯</td><td>B2 </td><td>98</td><td> 98</td><td>106</td><td>3 </td><td>67</td><td>63</td><td>PUBLICAR</td><td>45.54476</td><td>NSE1</td></tr>\n",
       "\t<tr><th scope=row>11801</th><td>CC</td><td>1 COLOMBIA</td><td>F</td><td>2016-12-12</td><td>20164</td><td>EK201640052670</td><td>ESTUDIANTE</td><td>SOLTERO    </td><td>FALSE</td><td>NA                          </td><td>⋯</td><td>A1-</td><td>20</td><td> 18</td><td> 88</td><td>2 </td><td>31</td><td>27</td><td>PUBLICAR</td><td>48.22620</td><td>NSE2</td></tr>\n",
       "\t<tr><th scope=row>12901</th><td>CC</td><td>1 COLOMBIA</td><td>M</td><td>2015-10-18</td><td>20164</td><td>EK201640028549</td><td>ESTUDIANTE</td><td>SOLTERO    </td><td>FALSE</td><td>NA                          </td><td>⋯</td><td>A1 </td><td>27</td><td> 34</td><td> 61</td><td>1 </td><td> 2</td><td> 2</td><td>PUBLICAR</td><td>47.40286</td><td>NSE2</td></tr>\n",
       "\t<tr><th scope=row>13024</th><td>TI</td><td>1 COLOMBIA</td><td>F</td><td>2014-05-02</td><td>20164</td><td>EK201640009164</td><td>ESTUDIANTE</td><td>SOLTERO    </td><td> TRUE</td><td>NA                          </td><td>⋯</td><td>A2 </td><td>64</td><td> 64</td><td> 98</td><td>2 </td><td>37</td><td>37</td><td>PUBLICAR</td><td>62.33628</td><td>NSE4</td></tr>\n",
       "\t<tr><th scope=row>14260</th><td>TI</td><td>1 COLOMBIA</td><td>F</td><td>2001-05-06</td><td>20164</td><td>EK201640012757</td><td>ESTUDIANTE</td><td>SOLTERO    </td><td>FALSE</td><td>NA                          </td><td>⋯</td><td>B1 </td><td>89</td><td> 90</td><td>142</td><td>4 </td><td>98</td><td>98</td><td>PUBLICAR</td><td>57.30403</td><td>NSE3</td></tr>\n",
       "\t<tr><th scope=row>15084</th><td>CC</td><td>1 COLOMBIA</td><td>M</td><td>2016-06-16</td><td>20164</td><td>EK201640044411</td><td>ESTUDIANTE</td><td>SOLTERO    </td><td>FALSE</td><td>NA                          </td><td>⋯</td><td>A1 </td><td>26</td><td> 38</td><td> 83</td><td>2 </td><td>22</td><td>26</td><td>PUBLICAR</td><td>47.74776</td><td>NSE2</td></tr>\n",
       "\t<tr><th scope=row>15104</th><td>CC</td><td>1 COLOMBIA</td><td>M</td><td>2002-12-03</td><td>20164</td><td>EK201640033342</td><td>ESTUDIANTE</td><td>SOLTERO    </td><td> TRUE</td><td>100 Ninguno                 </td><td>⋯</td><td>A2 </td><td>66</td><td> 51</td><td> 87</td><td>2 </td><td>31</td><td>31</td><td>PUBLICAR</td><td>56.39712</td><td>NSE3</td></tr>\n",
       "\t<tr><th scope=row>15559</th><td>CC</td><td>1 COLOMBIA</td><td>F</td><td>2016-04-12</td><td>20164</td><td>EK201640021620</td><td>ESTUDIANTE</td><td>SOLTERO    </td><td>   NA</td><td>NA                          </td><td>⋯</td><td>A1-</td><td>19</td><td> 17</td><td> 64</td><td>1 </td><td> 5</td><td> 4</td><td>PUBLICAR</td><td>39.54439</td><td>NSE1</td></tr>\n",
       "\t<tr><th scope=row>16096</th><td>CC</td><td>1 COLOMBIA</td><td>F</td><td>2004-08-30</td><td>20164</td><td>EK201640035193</td><td>ESTUDIANTE</td><td>SOLTERO    </td><td>FALSE</td><td>NA                          </td><td>⋯</td><td>A1-</td><td>23</td><td> 22</td><td> 80</td><td>1 </td><td>19</td><td>17</td><td>PUBLICAR</td><td>57.11619</td><td>NSE3</td></tr>\n",
       "\t<tr><th scope=row>16268</th><td>CC</td><td>1 COLOMBIA</td><td>F</td><td>2016-08-27</td><td>20164</td><td>EK201640006143</td><td>ESTUDIANTE</td><td>SOLTERO    </td><td>FALSE</td><td>NA                          </td><td>⋯</td><td>A1 </td><td>30</td><td> 28</td><td> 85</td><td>2 </td><td>27</td><td>23</td><td>PUBLICAR</td><td>55.01909</td><td>NSE2</td></tr>\n",
       "\t<tr><th scope=row>16401</th><td>CC</td><td>1 COLOMBIA</td><td>M</td><td>2016-07-25</td><td>20164</td><td>EK201640004414</td><td>ESTUDIANTE</td><td>CASADO     </td><td>FALSE</td><td>NA                          </td><td>⋯</td><td>A2 </td><td>80</td><td> 79</td><td>124</td><td>4 </td><td>90</td><td>89</td><td>PUBLICAR</td><td>65.57603</td><td>NSE4</td></tr>\n",
       "\t<tr><th scope=row>16839</th><td>CC</td><td>1 COLOMBIA</td><td>M</td><td>2001-12-07</td><td>20164</td><td>EK201640011703</td><td>ESTUDIANTE</td><td>SOLTERO    </td><td>   NA</td><td>NA                          </td><td>⋯</td><td>A1-</td><td> 4</td><td>  7</td><td> NA</td><td>NA</td><td>NA</td><td>NA</td><td>PUBLICAR</td><td>45.29214</td><td>NSE1</td></tr>\n",
       "\t<tr><th scope=row>17166</th><td>CC</td><td>1 COLOMBIA</td><td>F</td><td>2016-03-06</td><td>20164</td><td>EK201640015015</td><td>ESTUDIANTE</td><td>UNIÓN LIBRE</td><td>FALSE</td><td>NA                          </td><td>⋯</td><td>A1-</td><td>20</td><td> 18</td><td> 63</td><td>1 </td><td> 4</td><td> 3</td><td>PUBLICAR</td><td>45.43179</td><td>NSE1</td></tr>\n",
       "\t<tr><th scope=row>17435</th><td>TI</td><td>1 COLOMBIA</td><td>F</td><td>2001-02-11</td><td>20164</td><td>EK201640011228</td><td>ESTUDIANTE</td><td>SOLTERO    </td><td>FALSE</td><td>NA                          </td><td>⋯</td><td>A2 </td><td>78</td><td> 79</td><td>100</td><td>2 </td><td>49</td><td>49</td><td>PUBLICAR</td><td>55.56852</td><td>NSE3</td></tr>\n",
       "\t<tr><th scope=row>⋮</th><td>⋮</td><td>⋮</td><td>⋮</td><td>⋮</td><td>⋮</td><td>⋮</td><td>⋮</td><td>⋮</td><td>⋮</td><td>⋮</td><td>⋱</td><td>⋮</td><td>⋮</td><td>⋮</td><td>⋮</td><td>⋮</td><td>⋮</td><td>⋮</td><td>⋮</td><td>⋮</td><td>⋮</td></tr>\n",
       "\t<tr><th scope=row>37522</th><td>CC</td><td>1 COLOMBIA</td><td>F</td><td>2016-08-17</td><td>20164</td><td>EK201640055591</td><td>ESTUDIANTE</td><td>UNIÓN LIBRE</td><td>FALSE</td><td>NA                              </td><td>⋯</td><td>A1 </td><td>51</td><td>67</td><td>125</td><td>4 </td><td>92</td><td>94</td><td>PUBLICAR</td><td>45.39416</td><td>NSE1</td></tr>\n",
       "\t<tr><th scope=row>38122</th><td>TI</td><td>1 COLOMBIA</td><td>M</td><td>2001-02-11</td><td>20164</td><td>EK201640047944</td><td>ESTUDIANTE</td><td>SOLTERO    </td><td>FALSE</td><td>NA                              </td><td>⋯</td><td>B1 </td><td>88</td><td>89</td><td> 68</td><td>1 </td><td> 7</td><td> 7</td><td>PUBLICAR</td><td>57.90526</td><td>NSE3</td></tr>\n",
       "\t<tr><th scope=row>38198</th><td>CC</td><td>1 COLOMBIA</td><td>F</td><td>2016-01-16</td><td>20164</td><td>EK201640056004</td><td>ESTUDIANTE</td><td>SOLTERO    </td><td>FALSE</td><td>NA                              </td><td>⋯</td><td>A2 </td><td>70</td><td>60</td><td>126</td><td>4 </td><td>94</td><td>95</td><td>PUBLICAR</td><td>51.87634</td><td>NSE2</td></tr>\n",
       "\t<tr><th scope=row>38495</th><td>CC</td><td>1 COLOMBIA</td><td>M</td><td>2024-01-16</td><td>20164</td><td>EK201640044112</td><td>ESTUDIANTE</td><td>SOLTERO    </td><td>   NA</td><td>NA                              </td><td>⋯</td><td>A1 </td><td>31</td><td>48</td><td>109</td><td>3 </td><td>73</td><td>78</td><td>PUBLICAR</td><td>48.98514</td><td>NSE2</td></tr>\n",
       "\t<tr><th scope=row>39221</th><td>CC</td><td>1 COLOMBIA</td><td>M</td><td>2016-07-20</td><td>20164</td><td>EK201640054783</td><td>ESTUDIANTE</td><td>CASADO     </td><td>FALSE</td><td>NA                              </td><td>⋯</td><td>A1 </td><td>53</td><td>50</td><td> 72</td><td>1 </td><td>10</td><td> 9</td><td>PUBLICAR</td><td>47.64923</td><td>NSE2</td></tr>\n",
       "\t<tr><th scope=row>39377</th><td>CC</td><td>1 COLOMBIA</td><td>F</td><td>2016-01-06</td><td>20164</td><td>EK201640036376</td><td>ESTUDIANTE</td><td>UNIÓN LIBRE</td><td>FALSE</td><td>NA                              </td><td>⋯</td><td>A2 </td><td>76</td><td>75</td><td> 73</td><td>1 </td><td>10</td><td> 9</td><td>PUBLICAR</td><td>51.77469</td><td>NSE2</td></tr>\n",
       "\t<tr><th scope=row>41545</th><td>CC</td><td>1 COLOMBIA</td><td>F</td><td>2016-07-18</td><td>20164</td><td>EK201640044654</td><td>ESTUDIANTE</td><td>SOLTERO    </td><td>FALSE</td><td>NA                              </td><td>⋯</td><td>A1 </td><td>55</td><td>53</td><td> 59</td><td>1 </td><td> 2</td><td> 2</td><td>PUBLICAR</td><td>52.55877</td><td>NSE2</td></tr>\n",
       "\t<tr><th scope=row>41646</th><td>TI</td><td>1 COLOMBIA</td><td>M</td><td>2001-03-09</td><td>20164</td><td>EK201640021548</td><td>ESTUDIANTE</td><td>SOLTERO    </td><td>FALSE</td><td>NA                              </td><td>⋯</td><td>A1 </td><td>55</td><td>69</td><td>104</td><td>3 </td><td>56</td><td>65</td><td>PUBLICAR</td><td>52.81205</td><td>NSE2</td></tr>\n",
       "\t<tr><th scope=row>41720</th><td>CC</td><td>1 COLOMBIA</td><td>M</td><td>2004-12-04</td><td>20164</td><td>EK201640030851</td><td>ESTUDIANTE</td><td>SOLTERO    </td><td>FALSE</td><td>NA                              </td><td>⋯</td><td>A2 </td><td>77</td><td>75</td><td>104</td><td>3 </td><td>60</td><td>59</td><td>PUBLICAR</td><td>51.16187</td><td>NSE2</td></tr>\n",
       "\t<tr><th scope=row>41854</th><td>CC</td><td>1 COLOMBIA</td><td>F</td><td>2016-02-10</td><td>20164</td><td>EK201640045021</td><td>ESTUDIANTE</td><td>SOLTERO    </td><td>FALSE</td><td>NA                              </td><td>⋯</td><td>A1 </td><td>43</td><td>39</td><td>119</td><td>3 </td><td>83</td><td>83</td><td>PUBLICAR</td><td>56.27021</td><td>NSE3</td></tr>\n",
       "\t<tr><th scope=row>43011</th><td>CC</td><td>1 COLOMBIA</td><td>M</td><td>2016-07-11</td><td>20164</td><td>EK201640010217</td><td>ESTUDIANTE</td><td>SOLTERO    </td><td>FALSE</td><td>NA                              </td><td>⋯</td><td>A1 </td><td>47</td><td>66</td><td>103</td><td>3 </td><td>54</td><td>61</td><td>PUBLICAR</td><td>41.06426</td><td>NSE1</td></tr>\n",
       "\t<tr><th scope=row>43731</th><td>CC</td><td>1 COLOMBIA</td><td>F</td><td>2004-12-31</td><td>20164</td><td>EK201640052696</td><td>ESTUDIANTE</td><td>SOLTERO    </td><td>FALSE</td><td>NA                              </td><td>⋯</td><td>A2 </td><td>68</td><td>79</td><td> 97</td><td>2 </td><td>35</td><td>43</td><td>PUBLICAR</td><td>46.69597</td><td>NSE2</td></tr>\n",
       "\t<tr><th scope=row>43746</th><td>CC</td><td>1 COLOMBIA</td><td>F</td><td>2016-08-02</td><td>20164</td><td>EK201640044486</td><td>ESTUDIANTE</td><td>UNIÓN LIBRE</td><td>   NA</td><td>NA                              </td><td>⋯</td><td>A1-</td><td> 8</td><td> 6</td><td> 61</td><td>1 </td><td> 2</td><td> 2</td><td>PUBLICAR</td><td>45.49390</td><td>NSE1</td></tr>\n",
       "\t<tr><th scope=row>44528</th><td>TI</td><td>1 COLOMBIA</td><td>F</td><td>2001-01-03</td><td>20164</td><td>EK201640049935</td><td>ESTUDIANTE</td><td>SOLTERO    </td><td>   NA</td><td>NA                              </td><td>⋯</td><td>A1-</td><td>12</td><td>11</td><td> 97</td><td>2 </td><td>36</td><td>36</td><td>PUBLICAR</td><td>57.45776</td><td>NSE3</td></tr>\n",
       "\t<tr><th scope=row>45314</th><td>CC</td><td>1 COLOMBIA</td><td>M</td><td>2016-02-21</td><td>20164</td><td>EK201640034810</td><td>ESTUDIANTE</td><td>SOLTERO    </td><td>   NA</td><td>NA                              </td><td>⋯</td><td>A2 </td><td>81</td><td>80</td><td>119</td><td>3 </td><td>83</td><td>81</td><td>PUBLICAR</td><td>59.38991</td><td>NSE4</td></tr>\n",
       "\t<tr><th scope=row>46059</th><td>CC</td><td>1 COLOMBIA</td><td>F</td><td>2001-11-17</td><td>20164</td><td>EK201640034746</td><td>ESTUDIANTE</td><td>UNIÓN LIBRE</td><td>FALSE</td><td>NA                              </td><td>⋯</td><td>A1-</td><td> 9</td><td> 7</td><td>118</td><td>3 </td><td>80</td><td>78</td><td>PUBLICAR</td><td>53.48416</td><td>NSE2</td></tr>\n",
       "\t<tr><th scope=row>47063</th><td>CC</td><td>1 COLOMBIA</td><td>M</td><td>2015-10-25</td><td>20164</td><td>EK201640028574</td><td>ESTUDIANTE</td><td>SOLTERO    </td><td>FALSE</td><td>NA                              </td><td>⋯</td><td>A1 </td><td>45</td><td>55</td><td>104</td><td>3 </td><td>56</td><td>57</td><td>PUBLICAR</td><td>38.97660</td><td>NSE1</td></tr>\n",
       "\t<tr><th scope=row>47074</th><td>TI</td><td>1 COLOMBIA</td><td>F</td><td>2001-01-02</td><td>20164</td><td>EK201640021721</td><td>ESTUDIANTE</td><td>SOLTERO    </td><td>FALSE</td><td>NA                              </td><td>⋯</td><td>A1 </td><td>37</td><td>48</td><td> NA</td><td>NA</td><td>NA</td><td>NA</td><td>PUBLICAR</td><td>66.40530</td><td>NSE4</td></tr>\n",
       "\t<tr><th scope=row>47647</th><td>CC</td><td>1 COLOMBIA</td><td>M</td><td>2016-01-23</td><td>20164</td><td>EK201640001638</td><td>ESTUDIANTE</td><td>SOLTERO    </td><td>FALSE</td><td>NA                              </td><td>⋯</td><td>A2 </td><td>64</td><td>44</td><td>102</td><td>3 </td><td>51</td><td>47</td><td>PUBLICAR</td><td>49.79476</td><td>NSE3</td></tr>\n",
       "\t<tr><th scope=row>47952</th><td>CC</td><td>1 COLOMBIA</td><td>M</td><td>2016-09-21</td><td>20164</td><td>EK201640038814</td><td>ESTUDIANTE</td><td>SOLTERO    </td><td>   NA</td><td>NA                              </td><td>⋯</td><td>B1 </td><td>87</td><td>70</td><td> NA</td><td>NA</td><td>NA</td><td>NA</td><td>PUBLICAR</td><td>57.94764</td><td>NSE3</td></tr>\n",
       "\t<tr><th scope=row>49170</th><td>CC</td><td>1 COLOMBIA</td><td>M</td><td>2018-03-19</td><td>20164</td><td>EK201640016623</td><td>ESTUDIANTE</td><td>SOLTERO    </td><td>FALSE</td><td>NA                              </td><td>⋯</td><td>A1-</td><td>12</td><td>19</td><td> 97</td><td>2 </td><td>37</td><td>42</td><td>PUBLICAR</td><td>31.42099</td><td>NSE1</td></tr>\n",
       "\t<tr><th scope=row>49396</th><td>CC</td><td>1 COLOMBIA</td><td>M</td><td>2016-05-13</td><td>20164</td><td>EK201640009431</td><td>ESTUDIANTE</td><td>SOLTERO    </td><td>FALSE</td><td>NA                              </td><td>⋯</td><td>A2 </td><td>62</td><td>60</td><td>105</td><td>3 </td><td>64</td><td>61</td><td>PUBLICAR</td><td>56.45973</td><td>NSE3</td></tr>\n",
       "\t<tr><th scope=row>49844</th><td>CC</td><td>1 COLOMBIA</td><td>M</td><td>2016-07-07</td><td>20164</td><td>EK201640016757</td><td>ESTUDIANTE</td><td>SOLTERO    </td><td>   NA</td><td>NA                              </td><td>⋯</td><td>B1 </td><td>96</td><td>96</td><td> 97</td><td>2 </td><td>36</td><td>32</td><td>PUBLICAR</td><td>58.01967</td><td>NSE3</td></tr>\n",
       "\t<tr><th scope=row>50209</th><td>TI</td><td>1 COLOMBIA</td><td>F</td><td>2001-05-19</td><td>20164</td><td>EK201640022895</td><td>ESTUDIANTE</td><td>SOLTERO    </td><td>FALSE</td><td>NA                              </td><td>⋯</td><td>A1-</td><td>24</td><td>23</td><td> NA</td><td>NA</td><td>NA</td><td>NA</td><td>PUBLICAR</td><td>56.83034</td><td>NSE3</td></tr>\n",
       "\t<tr><th scope=row>50320</th><td>CC</td><td>1 COLOMBIA</td><td>F</td><td>2016-07-04</td><td>20164</td><td>EK201640027885</td><td>ESTUDIANTE</td><td>SOLTERO    </td><td>FALSE</td><td>NA                              </td><td>⋯</td><td>A1 </td><td>34</td><td>32</td><td> 85</td><td>2 </td><td>26</td><td>23</td><td>PUBLICAR</td><td>      NA</td><td>NA  </td></tr>\n",
       "\t<tr><th scope=row>51121</th><td>CC</td><td>1 COLOMBIA</td><td>M</td><td>2016-07-15</td><td>20164</td><td>EK201640036149</td><td>ESTUDIANTE</td><td>SOLTERO    </td><td>FALSE</td><td>NA                              </td><td>⋯</td><td>A1-</td><td>22</td><td>27</td><td>105</td><td>3 </td><td>64</td><td>64</td><td>PUBLICAR</td><td>62.53218</td><td>NSE4</td></tr>\n",
       "\t<tr><th scope=row>51216</th><td>CC</td><td>1 COLOMBIA</td><td>M</td><td>2010-12-04</td><td>20164</td><td>EK201640046980</td><td>ESTUDIANTE</td><td>SOLTERO    </td><td>FALSE</td><td>NA                              </td><td>⋯</td><td>A2 </td><td>69</td><td>65</td><td>105</td><td>3 </td><td>63</td><td>63</td><td>PUBLICAR</td><td>65.75523</td><td>NSE4</td></tr>\n",
       "\t<tr><th scope=row>51666</th><td>CC</td><td>1 COLOMBIA</td><td>M</td><td>2001-02-05</td><td>20164</td><td>EK201640042539</td><td>ESTUDIANTE</td><td>SOLTERO    </td><td>FALSE</td><td>NA                              </td><td>⋯</td><td>A1-</td><td>18</td><td>28</td><td> 62</td><td>1 </td><td> 3</td><td> 3</td><td>PUBLICAR</td><td>44.73897</td><td>NSE1</td></tr>\n",
       "\t<tr><th scope=row>52039</th><td>CC</td><td>1 COLOMBIA</td><td>F</td><td>2007-03-30</td><td>20164</td><td>EK201640003184</td><td>ESTUDIANTE</td><td>SOLTERO    </td><td> TRUE</td><td>19 Otro grupo étnico minoritario</td><td>⋯</td><td>A1 </td><td>57</td><td>53</td><td> 85</td><td>2 </td><td>25</td><td>25</td><td>PUBLICAR</td><td>32.16401</td><td>NSE1</td></tr>\n",
       "\t<tr><th scope=row>52941</th><td>CC</td><td>1 COLOMBIA</td><td>M</td><td>2016-05-22</td><td>20164</td><td>EK201640056015</td><td>ESTUDIANTE</td><td>SOLTERO    </td><td>FALSE</td><td>NA                              </td><td>⋯</td><td>A1 </td><td>50</td><td>38</td><td>113</td><td>3 </td><td>74</td><td>77</td><td>PUBLICAR</td><td>72.27900</td><td>NSE4</td></tr>\n",
       "</tbody>\n",
       "</table>\n"
      ],
      "text/latex": [
       "A data.frame: 92 × 35\n",
       "\\begin{tabular}{r|lllllllllllllllllllll}\n",
       "  & ESTU\\_TIPODOCUMENTO & ESTU\\_NACIONALIDAD & ESTU\\_GENERO & ESTU\\_FECHANACIMIENTO & PERIODO & ESTU\\_CONSECUTIVO & ESTU\\_ESTUDIANTE & ESTU\\_ESTADOCIVIL & ESTU\\_TIENE\\_ETNIA & ESTU\\_ETNIA & ⋯ & MOD\\_INGLES\\_DESEM & MOD\\_INGLES\\_PNAL & MOD\\_INGLES\\_PGREF & MOD\\_COMUNI\\_ESCRITA\\_PUNT & MOD\\_COMUNI\\_ESCRITA\\_DESEM & MOD\\_COMUNI\\_ESCRITA\\_PNAL & MOD\\_COMUNI\\_ESCRITA\\_PGREF & ESTU\\_ESTADO & INSE & NSE\\\\\n",
       "  & <fct> & <fct> & <fct> & <date> & <fct> & <fct> & <fct> & <fct> & <lgl> & <fct> & ⋯ & <fct> & <int> & <int> & <int> & <fct> & <int> & <int> & <fct> & <dbl> & <fct>\\\\\n",
       "\\hline\n",
       "\t387 & TI & 1 COLOMBIA & F & 2001-04-16 & 20164 & EK201640011705 & ESTUDIANTE & SOLTERO     & FALSE & NA                           & ⋯ & A1  & 49 &  50 & 105 & 3  & 61 & 61 & PUBLICAR & 38.15527 & NSE1\\\\\n",
       "\t406 & TI & 1 COLOMBIA & F & 2009-08-23 & 20164 & EK201640022982 & ESTUDIANTE & SOLTERO     & FALSE & NA                           & ⋯ & A2  & 82 &  82 &  85 & 2  & 27 & 29 & PUBLICAR & 55.36953 & NSE2\\\\\n",
       "\t696 & CC & 1 COLOMBIA & F & 2016-08-15 & 20164 & EK201640036962 & ESTUDIANTE & SOLTERO     & FALSE & NA                           & ⋯ & A1  & 46 &  44 &  96 & 2  & 34 & 30 & PUBLICAR & 45.57939 & NSE1\\\\\n",
       "\t831 & CC & 1 COLOMBIA & M & 2015-10-29 & 20164 & EK201640031909 & ESTUDIANTE & SOLTERO     &    NA & NA                           & ⋯ & A2  & 84 &  83 & 117 & 3  & 78 & 75 & PUBLICAR & 59.17248 & NSE4\\\\\n",
       "\t1584 & CC & 1 COLOMBIA & M & 2016-05-14 & 20164 & EK201640016911 & ESTUDIANTE & SOLTERO     & FALSE & NA                           & ⋯ & B2  & 99 &  99 & 100 & 2  & 47 & 46 & PUBLICAR & 48.36100 & NSE2\\\\\n",
       "\t2192 & CC & 1 COLOMBIA & F & 2004-10-16 & 20164 & EK201640039006 & ESTUDIANTE & UNIÓN LIBRE & FALSE & NA                           & ⋯ & A1  & 26 &  24 & 120 & 3  & 85 & 83 & PUBLICAR & 50.44390 & NSE2\\\\\n",
       "\t5020 & TI & 1 COLOMBIA & F & 2001-01-16 & 20164 & EK201640047512 & ESTUDIANTE & SOLTERO     & FALSE & NA                           & ⋯ & A2  & 74 &  75 &  82 & 2  & 20 & 20 & PUBLICAR & 63.72377 & NSE4\\\\\n",
       "\t5063 & CC & 1 COLOMBIA & F & 2016-07-08 & 20164 & EK201640051188 & ESTUDIANTE & SOLTERO     & FALSE & NA                           & ⋯ & A2  & 69 &  84 &  76 & 1  & 14 & 16 & PUBLICAR &       NA & NA  \\\\\n",
       "\t5065 & CC & 1 COLOMBIA & F & 2016-08-09 & 20164 & EK201640047977 & ESTUDIANTE & SOLTERO     & FALSE & NA                           & ⋯ & A1- & 12 &  10 &  75 & 1  & 13 & 11 & PUBLICAR & 60.34192 & NSE4\\\\\n",
       "\t5153 & CC & 1 COLOMBIA & F & 2015-03-30 & 20164 & EK201640053450 & ESTUDIANTE & SOLTERO     &    NA & NA                           & ⋯ & A2  & 80 &  77 & 123 & 4  & 89 & 89 & PUBLICAR & 58.73706 & NSE3\\\\\n",
       "\t5641 & CC & 1 COLOMBIA & F & 2016-01-26 & 20164 & EK201640009440 & ESTUDIANTE & CASADO      & FALSE & NA                           & ⋯ & A1  & 36 &  34 & 120 & 3  & 85 & 83 & PUBLICAR & 52.34551 & NSE2\\\\\n",
       "\t5667 & TI & 1 COLOMBIA & F & 2001-10-22 & 20164 & EK201640053791 & ESTUDIANTE & NA          &    NA & NA                           & ⋯ & B2  & 99 & 100 & 118 & 3  & 79 & 80 & PUBLICAR & 53.23489 & NSE2\\\\\n",
       "\t6035 & CC & 1 COLOMBIA & M & 2016-03-03 & 20164 & EK201640055312 & ESTUDIANTE & SOLTERO     & FALSE & NA                           & ⋯ & A1  & 48 &  44 & 108 & 3  & 71 & 71 & PUBLICAR & 56.26345 & NSE3\\\\\n",
       "\t6355 & CC & 1 COLOMBIA & M & 2016-04-04 & 20164 & EK201640033078 & ESTUDIANTE & SOLTERO     &  TRUE & 1 Comunidad afrodescendiente & ⋯ & A1  & 35 &  31 & 105 & 3  & 64 & 64 & PUBLICAR & 56.28231 & NSE3\\\\\n",
       "\t6383 & CC & 1 COLOMBIA & M & 2002-04-22 & 20164 & EK201640042438 & ESTUDIANTE & SOLTERO     &  TRUE & 100 Ninguno                  & ⋯ & A1  & 44 &  42 & 124 & 4  & 90 & 88 & PUBLICAR & 61.14856 & NSE4\\\\\n",
       "\t9221 & CC & 1 COLOMBIA & M & 2016-01-31 & 20164 & EK201640028658 & ESTUDIANTE & SOLTERO     & FALSE & NA                           & ⋯ & A2  & 72 &  57 &  78 & 1  & 15 & 16 & PUBLICAR & 38.24368 & NSE1\\\\\n",
       "\t11479 & CC & 1 COLOMBIA & M & 2016-05-18 & 20164 & EK201640021121 & ESTUDIANTE & SOLTERO     & FALSE & NA                           & ⋯ & B2  & 98 &  98 & 106 & 3  & 67 & 63 & PUBLICAR & 45.54476 & NSE1\\\\\n",
       "\t11801 & CC & 1 COLOMBIA & F & 2016-12-12 & 20164 & EK201640052670 & ESTUDIANTE & SOLTERO     & FALSE & NA                           & ⋯ & A1- & 20 &  18 &  88 & 2  & 31 & 27 & PUBLICAR & 48.22620 & NSE2\\\\\n",
       "\t12901 & CC & 1 COLOMBIA & M & 2015-10-18 & 20164 & EK201640028549 & ESTUDIANTE & SOLTERO     & FALSE & NA                           & ⋯ & A1  & 27 &  34 &  61 & 1  &  2 &  2 & PUBLICAR & 47.40286 & NSE2\\\\\n",
       "\t13024 & TI & 1 COLOMBIA & F & 2014-05-02 & 20164 & EK201640009164 & ESTUDIANTE & SOLTERO     &  TRUE & NA                           & ⋯ & A2  & 64 &  64 &  98 & 2  & 37 & 37 & PUBLICAR & 62.33628 & NSE4\\\\\n",
       "\t14260 & TI & 1 COLOMBIA & F & 2001-05-06 & 20164 & EK201640012757 & ESTUDIANTE & SOLTERO     & FALSE & NA                           & ⋯ & B1  & 89 &  90 & 142 & 4  & 98 & 98 & PUBLICAR & 57.30403 & NSE3\\\\\n",
       "\t15084 & CC & 1 COLOMBIA & M & 2016-06-16 & 20164 & EK201640044411 & ESTUDIANTE & SOLTERO     & FALSE & NA                           & ⋯ & A1  & 26 &  38 &  83 & 2  & 22 & 26 & PUBLICAR & 47.74776 & NSE2\\\\\n",
       "\t15104 & CC & 1 COLOMBIA & M & 2002-12-03 & 20164 & EK201640033342 & ESTUDIANTE & SOLTERO     &  TRUE & 100 Ninguno                  & ⋯ & A2  & 66 &  51 &  87 & 2  & 31 & 31 & PUBLICAR & 56.39712 & NSE3\\\\\n",
       "\t15559 & CC & 1 COLOMBIA & F & 2016-04-12 & 20164 & EK201640021620 & ESTUDIANTE & SOLTERO     &    NA & NA                           & ⋯ & A1- & 19 &  17 &  64 & 1  &  5 &  4 & PUBLICAR & 39.54439 & NSE1\\\\\n",
       "\t16096 & CC & 1 COLOMBIA & F & 2004-08-30 & 20164 & EK201640035193 & ESTUDIANTE & SOLTERO     & FALSE & NA                           & ⋯ & A1- & 23 &  22 &  80 & 1  & 19 & 17 & PUBLICAR & 57.11619 & NSE3\\\\\n",
       "\t16268 & CC & 1 COLOMBIA & F & 2016-08-27 & 20164 & EK201640006143 & ESTUDIANTE & SOLTERO     & FALSE & NA                           & ⋯ & A1  & 30 &  28 &  85 & 2  & 27 & 23 & PUBLICAR & 55.01909 & NSE2\\\\\n",
       "\t16401 & CC & 1 COLOMBIA & M & 2016-07-25 & 20164 & EK201640004414 & ESTUDIANTE & CASADO      & FALSE & NA                           & ⋯ & A2  & 80 &  79 & 124 & 4  & 90 & 89 & PUBLICAR & 65.57603 & NSE4\\\\\n",
       "\t16839 & CC & 1 COLOMBIA & M & 2001-12-07 & 20164 & EK201640011703 & ESTUDIANTE & SOLTERO     &    NA & NA                           & ⋯ & A1- &  4 &   7 &  NA & NA & NA & NA & PUBLICAR & 45.29214 & NSE1\\\\\n",
       "\t17166 & CC & 1 COLOMBIA & F & 2016-03-06 & 20164 & EK201640015015 & ESTUDIANTE & UNIÓN LIBRE & FALSE & NA                           & ⋯ & A1- & 20 &  18 &  63 & 1  &  4 &  3 & PUBLICAR & 45.43179 & NSE1\\\\\n",
       "\t17435 & TI & 1 COLOMBIA & F & 2001-02-11 & 20164 & EK201640011228 & ESTUDIANTE & SOLTERO     & FALSE & NA                           & ⋯ & A2  & 78 &  79 & 100 & 2  & 49 & 49 & PUBLICAR & 55.56852 & NSE3\\\\\n",
       "\t⋮ & ⋮ & ⋮ & ⋮ & ⋮ & ⋮ & ⋮ & ⋮ & ⋮ & ⋮ & ⋮ & ⋱ & ⋮ & ⋮ & ⋮ & ⋮ & ⋮ & ⋮ & ⋮ & ⋮ & ⋮ & ⋮\\\\\n",
       "\t37522 & CC & 1 COLOMBIA & F & 2016-08-17 & 20164 & EK201640055591 & ESTUDIANTE & UNIÓN LIBRE & FALSE & NA                               & ⋯ & A1  & 51 & 67 & 125 & 4  & 92 & 94 & PUBLICAR & 45.39416 & NSE1\\\\\n",
       "\t38122 & TI & 1 COLOMBIA & M & 2001-02-11 & 20164 & EK201640047944 & ESTUDIANTE & SOLTERO     & FALSE & NA                               & ⋯ & B1  & 88 & 89 &  68 & 1  &  7 &  7 & PUBLICAR & 57.90526 & NSE3\\\\\n",
       "\t38198 & CC & 1 COLOMBIA & F & 2016-01-16 & 20164 & EK201640056004 & ESTUDIANTE & SOLTERO     & FALSE & NA                               & ⋯ & A2  & 70 & 60 & 126 & 4  & 94 & 95 & PUBLICAR & 51.87634 & NSE2\\\\\n",
       "\t38495 & CC & 1 COLOMBIA & M & 2024-01-16 & 20164 & EK201640044112 & ESTUDIANTE & SOLTERO     &    NA & NA                               & ⋯ & A1  & 31 & 48 & 109 & 3  & 73 & 78 & PUBLICAR & 48.98514 & NSE2\\\\\n",
       "\t39221 & CC & 1 COLOMBIA & M & 2016-07-20 & 20164 & EK201640054783 & ESTUDIANTE & CASADO      & FALSE & NA                               & ⋯ & A1  & 53 & 50 &  72 & 1  & 10 &  9 & PUBLICAR & 47.64923 & NSE2\\\\\n",
       "\t39377 & CC & 1 COLOMBIA & F & 2016-01-06 & 20164 & EK201640036376 & ESTUDIANTE & UNIÓN LIBRE & FALSE & NA                               & ⋯ & A2  & 76 & 75 &  73 & 1  & 10 &  9 & PUBLICAR & 51.77469 & NSE2\\\\\n",
       "\t41545 & CC & 1 COLOMBIA & F & 2016-07-18 & 20164 & EK201640044654 & ESTUDIANTE & SOLTERO     & FALSE & NA                               & ⋯ & A1  & 55 & 53 &  59 & 1  &  2 &  2 & PUBLICAR & 52.55877 & NSE2\\\\\n",
       "\t41646 & TI & 1 COLOMBIA & M & 2001-03-09 & 20164 & EK201640021548 & ESTUDIANTE & SOLTERO     & FALSE & NA                               & ⋯ & A1  & 55 & 69 & 104 & 3  & 56 & 65 & PUBLICAR & 52.81205 & NSE2\\\\\n",
       "\t41720 & CC & 1 COLOMBIA & M & 2004-12-04 & 20164 & EK201640030851 & ESTUDIANTE & SOLTERO     & FALSE & NA                               & ⋯ & A2  & 77 & 75 & 104 & 3  & 60 & 59 & PUBLICAR & 51.16187 & NSE2\\\\\n",
       "\t41854 & CC & 1 COLOMBIA & F & 2016-02-10 & 20164 & EK201640045021 & ESTUDIANTE & SOLTERO     & FALSE & NA                               & ⋯ & A1  & 43 & 39 & 119 & 3  & 83 & 83 & PUBLICAR & 56.27021 & NSE3\\\\\n",
       "\t43011 & CC & 1 COLOMBIA & M & 2016-07-11 & 20164 & EK201640010217 & ESTUDIANTE & SOLTERO     & FALSE & NA                               & ⋯ & A1  & 47 & 66 & 103 & 3  & 54 & 61 & PUBLICAR & 41.06426 & NSE1\\\\\n",
       "\t43731 & CC & 1 COLOMBIA & F & 2004-12-31 & 20164 & EK201640052696 & ESTUDIANTE & SOLTERO     & FALSE & NA                               & ⋯ & A2  & 68 & 79 &  97 & 2  & 35 & 43 & PUBLICAR & 46.69597 & NSE2\\\\\n",
       "\t43746 & CC & 1 COLOMBIA & F & 2016-08-02 & 20164 & EK201640044486 & ESTUDIANTE & UNIÓN LIBRE &    NA & NA                               & ⋯ & A1- &  8 &  6 &  61 & 1  &  2 &  2 & PUBLICAR & 45.49390 & NSE1\\\\\n",
       "\t44528 & TI & 1 COLOMBIA & F & 2001-01-03 & 20164 & EK201640049935 & ESTUDIANTE & SOLTERO     &    NA & NA                               & ⋯ & A1- & 12 & 11 &  97 & 2  & 36 & 36 & PUBLICAR & 57.45776 & NSE3\\\\\n",
       "\t45314 & CC & 1 COLOMBIA & M & 2016-02-21 & 20164 & EK201640034810 & ESTUDIANTE & SOLTERO     &    NA & NA                               & ⋯ & A2  & 81 & 80 & 119 & 3  & 83 & 81 & PUBLICAR & 59.38991 & NSE4\\\\\n",
       "\t46059 & CC & 1 COLOMBIA & F & 2001-11-17 & 20164 & EK201640034746 & ESTUDIANTE & UNIÓN LIBRE & FALSE & NA                               & ⋯ & A1- &  9 &  7 & 118 & 3  & 80 & 78 & PUBLICAR & 53.48416 & NSE2\\\\\n",
       "\t47063 & CC & 1 COLOMBIA & M & 2015-10-25 & 20164 & EK201640028574 & ESTUDIANTE & SOLTERO     & FALSE & NA                               & ⋯ & A1  & 45 & 55 & 104 & 3  & 56 & 57 & PUBLICAR & 38.97660 & NSE1\\\\\n",
       "\t47074 & TI & 1 COLOMBIA & F & 2001-01-02 & 20164 & EK201640021721 & ESTUDIANTE & SOLTERO     & FALSE & NA                               & ⋯ & A1  & 37 & 48 &  NA & NA & NA & NA & PUBLICAR & 66.40530 & NSE4\\\\\n",
       "\t47647 & CC & 1 COLOMBIA & M & 2016-01-23 & 20164 & EK201640001638 & ESTUDIANTE & SOLTERO     & FALSE & NA                               & ⋯ & A2  & 64 & 44 & 102 & 3  & 51 & 47 & PUBLICAR & 49.79476 & NSE3\\\\\n",
       "\t47952 & CC & 1 COLOMBIA & M & 2016-09-21 & 20164 & EK201640038814 & ESTUDIANTE & SOLTERO     &    NA & NA                               & ⋯ & B1  & 87 & 70 &  NA & NA & NA & NA & PUBLICAR & 57.94764 & NSE3\\\\\n",
       "\t49170 & CC & 1 COLOMBIA & M & 2018-03-19 & 20164 & EK201640016623 & ESTUDIANTE & SOLTERO     & FALSE & NA                               & ⋯ & A1- & 12 & 19 &  97 & 2  & 37 & 42 & PUBLICAR & 31.42099 & NSE1\\\\\n",
       "\t49396 & CC & 1 COLOMBIA & M & 2016-05-13 & 20164 & EK201640009431 & ESTUDIANTE & SOLTERO     & FALSE & NA                               & ⋯ & A2  & 62 & 60 & 105 & 3  & 64 & 61 & PUBLICAR & 56.45973 & NSE3\\\\\n",
       "\t49844 & CC & 1 COLOMBIA & M & 2016-07-07 & 20164 & EK201640016757 & ESTUDIANTE & SOLTERO     &    NA & NA                               & ⋯ & B1  & 96 & 96 &  97 & 2  & 36 & 32 & PUBLICAR & 58.01967 & NSE3\\\\\n",
       "\t50209 & TI & 1 COLOMBIA & F & 2001-05-19 & 20164 & EK201640022895 & ESTUDIANTE & SOLTERO     & FALSE & NA                               & ⋯ & A1- & 24 & 23 &  NA & NA & NA & NA & PUBLICAR & 56.83034 & NSE3\\\\\n",
       "\t50320 & CC & 1 COLOMBIA & F & 2016-07-04 & 20164 & EK201640027885 & ESTUDIANTE & SOLTERO     & FALSE & NA                               & ⋯ & A1  & 34 & 32 &  85 & 2  & 26 & 23 & PUBLICAR &       NA & NA  \\\\\n",
       "\t51121 & CC & 1 COLOMBIA & M & 2016-07-15 & 20164 & EK201640036149 & ESTUDIANTE & SOLTERO     & FALSE & NA                               & ⋯ & A1- & 22 & 27 & 105 & 3  & 64 & 64 & PUBLICAR & 62.53218 & NSE4\\\\\n",
       "\t51216 & CC & 1 COLOMBIA & M & 2010-12-04 & 20164 & EK201640046980 & ESTUDIANTE & SOLTERO     & FALSE & NA                               & ⋯ & A2  & 69 & 65 & 105 & 3  & 63 & 63 & PUBLICAR & 65.75523 & NSE4\\\\\n",
       "\t51666 & CC & 1 COLOMBIA & M & 2001-02-05 & 20164 & EK201640042539 & ESTUDIANTE & SOLTERO     & FALSE & NA                               & ⋯ & A1- & 18 & 28 &  62 & 1  &  3 &  3 & PUBLICAR & 44.73897 & NSE1\\\\\n",
       "\t52039 & CC & 1 COLOMBIA & F & 2007-03-30 & 20164 & EK201640003184 & ESTUDIANTE & SOLTERO     &  TRUE & 19 Otro grupo étnico minoritario & ⋯ & A1  & 57 & 53 &  85 & 2  & 25 & 25 & PUBLICAR & 32.16401 & NSE1\\\\\n",
       "\t52941 & CC & 1 COLOMBIA & M & 2016-05-22 & 20164 & EK201640056015 & ESTUDIANTE & SOLTERO     & FALSE & NA                               & ⋯ & A1  & 50 & 38 & 113 & 3  & 74 & 77 & PUBLICAR & 72.27900 & NSE4\\\\\n",
       "\\end{tabular}\n"
      ],
      "text/markdown": [
       "\n",
       "A data.frame: 92 × 35\n",
       "\n",
       "| <!--/--> | ESTU_TIPODOCUMENTO &lt;fct&gt; | ESTU_NACIONALIDAD &lt;fct&gt; | ESTU_GENERO &lt;fct&gt; | ESTU_FECHANACIMIENTO &lt;date&gt; | PERIODO &lt;fct&gt; | ESTU_CONSECUTIVO &lt;fct&gt; | ESTU_ESTUDIANTE &lt;fct&gt; | ESTU_ESTADOCIVIL &lt;fct&gt; | ESTU_TIENE_ETNIA &lt;lgl&gt; | ESTU_ETNIA &lt;fct&gt; | ⋯ ⋯ | MOD_INGLES_DESEM &lt;fct&gt; | MOD_INGLES_PNAL &lt;int&gt; | MOD_INGLES_PGREF &lt;int&gt; | MOD_COMUNI_ESCRITA_PUNT &lt;int&gt; | MOD_COMUNI_ESCRITA_DESEM &lt;fct&gt; | MOD_COMUNI_ESCRITA_PNAL &lt;int&gt; | MOD_COMUNI_ESCRITA_PGREF &lt;int&gt; | ESTU_ESTADO &lt;fct&gt; | INSE &lt;dbl&gt; | NSE &lt;fct&gt; |\n",
       "|---|---|---|---|---|---|---|---|---|---|---|---|---|---|---|---|---|---|---|---|---|---|\n",
       "| 387 | TI | 1 COLOMBIA | F | 2001-04-16 | 20164 | EK201640011705 | ESTUDIANTE | SOLTERO     | FALSE | NA                           | ⋯ | A1  | 49 |  50 | 105 | 3  | 61 | 61 | PUBLICAR | 38.15527 | NSE1 |\n",
       "| 406 | TI | 1 COLOMBIA | F | 2009-08-23 | 20164 | EK201640022982 | ESTUDIANTE | SOLTERO     | FALSE | NA                           | ⋯ | A2  | 82 |  82 |  85 | 2  | 27 | 29 | PUBLICAR | 55.36953 | NSE2 |\n",
       "| 696 | CC | 1 COLOMBIA | F | 2016-08-15 | 20164 | EK201640036962 | ESTUDIANTE | SOLTERO     | FALSE | NA                           | ⋯ | A1  | 46 |  44 |  96 | 2  | 34 | 30 | PUBLICAR | 45.57939 | NSE1 |\n",
       "| 831 | CC | 1 COLOMBIA | M | 2015-10-29 | 20164 | EK201640031909 | ESTUDIANTE | SOLTERO     |    NA | NA                           | ⋯ | A2  | 84 |  83 | 117 | 3  | 78 | 75 | PUBLICAR | 59.17248 | NSE4 |\n",
       "| 1584 | CC | 1 COLOMBIA | M | 2016-05-14 | 20164 | EK201640016911 | ESTUDIANTE | SOLTERO     | FALSE | NA                           | ⋯ | B2  | 99 |  99 | 100 | 2  | 47 | 46 | PUBLICAR | 48.36100 | NSE2 |\n",
       "| 2192 | CC | 1 COLOMBIA | F | 2004-10-16 | 20164 | EK201640039006 | ESTUDIANTE | UNIÓN LIBRE | FALSE | NA                           | ⋯ | A1  | 26 |  24 | 120 | 3  | 85 | 83 | PUBLICAR | 50.44390 | NSE2 |\n",
       "| 5020 | TI | 1 COLOMBIA | F | 2001-01-16 | 20164 | EK201640047512 | ESTUDIANTE | SOLTERO     | FALSE | NA                           | ⋯ | A2  | 74 |  75 |  82 | 2  | 20 | 20 | PUBLICAR | 63.72377 | NSE4 |\n",
       "| 5063 | CC | 1 COLOMBIA | F | 2016-07-08 | 20164 | EK201640051188 | ESTUDIANTE | SOLTERO     | FALSE | NA                           | ⋯ | A2  | 69 |  84 |  76 | 1  | 14 | 16 | PUBLICAR |       NA | NA   |\n",
       "| 5065 | CC | 1 COLOMBIA | F | 2016-08-09 | 20164 | EK201640047977 | ESTUDIANTE | SOLTERO     | FALSE | NA                           | ⋯ | A1- | 12 |  10 |  75 | 1  | 13 | 11 | PUBLICAR | 60.34192 | NSE4 |\n",
       "| 5153 | CC | 1 COLOMBIA | F | 2015-03-30 | 20164 | EK201640053450 | ESTUDIANTE | SOLTERO     |    NA | NA                           | ⋯ | A2  | 80 |  77 | 123 | 4  | 89 | 89 | PUBLICAR | 58.73706 | NSE3 |\n",
       "| 5641 | CC | 1 COLOMBIA | F | 2016-01-26 | 20164 | EK201640009440 | ESTUDIANTE | CASADO      | FALSE | NA                           | ⋯ | A1  | 36 |  34 | 120 | 3  | 85 | 83 | PUBLICAR | 52.34551 | NSE2 |\n",
       "| 5667 | TI | 1 COLOMBIA | F | 2001-10-22 | 20164 | EK201640053791 | ESTUDIANTE | NA          |    NA | NA                           | ⋯ | B2  | 99 | 100 | 118 | 3  | 79 | 80 | PUBLICAR | 53.23489 | NSE2 |\n",
       "| 6035 | CC | 1 COLOMBIA | M | 2016-03-03 | 20164 | EK201640055312 | ESTUDIANTE | SOLTERO     | FALSE | NA                           | ⋯ | A1  | 48 |  44 | 108 | 3  | 71 | 71 | PUBLICAR | 56.26345 | NSE3 |\n",
       "| 6355 | CC | 1 COLOMBIA | M | 2016-04-04 | 20164 | EK201640033078 | ESTUDIANTE | SOLTERO     |  TRUE | 1 Comunidad afrodescendiente | ⋯ | A1  | 35 |  31 | 105 | 3  | 64 | 64 | PUBLICAR | 56.28231 | NSE3 |\n",
       "| 6383 | CC | 1 COLOMBIA | M | 2002-04-22 | 20164 | EK201640042438 | ESTUDIANTE | SOLTERO     |  TRUE | 100 Ninguno                  | ⋯ | A1  | 44 |  42 | 124 | 4  | 90 | 88 | PUBLICAR | 61.14856 | NSE4 |\n",
       "| 9221 | CC | 1 COLOMBIA | M | 2016-01-31 | 20164 | EK201640028658 | ESTUDIANTE | SOLTERO     | FALSE | NA                           | ⋯ | A2  | 72 |  57 |  78 | 1  | 15 | 16 | PUBLICAR | 38.24368 | NSE1 |\n",
       "| 11479 | CC | 1 COLOMBIA | M | 2016-05-18 | 20164 | EK201640021121 | ESTUDIANTE | SOLTERO     | FALSE | NA                           | ⋯ | B2  | 98 |  98 | 106 | 3  | 67 | 63 | PUBLICAR | 45.54476 | NSE1 |\n",
       "| 11801 | CC | 1 COLOMBIA | F | 2016-12-12 | 20164 | EK201640052670 | ESTUDIANTE | SOLTERO     | FALSE | NA                           | ⋯ | A1- | 20 |  18 |  88 | 2  | 31 | 27 | PUBLICAR | 48.22620 | NSE2 |\n",
       "| 12901 | CC | 1 COLOMBIA | M | 2015-10-18 | 20164 | EK201640028549 | ESTUDIANTE | SOLTERO     | FALSE | NA                           | ⋯ | A1  | 27 |  34 |  61 | 1  |  2 |  2 | PUBLICAR | 47.40286 | NSE2 |\n",
       "| 13024 | TI | 1 COLOMBIA | F | 2014-05-02 | 20164 | EK201640009164 | ESTUDIANTE | SOLTERO     |  TRUE | NA                           | ⋯ | A2  | 64 |  64 |  98 | 2  | 37 | 37 | PUBLICAR | 62.33628 | NSE4 |\n",
       "| 14260 | TI | 1 COLOMBIA | F | 2001-05-06 | 20164 | EK201640012757 | ESTUDIANTE | SOLTERO     | FALSE | NA                           | ⋯ | B1  | 89 |  90 | 142 | 4  | 98 | 98 | PUBLICAR | 57.30403 | NSE3 |\n",
       "| 15084 | CC | 1 COLOMBIA | M | 2016-06-16 | 20164 | EK201640044411 | ESTUDIANTE | SOLTERO     | FALSE | NA                           | ⋯ | A1  | 26 |  38 |  83 | 2  | 22 | 26 | PUBLICAR | 47.74776 | NSE2 |\n",
       "| 15104 | CC | 1 COLOMBIA | M | 2002-12-03 | 20164 | EK201640033342 | ESTUDIANTE | SOLTERO     |  TRUE | 100 Ninguno                  | ⋯ | A2  | 66 |  51 |  87 | 2  | 31 | 31 | PUBLICAR | 56.39712 | NSE3 |\n",
       "| 15559 | CC | 1 COLOMBIA | F | 2016-04-12 | 20164 | EK201640021620 | ESTUDIANTE | SOLTERO     |    NA | NA                           | ⋯ | A1- | 19 |  17 |  64 | 1  |  5 |  4 | PUBLICAR | 39.54439 | NSE1 |\n",
       "| 16096 | CC | 1 COLOMBIA | F | 2004-08-30 | 20164 | EK201640035193 | ESTUDIANTE | SOLTERO     | FALSE | NA                           | ⋯ | A1- | 23 |  22 |  80 | 1  | 19 | 17 | PUBLICAR | 57.11619 | NSE3 |\n",
       "| 16268 | CC | 1 COLOMBIA | F | 2016-08-27 | 20164 | EK201640006143 | ESTUDIANTE | SOLTERO     | FALSE | NA                           | ⋯ | A1  | 30 |  28 |  85 | 2  | 27 | 23 | PUBLICAR | 55.01909 | NSE2 |\n",
       "| 16401 | CC | 1 COLOMBIA | M | 2016-07-25 | 20164 | EK201640004414 | ESTUDIANTE | CASADO      | FALSE | NA                           | ⋯ | A2  | 80 |  79 | 124 | 4  | 90 | 89 | PUBLICAR | 65.57603 | NSE4 |\n",
       "| 16839 | CC | 1 COLOMBIA | M | 2001-12-07 | 20164 | EK201640011703 | ESTUDIANTE | SOLTERO     |    NA | NA                           | ⋯ | A1- |  4 |   7 |  NA | NA | NA | NA | PUBLICAR | 45.29214 | NSE1 |\n",
       "| 17166 | CC | 1 COLOMBIA | F | 2016-03-06 | 20164 | EK201640015015 | ESTUDIANTE | UNIÓN LIBRE | FALSE | NA                           | ⋯ | A1- | 20 |  18 |  63 | 1  |  4 |  3 | PUBLICAR | 45.43179 | NSE1 |\n",
       "| 17435 | TI | 1 COLOMBIA | F | 2001-02-11 | 20164 | EK201640011228 | ESTUDIANTE | SOLTERO     | FALSE | NA                           | ⋯ | A2  | 78 |  79 | 100 | 2  | 49 | 49 | PUBLICAR | 55.56852 | NSE3 |\n",
       "| ⋮ | ⋮ | ⋮ | ⋮ | ⋮ | ⋮ | ⋮ | ⋮ | ⋮ | ⋮ | ⋮ | ⋱ | ⋮ | ⋮ | ⋮ | ⋮ | ⋮ | ⋮ | ⋮ | ⋮ | ⋮ | ⋮ |\n",
       "| 37522 | CC | 1 COLOMBIA | F | 2016-08-17 | 20164 | EK201640055591 | ESTUDIANTE | UNIÓN LIBRE | FALSE | NA                               | ⋯ | A1  | 51 | 67 | 125 | 4  | 92 | 94 | PUBLICAR | 45.39416 | NSE1 |\n",
       "| 38122 | TI | 1 COLOMBIA | M | 2001-02-11 | 20164 | EK201640047944 | ESTUDIANTE | SOLTERO     | FALSE | NA                               | ⋯ | B1  | 88 | 89 |  68 | 1  |  7 |  7 | PUBLICAR | 57.90526 | NSE3 |\n",
       "| 38198 | CC | 1 COLOMBIA | F | 2016-01-16 | 20164 | EK201640056004 | ESTUDIANTE | SOLTERO     | FALSE | NA                               | ⋯ | A2  | 70 | 60 | 126 | 4  | 94 | 95 | PUBLICAR | 51.87634 | NSE2 |\n",
       "| 38495 | CC | 1 COLOMBIA | M | 2024-01-16 | 20164 | EK201640044112 | ESTUDIANTE | SOLTERO     |    NA | NA                               | ⋯ | A1  | 31 | 48 | 109 | 3  | 73 | 78 | PUBLICAR | 48.98514 | NSE2 |\n",
       "| 39221 | CC | 1 COLOMBIA | M | 2016-07-20 | 20164 | EK201640054783 | ESTUDIANTE | CASADO      | FALSE | NA                               | ⋯ | A1  | 53 | 50 |  72 | 1  | 10 |  9 | PUBLICAR | 47.64923 | NSE2 |\n",
       "| 39377 | CC | 1 COLOMBIA | F | 2016-01-06 | 20164 | EK201640036376 | ESTUDIANTE | UNIÓN LIBRE | FALSE | NA                               | ⋯ | A2  | 76 | 75 |  73 | 1  | 10 |  9 | PUBLICAR | 51.77469 | NSE2 |\n",
       "| 41545 | CC | 1 COLOMBIA | F | 2016-07-18 | 20164 | EK201640044654 | ESTUDIANTE | SOLTERO     | FALSE | NA                               | ⋯ | A1  | 55 | 53 |  59 | 1  |  2 |  2 | PUBLICAR | 52.55877 | NSE2 |\n",
       "| 41646 | TI | 1 COLOMBIA | M | 2001-03-09 | 20164 | EK201640021548 | ESTUDIANTE | SOLTERO     | FALSE | NA                               | ⋯ | A1  | 55 | 69 | 104 | 3  | 56 | 65 | PUBLICAR | 52.81205 | NSE2 |\n",
       "| 41720 | CC | 1 COLOMBIA | M | 2004-12-04 | 20164 | EK201640030851 | ESTUDIANTE | SOLTERO     | FALSE | NA                               | ⋯ | A2  | 77 | 75 | 104 | 3  | 60 | 59 | PUBLICAR | 51.16187 | NSE2 |\n",
       "| 41854 | CC | 1 COLOMBIA | F | 2016-02-10 | 20164 | EK201640045021 | ESTUDIANTE | SOLTERO     | FALSE | NA                               | ⋯ | A1  | 43 | 39 | 119 | 3  | 83 | 83 | PUBLICAR | 56.27021 | NSE3 |\n",
       "| 43011 | CC | 1 COLOMBIA | M | 2016-07-11 | 20164 | EK201640010217 | ESTUDIANTE | SOLTERO     | FALSE | NA                               | ⋯ | A1  | 47 | 66 | 103 | 3  | 54 | 61 | PUBLICAR | 41.06426 | NSE1 |\n",
       "| 43731 | CC | 1 COLOMBIA | F | 2004-12-31 | 20164 | EK201640052696 | ESTUDIANTE | SOLTERO     | FALSE | NA                               | ⋯ | A2  | 68 | 79 |  97 | 2  | 35 | 43 | PUBLICAR | 46.69597 | NSE2 |\n",
       "| 43746 | CC | 1 COLOMBIA | F | 2016-08-02 | 20164 | EK201640044486 | ESTUDIANTE | UNIÓN LIBRE |    NA | NA                               | ⋯ | A1- |  8 |  6 |  61 | 1  |  2 |  2 | PUBLICAR | 45.49390 | NSE1 |\n",
       "| 44528 | TI | 1 COLOMBIA | F | 2001-01-03 | 20164 | EK201640049935 | ESTUDIANTE | SOLTERO     |    NA | NA                               | ⋯ | A1- | 12 | 11 |  97 | 2  | 36 | 36 | PUBLICAR | 57.45776 | NSE3 |\n",
       "| 45314 | CC | 1 COLOMBIA | M | 2016-02-21 | 20164 | EK201640034810 | ESTUDIANTE | SOLTERO     |    NA | NA                               | ⋯ | A2  | 81 | 80 | 119 | 3  | 83 | 81 | PUBLICAR | 59.38991 | NSE4 |\n",
       "| 46059 | CC | 1 COLOMBIA | F | 2001-11-17 | 20164 | EK201640034746 | ESTUDIANTE | UNIÓN LIBRE | FALSE | NA                               | ⋯ | A1- |  9 |  7 | 118 | 3  | 80 | 78 | PUBLICAR | 53.48416 | NSE2 |\n",
       "| 47063 | CC | 1 COLOMBIA | M | 2015-10-25 | 20164 | EK201640028574 | ESTUDIANTE | SOLTERO     | FALSE | NA                               | ⋯ | A1  | 45 | 55 | 104 | 3  | 56 | 57 | PUBLICAR | 38.97660 | NSE1 |\n",
       "| 47074 | TI | 1 COLOMBIA | F | 2001-01-02 | 20164 | EK201640021721 | ESTUDIANTE | SOLTERO     | FALSE | NA                               | ⋯ | A1  | 37 | 48 |  NA | NA | NA | NA | PUBLICAR | 66.40530 | NSE4 |\n",
       "| 47647 | CC | 1 COLOMBIA | M | 2016-01-23 | 20164 | EK201640001638 | ESTUDIANTE | SOLTERO     | FALSE | NA                               | ⋯ | A2  | 64 | 44 | 102 | 3  | 51 | 47 | PUBLICAR | 49.79476 | NSE3 |\n",
       "| 47952 | CC | 1 COLOMBIA | M | 2016-09-21 | 20164 | EK201640038814 | ESTUDIANTE | SOLTERO     |    NA | NA                               | ⋯ | B1  | 87 | 70 |  NA | NA | NA | NA | PUBLICAR | 57.94764 | NSE3 |\n",
       "| 49170 | CC | 1 COLOMBIA | M | 2018-03-19 | 20164 | EK201640016623 | ESTUDIANTE | SOLTERO     | FALSE | NA                               | ⋯ | A1- | 12 | 19 |  97 | 2  | 37 | 42 | PUBLICAR | 31.42099 | NSE1 |\n",
       "| 49396 | CC | 1 COLOMBIA | M | 2016-05-13 | 20164 | EK201640009431 | ESTUDIANTE | SOLTERO     | FALSE | NA                               | ⋯ | A2  | 62 | 60 | 105 | 3  | 64 | 61 | PUBLICAR | 56.45973 | NSE3 |\n",
       "| 49844 | CC | 1 COLOMBIA | M | 2016-07-07 | 20164 | EK201640016757 | ESTUDIANTE | SOLTERO     |    NA | NA                               | ⋯ | B1  | 96 | 96 |  97 | 2  | 36 | 32 | PUBLICAR | 58.01967 | NSE3 |\n",
       "| 50209 | TI | 1 COLOMBIA | F | 2001-05-19 | 20164 | EK201640022895 | ESTUDIANTE | SOLTERO     | FALSE | NA                               | ⋯ | A1- | 24 | 23 |  NA | NA | NA | NA | PUBLICAR | 56.83034 | NSE3 |\n",
       "| 50320 | CC | 1 COLOMBIA | F | 2016-07-04 | 20164 | EK201640027885 | ESTUDIANTE | SOLTERO     | FALSE | NA                               | ⋯ | A1  | 34 | 32 |  85 | 2  | 26 | 23 | PUBLICAR |       NA | NA   |\n",
       "| 51121 | CC | 1 COLOMBIA | M | 2016-07-15 | 20164 | EK201640036149 | ESTUDIANTE | SOLTERO     | FALSE | NA                               | ⋯ | A1- | 22 | 27 | 105 | 3  | 64 | 64 | PUBLICAR | 62.53218 | NSE4 |\n",
       "| 51216 | CC | 1 COLOMBIA | M | 2010-12-04 | 20164 | EK201640046980 | ESTUDIANTE | SOLTERO     | FALSE | NA                               | ⋯ | A2  | 69 | 65 | 105 | 3  | 63 | 63 | PUBLICAR | 65.75523 | NSE4 |\n",
       "| 51666 | CC | 1 COLOMBIA | M | 2001-02-05 | 20164 | EK201640042539 | ESTUDIANTE | SOLTERO     | FALSE | NA                               | ⋯ | A1- | 18 | 28 |  62 | 1  |  3 |  3 | PUBLICAR | 44.73897 | NSE1 |\n",
       "| 52039 | CC | 1 COLOMBIA | F | 2007-03-30 | 20164 | EK201640003184 | ESTUDIANTE | SOLTERO     |  TRUE | 19 Otro grupo étnico minoritario | ⋯ | A1  | 57 | 53 |  85 | 2  | 25 | 25 | PUBLICAR | 32.16401 | NSE1 |\n",
       "| 52941 | CC | 1 COLOMBIA | M | 2016-05-22 | 20164 | EK201640056015 | ESTUDIANTE | SOLTERO     | FALSE | NA                               | ⋯ | A1  | 50 | 38 | 113 | 3  | 74 | 77 | PUBLICAR | 72.27900 | NSE4 |\n",
       "\n"
      ],
      "text/plain": [
       "      ESTU_TIPODOCUMENTO ESTU_NACIONALIDAD ESTU_GENERO ESTU_FECHANACIMIENTO\n",
       "387   TI                 1 COLOMBIA        F           2001-04-16          \n",
       "406   TI                 1 COLOMBIA        F           2009-08-23          \n",
       "696   CC                 1 COLOMBIA        F           2016-08-15          \n",
       "831   CC                 1 COLOMBIA        M           2015-10-29          \n",
       "1584  CC                 1 COLOMBIA        M           2016-05-14          \n",
       "2192  CC                 1 COLOMBIA        F           2004-10-16          \n",
       "5020  TI                 1 COLOMBIA        F           2001-01-16          \n",
       "5063  CC                 1 COLOMBIA        F           2016-07-08          \n",
       "5065  CC                 1 COLOMBIA        F           2016-08-09          \n",
       "5153  CC                 1 COLOMBIA        F           2015-03-30          \n",
       "5641  CC                 1 COLOMBIA        F           2016-01-26          \n",
       "5667  TI                 1 COLOMBIA        F           2001-10-22          \n",
       "6035  CC                 1 COLOMBIA        M           2016-03-03          \n",
       "6355  CC                 1 COLOMBIA        M           2016-04-04          \n",
       "6383  CC                 1 COLOMBIA        M           2002-04-22          \n",
       "9221  CC                 1 COLOMBIA        M           2016-01-31          \n",
       "11479 CC                 1 COLOMBIA        M           2016-05-18          \n",
       "11801 CC                 1 COLOMBIA        F           2016-12-12          \n",
       "12901 CC                 1 COLOMBIA        M           2015-10-18          \n",
       "13024 TI                 1 COLOMBIA        F           2014-05-02          \n",
       "14260 TI                 1 COLOMBIA        F           2001-05-06          \n",
       "15084 CC                 1 COLOMBIA        M           2016-06-16          \n",
       "15104 CC                 1 COLOMBIA        M           2002-12-03          \n",
       "15559 CC                 1 COLOMBIA        F           2016-04-12          \n",
       "16096 CC                 1 COLOMBIA        F           2004-08-30          \n",
       "16268 CC                 1 COLOMBIA        F           2016-08-27          \n",
       "16401 CC                 1 COLOMBIA        M           2016-07-25          \n",
       "16839 CC                 1 COLOMBIA        M           2001-12-07          \n",
       "17166 CC                 1 COLOMBIA        F           2016-03-06          \n",
       "17435 TI                 1 COLOMBIA        F           2001-02-11          \n",
       "⋮     ⋮                  ⋮                 ⋮           ⋮                   \n",
       "37522 CC                 1 COLOMBIA        F           2016-08-17          \n",
       "38122 TI                 1 COLOMBIA        M           2001-02-11          \n",
       "38198 CC                 1 COLOMBIA        F           2016-01-16          \n",
       "38495 CC                 1 COLOMBIA        M           2024-01-16          \n",
       "39221 CC                 1 COLOMBIA        M           2016-07-20          \n",
       "39377 CC                 1 COLOMBIA        F           2016-01-06          \n",
       "41545 CC                 1 COLOMBIA        F           2016-07-18          \n",
       "41646 TI                 1 COLOMBIA        M           2001-03-09          \n",
       "41720 CC                 1 COLOMBIA        M           2004-12-04          \n",
       "41854 CC                 1 COLOMBIA        F           2016-02-10          \n",
       "43011 CC                 1 COLOMBIA        M           2016-07-11          \n",
       "43731 CC                 1 COLOMBIA        F           2004-12-31          \n",
       "43746 CC                 1 COLOMBIA        F           2016-08-02          \n",
       "44528 TI                 1 COLOMBIA        F           2001-01-03          \n",
       "45314 CC                 1 COLOMBIA        M           2016-02-21          \n",
       "46059 CC                 1 COLOMBIA        F           2001-11-17          \n",
       "47063 CC                 1 COLOMBIA        M           2015-10-25          \n",
       "47074 TI                 1 COLOMBIA        F           2001-01-02          \n",
       "47647 CC                 1 COLOMBIA        M           2016-01-23          \n",
       "47952 CC                 1 COLOMBIA        M           2016-09-21          \n",
       "49170 CC                 1 COLOMBIA        M           2018-03-19          \n",
       "49396 CC                 1 COLOMBIA        M           2016-05-13          \n",
       "49844 CC                 1 COLOMBIA        M           2016-07-07          \n",
       "50209 TI                 1 COLOMBIA        F           2001-05-19          \n",
       "50320 CC                 1 COLOMBIA        F           2016-07-04          \n",
       "51121 CC                 1 COLOMBIA        M           2016-07-15          \n",
       "51216 CC                 1 COLOMBIA        M           2010-12-04          \n",
       "51666 CC                 1 COLOMBIA        M           2001-02-05          \n",
       "52039 CC                 1 COLOMBIA        F           2007-03-30          \n",
       "52941 CC                 1 COLOMBIA        M           2016-05-22          \n",
       "      PERIODO ESTU_CONSECUTIVO ESTU_ESTUDIANTE ESTU_ESTADOCIVIL\n",
       "387   20164   EK201640011705   ESTUDIANTE      SOLTERO         \n",
       "406   20164   EK201640022982   ESTUDIANTE      SOLTERO         \n",
       "696   20164   EK201640036962   ESTUDIANTE      SOLTERO         \n",
       "831   20164   EK201640031909   ESTUDIANTE      SOLTERO         \n",
       "1584  20164   EK201640016911   ESTUDIANTE      SOLTERO         \n",
       "2192  20164   EK201640039006   ESTUDIANTE      UNIÓN LIBRE     \n",
       "5020  20164   EK201640047512   ESTUDIANTE      SOLTERO         \n",
       "5063  20164   EK201640051188   ESTUDIANTE      SOLTERO         \n",
       "5065  20164   EK201640047977   ESTUDIANTE      SOLTERO         \n",
       "5153  20164   EK201640053450   ESTUDIANTE      SOLTERO         \n",
       "5641  20164   EK201640009440   ESTUDIANTE      CASADO          \n",
       "5667  20164   EK201640053791   ESTUDIANTE      NA              \n",
       "6035  20164   EK201640055312   ESTUDIANTE      SOLTERO         \n",
       "6355  20164   EK201640033078   ESTUDIANTE      SOLTERO         \n",
       "6383  20164   EK201640042438   ESTUDIANTE      SOLTERO         \n",
       "9221  20164   EK201640028658   ESTUDIANTE      SOLTERO         \n",
       "11479 20164   EK201640021121   ESTUDIANTE      SOLTERO         \n",
       "11801 20164   EK201640052670   ESTUDIANTE      SOLTERO         \n",
       "12901 20164   EK201640028549   ESTUDIANTE      SOLTERO         \n",
       "13024 20164   EK201640009164   ESTUDIANTE      SOLTERO         \n",
       "14260 20164   EK201640012757   ESTUDIANTE      SOLTERO         \n",
       "15084 20164   EK201640044411   ESTUDIANTE      SOLTERO         \n",
       "15104 20164   EK201640033342   ESTUDIANTE      SOLTERO         \n",
       "15559 20164   EK201640021620   ESTUDIANTE      SOLTERO         \n",
       "16096 20164   EK201640035193   ESTUDIANTE      SOLTERO         \n",
       "16268 20164   EK201640006143   ESTUDIANTE      SOLTERO         \n",
       "16401 20164   EK201640004414   ESTUDIANTE      CASADO          \n",
       "16839 20164   EK201640011703   ESTUDIANTE      SOLTERO         \n",
       "17166 20164   EK201640015015   ESTUDIANTE      UNIÓN LIBRE     \n",
       "17435 20164   EK201640011228   ESTUDIANTE      SOLTERO         \n",
       "⋮     ⋮       ⋮                ⋮               ⋮               \n",
       "37522 20164   EK201640055591   ESTUDIANTE      UNIÓN LIBRE     \n",
       "38122 20164   EK201640047944   ESTUDIANTE      SOLTERO         \n",
       "38198 20164   EK201640056004   ESTUDIANTE      SOLTERO         \n",
       "38495 20164   EK201640044112   ESTUDIANTE      SOLTERO         \n",
       "39221 20164   EK201640054783   ESTUDIANTE      CASADO          \n",
       "39377 20164   EK201640036376   ESTUDIANTE      UNIÓN LIBRE     \n",
       "41545 20164   EK201640044654   ESTUDIANTE      SOLTERO         \n",
       "41646 20164   EK201640021548   ESTUDIANTE      SOLTERO         \n",
       "41720 20164   EK201640030851   ESTUDIANTE      SOLTERO         \n",
       "41854 20164   EK201640045021   ESTUDIANTE      SOLTERO         \n",
       "43011 20164   EK201640010217   ESTUDIANTE      SOLTERO         \n",
       "43731 20164   EK201640052696   ESTUDIANTE      SOLTERO         \n",
       "43746 20164   EK201640044486   ESTUDIANTE      UNIÓN LIBRE     \n",
       "44528 20164   EK201640049935   ESTUDIANTE      SOLTERO         \n",
       "45314 20164   EK201640034810   ESTUDIANTE      SOLTERO         \n",
       "46059 20164   EK201640034746   ESTUDIANTE      UNIÓN LIBRE     \n",
       "47063 20164   EK201640028574   ESTUDIANTE      SOLTERO         \n",
       "47074 20164   EK201640021721   ESTUDIANTE      SOLTERO         \n",
       "47647 20164   EK201640001638   ESTUDIANTE      SOLTERO         \n",
       "47952 20164   EK201640038814   ESTUDIANTE      SOLTERO         \n",
       "49170 20164   EK201640016623   ESTUDIANTE      SOLTERO         \n",
       "49396 20164   EK201640009431   ESTUDIANTE      SOLTERO         \n",
       "49844 20164   EK201640016757   ESTUDIANTE      SOLTERO         \n",
       "50209 20164   EK201640022895   ESTUDIANTE      SOLTERO         \n",
       "50320 20164   EK201640027885   ESTUDIANTE      SOLTERO         \n",
       "51121 20164   EK201640036149   ESTUDIANTE      SOLTERO         \n",
       "51216 20164   EK201640046980   ESTUDIANTE      SOLTERO         \n",
       "51666 20164   EK201640042539   ESTUDIANTE      SOLTERO         \n",
       "52039 20164   EK201640003184   ESTUDIANTE      SOLTERO         \n",
       "52941 20164   EK201640056015   ESTUDIANTE      SOLTERO         \n",
       "      ESTU_TIENE_ETNIA ESTU_ETNIA                       ⋯ MOD_INGLES_DESEM\n",
       "387   FALSE            NA                               ⋯ A1              \n",
       "406   FALSE            NA                               ⋯ A2              \n",
       "696   FALSE            NA                               ⋯ A1              \n",
       "831      NA            NA                               ⋯ A2              \n",
       "1584  FALSE            NA                               ⋯ B2              \n",
       "2192  FALSE            NA                               ⋯ A1              \n",
       "5020  FALSE            NA                               ⋯ A2              \n",
       "5063  FALSE            NA                               ⋯ A2              \n",
       "5065  FALSE            NA                               ⋯ A1-             \n",
       "5153     NA            NA                               ⋯ A2              \n",
       "5641  FALSE            NA                               ⋯ A1              \n",
       "5667     NA            NA                               ⋯ B2              \n",
       "6035  FALSE            NA                               ⋯ A1              \n",
       "6355   TRUE            1 Comunidad afrodescendiente     ⋯ A1              \n",
       "6383   TRUE            100 Ninguno                      ⋯ A1              \n",
       "9221  FALSE            NA                               ⋯ A2              \n",
       "11479 FALSE            NA                               ⋯ B2              \n",
       "11801 FALSE            NA                               ⋯ A1-             \n",
       "12901 FALSE            NA                               ⋯ A1              \n",
       "13024  TRUE            NA                               ⋯ A2              \n",
       "14260 FALSE            NA                               ⋯ B1              \n",
       "15084 FALSE            NA                               ⋯ A1              \n",
       "15104  TRUE            100 Ninguno                      ⋯ A2              \n",
       "15559    NA            NA                               ⋯ A1-             \n",
       "16096 FALSE            NA                               ⋯ A1-             \n",
       "16268 FALSE            NA                               ⋯ A1              \n",
       "16401 FALSE            NA                               ⋯ A2              \n",
       "16839    NA            NA                               ⋯ A1-             \n",
       "17166 FALSE            NA                               ⋯ A1-             \n",
       "17435 FALSE            NA                               ⋯ A2              \n",
       "⋮     ⋮                ⋮                                ⋱ ⋮               \n",
       "37522 FALSE            NA                               ⋯ A1              \n",
       "38122 FALSE            NA                               ⋯ B1              \n",
       "38198 FALSE            NA                               ⋯ A2              \n",
       "38495    NA            NA                               ⋯ A1              \n",
       "39221 FALSE            NA                               ⋯ A1              \n",
       "39377 FALSE            NA                               ⋯ A2              \n",
       "41545 FALSE            NA                               ⋯ A1              \n",
       "41646 FALSE            NA                               ⋯ A1              \n",
       "41720 FALSE            NA                               ⋯ A2              \n",
       "41854 FALSE            NA                               ⋯ A1              \n",
       "43011 FALSE            NA                               ⋯ A1              \n",
       "43731 FALSE            NA                               ⋯ A2              \n",
       "43746    NA            NA                               ⋯ A1-             \n",
       "44528    NA            NA                               ⋯ A1-             \n",
       "45314    NA            NA                               ⋯ A2              \n",
       "46059 FALSE            NA                               ⋯ A1-             \n",
       "47063 FALSE            NA                               ⋯ A1              \n",
       "47074 FALSE            NA                               ⋯ A1              \n",
       "47647 FALSE            NA                               ⋯ A2              \n",
       "47952    NA            NA                               ⋯ B1              \n",
       "49170 FALSE            NA                               ⋯ A1-             \n",
       "49396 FALSE            NA                               ⋯ A2              \n",
       "49844    NA            NA                               ⋯ B1              \n",
       "50209 FALSE            NA                               ⋯ A1-             \n",
       "50320 FALSE            NA                               ⋯ A1              \n",
       "51121 FALSE            NA                               ⋯ A1-             \n",
       "51216 FALSE            NA                               ⋯ A2              \n",
       "51666 FALSE            NA                               ⋯ A1-             \n",
       "52039  TRUE            19 Otro grupo étnico minoritario ⋯ A1              \n",
       "52941 FALSE            NA                               ⋯ A1              \n",
       "      MOD_INGLES_PNAL MOD_INGLES_PGREF MOD_COMUNI_ESCRITA_PUNT\n",
       "387   49               50              105                    \n",
       "406   82               82               85                    \n",
       "696   46               44               96                    \n",
       "831   84               83              117                    \n",
       "1584  99               99              100                    \n",
       "2192  26               24              120                    \n",
       "5020  74               75               82                    \n",
       "5063  69               84               76                    \n",
       "5065  12               10               75                    \n",
       "5153  80               77              123                    \n",
       "5641  36               34              120                    \n",
       "5667  99              100              118                    \n",
       "6035  48               44              108                    \n",
       "6355  35               31              105                    \n",
       "6383  44               42              124                    \n",
       "9221  72               57               78                    \n",
       "11479 98               98              106                    \n",
       "11801 20               18               88                    \n",
       "12901 27               34               61                    \n",
       "13024 64               64               98                    \n",
       "14260 89               90              142                    \n",
       "15084 26               38               83                    \n",
       "15104 66               51               87                    \n",
       "15559 19               17               64                    \n",
       "16096 23               22               80                    \n",
       "16268 30               28               85                    \n",
       "16401 80               79              124                    \n",
       "16839  4                7               NA                    \n",
       "17166 20               18               63                    \n",
       "17435 78               79              100                    \n",
       "⋮     ⋮               ⋮                ⋮                      \n",
       "37522 51              67               125                    \n",
       "38122 88              89                68                    \n",
       "38198 70              60               126                    \n",
       "38495 31              48               109                    \n",
       "39221 53              50                72                    \n",
       "39377 76              75                73                    \n",
       "41545 55              53                59                    \n",
       "41646 55              69               104                    \n",
       "41720 77              75               104                    \n",
       "41854 43              39               119                    \n",
       "43011 47              66               103                    \n",
       "43731 68              79                97                    \n",
       "43746  8               6                61                    \n",
       "44528 12              11                97                    \n",
       "45314 81              80               119                    \n",
       "46059  9               7               118                    \n",
       "47063 45              55               104                    \n",
       "47074 37              48                NA                    \n",
       "47647 64              44               102                    \n",
       "47952 87              70                NA                    \n",
       "49170 12              19                97                    \n",
       "49396 62              60               105                    \n",
       "49844 96              96                97                    \n",
       "50209 24              23                NA                    \n",
       "50320 34              32                85                    \n",
       "51121 22              27               105                    \n",
       "51216 69              65               105                    \n",
       "51666 18              28                62                    \n",
       "52039 57              53                85                    \n",
       "52941 50              38               113                    \n",
       "      MOD_COMUNI_ESCRITA_DESEM MOD_COMUNI_ESCRITA_PNAL MOD_COMUNI_ESCRITA_PGREF\n",
       "387   3                        61                      61                      \n",
       "406   2                        27                      29                      \n",
       "696   2                        34                      30                      \n",
       "831   3                        78                      75                      \n",
       "1584  2                        47                      46                      \n",
       "2192  3                        85                      83                      \n",
       "5020  2                        20                      20                      \n",
       "5063  1                        14                      16                      \n",
       "5065  1                        13                      11                      \n",
       "5153  4                        89                      89                      \n",
       "5641  3                        85                      83                      \n",
       "5667  3                        79                      80                      \n",
       "6035  3                        71                      71                      \n",
       "6355  3                        64                      64                      \n",
       "6383  4                        90                      88                      \n",
       "9221  1                        15                      16                      \n",
       "11479 3                        67                      63                      \n",
       "11801 2                        31                      27                      \n",
       "12901 1                         2                       2                      \n",
       "13024 2                        37                      37                      \n",
       "14260 4                        98                      98                      \n",
       "15084 2                        22                      26                      \n",
       "15104 2                        31                      31                      \n",
       "15559 1                         5                       4                      \n",
       "16096 1                        19                      17                      \n",
       "16268 2                        27                      23                      \n",
       "16401 4                        90                      89                      \n",
       "16839 NA                       NA                      NA                      \n",
       "17166 1                         4                       3                      \n",
       "17435 2                        49                      49                      \n",
       "⋮     ⋮                        ⋮                       ⋮                       \n",
       "37522 4                        92                      94                      \n",
       "38122 1                         7                       7                      \n",
       "38198 4                        94                      95                      \n",
       "38495 3                        73                      78                      \n",
       "39221 1                        10                       9                      \n",
       "39377 1                        10                       9                      \n",
       "41545 1                         2                       2                      \n",
       "41646 3                        56                      65                      \n",
       "41720 3                        60                      59                      \n",
       "41854 3                        83                      83                      \n",
       "43011 3                        54                      61                      \n",
       "43731 2                        35                      43                      \n",
       "43746 1                         2                       2                      \n",
       "44528 2                        36                      36                      \n",
       "45314 3                        83                      81                      \n",
       "46059 3                        80                      78                      \n",
       "47063 3                        56                      57                      \n",
       "47074 NA                       NA                      NA                      \n",
       "47647 3                        51                      47                      \n",
       "47952 NA                       NA                      NA                      \n",
       "49170 2                        37                      42                      \n",
       "49396 3                        64                      61                      \n",
       "49844 2                        36                      32                      \n",
       "50209 NA                       NA                      NA                      \n",
       "50320 2                        26                      23                      \n",
       "51121 3                        64                      64                      \n",
       "51216 3                        63                      63                      \n",
       "51666 1                         3                       3                      \n",
       "52039 2                        25                      25                      \n",
       "52941 3                        74                      77                      \n",
       "      ESTU_ESTADO INSE     NSE \n",
       "387   PUBLICAR    38.15527 NSE1\n",
       "406   PUBLICAR    55.36953 NSE2\n",
       "696   PUBLICAR    45.57939 NSE1\n",
       "831   PUBLICAR    59.17248 NSE4\n",
       "1584  PUBLICAR    48.36100 NSE2\n",
       "2192  PUBLICAR    50.44390 NSE2\n",
       "5020  PUBLICAR    63.72377 NSE4\n",
       "5063  PUBLICAR          NA NA  \n",
       "5065  PUBLICAR    60.34192 NSE4\n",
       "5153  PUBLICAR    58.73706 NSE3\n",
       "5641  PUBLICAR    52.34551 NSE2\n",
       "5667  PUBLICAR    53.23489 NSE2\n",
       "6035  PUBLICAR    56.26345 NSE3\n",
       "6355  PUBLICAR    56.28231 NSE3\n",
       "6383  PUBLICAR    61.14856 NSE4\n",
       "9221  PUBLICAR    38.24368 NSE1\n",
       "11479 PUBLICAR    45.54476 NSE1\n",
       "11801 PUBLICAR    48.22620 NSE2\n",
       "12901 PUBLICAR    47.40286 NSE2\n",
       "13024 PUBLICAR    62.33628 NSE4\n",
       "14260 PUBLICAR    57.30403 NSE3\n",
       "15084 PUBLICAR    47.74776 NSE2\n",
       "15104 PUBLICAR    56.39712 NSE3\n",
       "15559 PUBLICAR    39.54439 NSE1\n",
       "16096 PUBLICAR    57.11619 NSE3\n",
       "16268 PUBLICAR    55.01909 NSE2\n",
       "16401 PUBLICAR    65.57603 NSE4\n",
       "16839 PUBLICAR    45.29214 NSE1\n",
       "17166 PUBLICAR    45.43179 NSE1\n",
       "17435 PUBLICAR    55.56852 NSE3\n",
       "⋮     ⋮           ⋮        ⋮   \n",
       "37522 PUBLICAR    45.39416 NSE1\n",
       "38122 PUBLICAR    57.90526 NSE3\n",
       "38198 PUBLICAR    51.87634 NSE2\n",
       "38495 PUBLICAR    48.98514 NSE2\n",
       "39221 PUBLICAR    47.64923 NSE2\n",
       "39377 PUBLICAR    51.77469 NSE2\n",
       "41545 PUBLICAR    52.55877 NSE2\n",
       "41646 PUBLICAR    52.81205 NSE2\n",
       "41720 PUBLICAR    51.16187 NSE2\n",
       "41854 PUBLICAR    56.27021 NSE3\n",
       "43011 PUBLICAR    41.06426 NSE1\n",
       "43731 PUBLICAR    46.69597 NSE2\n",
       "43746 PUBLICAR    45.49390 NSE1\n",
       "44528 PUBLICAR    57.45776 NSE3\n",
       "45314 PUBLICAR    59.38991 NSE4\n",
       "46059 PUBLICAR    53.48416 NSE2\n",
       "47063 PUBLICAR    38.97660 NSE1\n",
       "47074 PUBLICAR    66.40530 NSE4\n",
       "47647 PUBLICAR    49.79476 NSE3\n",
       "47952 PUBLICAR    57.94764 NSE3\n",
       "49170 PUBLICAR    31.42099 NSE1\n",
       "49396 PUBLICAR    56.45973 NSE3\n",
       "49844 PUBLICAR    58.01967 NSE3\n",
       "50209 PUBLICAR    56.83034 NSE3\n",
       "50320 PUBLICAR          NA NA  \n",
       "51121 PUBLICAR    62.53218 NSE4\n",
       "51216 PUBLICAR    65.75523 NSE4\n",
       "51666 PUBLICAR    44.73897 NSE1\n",
       "52039 PUBLICAR    32.16401 NSE1\n",
       "52941 PUBLICAR    72.27900 NSE4"
      ]
     },
     "metadata": {},
     "output_type": "display_data"
    }
   ],
   "source": [
    "df_published[df_published$ESTU_FECHANACIMIENTO>as.Date(\"2000-12-31\"),]"
   ]
  },
  {
   "cell_type": "markdown",
   "metadata": {},
   "source": [
    "Hay alrededor de 92 personas que tenían menos de 16 años antes de presentar la prueba y algunos que incluso no habían nacido."
   ]
  },
  {
   "cell_type": "markdown",
   "metadata": {},
   "source": [
    "También hay personas con más de 70 años que presentarón la prueba en el 2016 esto sería un dato interesante pero que no podemos confiar debido a la forma en la que se recolectó este campo."
   ]
  },
  {
   "cell_type": "code",
   "execution_count": 69,
   "metadata": {
    "ExecuteTime": {
     "end_time": "2021-08-24T17:31:16.477710Z",
     "start_time": "2021-08-24T17:31:10.576Z"
    },
    "scrolled": false
   },
   "outputs": [
    {
     "data": {
      "text/html": [
       "<table>\n",
       "<caption>A data.frame: 5 × 35</caption>\n",
       "<thead>\n",
       "\t<tr><th></th><th scope=col>ESTU_TIPODOCUMENTO</th><th scope=col>ESTU_NACIONALIDAD</th><th scope=col>ESTU_GENERO</th><th scope=col>ESTU_FECHANACIMIENTO</th><th scope=col>PERIODO</th><th scope=col>ESTU_CONSECUTIVO</th><th scope=col>ESTU_ESTUDIANTE</th><th scope=col>ESTU_ESTADOCIVIL</th><th scope=col>ESTU_TIENE_ETNIA</th><th scope=col>ESTU_ETNIA</th><th scope=col>⋯</th><th scope=col>MOD_INGLES_DESEM</th><th scope=col>MOD_INGLES_PNAL</th><th scope=col>MOD_INGLES_PGREF</th><th scope=col>MOD_COMUNI_ESCRITA_PUNT</th><th scope=col>MOD_COMUNI_ESCRITA_DESEM</th><th scope=col>MOD_COMUNI_ESCRITA_PNAL</th><th scope=col>MOD_COMUNI_ESCRITA_PGREF</th><th scope=col>ESTU_ESTADO</th><th scope=col>INSE</th><th scope=col>NSE</th></tr>\n",
       "\t<tr><th></th><th scope=col>&lt;fct&gt;</th><th scope=col>&lt;fct&gt;</th><th scope=col>&lt;fct&gt;</th><th scope=col>&lt;date&gt;</th><th scope=col>&lt;fct&gt;</th><th scope=col>&lt;fct&gt;</th><th scope=col>&lt;fct&gt;</th><th scope=col>&lt;fct&gt;</th><th scope=col>&lt;lgl&gt;</th><th scope=col>&lt;fct&gt;</th><th scope=col>⋯</th><th scope=col>&lt;fct&gt;</th><th scope=col>&lt;int&gt;</th><th scope=col>&lt;int&gt;</th><th scope=col>&lt;int&gt;</th><th scope=col>&lt;fct&gt;</th><th scope=col>&lt;int&gt;</th><th scope=col>&lt;int&gt;</th><th scope=col>&lt;fct&gt;</th><th scope=col>&lt;dbl&gt;</th><th scope=col>&lt;fct&gt;</th></tr>\n",
       "</thead>\n",
       "<tbody>\n",
       "\t<tr><th scope=row>9072</th><td>CC</td><td>1 COLOMBIA</td><td>M </td><td>1945-09-14</td><td>20164</td><td>EK201640031759</td><td>ESTUDIANTE</td><td>CASADO </td><td>   NA</td><td>NA         </td><td>⋯</td><td>A2</td><td>80</td><td>79</td><td> 98</td><td>2 </td><td>39</td><td>36</td><td>PUBLICAR</td><td>53.16704</td><td>NSE2</td></tr>\n",
       "\t<tr><th scope=row>NA</th><td>NA</td><td>NA        </td><td>NA</td><td>NA</td><td>NA   </td><td>NA            </td><td>NA        </td><td>NA     </td><td>   NA</td><td>NA         </td><td>⋯</td><td>NA</td><td>NA</td><td>NA</td><td> NA</td><td>NA</td><td>NA</td><td>NA</td><td>NA      </td><td>      NA</td><td>NA  </td></tr>\n",
       "\t<tr><th scope=row>46233</th><td>CC</td><td>1 COLOMBIA</td><td>M </td><td>1944-12-13</td><td>20164</td><td>EK201640037534</td><td>ESTUDIANTE</td><td>SOLTERO</td><td>FALSE</td><td>NA         </td><td>⋯</td><td>A1</td><td>52</td><td>72</td><td>119</td><td>3 </td><td>82</td><td>85</td><td>PUBLICAR</td><td>31.34326</td><td>NSE1</td></tr>\n",
       "\t<tr><th scope=row>48486</th><td>CC</td><td>1 COLOMBIA</td><td>F </td><td>1945-11-08</td><td>20164</td><td>EK201640046175</td><td>ESTUDIANTE</td><td>SOLTERO</td><td> TRUE</td><td>100 Ninguno</td><td>⋯</td><td>A1</td><td>50</td><td>50</td><td> 85</td><td>2 </td><td>26</td><td>26</td><td>PUBLICAR</td><td>48.35082</td><td>NSE2</td></tr>\n",
       "\t<tr><th scope=row>49391</th><td>CC</td><td>1 COLOMBIA</td><td>M </td><td>1946-07-27</td><td>20164</td><td>EK201640001126</td><td>ESTUDIANTE</td><td>CASADO </td><td>FALSE</td><td>NA         </td><td>⋯</td><td>A2</td><td>63</td><td>51</td><td>104</td><td>3 </td><td>59</td><td>62</td><td>PUBLICAR</td><td>27.62424</td><td>NSE1</td></tr>\n",
       "</tbody>\n",
       "</table>\n"
      ],
      "text/latex": [
       "A data.frame: 5 × 35\n",
       "\\begin{tabular}{r|lllllllllllllllllllll}\n",
       "  & ESTU\\_TIPODOCUMENTO & ESTU\\_NACIONALIDAD & ESTU\\_GENERO & ESTU\\_FECHANACIMIENTO & PERIODO & ESTU\\_CONSECUTIVO & ESTU\\_ESTUDIANTE & ESTU\\_ESTADOCIVIL & ESTU\\_TIENE\\_ETNIA & ESTU\\_ETNIA & ⋯ & MOD\\_INGLES\\_DESEM & MOD\\_INGLES\\_PNAL & MOD\\_INGLES\\_PGREF & MOD\\_COMUNI\\_ESCRITA\\_PUNT & MOD\\_COMUNI\\_ESCRITA\\_DESEM & MOD\\_COMUNI\\_ESCRITA\\_PNAL & MOD\\_COMUNI\\_ESCRITA\\_PGREF & ESTU\\_ESTADO & INSE & NSE\\\\\n",
       "  & <fct> & <fct> & <fct> & <date> & <fct> & <fct> & <fct> & <fct> & <lgl> & <fct> & ⋯ & <fct> & <int> & <int> & <int> & <fct> & <int> & <int> & <fct> & <dbl> & <fct>\\\\\n",
       "\\hline\n",
       "\t9072 & CC & 1 COLOMBIA & M  & 1945-09-14 & 20164 & EK201640031759 & ESTUDIANTE & CASADO  &    NA & NA          & ⋯ & A2 & 80 & 79 &  98 & 2  & 39 & 36 & PUBLICAR & 53.16704 & NSE2\\\\\n",
       "\tNA & NA & NA         & NA & NA & NA    & NA             & NA         & NA      &    NA & NA          & ⋯ & NA & NA & NA &  NA & NA & NA & NA & NA       &       NA & NA  \\\\\n",
       "\t46233 & CC & 1 COLOMBIA & M  & 1944-12-13 & 20164 & EK201640037534 & ESTUDIANTE & SOLTERO & FALSE & NA          & ⋯ & A1 & 52 & 72 & 119 & 3  & 82 & 85 & PUBLICAR & 31.34326 & NSE1\\\\\n",
       "\t48486 & CC & 1 COLOMBIA & F  & 1945-11-08 & 20164 & EK201640046175 & ESTUDIANTE & SOLTERO &  TRUE & 100 Ninguno & ⋯ & A1 & 50 & 50 &  85 & 2  & 26 & 26 & PUBLICAR & 48.35082 & NSE2\\\\\n",
       "\t49391 & CC & 1 COLOMBIA & M  & 1946-07-27 & 20164 & EK201640001126 & ESTUDIANTE & CASADO  & FALSE & NA          & ⋯ & A2 & 63 & 51 & 104 & 3  & 59 & 62 & PUBLICAR & 27.62424 & NSE1\\\\\n",
       "\\end{tabular}\n"
      ],
      "text/markdown": [
       "\n",
       "A data.frame: 5 × 35\n",
       "\n",
       "| <!--/--> | ESTU_TIPODOCUMENTO &lt;fct&gt; | ESTU_NACIONALIDAD &lt;fct&gt; | ESTU_GENERO &lt;fct&gt; | ESTU_FECHANACIMIENTO &lt;date&gt; | PERIODO &lt;fct&gt; | ESTU_CONSECUTIVO &lt;fct&gt; | ESTU_ESTUDIANTE &lt;fct&gt; | ESTU_ESTADOCIVIL &lt;fct&gt; | ESTU_TIENE_ETNIA &lt;lgl&gt; | ESTU_ETNIA &lt;fct&gt; | ⋯ ⋯ | MOD_INGLES_DESEM &lt;fct&gt; | MOD_INGLES_PNAL &lt;int&gt; | MOD_INGLES_PGREF &lt;int&gt; | MOD_COMUNI_ESCRITA_PUNT &lt;int&gt; | MOD_COMUNI_ESCRITA_DESEM &lt;fct&gt; | MOD_COMUNI_ESCRITA_PNAL &lt;int&gt; | MOD_COMUNI_ESCRITA_PGREF &lt;int&gt; | ESTU_ESTADO &lt;fct&gt; | INSE &lt;dbl&gt; | NSE &lt;fct&gt; |\n",
       "|---|---|---|---|---|---|---|---|---|---|---|---|---|---|---|---|---|---|---|---|---|---|\n",
       "| 9072 | CC | 1 COLOMBIA | M  | 1945-09-14 | 20164 | EK201640031759 | ESTUDIANTE | CASADO  |    NA | NA          | ⋯ | A2 | 80 | 79 |  98 | 2  | 39 | 36 | PUBLICAR | 53.16704 | NSE2 |\n",
       "| NA | NA | NA         | NA | NA | NA    | NA             | NA         | NA      |    NA | NA          | ⋯ | NA | NA | NA |  NA | NA | NA | NA | NA       |       NA | NA   |\n",
       "| 46233 | CC | 1 COLOMBIA | M  | 1944-12-13 | 20164 | EK201640037534 | ESTUDIANTE | SOLTERO | FALSE | NA          | ⋯ | A1 | 52 | 72 | 119 | 3  | 82 | 85 | PUBLICAR | 31.34326 | NSE1 |\n",
       "| 48486 | CC | 1 COLOMBIA | F  | 1945-11-08 | 20164 | EK201640046175 | ESTUDIANTE | SOLTERO |  TRUE | 100 Ninguno | ⋯ | A1 | 50 | 50 |  85 | 2  | 26 | 26 | PUBLICAR | 48.35082 | NSE2 |\n",
       "| 49391 | CC | 1 COLOMBIA | M  | 1946-07-27 | 20164 | EK201640001126 | ESTUDIANTE | CASADO  | FALSE | NA          | ⋯ | A2 | 63 | 51 | 104 | 3  | 59 | 62 | PUBLICAR | 27.62424 | NSE1 |\n",
       "\n"
      ],
      "text/plain": [
       "      ESTU_TIPODOCUMENTO ESTU_NACIONALIDAD ESTU_GENERO ESTU_FECHANACIMIENTO\n",
       "9072  CC                 1 COLOMBIA        M           1945-09-14          \n",
       "NA    NA                 NA                NA          <NA>                \n",
       "46233 CC                 1 COLOMBIA        M           1944-12-13          \n",
       "48486 CC                 1 COLOMBIA        F           1945-11-08          \n",
       "49391 CC                 1 COLOMBIA        M           1946-07-27          \n",
       "      PERIODO ESTU_CONSECUTIVO ESTU_ESTUDIANTE ESTU_ESTADOCIVIL\n",
       "9072  20164   EK201640031759   ESTUDIANTE      CASADO          \n",
       "NA    NA      NA               NA              NA              \n",
       "46233 20164   EK201640037534   ESTUDIANTE      SOLTERO         \n",
       "48486 20164   EK201640046175   ESTUDIANTE      SOLTERO         \n",
       "49391 20164   EK201640001126   ESTUDIANTE      CASADO          \n",
       "      ESTU_TIENE_ETNIA ESTU_ETNIA  ⋯ MOD_INGLES_DESEM MOD_INGLES_PNAL\n",
       "9072     NA            NA          ⋯ A2               80             \n",
       "NA       NA            NA          ⋯ NA               NA             \n",
       "46233 FALSE            NA          ⋯ A1               52             \n",
       "48486  TRUE            100 Ninguno ⋯ A1               50             \n",
       "49391 FALSE            NA          ⋯ A2               63             \n",
       "      MOD_INGLES_PGREF MOD_COMUNI_ESCRITA_PUNT MOD_COMUNI_ESCRITA_DESEM\n",
       "9072  79                98                     2                       \n",
       "NA    NA                NA                     NA                      \n",
       "46233 72               119                     3                       \n",
       "48486 50                85                     2                       \n",
       "49391 51               104                     3                       \n",
       "      MOD_COMUNI_ESCRITA_PNAL MOD_COMUNI_ESCRITA_PGREF ESTU_ESTADO INSE    \n",
       "9072  39                      36                       PUBLICAR    53.16704\n",
       "NA    NA                      NA                       NA                NA\n",
       "46233 82                      85                       PUBLICAR    31.34326\n",
       "48486 26                      26                       PUBLICAR    48.35082\n",
       "49391 59                      62                       PUBLICAR    27.62424\n",
       "      NSE \n",
       "9072  NSE2\n",
       "NA    NA  \n",
       "46233 NSE1\n",
       "48486 NSE2\n",
       "49391 NSE1"
      ]
     },
     "metadata": {},
     "output_type": "display_data"
    }
   ],
   "source": [
    "df_published[df_published$ESTU_FECHANACIMIENTO < as.Date(\"1946-12-31\"),]"
   ]
  },
  {
   "cell_type": "markdown",
   "metadata": {},
   "source": [
    "Para ejercicios practicos pondremos en NA las fechas de personas que tengan menos de 16 años."
   ]
  },
  {
   "cell_type": "code",
   "execution_count": 70,
   "metadata": {
    "ExecuteTime": {
     "end_time": "2021-08-24T17:31:16.489166Z",
     "start_time": "2021-08-24T17:31:10.579Z"
    }
   },
   "outputs": [],
   "source": [
    "df_published$ESTU_FECHANACIMIENTO[df_published$ESTU_FECHANACIMIENTO>as.Date(\"2000-12-31\")] = NA"
   ]
  },
  {
   "cell_type": "markdown",
   "metadata": {},
   "source": [
    "### Datos Númericos"
   ]
  },
  {
   "cell_type": "code",
   "execution_count": 71,
   "metadata": {
    "ExecuteTime": {
     "end_time": "2021-08-24T17:31:16.501214Z",
     "start_time": "2021-08-24T17:31:10.582Z"
    }
   },
   "outputs": [],
   "source": [
    "numeric_colums = names(df_published)[sapply(df_published, is.numeric)]"
   ]
  },
  {
   "cell_type": "code",
   "execution_count": 72,
   "metadata": {
    "ExecuteTime": {
     "end_time": "2021-08-24T17:31:16.560486Z",
     "start_time": "2021-08-24T17:31:10.585Z"
    },
    "scrolled": true
   },
   "outputs": [
    {
     "data": {
      "text/plain": [
       " MOD_RAZONA_CUANTITAT_PUNT MOD_RAZONA_CUANTITATIVO_PNAL\n",
       " Min.   :  0.00            Min.   :  1.00              \n",
       " 1st Qu.: 81.00            1st Qu.: 26.00              \n",
       " Median : 96.00            Median : 51.00              \n",
       " Mean   : 96.48            Mean   : 50.53              \n",
       " 3rd Qu.:111.00            3rd Qu.: 76.00              \n",
       " Max.   :200.00            Max.   :100.00              \n",
       "                                                       \n",
       " MOD_RAZONA_CUANTITATIVO_PGREF MOD_LECTURA_CRITICA_PUNT\n",
       " Min.   :  1.00                Min.   :  0.0           \n",
       " 1st Qu.: 26.00                1st Qu.: 81.0           \n",
       " Median : 51.00                Median : 97.0           \n",
       " Mean   : 50.53                Mean   : 95.8           \n",
       " 3rd Qu.: 76.00                3rd Qu.:112.0           \n",
       " Max.   :100.00                Max.   :200.0           \n",
       "                                                       \n",
       " MOD_LECTURA_CRITICA_PNAL MOD_LECTURA_CRITICA_PGREF MOD_COMPETEN_CIUDADA_PUNT\n",
       " Min.   :  1.00           Min.   :  1.00            Min.   :  0.00           \n",
       " 1st Qu.: 26.00           1st Qu.: 26.00            1st Qu.: 82.00           \n",
       " Median : 51.00           Median : 51.00            Median : 99.00           \n",
       " Mean   : 50.53           Mean   : 50.52            Mean   : 97.99           \n",
       " 3rd Qu.: 76.00           3rd Qu.: 76.00            3rd Qu.:114.00           \n",
       " Max.   :100.00           Max.   :100.00            Max.   :200.00           \n",
       "                                                                             \n",
       " MOD_COMPETEN_CIUDADA_PNAL MOD_COMPETEN_CIUDADA_PGREF MOD_INGLES_PUNT\n",
       " Min.   :  1.00            Min.   :  1.00             Min.   :  0    \n",
       " 1st Qu.: 26.00            1st Qu.: 26.00             1st Qu.: 85    \n",
       " Median : 51.00            Median : 51.00             Median : 98    \n",
       " Mean   : 50.54            Mean   : 50.53             Mean   :100    \n",
       " 3rd Qu.: 76.00            3rd Qu.: 76.00             3rd Qu.:112    \n",
       " Max.   :100.00            Max.   :100.00             Max.   :200    \n",
       "                                                                     \n",
       " MOD_INGLES_PNAL MOD_INGLES_PGREF MOD_COMUNI_ESCRITA_PUNT\n",
       " Min.   :  1.0   Min.   :  1.00   Min.   : 49            \n",
       " 1st Qu.: 25.0   1st Qu.: 25.00   1st Qu.: 85            \n",
       " Median : 50.0   Median : 50.00   Median :102            \n",
       " Mean   : 50.5   Mean   : 50.49   Mean   :100            \n",
       " 3rd Qu.: 76.0   3rd Qu.: 76.00   3rd Qu.:115            \n",
       " Max.   :100.0   Max.   :100.00   Max.   :200            \n",
       "                                  NA's   :770            \n",
       " MOD_COMUNI_ESCRITA_PNAL MOD_COMUNI_ESCRITA_PGREF      INSE      \n",
       " Min.   :  1.00          Min.   :  1.00           Min.   :19.03  \n",
       " 1st Qu.: 25.00          1st Qu.: 25.00           1st Qu.:45.05  \n",
       " Median : 50.00          Median : 50.00           Median :52.04  \n",
       " Mean   : 50.47          Mean   : 50.46           Mean   :51.42  \n",
       " 3rd Qu.: 75.00          3rd Qu.: 75.00           3rd Qu.:57.77  \n",
       " Max.   :100.00          Max.   :100.00           Max.   :84.14  \n",
       " NA's   :770             NA's   :770              NA's   :753    "
      ]
     },
     "metadata": {},
     "output_type": "display_data"
    }
   ],
   "source": [
    "setDT(df_published)[, summary(.SD), .SDcols = numeric_colums]"
   ]
  },
  {
   "cell_type": "markdown",
   "metadata": {},
   "source": [
    "Tenemos que en el Modulo de Comunicación Escrita existen 770 valores nulos y que el puntaje minimo fue de 49 cuando en el resto de las pruebas los puntajes minimos suelen ser 0. Habría que revisar junto el icfes si hubo algún tipo de error en la recolección de esta variable."
   ]
  },
  {
   "cell_type": "markdown",
   "metadata": {},
   "source": [
    "No parece que hayan errores más allá de los datos nulos en el INSE y en la Competencia de Comunicación Escrita. Para estos NA no tenemos forma de calcular los valores nulos."
   ]
  },
  {
   "cell_type": "markdown",
   "metadata": {},
   "source": [
    "### Datos Cualitativos"
   ]
  },
  {
   "cell_type": "code",
   "execution_count": 81,
   "metadata": {
    "ExecuteTime": {
     "end_time": "2021-08-24T17:57:03.135383Z",
     "start_time": "2021-08-24T17:57:03.120Z"
    }
   },
   "outputs": [],
   "source": [
    "is.not.numeric = function(x) {\n",
    "    return(!is.numeric(x))\n",
    "}"
   ]
  },
  {
   "cell_type": "code",
   "execution_count": 82,
   "metadata": {
    "ExecuteTime": {
     "end_time": "2021-08-24T17:57:08.392482Z",
     "start_time": "2021-08-24T17:57:08.374Z"
    }
   },
   "outputs": [],
   "source": [
    "cualitative_colums = names(df_published)[sapply(df_published, is.not.numeric)]"
   ]
  },
  {
   "cell_type": "code",
   "execution_count": 84,
   "metadata": {
    "ExecuteTime": {
     "end_time": "2021-08-24T17:58:46.092602Z",
     "start_time": "2021-08-24T17:58:45.974Z"
    }
   },
   "outputs": [
    {
     "data": {
      "text/plain": [
       " ESTU_TIPODOCUMENTO           ESTU_NACIONALIDAD ESTU_GENERO \n",
       " CC:50358           1 COLOMBIA         :52665   F   :24667  \n",
       " CE:   36           112 JAPÓN          :    0   M   :27996  \n",
       " CR:  248           118 COREA DEL NORTE:    0   NA's:    2  \n",
       " PC:    1           119 COREA DEL SUR  :    0               \n",
       " PE:    0           12 ARGENTINA       :    0               \n",
       " TI: 2022           144 MÉXICO         :    0               \n",
       "                    (Other)            :    0               \n",
       " ESTU_FECHANACIMIENTO  PERIODO            ESTU_CONSECUTIVO   ESTU_ESTUDIANTE \n",
       " Min.   :1944-12-13   20164:52665   EK201640000012:    1   ESTUDIANTE:52665  \n",
       " 1st Qu.:1988-04-20                 EK201640000014:    1                     \n",
       " Median :1993-08-03                 EK201640000015:    1                     \n",
       " Mean   :1991-04-13                 EK201640000017:    1                     \n",
       " 3rd Qu.:1996-03-12                 EK201640000018:    1                     \n",
       " Max.   :2000-12-31                 EK201640000019:    1                     \n",
       " NA's   :92                         (Other)       :52659                     \n",
       "         ESTU_ESTADOCIVIL ESTU_TIENE_ETNIA\n",
       " CASADO          : 4835   Mode :logical   \n",
       " SEPARADO / VIUDO:  569   FALSE:45098     \n",
       " SOLTERO         :40774   TRUE :3276      \n",
       " UNIÓN LIBRE     : 6437   NA's :4291      \n",
       " NA's            :   50                   \n",
       "                                          \n",
       "                                          \n",
       "                            ESTU_ETNIA    ESTU_LIMITA_MOTRIZ\n",
       " 100 Ninguno                     : 1631   Mode :logical     \n",
       " 1 Comunidad afrodescendiente    :  681   FALSE:52619       \n",
       " 19 Otro grupo étnico minoritario:  445   TRUE :46          \n",
       " 4 Paez                          :   72                     \n",
       " 18 Zenú                         :   57                     \n",
       " (Other)                         :  200                     \n",
       " NA's                            :49579                     \n",
       " ESTU_LIMITA_INVIDENTE ESTU_LIMITA_CONDICIONESPECIAL ESTU_LIMITA_SORDO\n",
       " Mode :logical         Mode :logical                 Mode :logical    \n",
       " FALSE:52661           FALSE:52658                   FALSE:52636      \n",
       " TRUE :4               TRUE :7                       TRUE :29         \n",
       "                                                                      \n",
       "                                                                      \n",
       "                                                                      \n",
       "                                                                      \n",
       " ESTU_LIMITA_AUTISMO MOD_INGLES_DESEM MOD_COMUNI_ESCRITA_DESEM\n",
       " Mode :logical       A1 :18799        1   : 9614              \n",
       " FALSE:52662         A1-:12965        2   :15951              \n",
       " TRUE :3             A2 :13540        3   :19395              \n",
       "                     B1 : 5995        4   : 6935              \n",
       "                     B2 : 1366        NA's:  770              \n",
       "                                                              \n",
       "                                                              \n",
       "                   ESTU_ESTADO      NSE       \n",
       " PUBLICAR                :52665   NSE1:13838  \n",
       " VALIDEZ OFICINA JURÍDICA:    0   NSE2:20132  \n",
       "                                  NSE3: 7246  \n",
       "                                  NSE4:10696  \n",
       "                                  NA's:  753  \n",
       "                                              \n",
       "                                              "
      ]
     },
     "metadata": {},
     "output_type": "display_data"
    }
   ],
   "source": [
    "setDT(df_published)[, summary(.SD), .SDcols = cualitative_colums]"
   ]
  },
  {
   "cell_type": "markdown",
   "metadata": {},
   "source": [
    "Hay varios valores NA en ESTU_GENERO, ESTU_ESTADOCIVIL, ESTU_TIENE_ETNIA y NSE  que no tenemos forma de llenarlos con los datos que se nos sumisnistrarón.\n",
    "\n",
    "Podría ser posible calcular los MOD_COMUNI_ESCRITA_DESE faltantes, sin embargo esto requiere que el icfes nos de conocimiento de la forma en la que se calcula ya que no se encontró información pública de este calculo."
   ]
  },
  {
   "cell_type": "markdown",
   "metadata": {},
   "source": [
    "Por otro lado vemos que existen 49579 valores nulos en ESTU_ETNIA que se podría suponer que son personas sin etnia (aunque existe el campo ninguna), sin embargo solo 45098 afirmarón no tener etnia. Lo que nos lleva a pensar que hay inconsistencias en el llenado de las etnias."
   ]
  },
  {
   "cell_type": "markdown",
   "metadata": {},
   "source": [
    "### Analisis de Variables en Grupos"
   ]
  },
  {
   "cell_type": "markdown",
   "metadata": {},
   "source": [
    "Existen variables que independientemente parecen tener sentido, sin embargo miremos el signifiado global de algunas de ellas para ver si existen inconsistencias como la que creemos que hay en las etnias."
   ]
  },
  {
   "cell_type": "markdown",
   "metadata": {},
   "source": [
    "#### Etnias"
   ]
  },
  {
   "cell_type": "code",
   "execution_count": 102,
   "metadata": {
    "ExecuteTime": {
     "end_time": "2021-08-24T18:27:55.855645Z",
     "start_time": "2021-08-24T18:27:55.795Z"
    },
    "scrolled": true
   },
   "outputs": [
    {
     "data": {
      "text/html": [
       "<table>\n",
       "<caption>A data.table: 1590 × 2</caption>\n",
       "<thead>\n",
       "\t<tr><th scope=col>ESTU_TIENE_ETNIA</th><th scope=col>ESTU_ETNIA</th></tr>\n",
       "\t<tr><th scope=col>&lt;lgl&gt;</th><th scope=col>&lt;fct&gt;</th></tr>\n",
       "</thead>\n",
       "<tbody>\n",
       "\t<tr><td>TRUE</td><td>100 Ninguno</td></tr>\n",
       "\t<tr><td>TRUE</td><td>100 Ninguno</td></tr>\n",
       "\t<tr><td>TRUE</td><td>100 Ninguno</td></tr>\n",
       "\t<tr><td>TRUE</td><td>100 Ninguno</td></tr>\n",
       "\t<tr><td>TRUE</td><td>100 Ninguno</td></tr>\n",
       "\t<tr><td>TRUE</td><td>100 Ninguno</td></tr>\n",
       "\t<tr><td>TRUE</td><td>100 Ninguno</td></tr>\n",
       "\t<tr><td>TRUE</td><td>100 Ninguno</td></tr>\n",
       "\t<tr><td>TRUE</td><td>100 Ninguno</td></tr>\n",
       "\t<tr><td>TRUE</td><td>100 Ninguno</td></tr>\n",
       "\t<tr><td>TRUE</td><td>100 Ninguno</td></tr>\n",
       "\t<tr><td>TRUE</td><td>100 Ninguno</td></tr>\n",
       "\t<tr><td>TRUE</td><td>100 Ninguno</td></tr>\n",
       "\t<tr><td>TRUE</td><td>100 Ninguno</td></tr>\n",
       "\t<tr><td>TRUE</td><td>100 Ninguno</td></tr>\n",
       "\t<tr><td>TRUE</td><td>100 Ninguno</td></tr>\n",
       "\t<tr><td>TRUE</td><td>100 Ninguno</td></tr>\n",
       "\t<tr><td>TRUE</td><td>100 Ninguno</td></tr>\n",
       "\t<tr><td>TRUE</td><td>100 Ninguno</td></tr>\n",
       "\t<tr><td>TRUE</td><td>100 Ninguno</td></tr>\n",
       "\t<tr><td>TRUE</td><td>100 Ninguno</td></tr>\n",
       "\t<tr><td>TRUE</td><td>100 Ninguno</td></tr>\n",
       "\t<tr><td>TRUE</td><td>100 Ninguno</td></tr>\n",
       "\t<tr><td>TRUE</td><td>100 Ninguno</td></tr>\n",
       "\t<tr><td>TRUE</td><td>100 Ninguno</td></tr>\n",
       "\t<tr><td>TRUE</td><td>100 Ninguno</td></tr>\n",
       "\t<tr><td>TRUE</td><td>100 Ninguno</td></tr>\n",
       "\t<tr><td>TRUE</td><td>100 Ninguno</td></tr>\n",
       "\t<tr><td>TRUE</td><td>100 Ninguno</td></tr>\n",
       "\t<tr><td>TRUE</td><td>100 Ninguno</td></tr>\n",
       "\t<tr><td>⋮</td><td>⋮</td></tr>\n",
       "\t<tr><td>TRUE</td><td>100 Ninguno</td></tr>\n",
       "\t<tr><td>TRUE</td><td>100 Ninguno</td></tr>\n",
       "\t<tr><td>TRUE</td><td>100 Ninguno</td></tr>\n",
       "\t<tr><td>TRUE</td><td>100 Ninguno</td></tr>\n",
       "\t<tr><td>TRUE</td><td>100 Ninguno</td></tr>\n",
       "\t<tr><td>TRUE</td><td>100 Ninguno</td></tr>\n",
       "\t<tr><td>TRUE</td><td>100 Ninguno</td></tr>\n",
       "\t<tr><td>TRUE</td><td>100 Ninguno</td></tr>\n",
       "\t<tr><td>TRUE</td><td>100 Ninguno</td></tr>\n",
       "\t<tr><td>TRUE</td><td>100 Ninguno</td></tr>\n",
       "\t<tr><td>TRUE</td><td>100 Ninguno</td></tr>\n",
       "\t<tr><td>TRUE</td><td>100 Ninguno</td></tr>\n",
       "\t<tr><td>TRUE</td><td>100 Ninguno</td></tr>\n",
       "\t<tr><td>TRUE</td><td>100 Ninguno</td></tr>\n",
       "\t<tr><td>TRUE</td><td>100 Ninguno</td></tr>\n",
       "\t<tr><td>TRUE</td><td>100 Ninguno</td></tr>\n",
       "\t<tr><td>TRUE</td><td>100 Ninguno</td></tr>\n",
       "\t<tr><td>TRUE</td><td>100 Ninguno</td></tr>\n",
       "\t<tr><td>TRUE</td><td>100 Ninguno</td></tr>\n",
       "\t<tr><td>TRUE</td><td>100 Ninguno</td></tr>\n",
       "\t<tr><td>TRUE</td><td>100 Ninguno</td></tr>\n",
       "\t<tr><td>TRUE</td><td>100 Ninguno</td></tr>\n",
       "\t<tr><td>TRUE</td><td>100 Ninguno</td></tr>\n",
       "\t<tr><td>TRUE</td><td>100 Ninguno</td></tr>\n",
       "\t<tr><td>TRUE</td><td>100 Ninguno</td></tr>\n",
       "\t<tr><td>TRUE</td><td>100 Ninguno</td></tr>\n",
       "\t<tr><td>TRUE</td><td>100 Ninguno</td></tr>\n",
       "\t<tr><td>TRUE</td><td>100 Ninguno</td></tr>\n",
       "\t<tr><td>TRUE</td><td>100 Ninguno</td></tr>\n",
       "\t<tr><td>TRUE</td><td>100 Ninguno</td></tr>\n",
       "</tbody>\n",
       "</table>\n"
      ],
      "text/latex": [
       "A data.table: 1590 × 2\n",
       "\\begin{tabular}{ll}\n",
       " ESTU\\_TIENE\\_ETNIA & ESTU\\_ETNIA\\\\\n",
       " <lgl> & <fct>\\\\\n",
       "\\hline\n",
       "\t TRUE & 100 Ninguno\\\\\n",
       "\t TRUE & 100 Ninguno\\\\\n",
       "\t TRUE & 100 Ninguno\\\\\n",
       "\t TRUE & 100 Ninguno\\\\\n",
       "\t TRUE & 100 Ninguno\\\\\n",
       "\t TRUE & 100 Ninguno\\\\\n",
       "\t TRUE & 100 Ninguno\\\\\n",
       "\t TRUE & 100 Ninguno\\\\\n",
       "\t TRUE & 100 Ninguno\\\\\n",
       "\t TRUE & 100 Ninguno\\\\\n",
       "\t TRUE & 100 Ninguno\\\\\n",
       "\t TRUE & 100 Ninguno\\\\\n",
       "\t TRUE & 100 Ninguno\\\\\n",
       "\t TRUE & 100 Ninguno\\\\\n",
       "\t TRUE & 100 Ninguno\\\\\n",
       "\t TRUE & 100 Ninguno\\\\\n",
       "\t TRUE & 100 Ninguno\\\\\n",
       "\t TRUE & 100 Ninguno\\\\\n",
       "\t TRUE & 100 Ninguno\\\\\n",
       "\t TRUE & 100 Ninguno\\\\\n",
       "\t TRUE & 100 Ninguno\\\\\n",
       "\t TRUE & 100 Ninguno\\\\\n",
       "\t TRUE & 100 Ninguno\\\\\n",
       "\t TRUE & 100 Ninguno\\\\\n",
       "\t TRUE & 100 Ninguno\\\\\n",
       "\t TRUE & 100 Ninguno\\\\\n",
       "\t TRUE & 100 Ninguno\\\\\n",
       "\t TRUE & 100 Ninguno\\\\\n",
       "\t TRUE & 100 Ninguno\\\\\n",
       "\t TRUE & 100 Ninguno\\\\\n",
       "\t ⋮ & ⋮\\\\\n",
       "\t TRUE & 100 Ninguno\\\\\n",
       "\t TRUE & 100 Ninguno\\\\\n",
       "\t TRUE & 100 Ninguno\\\\\n",
       "\t TRUE & 100 Ninguno\\\\\n",
       "\t TRUE & 100 Ninguno\\\\\n",
       "\t TRUE & 100 Ninguno\\\\\n",
       "\t TRUE & 100 Ninguno\\\\\n",
       "\t TRUE & 100 Ninguno\\\\\n",
       "\t TRUE & 100 Ninguno\\\\\n",
       "\t TRUE & 100 Ninguno\\\\\n",
       "\t TRUE & 100 Ninguno\\\\\n",
       "\t TRUE & 100 Ninguno\\\\\n",
       "\t TRUE & 100 Ninguno\\\\\n",
       "\t TRUE & 100 Ninguno\\\\\n",
       "\t TRUE & 100 Ninguno\\\\\n",
       "\t TRUE & 100 Ninguno\\\\\n",
       "\t TRUE & 100 Ninguno\\\\\n",
       "\t TRUE & 100 Ninguno\\\\\n",
       "\t TRUE & 100 Ninguno\\\\\n",
       "\t TRUE & 100 Ninguno\\\\\n",
       "\t TRUE & 100 Ninguno\\\\\n",
       "\t TRUE & 100 Ninguno\\\\\n",
       "\t TRUE & 100 Ninguno\\\\\n",
       "\t TRUE & 100 Ninguno\\\\\n",
       "\t TRUE & 100 Ninguno\\\\\n",
       "\t TRUE & 100 Ninguno\\\\\n",
       "\t TRUE & 100 Ninguno\\\\\n",
       "\t TRUE & 100 Ninguno\\\\\n",
       "\t TRUE & 100 Ninguno\\\\\n",
       "\t TRUE & 100 Ninguno\\\\\n",
       "\\end{tabular}\n"
      ],
      "text/markdown": [
       "\n",
       "A data.table: 1590 × 2\n",
       "\n",
       "| ESTU_TIENE_ETNIA &lt;lgl&gt; | ESTU_ETNIA &lt;fct&gt; |\n",
       "|---|---|\n",
       "| TRUE | 100 Ninguno |\n",
       "| TRUE | 100 Ninguno |\n",
       "| TRUE | 100 Ninguno |\n",
       "| TRUE | 100 Ninguno |\n",
       "| TRUE | 100 Ninguno |\n",
       "| TRUE | 100 Ninguno |\n",
       "| TRUE | 100 Ninguno |\n",
       "| TRUE | 100 Ninguno |\n",
       "| TRUE | 100 Ninguno |\n",
       "| TRUE | 100 Ninguno |\n",
       "| TRUE | 100 Ninguno |\n",
       "| TRUE | 100 Ninguno |\n",
       "| TRUE | 100 Ninguno |\n",
       "| TRUE | 100 Ninguno |\n",
       "| TRUE | 100 Ninguno |\n",
       "| TRUE | 100 Ninguno |\n",
       "| TRUE | 100 Ninguno |\n",
       "| TRUE | 100 Ninguno |\n",
       "| TRUE | 100 Ninguno |\n",
       "| TRUE | 100 Ninguno |\n",
       "| TRUE | 100 Ninguno |\n",
       "| TRUE | 100 Ninguno |\n",
       "| TRUE | 100 Ninguno |\n",
       "| TRUE | 100 Ninguno |\n",
       "| TRUE | 100 Ninguno |\n",
       "| TRUE | 100 Ninguno |\n",
       "| TRUE | 100 Ninguno |\n",
       "| TRUE | 100 Ninguno |\n",
       "| TRUE | 100 Ninguno |\n",
       "| TRUE | 100 Ninguno |\n",
       "| ⋮ | ⋮ |\n",
       "| TRUE | 100 Ninguno |\n",
       "| TRUE | 100 Ninguno |\n",
       "| TRUE | 100 Ninguno |\n",
       "| TRUE | 100 Ninguno |\n",
       "| TRUE | 100 Ninguno |\n",
       "| TRUE | 100 Ninguno |\n",
       "| TRUE | 100 Ninguno |\n",
       "| TRUE | 100 Ninguno |\n",
       "| TRUE | 100 Ninguno |\n",
       "| TRUE | 100 Ninguno |\n",
       "| TRUE | 100 Ninguno |\n",
       "| TRUE | 100 Ninguno |\n",
       "| TRUE | 100 Ninguno |\n",
       "| TRUE | 100 Ninguno |\n",
       "| TRUE | 100 Ninguno |\n",
       "| TRUE | 100 Ninguno |\n",
       "| TRUE | 100 Ninguno |\n",
       "| TRUE | 100 Ninguno |\n",
       "| TRUE | 100 Ninguno |\n",
       "| TRUE | 100 Ninguno |\n",
       "| TRUE | 100 Ninguno |\n",
       "| TRUE | 100 Ninguno |\n",
       "| TRUE | 100 Ninguno |\n",
       "| TRUE | 100 Ninguno |\n",
       "| TRUE | 100 Ninguno |\n",
       "| TRUE | 100 Ninguno |\n",
       "| TRUE | 100 Ninguno |\n",
       "| TRUE | 100 Ninguno |\n",
       "| TRUE | 100 Ninguno |\n",
       "| TRUE | 100 Ninguno |\n",
       "\n"
      ],
      "text/plain": [
       "     ESTU_TIENE_ETNIA ESTU_ETNIA \n",
       "1    TRUE             100 Ninguno\n",
       "2    TRUE             100 Ninguno\n",
       "3    TRUE             100 Ninguno\n",
       "4    TRUE             100 Ninguno\n",
       "5    TRUE             100 Ninguno\n",
       "6    TRUE             100 Ninguno\n",
       "7    TRUE             100 Ninguno\n",
       "8    TRUE             100 Ninguno\n",
       "9    TRUE             100 Ninguno\n",
       "10   TRUE             100 Ninguno\n",
       "11   TRUE             100 Ninguno\n",
       "12   TRUE             100 Ninguno\n",
       "13   TRUE             100 Ninguno\n",
       "14   TRUE             100 Ninguno\n",
       "15   TRUE             100 Ninguno\n",
       "16   TRUE             100 Ninguno\n",
       "17   TRUE             100 Ninguno\n",
       "18   TRUE             100 Ninguno\n",
       "19   TRUE             100 Ninguno\n",
       "20   TRUE             100 Ninguno\n",
       "21   TRUE             100 Ninguno\n",
       "22   TRUE             100 Ninguno\n",
       "23   TRUE             100 Ninguno\n",
       "24   TRUE             100 Ninguno\n",
       "25   TRUE             100 Ninguno\n",
       "26   TRUE             100 Ninguno\n",
       "27   TRUE             100 Ninguno\n",
       "28   TRUE             100 Ninguno\n",
       "29   TRUE             100 Ninguno\n",
       "30   TRUE             100 Ninguno\n",
       "⋮    ⋮                ⋮          \n",
       "1561 TRUE             100 Ninguno\n",
       "1562 TRUE             100 Ninguno\n",
       "1563 TRUE             100 Ninguno\n",
       "1564 TRUE             100 Ninguno\n",
       "1565 TRUE             100 Ninguno\n",
       "1566 TRUE             100 Ninguno\n",
       "1567 TRUE             100 Ninguno\n",
       "1568 TRUE             100 Ninguno\n",
       "1569 TRUE             100 Ninguno\n",
       "1570 TRUE             100 Ninguno\n",
       "1571 TRUE             100 Ninguno\n",
       "1572 TRUE             100 Ninguno\n",
       "1573 TRUE             100 Ninguno\n",
       "1574 TRUE             100 Ninguno\n",
       "1575 TRUE             100 Ninguno\n",
       "1576 TRUE             100 Ninguno\n",
       "1577 TRUE             100 Ninguno\n",
       "1578 TRUE             100 Ninguno\n",
       "1579 TRUE             100 Ninguno\n",
       "1580 TRUE             100 Ninguno\n",
       "1581 TRUE             100 Ninguno\n",
       "1582 TRUE             100 Ninguno\n",
       "1583 TRUE             100 Ninguno\n",
       "1584 TRUE             100 Ninguno\n",
       "1585 TRUE             100 Ninguno\n",
       "1586 TRUE             100 Ninguno\n",
       "1587 TRUE             100 Ninguno\n",
       "1588 TRUE             100 Ninguno\n",
       "1589 TRUE             100 Ninguno\n",
       "1590 TRUE             100 Ninguno"
      ]
     },
     "metadata": {},
     "output_type": "display_data"
    }
   ],
   "source": [
    "df_etnias = df_published[df_published$ESTU_TIENE_ETNIA == TRUE & df_published$ESTU_ETNIA == \"100 Ninguno\",]\n",
    "select(df_etnias, c('ESTU_TIENE_ETNIA', 'ESTU_ETNIA'))"
   ]
  },
  {
   "cell_type": "markdown",
   "metadata": {},
   "source": [
    "Existen 1590 persosas que afirmarón tener etnia y seleccionarón ninguna."
   ]
  },
  {
   "cell_type": "code",
   "execution_count": 104,
   "metadata": {
    "ExecuteTime": {
     "end_time": "2021-08-24T18:28:23.903928Z",
     "start_time": "2021-08-24T18:28:23.842Z"
    },
    "scrolled": true
   },
   "outputs": [
    {
     "data": {
      "text/html": [
       "<table>\n",
       "<caption>A data.table: 266 × 2</caption>\n",
       "<thead>\n",
       "\t<tr><th scope=col>ESTU_TIENE_ETNIA</th><th scope=col>ESTU_ETNIA</th></tr>\n",
       "\t<tr><th scope=col>&lt;lgl&gt;</th><th scope=col>&lt;fct&gt;</th></tr>\n",
       "</thead>\n",
       "<tbody>\n",
       "\t<tr><td>TRUE</td><td>NA</td></tr>\n",
       "\t<tr><td>TRUE</td><td>NA</td></tr>\n",
       "\t<tr><td>TRUE</td><td>NA</td></tr>\n",
       "\t<tr><td>TRUE</td><td>NA</td></tr>\n",
       "\t<tr><td>TRUE</td><td>NA</td></tr>\n",
       "\t<tr><td>TRUE</td><td>NA</td></tr>\n",
       "\t<tr><td>TRUE</td><td>NA</td></tr>\n",
       "\t<tr><td>TRUE</td><td>NA</td></tr>\n",
       "\t<tr><td>TRUE</td><td>NA</td></tr>\n",
       "\t<tr><td>TRUE</td><td>NA</td></tr>\n",
       "\t<tr><td>TRUE</td><td>NA</td></tr>\n",
       "\t<tr><td>TRUE</td><td>NA</td></tr>\n",
       "\t<tr><td>TRUE</td><td>NA</td></tr>\n",
       "\t<tr><td>TRUE</td><td>NA</td></tr>\n",
       "\t<tr><td>TRUE</td><td>NA</td></tr>\n",
       "\t<tr><td>TRUE</td><td>NA</td></tr>\n",
       "\t<tr><td>TRUE</td><td>NA</td></tr>\n",
       "\t<tr><td>TRUE</td><td>NA</td></tr>\n",
       "\t<tr><td>TRUE</td><td>NA</td></tr>\n",
       "\t<tr><td>TRUE</td><td>NA</td></tr>\n",
       "\t<tr><td>TRUE</td><td>NA</td></tr>\n",
       "\t<tr><td>TRUE</td><td>NA</td></tr>\n",
       "\t<tr><td>TRUE</td><td>NA</td></tr>\n",
       "\t<tr><td>TRUE</td><td>NA</td></tr>\n",
       "\t<tr><td>TRUE</td><td>NA</td></tr>\n",
       "\t<tr><td>TRUE</td><td>NA</td></tr>\n",
       "\t<tr><td>TRUE</td><td>NA</td></tr>\n",
       "\t<tr><td>TRUE</td><td>NA</td></tr>\n",
       "\t<tr><td>TRUE</td><td>NA</td></tr>\n",
       "\t<tr><td>TRUE</td><td>NA</td></tr>\n",
       "\t<tr><td>⋮</td><td>⋮</td></tr>\n",
       "\t<tr><td>TRUE</td><td>NA</td></tr>\n",
       "\t<tr><td>TRUE</td><td>NA</td></tr>\n",
       "\t<tr><td>TRUE</td><td>NA</td></tr>\n",
       "\t<tr><td>TRUE</td><td>NA</td></tr>\n",
       "\t<tr><td>TRUE</td><td>NA</td></tr>\n",
       "\t<tr><td>TRUE</td><td>NA</td></tr>\n",
       "\t<tr><td>TRUE</td><td>NA</td></tr>\n",
       "\t<tr><td>TRUE</td><td>NA</td></tr>\n",
       "\t<tr><td>TRUE</td><td>NA</td></tr>\n",
       "\t<tr><td>TRUE</td><td>NA</td></tr>\n",
       "\t<tr><td>TRUE</td><td>NA</td></tr>\n",
       "\t<tr><td>TRUE</td><td>NA</td></tr>\n",
       "\t<tr><td>TRUE</td><td>NA</td></tr>\n",
       "\t<tr><td>TRUE</td><td>NA</td></tr>\n",
       "\t<tr><td>TRUE</td><td>NA</td></tr>\n",
       "\t<tr><td>TRUE</td><td>NA</td></tr>\n",
       "\t<tr><td>TRUE</td><td>NA</td></tr>\n",
       "\t<tr><td>TRUE</td><td>NA</td></tr>\n",
       "\t<tr><td>TRUE</td><td>NA</td></tr>\n",
       "\t<tr><td>TRUE</td><td>NA</td></tr>\n",
       "\t<tr><td>TRUE</td><td>NA</td></tr>\n",
       "\t<tr><td>TRUE</td><td>NA</td></tr>\n",
       "\t<tr><td>TRUE</td><td>NA</td></tr>\n",
       "\t<tr><td>TRUE</td><td>NA</td></tr>\n",
       "\t<tr><td>TRUE</td><td>NA</td></tr>\n",
       "\t<tr><td>TRUE</td><td>NA</td></tr>\n",
       "\t<tr><td>TRUE</td><td>NA</td></tr>\n",
       "\t<tr><td>TRUE</td><td>NA</td></tr>\n",
       "\t<tr><td>TRUE</td><td>NA</td></tr>\n",
       "\t<tr><td>TRUE</td><td>NA</td></tr>\n",
       "</tbody>\n",
       "</table>\n"
      ],
      "text/latex": [
       "A data.table: 266 × 2\n",
       "\\begin{tabular}{ll}\n",
       " ESTU\\_TIENE\\_ETNIA & ESTU\\_ETNIA\\\\\n",
       " <lgl> & <fct>\\\\\n",
       "\\hline\n",
       "\t TRUE & NA\\\\\n",
       "\t TRUE & NA\\\\\n",
       "\t TRUE & NA\\\\\n",
       "\t TRUE & NA\\\\\n",
       "\t TRUE & NA\\\\\n",
       "\t TRUE & NA\\\\\n",
       "\t TRUE & NA\\\\\n",
       "\t TRUE & NA\\\\\n",
       "\t TRUE & NA\\\\\n",
       "\t TRUE & NA\\\\\n",
       "\t TRUE & NA\\\\\n",
       "\t TRUE & NA\\\\\n",
       "\t TRUE & NA\\\\\n",
       "\t TRUE & NA\\\\\n",
       "\t TRUE & NA\\\\\n",
       "\t TRUE & NA\\\\\n",
       "\t TRUE & NA\\\\\n",
       "\t TRUE & NA\\\\\n",
       "\t TRUE & NA\\\\\n",
       "\t TRUE & NA\\\\\n",
       "\t TRUE & NA\\\\\n",
       "\t TRUE & NA\\\\\n",
       "\t TRUE & NA\\\\\n",
       "\t TRUE & NA\\\\\n",
       "\t TRUE & NA\\\\\n",
       "\t TRUE & NA\\\\\n",
       "\t TRUE & NA\\\\\n",
       "\t TRUE & NA\\\\\n",
       "\t TRUE & NA\\\\\n",
       "\t TRUE & NA\\\\\n",
       "\t ⋮ & ⋮\\\\\n",
       "\t TRUE & NA\\\\\n",
       "\t TRUE & NA\\\\\n",
       "\t TRUE & NA\\\\\n",
       "\t TRUE & NA\\\\\n",
       "\t TRUE & NA\\\\\n",
       "\t TRUE & NA\\\\\n",
       "\t TRUE & NA\\\\\n",
       "\t TRUE & NA\\\\\n",
       "\t TRUE & NA\\\\\n",
       "\t TRUE & NA\\\\\n",
       "\t TRUE & NA\\\\\n",
       "\t TRUE & NA\\\\\n",
       "\t TRUE & NA\\\\\n",
       "\t TRUE & NA\\\\\n",
       "\t TRUE & NA\\\\\n",
       "\t TRUE & NA\\\\\n",
       "\t TRUE & NA\\\\\n",
       "\t TRUE & NA\\\\\n",
       "\t TRUE & NA\\\\\n",
       "\t TRUE & NA\\\\\n",
       "\t TRUE & NA\\\\\n",
       "\t TRUE & NA\\\\\n",
       "\t TRUE & NA\\\\\n",
       "\t TRUE & NA\\\\\n",
       "\t TRUE & NA\\\\\n",
       "\t TRUE & NA\\\\\n",
       "\t TRUE & NA\\\\\n",
       "\t TRUE & NA\\\\\n",
       "\t TRUE & NA\\\\\n",
       "\t TRUE & NA\\\\\n",
       "\\end{tabular}\n"
      ],
      "text/markdown": [
       "\n",
       "A data.table: 266 × 2\n",
       "\n",
       "| ESTU_TIENE_ETNIA &lt;lgl&gt; | ESTU_ETNIA &lt;fct&gt; |\n",
       "|---|---|\n",
       "| TRUE | NA |\n",
       "| TRUE | NA |\n",
       "| TRUE | NA |\n",
       "| TRUE | NA |\n",
       "| TRUE | NA |\n",
       "| TRUE | NA |\n",
       "| TRUE | NA |\n",
       "| TRUE | NA |\n",
       "| TRUE | NA |\n",
       "| TRUE | NA |\n",
       "| TRUE | NA |\n",
       "| TRUE | NA |\n",
       "| TRUE | NA |\n",
       "| TRUE | NA |\n",
       "| TRUE | NA |\n",
       "| TRUE | NA |\n",
       "| TRUE | NA |\n",
       "| TRUE | NA |\n",
       "| TRUE | NA |\n",
       "| TRUE | NA |\n",
       "| TRUE | NA |\n",
       "| TRUE | NA |\n",
       "| TRUE | NA |\n",
       "| TRUE | NA |\n",
       "| TRUE | NA |\n",
       "| TRUE | NA |\n",
       "| TRUE | NA |\n",
       "| TRUE | NA |\n",
       "| TRUE | NA |\n",
       "| TRUE | NA |\n",
       "| ⋮ | ⋮ |\n",
       "| TRUE | NA |\n",
       "| TRUE | NA |\n",
       "| TRUE | NA |\n",
       "| TRUE | NA |\n",
       "| TRUE | NA |\n",
       "| TRUE | NA |\n",
       "| TRUE | NA |\n",
       "| TRUE | NA |\n",
       "| TRUE | NA |\n",
       "| TRUE | NA |\n",
       "| TRUE | NA |\n",
       "| TRUE | NA |\n",
       "| TRUE | NA |\n",
       "| TRUE | NA |\n",
       "| TRUE | NA |\n",
       "| TRUE | NA |\n",
       "| TRUE | NA |\n",
       "| TRUE | NA |\n",
       "| TRUE | NA |\n",
       "| TRUE | NA |\n",
       "| TRUE | NA |\n",
       "| TRUE | NA |\n",
       "| TRUE | NA |\n",
       "| TRUE | NA |\n",
       "| TRUE | NA |\n",
       "| TRUE | NA |\n",
       "| TRUE | NA |\n",
       "| TRUE | NA |\n",
       "| TRUE | NA |\n",
       "| TRUE | NA |\n",
       "\n"
      ],
      "text/plain": [
       "    ESTU_TIENE_ETNIA ESTU_ETNIA\n",
       "1   TRUE             NA        \n",
       "2   TRUE             NA        \n",
       "3   TRUE             NA        \n",
       "4   TRUE             NA        \n",
       "5   TRUE             NA        \n",
       "6   TRUE             NA        \n",
       "7   TRUE             NA        \n",
       "8   TRUE             NA        \n",
       "9   TRUE             NA        \n",
       "10  TRUE             NA        \n",
       "11  TRUE             NA        \n",
       "12  TRUE             NA        \n",
       "13  TRUE             NA        \n",
       "14  TRUE             NA        \n",
       "15  TRUE             NA        \n",
       "16  TRUE             NA        \n",
       "17  TRUE             NA        \n",
       "18  TRUE             NA        \n",
       "19  TRUE             NA        \n",
       "20  TRUE             NA        \n",
       "21  TRUE             NA        \n",
       "22  TRUE             NA        \n",
       "23  TRUE             NA        \n",
       "24  TRUE             NA        \n",
       "25  TRUE             NA        \n",
       "26  TRUE             NA        \n",
       "27  TRUE             NA        \n",
       "28  TRUE             NA        \n",
       "29  TRUE             NA        \n",
       "30  TRUE             NA        \n",
       "⋮   ⋮                ⋮         \n",
       "237 TRUE             NA        \n",
       "238 TRUE             NA        \n",
       "239 TRUE             NA        \n",
       "240 TRUE             NA        \n",
       "241 TRUE             NA        \n",
       "242 TRUE             NA        \n",
       "243 TRUE             NA        \n",
       "244 TRUE             NA        \n",
       "245 TRUE             NA        \n",
       "246 TRUE             NA        \n",
       "247 TRUE             NA        \n",
       "248 TRUE             NA        \n",
       "249 TRUE             NA        \n",
       "250 TRUE             NA        \n",
       "251 TRUE             NA        \n",
       "252 TRUE             NA        \n",
       "253 TRUE             NA        \n",
       "254 TRUE             NA        \n",
       "255 TRUE             NA        \n",
       "256 TRUE             NA        \n",
       "257 TRUE             NA        \n",
       "258 TRUE             NA        \n",
       "259 TRUE             NA        \n",
       "260 TRUE             NA        \n",
       "261 TRUE             NA        \n",
       "262 TRUE             NA        \n",
       "263 TRUE             NA        \n",
       "264 TRUE             NA        \n",
       "265 TRUE             NA        \n",
       "266 TRUE             NA        "
      ]
     },
     "metadata": {},
     "output_type": "display_data"
    }
   ],
   "source": [
    "df_etnias = df_published[df_published$ESTU_TIENE_ETNIA == TRUE &  is.na(df_published$ESTU_ETNI),]\n",
    "select(df_etnias, c('ESTU_TIENE_ETNIA', 'ESTU_ETNIA'))"
   ]
  },
  {
   "cell_type": "markdown",
   "metadata": {},
   "source": [
    "Existen también 226 personas que afirmarón tener Etnia y no llenarón el campo de que etnia pertenecen."
   ]
  },
  {
   "cell_type": "code",
   "execution_count": 106,
   "metadata": {
    "ExecuteTime": {
     "end_time": "2021-08-24T18:34:44.232866Z",
     "start_time": "2021-08-24T18:34:44.194Z"
    },
    "scrolled": true
   },
   "outputs": [
    {
     "data": {
      "text/html": [
       "<table>\n",
       "<caption>A data.table: 35 × 2</caption>\n",
       "<thead>\n",
       "\t<tr><th scope=col>ESTU_TIENE_ETNIA</th><th scope=col>ESTU_ETNIA</th></tr>\n",
       "\t<tr><th scope=col>&lt;lgl&gt;</th><th scope=col>&lt;fct&gt;</th></tr>\n",
       "</thead>\n",
       "<tbody>\n",
       "\t<tr><td>FALSE</td><td>19 Otro grupo étnico minoritario</td></tr>\n",
       "\t<tr><td>FALSE</td><td>19 Otro grupo étnico minoritario</td></tr>\n",
       "\t<tr><td>FALSE</td><td>1 Comunidad afrodescendiente    </td></tr>\n",
       "\t<tr><td>FALSE</td><td>1 Comunidad afrodescendiente    </td></tr>\n",
       "\t<tr><td>FALSE</td><td>9 Pasto                         </td></tr>\n",
       "\t<tr><td>FALSE</td><td>19 Otro grupo étnico minoritario</td></tr>\n",
       "\t<tr><td>FALSE</td><td>1 Comunidad afrodescendiente    </td></tr>\n",
       "\t<tr><td>FALSE</td><td>19 Otro grupo étnico minoritario</td></tr>\n",
       "\t<tr><td>FALSE</td><td>9 Pasto                         </td></tr>\n",
       "\t<tr><td>FALSE</td><td>9 Pasto                         </td></tr>\n",
       "\t<tr><td>FALSE</td><td>19 Otro grupo étnico minoritario</td></tr>\n",
       "\t<tr><td>FALSE</td><td>19 Otro grupo étnico minoritario</td></tr>\n",
       "\t<tr><td>FALSE</td><td>19 Otro grupo étnico minoritario</td></tr>\n",
       "\t<tr><td>FALSE</td><td>19 Otro grupo étnico minoritario</td></tr>\n",
       "\t<tr><td>FALSE</td><td>1 Comunidad afrodescendiente    </td></tr>\n",
       "\t<tr><td>FALSE</td><td>19 Otro grupo étnico minoritario</td></tr>\n",
       "\t<tr><td>FALSE</td><td>19 Otro grupo étnico minoritario</td></tr>\n",
       "\t<tr><td>FALSE</td><td>19 Otro grupo étnico minoritario</td></tr>\n",
       "\t<tr><td>FALSE</td><td>18 Zenú                         </td></tr>\n",
       "\t<tr><td>FALSE</td><td>19 Otro grupo étnico minoritario</td></tr>\n",
       "\t<tr><td>FALSE</td><td>19 Otro grupo étnico minoritario</td></tr>\n",
       "\t<tr><td>FALSE</td><td>19 Otro grupo étnico minoritario</td></tr>\n",
       "\t<tr><td>FALSE</td><td>19 Otro grupo étnico minoritario</td></tr>\n",
       "\t<tr><td>FALSE</td><td>19 Otro grupo étnico minoritario</td></tr>\n",
       "\t<tr><td>FALSE</td><td>1 Comunidad afrodescendiente    </td></tr>\n",
       "\t<tr><td>FALSE</td><td>1 Comunidad afrodescendiente    </td></tr>\n",
       "\t<tr><td>FALSE</td><td>7 Pijao                         </td></tr>\n",
       "\t<tr><td>FALSE</td><td>2 Raizal                        </td></tr>\n",
       "\t<tr><td>FALSE</td><td>19 Otro grupo étnico minoritario</td></tr>\n",
       "\t<tr><td>FALSE</td><td>2 Raizal                        </td></tr>\n",
       "\t<tr><td>FALSE</td><td>1 Comunidad afrodescendiente    </td></tr>\n",
       "\t<tr><td>FALSE</td><td>19 Otro grupo étnico minoritario</td></tr>\n",
       "\t<tr><td>FALSE</td><td>19 Otro grupo étnico minoritario</td></tr>\n",
       "\t<tr><td>FALSE</td><td>1 Comunidad afrodescendiente    </td></tr>\n",
       "\t<tr><td>FALSE</td><td>19 Otro grupo étnico minoritario</td></tr>\n",
       "</tbody>\n",
       "</table>\n"
      ],
      "text/latex": [
       "A data.table: 35 × 2\n",
       "\\begin{tabular}{ll}\n",
       " ESTU\\_TIENE\\_ETNIA & ESTU\\_ETNIA\\\\\n",
       " <lgl> & <fct>\\\\\n",
       "\\hline\n",
       "\t FALSE & 19 Otro grupo étnico minoritario\\\\\n",
       "\t FALSE & 19 Otro grupo étnico minoritario\\\\\n",
       "\t FALSE & 1 Comunidad afrodescendiente    \\\\\n",
       "\t FALSE & 1 Comunidad afrodescendiente    \\\\\n",
       "\t FALSE & 9 Pasto                         \\\\\n",
       "\t FALSE & 19 Otro grupo étnico minoritario\\\\\n",
       "\t FALSE & 1 Comunidad afrodescendiente    \\\\\n",
       "\t FALSE & 19 Otro grupo étnico minoritario\\\\\n",
       "\t FALSE & 9 Pasto                         \\\\\n",
       "\t FALSE & 9 Pasto                         \\\\\n",
       "\t FALSE & 19 Otro grupo étnico minoritario\\\\\n",
       "\t FALSE & 19 Otro grupo étnico minoritario\\\\\n",
       "\t FALSE & 19 Otro grupo étnico minoritario\\\\\n",
       "\t FALSE & 19 Otro grupo étnico minoritario\\\\\n",
       "\t FALSE & 1 Comunidad afrodescendiente    \\\\\n",
       "\t FALSE & 19 Otro grupo étnico minoritario\\\\\n",
       "\t FALSE & 19 Otro grupo étnico minoritario\\\\\n",
       "\t FALSE & 19 Otro grupo étnico minoritario\\\\\n",
       "\t FALSE & 18 Zenú                         \\\\\n",
       "\t FALSE & 19 Otro grupo étnico minoritario\\\\\n",
       "\t FALSE & 19 Otro grupo étnico minoritario\\\\\n",
       "\t FALSE & 19 Otro grupo étnico minoritario\\\\\n",
       "\t FALSE & 19 Otro grupo étnico minoritario\\\\\n",
       "\t FALSE & 19 Otro grupo étnico minoritario\\\\\n",
       "\t FALSE & 1 Comunidad afrodescendiente    \\\\\n",
       "\t FALSE & 1 Comunidad afrodescendiente    \\\\\n",
       "\t FALSE & 7 Pijao                         \\\\\n",
       "\t FALSE & 2 Raizal                        \\\\\n",
       "\t FALSE & 19 Otro grupo étnico minoritario\\\\\n",
       "\t FALSE & 2 Raizal                        \\\\\n",
       "\t FALSE & 1 Comunidad afrodescendiente    \\\\\n",
       "\t FALSE & 19 Otro grupo étnico minoritario\\\\\n",
       "\t FALSE & 19 Otro grupo étnico minoritario\\\\\n",
       "\t FALSE & 1 Comunidad afrodescendiente    \\\\\n",
       "\t FALSE & 19 Otro grupo étnico minoritario\\\\\n",
       "\\end{tabular}\n"
      ],
      "text/markdown": [
       "\n",
       "A data.table: 35 × 2\n",
       "\n",
       "| ESTU_TIENE_ETNIA &lt;lgl&gt; | ESTU_ETNIA &lt;fct&gt; |\n",
       "|---|---|\n",
       "| FALSE | 19 Otro grupo étnico minoritario |\n",
       "| FALSE | 19 Otro grupo étnico minoritario |\n",
       "| FALSE | 1 Comunidad afrodescendiente     |\n",
       "| FALSE | 1 Comunidad afrodescendiente     |\n",
       "| FALSE | 9 Pasto                          |\n",
       "| FALSE | 19 Otro grupo étnico minoritario |\n",
       "| FALSE | 1 Comunidad afrodescendiente     |\n",
       "| FALSE | 19 Otro grupo étnico minoritario |\n",
       "| FALSE | 9 Pasto                          |\n",
       "| FALSE | 9 Pasto                          |\n",
       "| FALSE | 19 Otro grupo étnico minoritario |\n",
       "| FALSE | 19 Otro grupo étnico minoritario |\n",
       "| FALSE | 19 Otro grupo étnico minoritario |\n",
       "| FALSE | 19 Otro grupo étnico minoritario |\n",
       "| FALSE | 1 Comunidad afrodescendiente     |\n",
       "| FALSE | 19 Otro grupo étnico minoritario |\n",
       "| FALSE | 19 Otro grupo étnico minoritario |\n",
       "| FALSE | 19 Otro grupo étnico minoritario |\n",
       "| FALSE | 18 Zenú                          |\n",
       "| FALSE | 19 Otro grupo étnico minoritario |\n",
       "| FALSE | 19 Otro grupo étnico minoritario |\n",
       "| FALSE | 19 Otro grupo étnico minoritario |\n",
       "| FALSE | 19 Otro grupo étnico minoritario |\n",
       "| FALSE | 19 Otro grupo étnico minoritario |\n",
       "| FALSE | 1 Comunidad afrodescendiente     |\n",
       "| FALSE | 1 Comunidad afrodescendiente     |\n",
       "| FALSE | 7 Pijao                          |\n",
       "| FALSE | 2 Raizal                         |\n",
       "| FALSE | 19 Otro grupo étnico minoritario |\n",
       "| FALSE | 2 Raizal                         |\n",
       "| FALSE | 1 Comunidad afrodescendiente     |\n",
       "| FALSE | 19 Otro grupo étnico minoritario |\n",
       "| FALSE | 19 Otro grupo étnico minoritario |\n",
       "| FALSE | 1 Comunidad afrodescendiente     |\n",
       "| FALSE | 19 Otro grupo étnico minoritario |\n",
       "\n"
      ],
      "text/plain": [
       "   ESTU_TIENE_ETNIA ESTU_ETNIA                      \n",
       "1  FALSE            19 Otro grupo étnico minoritario\n",
       "2  FALSE            19 Otro grupo étnico minoritario\n",
       "3  FALSE            1 Comunidad afrodescendiente    \n",
       "4  FALSE            1 Comunidad afrodescendiente    \n",
       "5  FALSE            9 Pasto                         \n",
       "6  FALSE            19 Otro grupo étnico minoritario\n",
       "7  FALSE            1 Comunidad afrodescendiente    \n",
       "8  FALSE            19 Otro grupo étnico minoritario\n",
       "9  FALSE            9 Pasto                         \n",
       "10 FALSE            9 Pasto                         \n",
       "11 FALSE            19 Otro grupo étnico minoritario\n",
       "12 FALSE            19 Otro grupo étnico minoritario\n",
       "13 FALSE            19 Otro grupo étnico minoritario\n",
       "14 FALSE            19 Otro grupo étnico minoritario\n",
       "15 FALSE            1 Comunidad afrodescendiente    \n",
       "16 FALSE            19 Otro grupo étnico minoritario\n",
       "17 FALSE            19 Otro grupo étnico minoritario\n",
       "18 FALSE            19 Otro grupo étnico minoritario\n",
       "19 FALSE            18 Zenú                         \n",
       "20 FALSE            19 Otro grupo étnico minoritario\n",
       "21 FALSE            19 Otro grupo étnico minoritario\n",
       "22 FALSE            19 Otro grupo étnico minoritario\n",
       "23 FALSE            19 Otro grupo étnico minoritario\n",
       "24 FALSE            19 Otro grupo étnico minoritario\n",
       "25 FALSE            1 Comunidad afrodescendiente    \n",
       "26 FALSE            1 Comunidad afrodescendiente    \n",
       "27 FALSE            7 Pijao                         \n",
       "28 FALSE            2 Raizal                        \n",
       "29 FALSE            19 Otro grupo étnico minoritario\n",
       "30 FALSE            2 Raizal                        \n",
       "31 FALSE            1 Comunidad afrodescendiente    \n",
       "32 FALSE            19 Otro grupo étnico minoritario\n",
       "33 FALSE            19 Otro grupo étnico minoritario\n",
       "34 FALSE            1 Comunidad afrodescendiente    \n",
       "35 FALSE            19 Otro grupo étnico minoritario"
      ]
     },
     "metadata": {},
     "output_type": "display_data"
    }
   ],
   "source": [
    "df_etnias = df_published[df_published$ESTU_TIENE_ETNIA == FALSE & !is.na(df_published$ESTU_ETNI) & df_published$ESTU_ETNI != \"100 Ninguno\",]\n",
    "select(df_etnias, c('ESTU_TIENE_ETNIA', 'ESTU_ETNIA'))"
   ]
  },
  {
   "cell_type": "markdown",
   "metadata": {},
   "source": [
    "Hay 35 personas que dijeron no tener etnia pero seleccionarón alguna etnia."
   ]
  },
  {
   "cell_type": "markdown",
   "metadata": {},
   "source": [
    "Existe inconsistencias en el llenado de los datos, se recomendaría no preguntar si o no. Sino directamente al grupo en el que te pertenece con la opción de ninguno."
   ]
  },
  {
   "cell_type": "markdown",
   "metadata": {},
   "source": [
    "## Transformaciones"
   ]
  },
  {
   "cell_type": "markdown",
   "metadata": {},
   "source": [
    "Ahora agregaremos los campos que se nos solicitó."
   ]
  },
  {
   "cell_type": "markdown",
   "metadata": {},
   "source": [
    "### Edad"
   ]
  },
  {
   "cell_type": "markdown",
   "metadata": {},
   "source": [
    "Agregaremos la columna de edad a los datos."
   ]
  },
  {
   "cell_type": "code",
   "execution_count": 113,
   "metadata": {
    "ExecuteTime": {
     "end_time": "2021-08-24T19:30:34.033844Z",
     "start_time": "2021-08-24T19:30:34.018Z"
    }
   },
   "outputs": [],
   "source": [
    "age_cal = function (birthdate) {\n",
    "    presentation_date = \"2016-10-09\"\n",
    "    birthdate_lt = as.POSIXlt(birthdate)\n",
    "    presentation_date_lt = as.POSIXlt(presentation_date)\n",
    "    \n",
    "    age = presentation_date_lt$year - birthdate_lt$year\n",
    "    \n",
    "    ifelse(presentation_date_lt$mon < birthdate_lt$mon |\n",
    "         (presentation_date_lt$mon == birthdate_lt$mon & presentation_date_lt$mday < birthdate_lt$mday),\n",
    "         age - 1, age)\n",
    "}"
   ]
  },
  {
   "cell_type": "code",
   "execution_count": 118,
   "metadata": {
    "ExecuteTime": {
     "end_time": "2021-08-24T19:34:18.809553Z",
     "start_time": "2021-08-24T19:34:07.158Z"
    }
   },
   "outputs": [],
   "source": [
    "df_published$ESTU_EDAD <- sapply(df_published$ESTU_FECHANACIMIENTO, age_cal)"
   ]
  },
  {
   "cell_type": "code",
   "execution_count": 120,
   "metadata": {
    "ExecuteTime": {
     "end_time": "2021-08-24T19:36:15.737648Z",
     "start_time": "2021-08-24T19:36:15.720Z"
    }
   },
   "outputs": [],
   "source": [
    "df_published$ESTU_EDAD = as.integer(df_published$ESTU_EDAD)"
   ]
  },
  {
   "cell_type": "code",
   "execution_count": 121,
   "metadata": {
    "ExecuteTime": {
     "end_time": "2021-08-24T19:36:17.804712Z",
     "start_time": "2021-08-24T19:36:17.624Z"
    },
    "scrolled": true
   },
   "outputs": [
    {
     "data": {
      "text/html": [
       "<table>\n",
       "<caption>A data.table: 52665 × 36</caption>\n",
       "<thead>\n",
       "\t<tr><th scope=col>ESTU_TIPODOCUMENTO</th><th scope=col>ESTU_NACIONALIDAD</th><th scope=col>ESTU_GENERO</th><th scope=col>ESTU_FECHANACIMIENTO</th><th scope=col>PERIODO</th><th scope=col>ESTU_CONSECUTIVO</th><th scope=col>ESTU_ESTUDIANTE</th><th scope=col>ESTU_ESTADOCIVIL</th><th scope=col>ESTU_TIENE_ETNIA</th><th scope=col>ESTU_ETNIA</th><th scope=col>⋯</th><th scope=col>MOD_INGLES_PNAL</th><th scope=col>MOD_INGLES_PGREF</th><th scope=col>MOD_COMUNI_ESCRITA_PUNT</th><th scope=col>MOD_COMUNI_ESCRITA_DESEM</th><th scope=col>MOD_COMUNI_ESCRITA_PNAL</th><th scope=col>MOD_COMUNI_ESCRITA_PGREF</th><th scope=col>ESTU_ESTADO</th><th scope=col>INSE</th><th scope=col>NSE</th><th scope=col>ESTU_EDAD</th></tr>\n",
       "\t<tr><th scope=col>&lt;fct&gt;</th><th scope=col>&lt;fct&gt;</th><th scope=col>&lt;fct&gt;</th><th scope=col>&lt;date&gt;</th><th scope=col>&lt;fct&gt;</th><th scope=col>&lt;fct&gt;</th><th scope=col>&lt;fct&gt;</th><th scope=col>&lt;fct&gt;</th><th scope=col>&lt;lgl&gt;</th><th scope=col>&lt;fct&gt;</th><th scope=col>⋯</th><th scope=col>&lt;int&gt;</th><th scope=col>&lt;int&gt;</th><th scope=col>&lt;int&gt;</th><th scope=col>&lt;fct&gt;</th><th scope=col>&lt;int&gt;</th><th scope=col>&lt;int&gt;</th><th scope=col>&lt;fct&gt;</th><th scope=col>&lt;dbl&gt;</th><th scope=col>&lt;fct&gt;</th><th scope=col>&lt;int&gt;</th></tr>\n",
       "</thead>\n",
       "<tbody>\n",
       "\t<tr><td>CC</td><td>1 COLOMBIA</td><td>M</td><td>1990-08-15</td><td>20164</td><td>EK201640024941</td><td>ESTUDIANTE</td><td>UNIÓN LIBRE</td><td>FALSE</td><td>NA                              </td><td>⋯</td><td> 79</td><td> 59</td><td>121</td><td>4</td><td>87</td><td>85</td><td>PUBLICAR</td><td>57.14241</td><td>NSE3</td><td>26</td></tr>\n",
       "\t<tr><td>CC</td><td>1 COLOMBIA</td><td>M</td><td>1990-09-26</td><td>20164</td><td>EK201640012159</td><td>ESTUDIANTE</td><td>SOLTERO    </td><td>   NA</td><td>NA                              </td><td>⋯</td><td> 75</td><td> 74</td><td>123</td><td>4</td><td>89</td><td>87</td><td>PUBLICAR</td><td>65.76637</td><td>NSE4</td><td>26</td></tr>\n",
       "\t<tr><td>CC</td><td>1 COLOMBIA</td><td>F</td><td>1994-10-28</td><td>20164</td><td>EK201640041435</td><td>ESTUDIANTE</td><td>SOLTERO    </td><td>FALSE</td><td>NA                              </td><td>⋯</td><td> 97</td><td> 98</td><td> 99</td><td>2</td><td>43</td><td>44</td><td>PUBLICAR</td><td>47.68200</td><td>NSE2</td><td>21</td></tr>\n",
       "\t<tr><td>CC</td><td>1 COLOMBIA</td><td>F</td><td>1979-09-24</td><td>20164</td><td>EK201640003654</td><td>ESTUDIANTE</td><td>UNIÓN LIBRE</td><td>FALSE</td><td>NA                              </td><td>⋯</td><td> 32</td><td> 30</td><td> 75</td><td>1</td><td>13</td><td>11</td><td>PUBLICAR</td><td>55.56398</td><td>NSE3</td><td>37</td></tr>\n",
       "\t<tr><td>CC</td><td>1 COLOMBIA</td><td>M</td><td>1988-07-06</td><td>20164</td><td>EK201640018456</td><td>ESTUDIANTE</td><td>SOLTERO    </td><td>FALSE</td><td>NA                              </td><td>⋯</td><td> 15</td><td> 19</td><td> 86</td><td>2</td><td>29</td><td>34</td><td>PUBLICAR</td><td>27.01330</td><td>NSE1</td><td>28</td></tr>\n",
       "\t<tr><td>CC</td><td>1 COLOMBIA</td><td>M</td><td>1992-12-31</td><td>20164</td><td>EK201640035645</td><td>ESTUDIANTE</td><td>SOLTERO    </td><td>FALSE</td><td>NA                              </td><td>⋯</td><td> 80</td><td> 81</td><td>105</td><td>3</td><td>63</td><td>63</td><td>PUBLICAR</td><td>50.76707</td><td>NSE2</td><td>23</td></tr>\n",
       "\t<tr><td>CC</td><td>1 COLOMBIA</td><td>F</td><td>1975-04-19</td><td>20164</td><td>EK201640031656</td><td>ESTUDIANTE</td><td>UNIÓN LIBRE</td><td> TRUE</td><td>19 Otro grupo étnico minoritario</td><td>⋯</td><td> 11</td><td> 14</td><td> 99</td><td>2</td><td>43</td><td>43</td><td>PUBLICAR</td><td>45.54980</td><td>NSE1</td><td>41</td></tr>\n",
       "\t<tr><td>CC</td><td>1 COLOMBIA</td><td>M</td><td>1995-04-01</td><td>20164</td><td>EK201640018226</td><td>ESTUDIANTE</td><td>SOLTERO    </td><td>   NA</td><td>NA                              </td><td>⋯</td><td> 23</td><td> 21</td><td> 84</td><td>2</td><td>22</td><td>22</td><td>PUBLICAR</td><td>55.05894</td><td>NSE2</td><td>21</td></tr>\n",
       "\t<tr><td>CC</td><td>1 COLOMBIA</td><td>M</td><td>1988-12-20</td><td>20164</td><td>EK201640020916</td><td>ESTUDIANTE</td><td>SOLTERO    </td><td>FALSE</td><td>NA                              </td><td>⋯</td><td> 43</td><td> 26</td><td>118</td><td>3</td><td>81</td><td>79</td><td>PUBLICAR</td><td>60.17477</td><td>NSE4</td><td>27</td></tr>\n",
       "\t<tr><td>CC</td><td>1 COLOMBIA</td><td>F</td><td>1997-12-30</td><td>20164</td><td>EK201640025179</td><td>ESTUDIANTE</td><td>SOLTERO    </td><td>FALSE</td><td>NA                              </td><td>⋯</td><td> 94</td><td> 94</td><td>127</td><td>4</td><td>94</td><td>93</td><td>PUBLICAR</td><td>48.95934</td><td>NSE2</td><td>18</td></tr>\n",
       "\t<tr><td>CC</td><td>1 COLOMBIA</td><td>M</td><td>1977-03-05</td><td>20164</td><td>EK201640024939</td><td>ESTUDIANTE</td><td>CASADO     </td><td>FALSE</td><td>NA                              </td><td>⋯</td><td> 72</td><td> 71</td><td>104</td><td>3</td><td>58</td><td>55</td><td>PUBLICAR</td><td>48.77295</td><td>NSE2</td><td>39</td></tr>\n",
       "\t<tr><td>CC</td><td>1 COLOMBIA</td><td>F</td><td>1986-01-21</td><td>20164</td><td>EK201640019567</td><td>ESTUDIANTE</td><td>SOLTERO    </td><td>FALSE</td><td>NA                              </td><td>⋯</td><td>  2</td><td>  2</td><td> 87</td><td>2</td><td>30</td><td>30</td><td>PUBLICAR</td><td>47.26551</td><td>NSE2</td><td>30</td></tr>\n",
       "\t<tr><td>CC</td><td>1 COLOMBIA</td><td>F</td><td>1989-11-11</td><td>20164</td><td>EK201640034881</td><td>ESTUDIANTE</td><td>SOLTERO    </td><td>   NA</td><td>NA                              </td><td>⋯</td><td> 51</td><td> 49</td><td>108</td><td>3</td><td>71</td><td>68</td><td>PUBLICAR</td><td>48.31694</td><td>NSE2</td><td>26</td></tr>\n",
       "\t<tr><td>CC</td><td>1 COLOMBIA</td><td>F</td><td>1995-06-06</td><td>20164</td><td>EK201640022299</td><td>ESTUDIANTE</td><td>SOLTERO    </td><td>FALSE</td><td>NA                              </td><td>⋯</td><td> 84</td><td> 84</td><td>115</td><td>3</td><td>75</td><td>72</td><td>PUBLICAR</td><td>35.79830</td><td>NSE1</td><td>21</td></tr>\n",
       "\t<tr><td>CC</td><td>1 COLOMBIA</td><td>M</td><td>1985-11-09</td><td>20164</td><td>EK201640022060</td><td>ESTUDIANTE</td><td>CASADO     </td><td>FALSE</td><td>NA                              </td><td>⋯</td><td> 62</td><td> 81</td><td>107</td><td>3</td><td>70</td><td>75</td><td>PUBLICAR</td><td>52.17062</td><td>NSE2</td><td>30</td></tr>\n",
       "\t<tr><td>CC</td><td>1 COLOMBIA</td><td>F</td><td>1992-04-20</td><td>20164</td><td>EK201640035927</td><td>ESTUDIANTE</td><td>SOLTERO    </td><td>FALSE</td><td>NA                              </td><td>⋯</td><td> 41</td><td> 49</td><td> 85</td><td>2</td><td>26</td><td>27</td><td>PUBLICAR</td><td>39.70657</td><td>NSE1</td><td>24</td></tr>\n",
       "\t<tr><td>CC</td><td>1 COLOMBIA</td><td>F</td><td>1995-07-05</td><td>20164</td><td>EK201640015538</td><td>ESTUDIANTE</td><td>SOLTERO    </td><td> TRUE</td><td>1 Comunidad afrodescendiente    </td><td>⋯</td><td> 13</td><td> 21</td><td>107</td><td>3</td><td>70</td><td>72</td><td>PUBLICAR</td><td>65.68092</td><td>NSE4</td><td>21</td></tr>\n",
       "\t<tr><td>CC</td><td>1 COLOMBIA</td><td>M</td><td>1973-06-08</td><td>20164</td><td>EK201640015754</td><td>ESTUDIANTE</td><td>CASADO     </td><td>FALSE</td><td>NA                              </td><td>⋯</td><td> 62</td><td> 50</td><td> 74</td><td>1</td><td>12</td><td>13</td><td>PUBLICAR</td><td>61.84396</td><td>NSE4</td><td>43</td></tr>\n",
       "\t<tr><td>CC</td><td>1 COLOMBIA</td><td>M</td><td>1996-01-29</td><td>20164</td><td>EK201640019267</td><td>ESTUDIANTE</td><td>SOLTERO    </td><td>FALSE</td><td>NA                              </td><td>⋯</td><td> 11</td><td>  9</td><td>110</td><td>3</td><td>73</td><td>70</td><td>PUBLICAR</td><td>41.84544</td><td>NSE1</td><td>20</td></tr>\n",
       "\t<tr><td>CC</td><td>1 COLOMBIA</td><td>M</td><td>1991-01-03</td><td>20164</td><td>EK201640020311</td><td>ESTUDIANTE</td><td>SOLTERO    </td><td>FALSE</td><td>NA                              </td><td>⋯</td><td>  1</td><td>  1</td><td> 85</td><td>2</td><td>27</td><td>32</td><td>PUBLICAR</td><td>45.51286</td><td>NSE1</td><td>25</td></tr>\n",
       "\t<tr><td>CC</td><td>1 COLOMBIA</td><td>F</td><td>1990-05-15</td><td>20164</td><td>EK201640003286</td><td>ESTUDIANTE</td><td>UNIÓN LIBRE</td><td>FALSE</td><td>NA                              </td><td>⋯</td><td> 75</td><td> 73</td><td>100</td><td>2</td><td>48</td><td>44</td><td>PUBLICAR</td><td>45.74596</td><td>NSE2</td><td>26</td></tr>\n",
       "\t<tr><td>CC</td><td>1 COLOMBIA</td><td>M</td><td>1990-08-12</td><td>20164</td><td>EK201640014656</td><td>ESTUDIANTE</td><td>SOLTERO    </td><td>FALSE</td><td>NA                              </td><td>⋯</td><td> 92</td><td> 79</td><td>104</td><td>3</td><td>55</td><td>51</td><td>PUBLICAR</td><td>67.44420</td><td>NSE4</td><td>26</td></tr>\n",
       "\t<tr><td>CC</td><td>1 COLOMBIA</td><td>M</td><td>1996-07-29</td><td>20164</td><td>EK201640036254</td><td>ESTUDIANTE</td><td>SOLTERO    </td><td>FALSE</td><td>NA                              </td><td>⋯</td><td> 99</td><td>100</td><td> 86</td><td>2</td><td>30</td><td>35</td><td>PUBLICAR</td><td>66.06796</td><td>NSE4</td><td>20</td></tr>\n",
       "\t<tr><td>TI</td><td>1 COLOMBIA</td><td>F</td><td>1999-04-29</td><td>20164</td><td>EK201640038644</td><td>ESTUDIANTE</td><td>SOLTERO    </td><td>FALSE</td><td>NA                              </td><td>⋯</td><td> 69</td><td> 80</td><td>103</td><td>3</td><td>54</td><td>62</td><td>PUBLICAR</td><td>45.49249</td><td>NSE1</td><td>17</td></tr>\n",
       "\t<tr><td>CC</td><td>1 COLOMBIA</td><td>M</td><td>1994-10-14</td><td>20164</td><td>EK201640008561</td><td>ESTUDIANTE</td><td>SOLTERO    </td><td>   NA</td><td>NA                              </td><td>⋯</td><td>  4</td><td>  2</td><td> 96</td><td>2</td><td>34</td><td>30</td><td>PUBLICAR</td><td>38.80205</td><td>NSE1</td><td>21</td></tr>\n",
       "\t<tr><td>CC</td><td>1 COLOMBIA</td><td>F</td><td>1993-01-24</td><td>20164</td><td>EK201640025582</td><td>ESTUDIANTE</td><td>SOLTERO    </td><td>FALSE</td><td>NA                              </td><td>⋯</td><td> 34</td><td> 34</td><td> 85</td><td>2</td><td>27</td><td>26</td><td>PUBLICAR</td><td>49.26491</td><td>NSE2</td><td>23</td></tr>\n",
       "\t<tr><td>CC</td><td>1 COLOMBIA</td><td>M</td><td>1994-08-23</td><td>20164</td><td>EK201640024375</td><td>ESTUDIANTE</td><td>SOLTERO    </td><td>FALSE</td><td>NA                              </td><td>⋯</td><td> 36</td><td> 54</td><td>106</td><td>3</td><td>66</td><td>72</td><td>PUBLICAR</td><td>35.89268</td><td>NSE1</td><td>22</td></tr>\n",
       "\t<tr><td>CC</td><td>1 COLOMBIA</td><td>F</td><td>1994-02-15</td><td>20164</td><td>EK201640037272</td><td>ESTUDIANTE</td><td>SOLTERO    </td><td>FALSE</td><td>NA                              </td><td>⋯</td><td> 15</td><td>  9</td><td> 57</td><td>1</td><td> 1</td><td> 1</td><td>PUBLICAR</td><td>52.95712</td><td>NSE2</td><td>22</td></tr>\n",
       "\t<tr><td>CC</td><td>1 COLOMBIA</td><td>M</td><td>1995-05-12</td><td>20164</td><td>EK201640024654</td><td>ESTUDIANTE</td><td>SOLTERO    </td><td>FALSE</td><td>NA                              </td><td>⋯</td><td>100</td><td>100</td><td> 62</td><td>1</td><td> 3</td><td> 3</td><td>PUBLICAR</td><td>67.39774</td><td>NSE4</td><td>21</td></tr>\n",
       "\t<tr><td>CC</td><td>1 COLOMBIA</td><td>M</td><td>1997-07-13</td><td>20164</td><td>EK201640038440</td><td>ESTUDIANTE</td><td>SOLTERO    </td><td>FALSE</td><td>NA                              </td><td>⋯</td><td>  6</td><td>  5</td><td> 87</td><td>2</td><td>30</td><td>26</td><td>PUBLICAR</td><td>53.40542</td><td>NSE2</td><td>19</td></tr>\n",
       "\t<tr><td>⋮</td><td>⋮</td><td>⋮</td><td>⋮</td><td>⋮</td><td>⋮</td><td>⋮</td><td>⋮</td><td>⋮</td><td>⋮</td><td>⋱</td><td>⋮</td><td>⋮</td><td>⋮</td><td>⋮</td><td>⋮</td><td>⋮</td><td>⋮</td><td>⋮</td><td>⋮</td><td>⋮</td></tr>\n",
       "\t<tr><td>CC</td><td>1 COLOMBIA</td><td>F</td><td>1993-12-10</td><td>20164</td><td>EK201640009311</td><td>ESTUDIANTE</td><td>SOLTERO    </td><td>FALSE</td><td>NA         </td><td>⋯</td><td>95</td><td>94</td><td>108</td><td>3</td><td> 71</td><td>68</td><td>PUBLICAR</td><td>62.11897</td><td>NSE4</td><td>22</td></tr>\n",
       "\t<tr><td>CC</td><td>1 COLOMBIA</td><td>M</td><td>1994-10-30</td><td>20164</td><td>EK201640017032</td><td>ESTUDIANTE</td><td>SOLTERO    </td><td>FALSE</td><td>NA         </td><td>⋯</td><td>87</td><td>86</td><td> 99</td><td>2</td><td> 42</td><td>38</td><td>PUBLICAR</td><td>74.18563</td><td>NSE4</td><td>21</td></tr>\n",
       "\t<tr><td>CC</td><td>1 COLOMBIA</td><td>M</td><td>1996-05-04</td><td>20164</td><td>EK201640004573</td><td>ESTUDIANTE</td><td>UNIÓN LIBRE</td><td>FALSE</td><td>NA         </td><td>⋯</td><td>94</td><td>99</td><td>142</td><td>4</td><td> 98</td><td>99</td><td>PUBLICAR</td><td>45.45835</td><td>NSE1</td><td>20</td></tr>\n",
       "\t<tr><td>TI</td><td>1 COLOMBIA</td><td>M</td><td>1997-12-06</td><td>20164</td><td>EK201640009827</td><td>ESTUDIANTE</td><td>SOLTERO    </td><td> TRUE</td><td>100 Ninguno</td><td>⋯</td><td>80</td><td>81</td><td>120</td><td>3</td><td> 86</td><td>87</td><td>PUBLICAR</td><td>49.35806</td><td>NSE2</td><td>18</td></tr>\n",
       "\t<tr><td>CC</td><td>1 COLOMBIA</td><td>M</td><td>1984-10-18</td><td>20164</td><td>EK201640014911</td><td>ESTUDIANTE</td><td>SOLTERO    </td><td>FALSE</td><td>NA         </td><td>⋯</td><td>92</td><td>83</td><td>151</td><td>4</td><td>100</td><td>99</td><td>PUBLICAR</td><td>60.00939</td><td>NSE4</td><td>31</td></tr>\n",
       "\t<tr><td>CC</td><td>1 COLOMBIA</td><td>M</td><td>1997-10-27</td><td>20164</td><td>EK201640002398</td><td>ESTUDIANTE</td><td>SOLTERO    </td><td>FALSE</td><td>NA         </td><td>⋯</td><td>40</td><td>27</td><td> 83</td><td>2</td><td> 22</td><td>23</td><td>PUBLICAR</td><td>57.56484</td><td>NSE3</td><td>18</td></tr>\n",
       "\t<tr><td>CC</td><td>1 COLOMBIA</td><td>M</td><td>1995-07-17</td><td>20164</td><td>EK201640019236</td><td>ESTUDIANTE</td><td>SOLTERO    </td><td>FALSE</td><td>NA         </td><td>⋯</td><td>61</td><td>45</td><td> 97</td><td>2</td><td> 35</td><td>35</td><td>PUBLICAR</td><td>58.47617</td><td>NSE3</td><td>21</td></tr>\n",
       "\t<tr><td>CC</td><td>1 COLOMBIA</td><td>M</td><td>1965-08-11</td><td>20164</td><td>EK201640027307</td><td>ESTUDIANTE</td><td>UNIÓN LIBRE</td><td>FALSE</td><td>NA         </td><td>⋯</td><td>90</td><td>89</td><td>102</td><td>3</td><td> 52</td><td>48</td><td>PUBLICAR</td><td>      NA</td><td>NA  </td><td>51</td></tr>\n",
       "\t<tr><td>CC</td><td>1 COLOMBIA</td><td>F</td><td>1993-01-23</td><td>20164</td><td>EK201640013986</td><td>ESTUDIANTE</td><td>SOLTERO    </td><td>FALSE</td><td>NA         </td><td>⋯</td><td>56</td><td>36</td><td>110</td><td>3</td><td> 73</td><td>70</td><td>PUBLICAR</td><td>45.47826</td><td>NSE1</td><td>23</td></tr>\n",
       "\t<tr><td>CC</td><td>1 COLOMBIA</td><td>F</td><td>1996-03-16</td><td>20164</td><td>EK201640014683</td><td>ESTUDIANTE</td><td>SOLTERO    </td><td>FALSE</td><td>NA         </td><td>⋯</td><td>87</td><td>86</td><td>103</td><td>3</td><td> 54</td><td>50</td><td>PUBLICAR</td><td>59.37988</td><td>NSE4</td><td>20</td></tr>\n",
       "\t<tr><td>CC</td><td>1 COLOMBIA</td><td>M</td><td>1983-10-11</td><td>20164</td><td>EK201640005781</td><td>ESTUDIANTE</td><td>CASADO     </td><td>FALSE</td><td>NA         </td><td>⋯</td><td>60</td><td>60</td><td>100</td><td>2</td><td> 49</td><td>49</td><td>PUBLICAR</td><td>40.61375</td><td>NSE1</td><td>32</td></tr>\n",
       "\t<tr><td>CC</td><td>1 COLOMBIA</td><td>F</td><td>1988-10-19</td><td>20164</td><td>EK201640035572</td><td>ESTUDIANTE</td><td>SOLTERO    </td><td>FALSE</td><td>NA         </td><td>⋯</td><td>30</td><td>30</td><td>127</td><td>4</td><td> 95</td><td>95</td><td>PUBLICAR</td><td>50.84579</td><td>NSE2</td><td>27</td></tr>\n",
       "\t<tr><td>CC</td><td>1 COLOMBIA</td><td>M</td><td>1993-11-13</td><td>20164</td><td>EK201640016125</td><td>ESTUDIANTE</td><td>SOLTERO    </td><td>FALSE</td><td>NA         </td><td>⋯</td><td>52</td><td>72</td><td> 79</td><td>1</td><td> 17</td><td>21</td><td>PUBLICAR</td><td>36.51019</td><td>NSE1</td><td>22</td></tr>\n",
       "\t<tr><td>CC</td><td>1 COLOMBIA</td><td>M</td><td>1993-09-10</td><td>20164</td><td>EK201640005428</td><td>ESTUDIANTE</td><td>SOLTERO    </td><td>FALSE</td><td>NA         </td><td>⋯</td><td>48</td><td>68</td><td>104</td><td>3</td><td> 56</td><td>62</td><td>PUBLICAR</td><td>38.98832</td><td>NSE1</td><td>23</td></tr>\n",
       "\t<tr><td>CC</td><td>1 COLOMBIA</td><td>M</td><td>1983-05-12</td><td>20164</td><td>EK201640017673</td><td>ESTUDIANTE</td><td>CASADO     </td><td>FALSE</td><td>NA         </td><td>⋯</td><td>31</td><td>31</td><td> 83</td><td>2</td><td> 21</td><td>21</td><td>PUBLICAR</td><td>40.90001</td><td>NSE1</td><td>33</td></tr>\n",
       "\t<tr><td>CC</td><td>1 COLOMBIA</td><td>M</td><td>1994-01-08</td><td>20164</td><td>EK201640012284</td><td>ESTUDIANTE</td><td>SOLTERO    </td><td>FALSE</td><td>NA         </td><td>⋯</td><td>67</td><td>85</td><td>126</td><td>4</td><td> 93</td><td>96</td><td>PUBLICAR</td><td>29.50433</td><td>NSE1</td><td>22</td></tr>\n",
       "\t<tr><td>CC</td><td>1 COLOMBIA</td><td>M</td><td>1994-02-12</td><td>20164</td><td>EK201640007449</td><td>ESTUDIANTE</td><td>SOLTERO    </td><td>FALSE</td><td>NA         </td><td>⋯</td><td>57</td><td>76</td><td> 86</td><td>2</td><td> 29</td><td>34</td><td>PUBLICAR</td><td>41.27336</td><td>NSE1</td><td>22</td></tr>\n",
       "\t<tr><td>CC</td><td>1 COLOMBIA</td><td>F</td><td>1980-09-01</td><td>20164</td><td>EK201640029555</td><td>ESTUDIANTE</td><td>SOLTERO    </td><td>FALSE</td><td>NA         </td><td>⋯</td><td>50</td><td>48</td><td>106</td><td>3</td><td> 66</td><td>62</td><td>PUBLICAR</td><td>52.12639</td><td>NSE2</td><td>36</td></tr>\n",
       "\t<tr><td>TI</td><td>1 COLOMBIA</td><td>F</td><td>1999-01-26</td><td>20164</td><td>EK201640019263</td><td>ESTUDIANTE</td><td>SOLTERO    </td><td>FALSE</td><td>NA         </td><td>⋯</td><td>38</td><td>35</td><td>105</td><td>3</td><td> 62</td><td>58</td><td>PUBLICAR</td><td>54.18112</td><td>NSE2</td><td>17</td></tr>\n",
       "\t<tr><td>CC</td><td>1 COLOMBIA</td><td>F</td><td>1995-04-03</td><td>20164</td><td>EK201640028894</td><td>ESTUDIANTE</td><td>SOLTERO    </td><td>FALSE</td><td>NA         </td><td>⋯</td><td>59</td><td>58</td><td> 99</td><td>2</td><td> 42</td><td>39</td><td>PUBLICAR</td><td>63.16856</td><td>NSE4</td><td>21</td></tr>\n",
       "\t<tr><td>CC</td><td>1 COLOMBIA</td><td>F</td><td>1992-09-23</td><td>20164</td><td>EK201640038187</td><td>ESTUDIANTE</td><td>CASADO     </td><td>FALSE</td><td>NA         </td><td>⋯</td><td>20</td><td>12</td><td>104</td><td>3</td><td> 60</td><td>60</td><td>PUBLICAR</td><td>49.44874</td><td>NSE2</td><td>24</td></tr>\n",
       "\t<tr><td>CC</td><td>1 COLOMBIA</td><td>F</td><td>1993-08-08</td><td>20164</td><td>EK201640028017</td><td>ESTUDIANTE</td><td>SOLTERO    </td><td>FALSE</td><td>NA         </td><td>⋯</td><td>16</td><td>20</td><td>104</td><td>3</td><td> 56</td><td>57</td><td>PUBLICAR</td><td>43.10047</td><td>NSE1</td><td>23</td></tr>\n",
       "\t<tr><td>CC</td><td>1 COLOMBIA</td><td>M</td><td>1981-10-14</td><td>20164</td><td>EK201640008378</td><td>ESTUDIANTE</td><td>CASADO     </td><td>FALSE</td><td>NA         </td><td>⋯</td><td>27</td><td>33</td><td> 88</td><td>2</td><td> 31</td><td>32</td><td>PUBLICAR</td><td>55.88203</td><td>NSE3</td><td>34</td></tr>\n",
       "\t<tr><td>CC</td><td>1 COLOMBIA</td><td>F</td><td>1986-08-09</td><td>20164</td><td>EK201640024984</td><td>ESTUDIANTE</td><td>SOLTERO    </td><td>FALSE</td><td>NA         </td><td>⋯</td><td>59</td><td>59</td><td> 79</td><td>1</td><td> 17</td><td>17</td><td>PUBLICAR</td><td>34.65459</td><td>NSE1</td><td>30</td></tr>\n",
       "\t<tr><td>CC</td><td>1 COLOMBIA</td><td>M</td><td>1995-08-10</td><td>20164</td><td>EK201640017927</td><td>ESTUDIANTE</td><td>SOLTERO    </td><td>FALSE</td><td>NA         </td><td>⋯</td><td>91</td><td>77</td><td> 79</td><td>1</td><td> 17</td><td>18</td><td>PUBLICAR</td><td>58.50796</td><td>NSE3</td><td>21</td></tr>\n",
       "\t<tr><td>CC</td><td>1 COLOMBIA</td><td>M</td><td>1992-01-22</td><td>20164</td><td>EK201640005823</td><td>ESTUDIANTE</td><td>SOLTERO    </td><td>FALSE</td><td>NA         </td><td>⋯</td><td>38</td><td>56</td><td>104</td><td>3</td><td> 57</td><td>63</td><td>PUBLICAR</td><td>45.34484</td><td>NSE1</td><td>24</td></tr>\n",
       "\t<tr><td>CC</td><td>1 COLOMBIA</td><td>M</td><td>1992-07-07</td><td>20164</td><td>EK201640005164</td><td>ESTUDIANTE</td><td>SOLTERO    </td><td>FALSE</td><td>NA         </td><td>⋯</td><td>48</td><td>68</td><td> 75</td><td>1</td><td> 12</td><td>15</td><td>PUBLICAR</td><td>39.95549</td><td>NSE1</td><td>24</td></tr>\n",
       "\t<tr><td>CC</td><td>1 COLOMBIA</td><td>M</td><td>1988-09-07</td><td>20164</td><td>EK201640001818</td><td>ESTUDIANTE</td><td>UNIÓN LIBRE</td><td>FALSE</td><td>NA         </td><td>⋯</td><td>31</td><td>39</td><td> 60</td><td>1</td><td>  2</td><td> 2</td><td>PUBLICAR</td><td>60.76680</td><td>NSE4</td><td>28</td></tr>\n",
       "\t<tr><td>CC</td><td>1 COLOMBIA</td><td>F</td><td>1994-02-02</td><td>20164</td><td>EK201640011583</td><td>ESTUDIANTE</td><td>SOLTERO    </td><td>FALSE</td><td>NA         </td><td>⋯</td><td>53</td><td>63</td><td>122</td><td>4</td><td> 88</td><td>89</td><td>PUBLICAR</td><td>69.01630</td><td>NSE4</td><td>22</td></tr>\n",
       "\t<tr><td>CC</td><td>1 COLOMBIA</td><td>M</td><td>1988-02-15</td><td>20164</td><td>EK201640024848</td><td>ESTUDIANTE</td><td>SOLTERO    </td><td>FALSE</td><td>NA         </td><td>⋯</td><td> 3</td><td> 3</td><td>118</td><td>3</td><td> 80</td><td>80</td><td>PUBLICAR</td><td>41.91418</td><td>NSE1</td><td>28</td></tr>\n",
       "</tbody>\n",
       "</table>\n"
      ],
      "text/latex": [
       "A data.table: 52665 × 36\n",
       "\\begin{tabular}{lllllllllllllllllllll}\n",
       " ESTU\\_TIPODOCUMENTO & ESTU\\_NACIONALIDAD & ESTU\\_GENERO & ESTU\\_FECHANACIMIENTO & PERIODO & ESTU\\_CONSECUTIVO & ESTU\\_ESTUDIANTE & ESTU\\_ESTADOCIVIL & ESTU\\_TIENE\\_ETNIA & ESTU\\_ETNIA & ⋯ & MOD\\_INGLES\\_PNAL & MOD\\_INGLES\\_PGREF & MOD\\_COMUNI\\_ESCRITA\\_PUNT & MOD\\_COMUNI\\_ESCRITA\\_DESEM & MOD\\_COMUNI\\_ESCRITA\\_PNAL & MOD\\_COMUNI\\_ESCRITA\\_PGREF & ESTU\\_ESTADO & INSE & NSE & ESTU\\_EDAD\\\\\n",
       " <fct> & <fct> & <fct> & <date> & <fct> & <fct> & <fct> & <fct> & <lgl> & <fct> & ⋯ & <int> & <int> & <int> & <fct> & <int> & <int> & <fct> & <dbl> & <fct> & <int>\\\\\n",
       "\\hline\n",
       "\t CC & 1 COLOMBIA & M & 1990-08-15 & 20164 & EK201640024941 & ESTUDIANTE & UNIÓN LIBRE & FALSE & NA                               & ⋯ &  79 &  59 & 121 & 4 & 87 & 85 & PUBLICAR & 57.14241 & NSE3 & 26\\\\\n",
       "\t CC & 1 COLOMBIA & M & 1990-09-26 & 20164 & EK201640012159 & ESTUDIANTE & SOLTERO     &    NA & NA                               & ⋯ &  75 &  74 & 123 & 4 & 89 & 87 & PUBLICAR & 65.76637 & NSE4 & 26\\\\\n",
       "\t CC & 1 COLOMBIA & F & 1994-10-28 & 20164 & EK201640041435 & ESTUDIANTE & SOLTERO     & FALSE & NA                               & ⋯ &  97 &  98 &  99 & 2 & 43 & 44 & PUBLICAR & 47.68200 & NSE2 & 21\\\\\n",
       "\t CC & 1 COLOMBIA & F & 1979-09-24 & 20164 & EK201640003654 & ESTUDIANTE & UNIÓN LIBRE & FALSE & NA                               & ⋯ &  32 &  30 &  75 & 1 & 13 & 11 & PUBLICAR & 55.56398 & NSE3 & 37\\\\\n",
       "\t CC & 1 COLOMBIA & M & 1988-07-06 & 20164 & EK201640018456 & ESTUDIANTE & SOLTERO     & FALSE & NA                               & ⋯ &  15 &  19 &  86 & 2 & 29 & 34 & PUBLICAR & 27.01330 & NSE1 & 28\\\\\n",
       "\t CC & 1 COLOMBIA & M & 1992-12-31 & 20164 & EK201640035645 & ESTUDIANTE & SOLTERO     & FALSE & NA                               & ⋯ &  80 &  81 & 105 & 3 & 63 & 63 & PUBLICAR & 50.76707 & NSE2 & 23\\\\\n",
       "\t CC & 1 COLOMBIA & F & 1975-04-19 & 20164 & EK201640031656 & ESTUDIANTE & UNIÓN LIBRE &  TRUE & 19 Otro grupo étnico minoritario & ⋯ &  11 &  14 &  99 & 2 & 43 & 43 & PUBLICAR & 45.54980 & NSE1 & 41\\\\\n",
       "\t CC & 1 COLOMBIA & M & 1995-04-01 & 20164 & EK201640018226 & ESTUDIANTE & SOLTERO     &    NA & NA                               & ⋯ &  23 &  21 &  84 & 2 & 22 & 22 & PUBLICAR & 55.05894 & NSE2 & 21\\\\\n",
       "\t CC & 1 COLOMBIA & M & 1988-12-20 & 20164 & EK201640020916 & ESTUDIANTE & SOLTERO     & FALSE & NA                               & ⋯ &  43 &  26 & 118 & 3 & 81 & 79 & PUBLICAR & 60.17477 & NSE4 & 27\\\\\n",
       "\t CC & 1 COLOMBIA & F & 1997-12-30 & 20164 & EK201640025179 & ESTUDIANTE & SOLTERO     & FALSE & NA                               & ⋯ &  94 &  94 & 127 & 4 & 94 & 93 & PUBLICAR & 48.95934 & NSE2 & 18\\\\\n",
       "\t CC & 1 COLOMBIA & M & 1977-03-05 & 20164 & EK201640024939 & ESTUDIANTE & CASADO      & FALSE & NA                               & ⋯ &  72 &  71 & 104 & 3 & 58 & 55 & PUBLICAR & 48.77295 & NSE2 & 39\\\\\n",
       "\t CC & 1 COLOMBIA & F & 1986-01-21 & 20164 & EK201640019567 & ESTUDIANTE & SOLTERO     & FALSE & NA                               & ⋯ &   2 &   2 &  87 & 2 & 30 & 30 & PUBLICAR & 47.26551 & NSE2 & 30\\\\\n",
       "\t CC & 1 COLOMBIA & F & 1989-11-11 & 20164 & EK201640034881 & ESTUDIANTE & SOLTERO     &    NA & NA                               & ⋯ &  51 &  49 & 108 & 3 & 71 & 68 & PUBLICAR & 48.31694 & NSE2 & 26\\\\\n",
       "\t CC & 1 COLOMBIA & F & 1995-06-06 & 20164 & EK201640022299 & ESTUDIANTE & SOLTERO     & FALSE & NA                               & ⋯ &  84 &  84 & 115 & 3 & 75 & 72 & PUBLICAR & 35.79830 & NSE1 & 21\\\\\n",
       "\t CC & 1 COLOMBIA & M & 1985-11-09 & 20164 & EK201640022060 & ESTUDIANTE & CASADO      & FALSE & NA                               & ⋯ &  62 &  81 & 107 & 3 & 70 & 75 & PUBLICAR & 52.17062 & NSE2 & 30\\\\\n",
       "\t CC & 1 COLOMBIA & F & 1992-04-20 & 20164 & EK201640035927 & ESTUDIANTE & SOLTERO     & FALSE & NA                               & ⋯ &  41 &  49 &  85 & 2 & 26 & 27 & PUBLICAR & 39.70657 & NSE1 & 24\\\\\n",
       "\t CC & 1 COLOMBIA & F & 1995-07-05 & 20164 & EK201640015538 & ESTUDIANTE & SOLTERO     &  TRUE & 1 Comunidad afrodescendiente     & ⋯ &  13 &  21 & 107 & 3 & 70 & 72 & PUBLICAR & 65.68092 & NSE4 & 21\\\\\n",
       "\t CC & 1 COLOMBIA & M & 1973-06-08 & 20164 & EK201640015754 & ESTUDIANTE & CASADO      & FALSE & NA                               & ⋯ &  62 &  50 &  74 & 1 & 12 & 13 & PUBLICAR & 61.84396 & NSE4 & 43\\\\\n",
       "\t CC & 1 COLOMBIA & M & 1996-01-29 & 20164 & EK201640019267 & ESTUDIANTE & SOLTERO     & FALSE & NA                               & ⋯ &  11 &   9 & 110 & 3 & 73 & 70 & PUBLICAR & 41.84544 & NSE1 & 20\\\\\n",
       "\t CC & 1 COLOMBIA & M & 1991-01-03 & 20164 & EK201640020311 & ESTUDIANTE & SOLTERO     & FALSE & NA                               & ⋯ &   1 &   1 &  85 & 2 & 27 & 32 & PUBLICAR & 45.51286 & NSE1 & 25\\\\\n",
       "\t CC & 1 COLOMBIA & F & 1990-05-15 & 20164 & EK201640003286 & ESTUDIANTE & UNIÓN LIBRE & FALSE & NA                               & ⋯ &  75 &  73 & 100 & 2 & 48 & 44 & PUBLICAR & 45.74596 & NSE2 & 26\\\\\n",
       "\t CC & 1 COLOMBIA & M & 1990-08-12 & 20164 & EK201640014656 & ESTUDIANTE & SOLTERO     & FALSE & NA                               & ⋯ &  92 &  79 & 104 & 3 & 55 & 51 & PUBLICAR & 67.44420 & NSE4 & 26\\\\\n",
       "\t CC & 1 COLOMBIA & M & 1996-07-29 & 20164 & EK201640036254 & ESTUDIANTE & SOLTERO     & FALSE & NA                               & ⋯ &  99 & 100 &  86 & 2 & 30 & 35 & PUBLICAR & 66.06796 & NSE4 & 20\\\\\n",
       "\t TI & 1 COLOMBIA & F & 1999-04-29 & 20164 & EK201640038644 & ESTUDIANTE & SOLTERO     & FALSE & NA                               & ⋯ &  69 &  80 & 103 & 3 & 54 & 62 & PUBLICAR & 45.49249 & NSE1 & 17\\\\\n",
       "\t CC & 1 COLOMBIA & M & 1994-10-14 & 20164 & EK201640008561 & ESTUDIANTE & SOLTERO     &    NA & NA                               & ⋯ &   4 &   2 &  96 & 2 & 34 & 30 & PUBLICAR & 38.80205 & NSE1 & 21\\\\\n",
       "\t CC & 1 COLOMBIA & F & 1993-01-24 & 20164 & EK201640025582 & ESTUDIANTE & SOLTERO     & FALSE & NA                               & ⋯ &  34 &  34 &  85 & 2 & 27 & 26 & PUBLICAR & 49.26491 & NSE2 & 23\\\\\n",
       "\t CC & 1 COLOMBIA & M & 1994-08-23 & 20164 & EK201640024375 & ESTUDIANTE & SOLTERO     & FALSE & NA                               & ⋯ &  36 &  54 & 106 & 3 & 66 & 72 & PUBLICAR & 35.89268 & NSE1 & 22\\\\\n",
       "\t CC & 1 COLOMBIA & F & 1994-02-15 & 20164 & EK201640037272 & ESTUDIANTE & SOLTERO     & FALSE & NA                               & ⋯ &  15 &   9 &  57 & 1 &  1 &  1 & PUBLICAR & 52.95712 & NSE2 & 22\\\\\n",
       "\t CC & 1 COLOMBIA & M & 1995-05-12 & 20164 & EK201640024654 & ESTUDIANTE & SOLTERO     & FALSE & NA                               & ⋯ & 100 & 100 &  62 & 1 &  3 &  3 & PUBLICAR & 67.39774 & NSE4 & 21\\\\\n",
       "\t CC & 1 COLOMBIA & M & 1997-07-13 & 20164 & EK201640038440 & ESTUDIANTE & SOLTERO     & FALSE & NA                               & ⋯ &   6 &   5 &  87 & 2 & 30 & 26 & PUBLICAR & 53.40542 & NSE2 & 19\\\\\n",
       "\t ⋮ & ⋮ & ⋮ & ⋮ & ⋮ & ⋮ & ⋮ & ⋮ & ⋮ & ⋮ & ⋱ & ⋮ & ⋮ & ⋮ & ⋮ & ⋮ & ⋮ & ⋮ & ⋮ & ⋮ & ⋮\\\\\n",
       "\t CC & 1 COLOMBIA & F & 1993-12-10 & 20164 & EK201640009311 & ESTUDIANTE & SOLTERO     & FALSE & NA          & ⋯ & 95 & 94 & 108 & 3 &  71 & 68 & PUBLICAR & 62.11897 & NSE4 & 22\\\\\n",
       "\t CC & 1 COLOMBIA & M & 1994-10-30 & 20164 & EK201640017032 & ESTUDIANTE & SOLTERO     & FALSE & NA          & ⋯ & 87 & 86 &  99 & 2 &  42 & 38 & PUBLICAR & 74.18563 & NSE4 & 21\\\\\n",
       "\t CC & 1 COLOMBIA & M & 1996-05-04 & 20164 & EK201640004573 & ESTUDIANTE & UNIÓN LIBRE & FALSE & NA          & ⋯ & 94 & 99 & 142 & 4 &  98 & 99 & PUBLICAR & 45.45835 & NSE1 & 20\\\\\n",
       "\t TI & 1 COLOMBIA & M & 1997-12-06 & 20164 & EK201640009827 & ESTUDIANTE & SOLTERO     &  TRUE & 100 Ninguno & ⋯ & 80 & 81 & 120 & 3 &  86 & 87 & PUBLICAR & 49.35806 & NSE2 & 18\\\\\n",
       "\t CC & 1 COLOMBIA & M & 1984-10-18 & 20164 & EK201640014911 & ESTUDIANTE & SOLTERO     & FALSE & NA          & ⋯ & 92 & 83 & 151 & 4 & 100 & 99 & PUBLICAR & 60.00939 & NSE4 & 31\\\\\n",
       "\t CC & 1 COLOMBIA & M & 1997-10-27 & 20164 & EK201640002398 & ESTUDIANTE & SOLTERO     & FALSE & NA          & ⋯ & 40 & 27 &  83 & 2 &  22 & 23 & PUBLICAR & 57.56484 & NSE3 & 18\\\\\n",
       "\t CC & 1 COLOMBIA & M & 1995-07-17 & 20164 & EK201640019236 & ESTUDIANTE & SOLTERO     & FALSE & NA          & ⋯ & 61 & 45 &  97 & 2 &  35 & 35 & PUBLICAR & 58.47617 & NSE3 & 21\\\\\n",
       "\t CC & 1 COLOMBIA & M & 1965-08-11 & 20164 & EK201640027307 & ESTUDIANTE & UNIÓN LIBRE & FALSE & NA          & ⋯ & 90 & 89 & 102 & 3 &  52 & 48 & PUBLICAR &       NA & NA   & 51\\\\\n",
       "\t CC & 1 COLOMBIA & F & 1993-01-23 & 20164 & EK201640013986 & ESTUDIANTE & SOLTERO     & FALSE & NA          & ⋯ & 56 & 36 & 110 & 3 &  73 & 70 & PUBLICAR & 45.47826 & NSE1 & 23\\\\\n",
       "\t CC & 1 COLOMBIA & F & 1996-03-16 & 20164 & EK201640014683 & ESTUDIANTE & SOLTERO     & FALSE & NA          & ⋯ & 87 & 86 & 103 & 3 &  54 & 50 & PUBLICAR & 59.37988 & NSE4 & 20\\\\\n",
       "\t CC & 1 COLOMBIA & M & 1983-10-11 & 20164 & EK201640005781 & ESTUDIANTE & CASADO      & FALSE & NA          & ⋯ & 60 & 60 & 100 & 2 &  49 & 49 & PUBLICAR & 40.61375 & NSE1 & 32\\\\\n",
       "\t CC & 1 COLOMBIA & F & 1988-10-19 & 20164 & EK201640035572 & ESTUDIANTE & SOLTERO     & FALSE & NA          & ⋯ & 30 & 30 & 127 & 4 &  95 & 95 & PUBLICAR & 50.84579 & NSE2 & 27\\\\\n",
       "\t CC & 1 COLOMBIA & M & 1993-11-13 & 20164 & EK201640016125 & ESTUDIANTE & SOLTERO     & FALSE & NA          & ⋯ & 52 & 72 &  79 & 1 &  17 & 21 & PUBLICAR & 36.51019 & NSE1 & 22\\\\\n",
       "\t CC & 1 COLOMBIA & M & 1993-09-10 & 20164 & EK201640005428 & ESTUDIANTE & SOLTERO     & FALSE & NA          & ⋯ & 48 & 68 & 104 & 3 &  56 & 62 & PUBLICAR & 38.98832 & NSE1 & 23\\\\\n",
       "\t CC & 1 COLOMBIA & M & 1983-05-12 & 20164 & EK201640017673 & ESTUDIANTE & CASADO      & FALSE & NA          & ⋯ & 31 & 31 &  83 & 2 &  21 & 21 & PUBLICAR & 40.90001 & NSE1 & 33\\\\\n",
       "\t CC & 1 COLOMBIA & M & 1994-01-08 & 20164 & EK201640012284 & ESTUDIANTE & SOLTERO     & FALSE & NA          & ⋯ & 67 & 85 & 126 & 4 &  93 & 96 & PUBLICAR & 29.50433 & NSE1 & 22\\\\\n",
       "\t CC & 1 COLOMBIA & M & 1994-02-12 & 20164 & EK201640007449 & ESTUDIANTE & SOLTERO     & FALSE & NA          & ⋯ & 57 & 76 &  86 & 2 &  29 & 34 & PUBLICAR & 41.27336 & NSE1 & 22\\\\\n",
       "\t CC & 1 COLOMBIA & F & 1980-09-01 & 20164 & EK201640029555 & ESTUDIANTE & SOLTERO     & FALSE & NA          & ⋯ & 50 & 48 & 106 & 3 &  66 & 62 & PUBLICAR & 52.12639 & NSE2 & 36\\\\\n",
       "\t TI & 1 COLOMBIA & F & 1999-01-26 & 20164 & EK201640019263 & ESTUDIANTE & SOLTERO     & FALSE & NA          & ⋯ & 38 & 35 & 105 & 3 &  62 & 58 & PUBLICAR & 54.18112 & NSE2 & 17\\\\\n",
       "\t CC & 1 COLOMBIA & F & 1995-04-03 & 20164 & EK201640028894 & ESTUDIANTE & SOLTERO     & FALSE & NA          & ⋯ & 59 & 58 &  99 & 2 &  42 & 39 & PUBLICAR & 63.16856 & NSE4 & 21\\\\\n",
       "\t CC & 1 COLOMBIA & F & 1992-09-23 & 20164 & EK201640038187 & ESTUDIANTE & CASADO      & FALSE & NA          & ⋯ & 20 & 12 & 104 & 3 &  60 & 60 & PUBLICAR & 49.44874 & NSE2 & 24\\\\\n",
       "\t CC & 1 COLOMBIA & F & 1993-08-08 & 20164 & EK201640028017 & ESTUDIANTE & SOLTERO     & FALSE & NA          & ⋯ & 16 & 20 & 104 & 3 &  56 & 57 & PUBLICAR & 43.10047 & NSE1 & 23\\\\\n",
       "\t CC & 1 COLOMBIA & M & 1981-10-14 & 20164 & EK201640008378 & ESTUDIANTE & CASADO      & FALSE & NA          & ⋯ & 27 & 33 &  88 & 2 &  31 & 32 & PUBLICAR & 55.88203 & NSE3 & 34\\\\\n",
       "\t CC & 1 COLOMBIA & F & 1986-08-09 & 20164 & EK201640024984 & ESTUDIANTE & SOLTERO     & FALSE & NA          & ⋯ & 59 & 59 &  79 & 1 &  17 & 17 & PUBLICAR & 34.65459 & NSE1 & 30\\\\\n",
       "\t CC & 1 COLOMBIA & M & 1995-08-10 & 20164 & EK201640017927 & ESTUDIANTE & SOLTERO     & FALSE & NA          & ⋯ & 91 & 77 &  79 & 1 &  17 & 18 & PUBLICAR & 58.50796 & NSE3 & 21\\\\\n",
       "\t CC & 1 COLOMBIA & M & 1992-01-22 & 20164 & EK201640005823 & ESTUDIANTE & SOLTERO     & FALSE & NA          & ⋯ & 38 & 56 & 104 & 3 &  57 & 63 & PUBLICAR & 45.34484 & NSE1 & 24\\\\\n",
       "\t CC & 1 COLOMBIA & M & 1992-07-07 & 20164 & EK201640005164 & ESTUDIANTE & SOLTERO     & FALSE & NA          & ⋯ & 48 & 68 &  75 & 1 &  12 & 15 & PUBLICAR & 39.95549 & NSE1 & 24\\\\\n",
       "\t CC & 1 COLOMBIA & M & 1988-09-07 & 20164 & EK201640001818 & ESTUDIANTE & UNIÓN LIBRE & FALSE & NA          & ⋯ & 31 & 39 &  60 & 1 &   2 &  2 & PUBLICAR & 60.76680 & NSE4 & 28\\\\\n",
       "\t CC & 1 COLOMBIA & F & 1994-02-02 & 20164 & EK201640011583 & ESTUDIANTE & SOLTERO     & FALSE & NA          & ⋯ & 53 & 63 & 122 & 4 &  88 & 89 & PUBLICAR & 69.01630 & NSE4 & 22\\\\\n",
       "\t CC & 1 COLOMBIA & M & 1988-02-15 & 20164 & EK201640024848 & ESTUDIANTE & SOLTERO     & FALSE & NA          & ⋯ &  3 &  3 & 118 & 3 &  80 & 80 & PUBLICAR & 41.91418 & NSE1 & 28\\\\\n",
       "\\end{tabular}\n"
      ],
      "text/markdown": [
       "\n",
       "A data.table: 52665 × 36\n",
       "\n",
       "| ESTU_TIPODOCUMENTO &lt;fct&gt; | ESTU_NACIONALIDAD &lt;fct&gt; | ESTU_GENERO &lt;fct&gt; | ESTU_FECHANACIMIENTO &lt;date&gt; | PERIODO &lt;fct&gt; | ESTU_CONSECUTIVO &lt;fct&gt; | ESTU_ESTUDIANTE &lt;fct&gt; | ESTU_ESTADOCIVIL &lt;fct&gt; | ESTU_TIENE_ETNIA &lt;lgl&gt; | ESTU_ETNIA &lt;fct&gt; | ⋯ ⋯ | MOD_INGLES_PNAL &lt;int&gt; | MOD_INGLES_PGREF &lt;int&gt; | MOD_COMUNI_ESCRITA_PUNT &lt;int&gt; | MOD_COMUNI_ESCRITA_DESEM &lt;fct&gt; | MOD_COMUNI_ESCRITA_PNAL &lt;int&gt; | MOD_COMUNI_ESCRITA_PGREF &lt;int&gt; | ESTU_ESTADO &lt;fct&gt; | INSE &lt;dbl&gt; | NSE &lt;fct&gt; | ESTU_EDAD &lt;int&gt; |\n",
       "|---|---|---|---|---|---|---|---|---|---|---|---|---|---|---|---|---|---|---|---|---|\n",
       "| CC | 1 COLOMBIA | M | 1990-08-15 | 20164 | EK201640024941 | ESTUDIANTE | UNIÓN LIBRE | FALSE | NA                               | ⋯ |  79 |  59 | 121 | 4 | 87 | 85 | PUBLICAR | 57.14241 | NSE3 | 26 |\n",
       "| CC | 1 COLOMBIA | M | 1990-09-26 | 20164 | EK201640012159 | ESTUDIANTE | SOLTERO     |    NA | NA                               | ⋯ |  75 |  74 | 123 | 4 | 89 | 87 | PUBLICAR | 65.76637 | NSE4 | 26 |\n",
       "| CC | 1 COLOMBIA | F | 1994-10-28 | 20164 | EK201640041435 | ESTUDIANTE | SOLTERO     | FALSE | NA                               | ⋯ |  97 |  98 |  99 | 2 | 43 | 44 | PUBLICAR | 47.68200 | NSE2 | 21 |\n",
       "| CC | 1 COLOMBIA | F | 1979-09-24 | 20164 | EK201640003654 | ESTUDIANTE | UNIÓN LIBRE | FALSE | NA                               | ⋯ |  32 |  30 |  75 | 1 | 13 | 11 | PUBLICAR | 55.56398 | NSE3 | 37 |\n",
       "| CC | 1 COLOMBIA | M | 1988-07-06 | 20164 | EK201640018456 | ESTUDIANTE | SOLTERO     | FALSE | NA                               | ⋯ |  15 |  19 |  86 | 2 | 29 | 34 | PUBLICAR | 27.01330 | NSE1 | 28 |\n",
       "| CC | 1 COLOMBIA | M | 1992-12-31 | 20164 | EK201640035645 | ESTUDIANTE | SOLTERO     | FALSE | NA                               | ⋯ |  80 |  81 | 105 | 3 | 63 | 63 | PUBLICAR | 50.76707 | NSE2 | 23 |\n",
       "| CC | 1 COLOMBIA | F | 1975-04-19 | 20164 | EK201640031656 | ESTUDIANTE | UNIÓN LIBRE |  TRUE | 19 Otro grupo étnico minoritario | ⋯ |  11 |  14 |  99 | 2 | 43 | 43 | PUBLICAR | 45.54980 | NSE1 | 41 |\n",
       "| CC | 1 COLOMBIA | M | 1995-04-01 | 20164 | EK201640018226 | ESTUDIANTE | SOLTERO     |    NA | NA                               | ⋯ |  23 |  21 |  84 | 2 | 22 | 22 | PUBLICAR | 55.05894 | NSE2 | 21 |\n",
       "| CC | 1 COLOMBIA | M | 1988-12-20 | 20164 | EK201640020916 | ESTUDIANTE | SOLTERO     | FALSE | NA                               | ⋯ |  43 |  26 | 118 | 3 | 81 | 79 | PUBLICAR | 60.17477 | NSE4 | 27 |\n",
       "| CC | 1 COLOMBIA | F | 1997-12-30 | 20164 | EK201640025179 | ESTUDIANTE | SOLTERO     | FALSE | NA                               | ⋯ |  94 |  94 | 127 | 4 | 94 | 93 | PUBLICAR | 48.95934 | NSE2 | 18 |\n",
       "| CC | 1 COLOMBIA | M | 1977-03-05 | 20164 | EK201640024939 | ESTUDIANTE | CASADO      | FALSE | NA                               | ⋯ |  72 |  71 | 104 | 3 | 58 | 55 | PUBLICAR | 48.77295 | NSE2 | 39 |\n",
       "| CC | 1 COLOMBIA | F | 1986-01-21 | 20164 | EK201640019567 | ESTUDIANTE | SOLTERO     | FALSE | NA                               | ⋯ |   2 |   2 |  87 | 2 | 30 | 30 | PUBLICAR | 47.26551 | NSE2 | 30 |\n",
       "| CC | 1 COLOMBIA | F | 1989-11-11 | 20164 | EK201640034881 | ESTUDIANTE | SOLTERO     |    NA | NA                               | ⋯ |  51 |  49 | 108 | 3 | 71 | 68 | PUBLICAR | 48.31694 | NSE2 | 26 |\n",
       "| CC | 1 COLOMBIA | F | 1995-06-06 | 20164 | EK201640022299 | ESTUDIANTE | SOLTERO     | FALSE | NA                               | ⋯ |  84 |  84 | 115 | 3 | 75 | 72 | PUBLICAR | 35.79830 | NSE1 | 21 |\n",
       "| CC | 1 COLOMBIA | M | 1985-11-09 | 20164 | EK201640022060 | ESTUDIANTE | CASADO      | FALSE | NA                               | ⋯ |  62 |  81 | 107 | 3 | 70 | 75 | PUBLICAR | 52.17062 | NSE2 | 30 |\n",
       "| CC | 1 COLOMBIA | F | 1992-04-20 | 20164 | EK201640035927 | ESTUDIANTE | SOLTERO     | FALSE | NA                               | ⋯ |  41 |  49 |  85 | 2 | 26 | 27 | PUBLICAR | 39.70657 | NSE1 | 24 |\n",
       "| CC | 1 COLOMBIA | F | 1995-07-05 | 20164 | EK201640015538 | ESTUDIANTE | SOLTERO     |  TRUE | 1 Comunidad afrodescendiente     | ⋯ |  13 |  21 | 107 | 3 | 70 | 72 | PUBLICAR | 65.68092 | NSE4 | 21 |\n",
       "| CC | 1 COLOMBIA | M | 1973-06-08 | 20164 | EK201640015754 | ESTUDIANTE | CASADO      | FALSE | NA                               | ⋯ |  62 |  50 |  74 | 1 | 12 | 13 | PUBLICAR | 61.84396 | NSE4 | 43 |\n",
       "| CC | 1 COLOMBIA | M | 1996-01-29 | 20164 | EK201640019267 | ESTUDIANTE | SOLTERO     | FALSE | NA                               | ⋯ |  11 |   9 | 110 | 3 | 73 | 70 | PUBLICAR | 41.84544 | NSE1 | 20 |\n",
       "| CC | 1 COLOMBIA | M | 1991-01-03 | 20164 | EK201640020311 | ESTUDIANTE | SOLTERO     | FALSE | NA                               | ⋯ |   1 |   1 |  85 | 2 | 27 | 32 | PUBLICAR | 45.51286 | NSE1 | 25 |\n",
       "| CC | 1 COLOMBIA | F | 1990-05-15 | 20164 | EK201640003286 | ESTUDIANTE | UNIÓN LIBRE | FALSE | NA                               | ⋯ |  75 |  73 | 100 | 2 | 48 | 44 | PUBLICAR | 45.74596 | NSE2 | 26 |\n",
       "| CC | 1 COLOMBIA | M | 1990-08-12 | 20164 | EK201640014656 | ESTUDIANTE | SOLTERO     | FALSE | NA                               | ⋯ |  92 |  79 | 104 | 3 | 55 | 51 | PUBLICAR | 67.44420 | NSE4 | 26 |\n",
       "| CC | 1 COLOMBIA | M | 1996-07-29 | 20164 | EK201640036254 | ESTUDIANTE | SOLTERO     | FALSE | NA                               | ⋯ |  99 | 100 |  86 | 2 | 30 | 35 | PUBLICAR | 66.06796 | NSE4 | 20 |\n",
       "| TI | 1 COLOMBIA | F | 1999-04-29 | 20164 | EK201640038644 | ESTUDIANTE | SOLTERO     | FALSE | NA                               | ⋯ |  69 |  80 | 103 | 3 | 54 | 62 | PUBLICAR | 45.49249 | NSE1 | 17 |\n",
       "| CC | 1 COLOMBIA | M | 1994-10-14 | 20164 | EK201640008561 | ESTUDIANTE | SOLTERO     |    NA | NA                               | ⋯ |   4 |   2 |  96 | 2 | 34 | 30 | PUBLICAR | 38.80205 | NSE1 | 21 |\n",
       "| CC | 1 COLOMBIA | F | 1993-01-24 | 20164 | EK201640025582 | ESTUDIANTE | SOLTERO     | FALSE | NA                               | ⋯ |  34 |  34 |  85 | 2 | 27 | 26 | PUBLICAR | 49.26491 | NSE2 | 23 |\n",
       "| CC | 1 COLOMBIA | M | 1994-08-23 | 20164 | EK201640024375 | ESTUDIANTE | SOLTERO     | FALSE | NA                               | ⋯ |  36 |  54 | 106 | 3 | 66 | 72 | PUBLICAR | 35.89268 | NSE1 | 22 |\n",
       "| CC | 1 COLOMBIA | F | 1994-02-15 | 20164 | EK201640037272 | ESTUDIANTE | SOLTERO     | FALSE | NA                               | ⋯ |  15 |   9 |  57 | 1 |  1 |  1 | PUBLICAR | 52.95712 | NSE2 | 22 |\n",
       "| CC | 1 COLOMBIA | M | 1995-05-12 | 20164 | EK201640024654 | ESTUDIANTE | SOLTERO     | FALSE | NA                               | ⋯ | 100 | 100 |  62 | 1 |  3 |  3 | PUBLICAR | 67.39774 | NSE4 | 21 |\n",
       "| CC | 1 COLOMBIA | M | 1997-07-13 | 20164 | EK201640038440 | ESTUDIANTE | SOLTERO     | FALSE | NA                               | ⋯ |   6 |   5 |  87 | 2 | 30 | 26 | PUBLICAR | 53.40542 | NSE2 | 19 |\n",
       "| ⋮ | ⋮ | ⋮ | ⋮ | ⋮ | ⋮ | ⋮ | ⋮ | ⋮ | ⋮ | ⋱ | ⋮ | ⋮ | ⋮ | ⋮ | ⋮ | ⋮ | ⋮ | ⋮ | ⋮ | ⋮ |\n",
       "| CC | 1 COLOMBIA | F | 1993-12-10 | 20164 | EK201640009311 | ESTUDIANTE | SOLTERO     | FALSE | NA          | ⋯ | 95 | 94 | 108 | 3 |  71 | 68 | PUBLICAR | 62.11897 | NSE4 | 22 |\n",
       "| CC | 1 COLOMBIA | M | 1994-10-30 | 20164 | EK201640017032 | ESTUDIANTE | SOLTERO     | FALSE | NA          | ⋯ | 87 | 86 |  99 | 2 |  42 | 38 | PUBLICAR | 74.18563 | NSE4 | 21 |\n",
       "| CC | 1 COLOMBIA | M | 1996-05-04 | 20164 | EK201640004573 | ESTUDIANTE | UNIÓN LIBRE | FALSE | NA          | ⋯ | 94 | 99 | 142 | 4 |  98 | 99 | PUBLICAR | 45.45835 | NSE1 | 20 |\n",
       "| TI | 1 COLOMBIA | M | 1997-12-06 | 20164 | EK201640009827 | ESTUDIANTE | SOLTERO     |  TRUE | 100 Ninguno | ⋯ | 80 | 81 | 120 | 3 |  86 | 87 | PUBLICAR | 49.35806 | NSE2 | 18 |\n",
       "| CC | 1 COLOMBIA | M | 1984-10-18 | 20164 | EK201640014911 | ESTUDIANTE | SOLTERO     | FALSE | NA          | ⋯ | 92 | 83 | 151 | 4 | 100 | 99 | PUBLICAR | 60.00939 | NSE4 | 31 |\n",
       "| CC | 1 COLOMBIA | M | 1997-10-27 | 20164 | EK201640002398 | ESTUDIANTE | SOLTERO     | FALSE | NA          | ⋯ | 40 | 27 |  83 | 2 |  22 | 23 | PUBLICAR | 57.56484 | NSE3 | 18 |\n",
       "| CC | 1 COLOMBIA | M | 1995-07-17 | 20164 | EK201640019236 | ESTUDIANTE | SOLTERO     | FALSE | NA          | ⋯ | 61 | 45 |  97 | 2 |  35 | 35 | PUBLICAR | 58.47617 | NSE3 | 21 |\n",
       "| CC | 1 COLOMBIA | M | 1965-08-11 | 20164 | EK201640027307 | ESTUDIANTE | UNIÓN LIBRE | FALSE | NA          | ⋯ | 90 | 89 | 102 | 3 |  52 | 48 | PUBLICAR |       NA | NA   | 51 |\n",
       "| CC | 1 COLOMBIA | F | 1993-01-23 | 20164 | EK201640013986 | ESTUDIANTE | SOLTERO     | FALSE | NA          | ⋯ | 56 | 36 | 110 | 3 |  73 | 70 | PUBLICAR | 45.47826 | NSE1 | 23 |\n",
       "| CC | 1 COLOMBIA | F | 1996-03-16 | 20164 | EK201640014683 | ESTUDIANTE | SOLTERO     | FALSE | NA          | ⋯ | 87 | 86 | 103 | 3 |  54 | 50 | PUBLICAR | 59.37988 | NSE4 | 20 |\n",
       "| CC | 1 COLOMBIA | M | 1983-10-11 | 20164 | EK201640005781 | ESTUDIANTE | CASADO      | FALSE | NA          | ⋯ | 60 | 60 | 100 | 2 |  49 | 49 | PUBLICAR | 40.61375 | NSE1 | 32 |\n",
       "| CC | 1 COLOMBIA | F | 1988-10-19 | 20164 | EK201640035572 | ESTUDIANTE | SOLTERO     | FALSE | NA          | ⋯ | 30 | 30 | 127 | 4 |  95 | 95 | PUBLICAR | 50.84579 | NSE2 | 27 |\n",
       "| CC | 1 COLOMBIA | M | 1993-11-13 | 20164 | EK201640016125 | ESTUDIANTE | SOLTERO     | FALSE | NA          | ⋯ | 52 | 72 |  79 | 1 |  17 | 21 | PUBLICAR | 36.51019 | NSE1 | 22 |\n",
       "| CC | 1 COLOMBIA | M | 1993-09-10 | 20164 | EK201640005428 | ESTUDIANTE | SOLTERO     | FALSE | NA          | ⋯ | 48 | 68 | 104 | 3 |  56 | 62 | PUBLICAR | 38.98832 | NSE1 | 23 |\n",
       "| CC | 1 COLOMBIA | M | 1983-05-12 | 20164 | EK201640017673 | ESTUDIANTE | CASADO      | FALSE | NA          | ⋯ | 31 | 31 |  83 | 2 |  21 | 21 | PUBLICAR | 40.90001 | NSE1 | 33 |\n",
       "| CC | 1 COLOMBIA | M | 1994-01-08 | 20164 | EK201640012284 | ESTUDIANTE | SOLTERO     | FALSE | NA          | ⋯ | 67 | 85 | 126 | 4 |  93 | 96 | PUBLICAR | 29.50433 | NSE1 | 22 |\n",
       "| CC | 1 COLOMBIA | M | 1994-02-12 | 20164 | EK201640007449 | ESTUDIANTE | SOLTERO     | FALSE | NA          | ⋯ | 57 | 76 |  86 | 2 |  29 | 34 | PUBLICAR | 41.27336 | NSE1 | 22 |\n",
       "| CC | 1 COLOMBIA | F | 1980-09-01 | 20164 | EK201640029555 | ESTUDIANTE | SOLTERO     | FALSE | NA          | ⋯ | 50 | 48 | 106 | 3 |  66 | 62 | PUBLICAR | 52.12639 | NSE2 | 36 |\n",
       "| TI | 1 COLOMBIA | F | 1999-01-26 | 20164 | EK201640019263 | ESTUDIANTE | SOLTERO     | FALSE | NA          | ⋯ | 38 | 35 | 105 | 3 |  62 | 58 | PUBLICAR | 54.18112 | NSE2 | 17 |\n",
       "| CC | 1 COLOMBIA | F | 1995-04-03 | 20164 | EK201640028894 | ESTUDIANTE | SOLTERO     | FALSE | NA          | ⋯ | 59 | 58 |  99 | 2 |  42 | 39 | PUBLICAR | 63.16856 | NSE4 | 21 |\n",
       "| CC | 1 COLOMBIA | F | 1992-09-23 | 20164 | EK201640038187 | ESTUDIANTE | CASADO      | FALSE | NA          | ⋯ | 20 | 12 | 104 | 3 |  60 | 60 | PUBLICAR | 49.44874 | NSE2 | 24 |\n",
       "| CC | 1 COLOMBIA | F | 1993-08-08 | 20164 | EK201640028017 | ESTUDIANTE | SOLTERO     | FALSE | NA          | ⋯ | 16 | 20 | 104 | 3 |  56 | 57 | PUBLICAR | 43.10047 | NSE1 | 23 |\n",
       "| CC | 1 COLOMBIA | M | 1981-10-14 | 20164 | EK201640008378 | ESTUDIANTE | CASADO      | FALSE | NA          | ⋯ | 27 | 33 |  88 | 2 |  31 | 32 | PUBLICAR | 55.88203 | NSE3 | 34 |\n",
       "| CC | 1 COLOMBIA | F | 1986-08-09 | 20164 | EK201640024984 | ESTUDIANTE | SOLTERO     | FALSE | NA          | ⋯ | 59 | 59 |  79 | 1 |  17 | 17 | PUBLICAR | 34.65459 | NSE1 | 30 |\n",
       "| CC | 1 COLOMBIA | M | 1995-08-10 | 20164 | EK201640017927 | ESTUDIANTE | SOLTERO     | FALSE | NA          | ⋯ | 91 | 77 |  79 | 1 |  17 | 18 | PUBLICAR | 58.50796 | NSE3 | 21 |\n",
       "| CC | 1 COLOMBIA | M | 1992-01-22 | 20164 | EK201640005823 | ESTUDIANTE | SOLTERO     | FALSE | NA          | ⋯ | 38 | 56 | 104 | 3 |  57 | 63 | PUBLICAR | 45.34484 | NSE1 | 24 |\n",
       "| CC | 1 COLOMBIA | M | 1992-07-07 | 20164 | EK201640005164 | ESTUDIANTE | SOLTERO     | FALSE | NA          | ⋯ | 48 | 68 |  75 | 1 |  12 | 15 | PUBLICAR | 39.95549 | NSE1 | 24 |\n",
       "| CC | 1 COLOMBIA | M | 1988-09-07 | 20164 | EK201640001818 | ESTUDIANTE | UNIÓN LIBRE | FALSE | NA          | ⋯ | 31 | 39 |  60 | 1 |   2 |  2 | PUBLICAR | 60.76680 | NSE4 | 28 |\n",
       "| CC | 1 COLOMBIA | F | 1994-02-02 | 20164 | EK201640011583 | ESTUDIANTE | SOLTERO     | FALSE | NA          | ⋯ | 53 | 63 | 122 | 4 |  88 | 89 | PUBLICAR | 69.01630 | NSE4 | 22 |\n",
       "| CC | 1 COLOMBIA | M | 1988-02-15 | 20164 | EK201640024848 | ESTUDIANTE | SOLTERO     | FALSE | NA          | ⋯ |  3 |  3 | 118 | 3 |  80 | 80 | PUBLICAR | 41.91418 | NSE1 | 28 |\n",
       "\n"
      ],
      "text/plain": [
       "      ESTU_TIPODOCUMENTO ESTU_NACIONALIDAD ESTU_GENERO ESTU_FECHANACIMIENTO\n",
       "1     CC                 1 COLOMBIA        M           1990-08-15          \n",
       "2     CC                 1 COLOMBIA        M           1990-09-26          \n",
       "3     CC                 1 COLOMBIA        F           1994-10-28          \n",
       "4     CC                 1 COLOMBIA        F           1979-09-24          \n",
       "5     CC                 1 COLOMBIA        M           1988-07-06          \n",
       "6     CC                 1 COLOMBIA        M           1992-12-31          \n",
       "7     CC                 1 COLOMBIA        F           1975-04-19          \n",
       "8     CC                 1 COLOMBIA        M           1995-04-01          \n",
       "9     CC                 1 COLOMBIA        M           1988-12-20          \n",
       "10    CC                 1 COLOMBIA        F           1997-12-30          \n",
       "11    CC                 1 COLOMBIA        M           1977-03-05          \n",
       "12    CC                 1 COLOMBIA        F           1986-01-21          \n",
       "13    CC                 1 COLOMBIA        F           1989-11-11          \n",
       "14    CC                 1 COLOMBIA        F           1995-06-06          \n",
       "15    CC                 1 COLOMBIA        M           1985-11-09          \n",
       "16    CC                 1 COLOMBIA        F           1992-04-20          \n",
       "17    CC                 1 COLOMBIA        F           1995-07-05          \n",
       "18    CC                 1 COLOMBIA        M           1973-06-08          \n",
       "19    CC                 1 COLOMBIA        M           1996-01-29          \n",
       "20    CC                 1 COLOMBIA        M           1991-01-03          \n",
       "21    CC                 1 COLOMBIA        F           1990-05-15          \n",
       "22    CC                 1 COLOMBIA        M           1990-08-12          \n",
       "23    CC                 1 COLOMBIA        M           1996-07-29          \n",
       "24    TI                 1 COLOMBIA        F           1999-04-29          \n",
       "25    CC                 1 COLOMBIA        M           1994-10-14          \n",
       "26    CC                 1 COLOMBIA        F           1993-01-24          \n",
       "27    CC                 1 COLOMBIA        M           1994-08-23          \n",
       "28    CC                 1 COLOMBIA        F           1994-02-15          \n",
       "29    CC                 1 COLOMBIA        M           1995-05-12          \n",
       "30    CC                 1 COLOMBIA        M           1997-07-13          \n",
       "⋮     ⋮                  ⋮                 ⋮           ⋮                   \n",
       "52636 CC                 1 COLOMBIA        F           1993-12-10          \n",
       "52637 CC                 1 COLOMBIA        M           1994-10-30          \n",
       "52638 CC                 1 COLOMBIA        M           1996-05-04          \n",
       "52639 TI                 1 COLOMBIA        M           1997-12-06          \n",
       "52640 CC                 1 COLOMBIA        M           1984-10-18          \n",
       "52641 CC                 1 COLOMBIA        M           1997-10-27          \n",
       "52642 CC                 1 COLOMBIA        M           1995-07-17          \n",
       "52643 CC                 1 COLOMBIA        M           1965-08-11          \n",
       "52644 CC                 1 COLOMBIA        F           1993-01-23          \n",
       "52645 CC                 1 COLOMBIA        F           1996-03-16          \n",
       "52646 CC                 1 COLOMBIA        M           1983-10-11          \n",
       "52647 CC                 1 COLOMBIA        F           1988-10-19          \n",
       "52648 CC                 1 COLOMBIA        M           1993-11-13          \n",
       "52649 CC                 1 COLOMBIA        M           1993-09-10          \n",
       "52650 CC                 1 COLOMBIA        M           1983-05-12          \n",
       "52651 CC                 1 COLOMBIA        M           1994-01-08          \n",
       "52652 CC                 1 COLOMBIA        M           1994-02-12          \n",
       "52653 CC                 1 COLOMBIA        F           1980-09-01          \n",
       "52654 TI                 1 COLOMBIA        F           1999-01-26          \n",
       "52655 CC                 1 COLOMBIA        F           1995-04-03          \n",
       "52656 CC                 1 COLOMBIA        F           1992-09-23          \n",
       "52657 CC                 1 COLOMBIA        F           1993-08-08          \n",
       "52658 CC                 1 COLOMBIA        M           1981-10-14          \n",
       "52659 CC                 1 COLOMBIA        F           1986-08-09          \n",
       "52660 CC                 1 COLOMBIA        M           1995-08-10          \n",
       "52661 CC                 1 COLOMBIA        M           1992-01-22          \n",
       "52662 CC                 1 COLOMBIA        M           1992-07-07          \n",
       "52663 CC                 1 COLOMBIA        M           1988-09-07          \n",
       "52664 CC                 1 COLOMBIA        F           1994-02-02          \n",
       "52665 CC                 1 COLOMBIA        M           1988-02-15          \n",
       "      PERIODO ESTU_CONSECUTIVO ESTU_ESTUDIANTE ESTU_ESTADOCIVIL\n",
       "1     20164   EK201640024941   ESTUDIANTE      UNIÓN LIBRE     \n",
       "2     20164   EK201640012159   ESTUDIANTE      SOLTERO         \n",
       "3     20164   EK201640041435   ESTUDIANTE      SOLTERO         \n",
       "4     20164   EK201640003654   ESTUDIANTE      UNIÓN LIBRE     \n",
       "5     20164   EK201640018456   ESTUDIANTE      SOLTERO         \n",
       "6     20164   EK201640035645   ESTUDIANTE      SOLTERO         \n",
       "7     20164   EK201640031656   ESTUDIANTE      UNIÓN LIBRE     \n",
       "8     20164   EK201640018226   ESTUDIANTE      SOLTERO         \n",
       "9     20164   EK201640020916   ESTUDIANTE      SOLTERO         \n",
       "10    20164   EK201640025179   ESTUDIANTE      SOLTERO         \n",
       "11    20164   EK201640024939   ESTUDIANTE      CASADO          \n",
       "12    20164   EK201640019567   ESTUDIANTE      SOLTERO         \n",
       "13    20164   EK201640034881   ESTUDIANTE      SOLTERO         \n",
       "14    20164   EK201640022299   ESTUDIANTE      SOLTERO         \n",
       "15    20164   EK201640022060   ESTUDIANTE      CASADO          \n",
       "16    20164   EK201640035927   ESTUDIANTE      SOLTERO         \n",
       "17    20164   EK201640015538   ESTUDIANTE      SOLTERO         \n",
       "18    20164   EK201640015754   ESTUDIANTE      CASADO          \n",
       "19    20164   EK201640019267   ESTUDIANTE      SOLTERO         \n",
       "20    20164   EK201640020311   ESTUDIANTE      SOLTERO         \n",
       "21    20164   EK201640003286   ESTUDIANTE      UNIÓN LIBRE     \n",
       "22    20164   EK201640014656   ESTUDIANTE      SOLTERO         \n",
       "23    20164   EK201640036254   ESTUDIANTE      SOLTERO         \n",
       "24    20164   EK201640038644   ESTUDIANTE      SOLTERO         \n",
       "25    20164   EK201640008561   ESTUDIANTE      SOLTERO         \n",
       "26    20164   EK201640025582   ESTUDIANTE      SOLTERO         \n",
       "27    20164   EK201640024375   ESTUDIANTE      SOLTERO         \n",
       "28    20164   EK201640037272   ESTUDIANTE      SOLTERO         \n",
       "29    20164   EK201640024654   ESTUDIANTE      SOLTERO         \n",
       "30    20164   EK201640038440   ESTUDIANTE      SOLTERO         \n",
       "⋮     ⋮       ⋮                ⋮               ⋮               \n",
       "52636 20164   EK201640009311   ESTUDIANTE      SOLTERO         \n",
       "52637 20164   EK201640017032   ESTUDIANTE      SOLTERO         \n",
       "52638 20164   EK201640004573   ESTUDIANTE      UNIÓN LIBRE     \n",
       "52639 20164   EK201640009827   ESTUDIANTE      SOLTERO         \n",
       "52640 20164   EK201640014911   ESTUDIANTE      SOLTERO         \n",
       "52641 20164   EK201640002398   ESTUDIANTE      SOLTERO         \n",
       "52642 20164   EK201640019236   ESTUDIANTE      SOLTERO         \n",
       "52643 20164   EK201640027307   ESTUDIANTE      UNIÓN LIBRE     \n",
       "52644 20164   EK201640013986   ESTUDIANTE      SOLTERO         \n",
       "52645 20164   EK201640014683   ESTUDIANTE      SOLTERO         \n",
       "52646 20164   EK201640005781   ESTUDIANTE      CASADO          \n",
       "52647 20164   EK201640035572   ESTUDIANTE      SOLTERO         \n",
       "52648 20164   EK201640016125   ESTUDIANTE      SOLTERO         \n",
       "52649 20164   EK201640005428   ESTUDIANTE      SOLTERO         \n",
       "52650 20164   EK201640017673   ESTUDIANTE      CASADO          \n",
       "52651 20164   EK201640012284   ESTUDIANTE      SOLTERO         \n",
       "52652 20164   EK201640007449   ESTUDIANTE      SOLTERO         \n",
       "52653 20164   EK201640029555   ESTUDIANTE      SOLTERO         \n",
       "52654 20164   EK201640019263   ESTUDIANTE      SOLTERO         \n",
       "52655 20164   EK201640028894   ESTUDIANTE      SOLTERO         \n",
       "52656 20164   EK201640038187   ESTUDIANTE      CASADO          \n",
       "52657 20164   EK201640028017   ESTUDIANTE      SOLTERO         \n",
       "52658 20164   EK201640008378   ESTUDIANTE      CASADO          \n",
       "52659 20164   EK201640024984   ESTUDIANTE      SOLTERO         \n",
       "52660 20164   EK201640017927   ESTUDIANTE      SOLTERO         \n",
       "52661 20164   EK201640005823   ESTUDIANTE      SOLTERO         \n",
       "52662 20164   EK201640005164   ESTUDIANTE      SOLTERO         \n",
       "52663 20164   EK201640001818   ESTUDIANTE      UNIÓN LIBRE     \n",
       "52664 20164   EK201640011583   ESTUDIANTE      SOLTERO         \n",
       "52665 20164   EK201640024848   ESTUDIANTE      SOLTERO         \n",
       "      ESTU_TIENE_ETNIA ESTU_ETNIA                       ⋯ MOD_INGLES_PNAL\n",
       "1     FALSE            NA                               ⋯  79            \n",
       "2        NA            NA                               ⋯  75            \n",
       "3     FALSE            NA                               ⋯  97            \n",
       "4     FALSE            NA                               ⋯  32            \n",
       "5     FALSE            NA                               ⋯  15            \n",
       "6     FALSE            NA                               ⋯  80            \n",
       "7      TRUE            19 Otro grupo étnico minoritario ⋯  11            \n",
       "8        NA            NA                               ⋯  23            \n",
       "9     FALSE            NA                               ⋯  43            \n",
       "10    FALSE            NA                               ⋯  94            \n",
       "11    FALSE            NA                               ⋯  72            \n",
       "12    FALSE            NA                               ⋯   2            \n",
       "13       NA            NA                               ⋯  51            \n",
       "14    FALSE            NA                               ⋯  84            \n",
       "15    FALSE            NA                               ⋯  62            \n",
       "16    FALSE            NA                               ⋯  41            \n",
       "17     TRUE            1 Comunidad afrodescendiente     ⋯  13            \n",
       "18    FALSE            NA                               ⋯  62            \n",
       "19    FALSE            NA                               ⋯  11            \n",
       "20    FALSE            NA                               ⋯   1            \n",
       "21    FALSE            NA                               ⋯  75            \n",
       "22    FALSE            NA                               ⋯  92            \n",
       "23    FALSE            NA                               ⋯  99            \n",
       "24    FALSE            NA                               ⋯  69            \n",
       "25       NA            NA                               ⋯   4            \n",
       "26    FALSE            NA                               ⋯  34            \n",
       "27    FALSE            NA                               ⋯  36            \n",
       "28    FALSE            NA                               ⋯  15            \n",
       "29    FALSE            NA                               ⋯ 100            \n",
       "30    FALSE            NA                               ⋯   6            \n",
       "⋮     ⋮                ⋮                                ⋱ ⋮              \n",
       "52636 FALSE            NA                               ⋯ 95             \n",
       "52637 FALSE            NA                               ⋯ 87             \n",
       "52638 FALSE            NA                               ⋯ 94             \n",
       "52639  TRUE            100 Ninguno                      ⋯ 80             \n",
       "52640 FALSE            NA                               ⋯ 92             \n",
       "52641 FALSE            NA                               ⋯ 40             \n",
       "52642 FALSE            NA                               ⋯ 61             \n",
       "52643 FALSE            NA                               ⋯ 90             \n",
       "52644 FALSE            NA                               ⋯ 56             \n",
       "52645 FALSE            NA                               ⋯ 87             \n",
       "52646 FALSE            NA                               ⋯ 60             \n",
       "52647 FALSE            NA                               ⋯ 30             \n",
       "52648 FALSE            NA                               ⋯ 52             \n",
       "52649 FALSE            NA                               ⋯ 48             \n",
       "52650 FALSE            NA                               ⋯ 31             \n",
       "52651 FALSE            NA                               ⋯ 67             \n",
       "52652 FALSE            NA                               ⋯ 57             \n",
       "52653 FALSE            NA                               ⋯ 50             \n",
       "52654 FALSE            NA                               ⋯ 38             \n",
       "52655 FALSE            NA                               ⋯ 59             \n",
       "52656 FALSE            NA                               ⋯ 20             \n",
       "52657 FALSE            NA                               ⋯ 16             \n",
       "52658 FALSE            NA                               ⋯ 27             \n",
       "52659 FALSE            NA                               ⋯ 59             \n",
       "52660 FALSE            NA                               ⋯ 91             \n",
       "52661 FALSE            NA                               ⋯ 38             \n",
       "52662 FALSE            NA                               ⋯ 48             \n",
       "52663 FALSE            NA                               ⋯ 31             \n",
       "52664 FALSE            NA                               ⋯ 53             \n",
       "52665 FALSE            NA                               ⋯  3             \n",
       "      MOD_INGLES_PGREF MOD_COMUNI_ESCRITA_PUNT MOD_COMUNI_ESCRITA_DESEM\n",
       "1      59              121                     4                       \n",
       "2      74              123                     4                       \n",
       "3      98               99                     2                       \n",
       "4      30               75                     1                       \n",
       "5      19               86                     2                       \n",
       "6      81              105                     3                       \n",
       "7      14               99                     2                       \n",
       "8      21               84                     2                       \n",
       "9      26              118                     3                       \n",
       "10     94              127                     4                       \n",
       "11     71              104                     3                       \n",
       "12      2               87                     2                       \n",
       "13     49              108                     3                       \n",
       "14     84              115                     3                       \n",
       "15     81              107                     3                       \n",
       "16     49               85                     2                       \n",
       "17     21              107                     3                       \n",
       "18     50               74                     1                       \n",
       "19      9              110                     3                       \n",
       "20      1               85                     2                       \n",
       "21     73              100                     2                       \n",
       "22     79              104                     3                       \n",
       "23    100               86                     2                       \n",
       "24     80              103                     3                       \n",
       "25      2               96                     2                       \n",
       "26     34               85                     2                       \n",
       "27     54              106                     3                       \n",
       "28      9               57                     1                       \n",
       "29    100               62                     1                       \n",
       "30      5               87                     2                       \n",
       "⋮     ⋮                ⋮                       ⋮                       \n",
       "52636 94               108                     3                       \n",
       "52637 86                99                     2                       \n",
       "52638 99               142                     4                       \n",
       "52639 81               120                     3                       \n",
       "52640 83               151                     4                       \n",
       "52641 27                83                     2                       \n",
       "52642 45                97                     2                       \n",
       "52643 89               102                     3                       \n",
       "52644 36               110                     3                       \n",
       "52645 86               103                     3                       \n",
       "52646 60               100                     2                       \n",
       "52647 30               127                     4                       \n",
       "52648 72                79                     1                       \n",
       "52649 68               104                     3                       \n",
       "52650 31                83                     2                       \n",
       "52651 85               126                     4                       \n",
       "52652 76                86                     2                       \n",
       "52653 48               106                     3                       \n",
       "52654 35               105                     3                       \n",
       "52655 58                99                     2                       \n",
       "52656 12               104                     3                       \n",
       "52657 20               104                     3                       \n",
       "52658 33                88                     2                       \n",
       "52659 59                79                     1                       \n",
       "52660 77                79                     1                       \n",
       "52661 56               104                     3                       \n",
       "52662 68                75                     1                       \n",
       "52663 39                60                     1                       \n",
       "52664 63               122                     4                       \n",
       "52665  3               118                     3                       \n",
       "      MOD_COMUNI_ESCRITA_PNAL MOD_COMUNI_ESCRITA_PGREF ESTU_ESTADO INSE    \n",
       "1     87                      85                       PUBLICAR    57.14241\n",
       "2     89                      87                       PUBLICAR    65.76637\n",
       "3     43                      44                       PUBLICAR    47.68200\n",
       "4     13                      11                       PUBLICAR    55.56398\n",
       "5     29                      34                       PUBLICAR    27.01330\n",
       "6     63                      63                       PUBLICAR    50.76707\n",
       "7     43                      43                       PUBLICAR    45.54980\n",
       "8     22                      22                       PUBLICAR    55.05894\n",
       "9     81                      79                       PUBLICAR    60.17477\n",
       "10    94                      93                       PUBLICAR    48.95934\n",
       "11    58                      55                       PUBLICAR    48.77295\n",
       "12    30                      30                       PUBLICAR    47.26551\n",
       "13    71                      68                       PUBLICAR    48.31694\n",
       "14    75                      72                       PUBLICAR    35.79830\n",
       "15    70                      75                       PUBLICAR    52.17062\n",
       "16    26                      27                       PUBLICAR    39.70657\n",
       "17    70                      72                       PUBLICAR    65.68092\n",
       "18    12                      13                       PUBLICAR    61.84396\n",
       "19    73                      70                       PUBLICAR    41.84544\n",
       "20    27                      32                       PUBLICAR    45.51286\n",
       "21    48                      44                       PUBLICAR    45.74596\n",
       "22    55                      51                       PUBLICAR    67.44420\n",
       "23    30                      35                       PUBLICAR    66.06796\n",
       "24    54                      62                       PUBLICAR    45.49249\n",
       "25    34                      30                       PUBLICAR    38.80205\n",
       "26    27                      26                       PUBLICAR    49.26491\n",
       "27    66                      72                       PUBLICAR    35.89268\n",
       "28     1                       1                       PUBLICAR    52.95712\n",
       "29     3                       3                       PUBLICAR    67.39774\n",
       "30    30                      26                       PUBLICAR    53.40542\n",
       "⋮     ⋮                       ⋮                        ⋮           ⋮       \n",
       "52636  71                     68                       PUBLICAR    62.11897\n",
       "52637  42                     38                       PUBLICAR    74.18563\n",
       "52638  98                     99                       PUBLICAR    45.45835\n",
       "52639  86                     87                       PUBLICAR    49.35806\n",
       "52640 100                     99                       PUBLICAR    60.00939\n",
       "52641  22                     23                       PUBLICAR    57.56484\n",
       "52642  35                     35                       PUBLICAR    58.47617\n",
       "52643  52                     48                       PUBLICAR          NA\n",
       "52644  73                     70                       PUBLICAR    45.47826\n",
       "52645  54                     50                       PUBLICAR    59.37988\n",
       "52646  49                     49                       PUBLICAR    40.61375\n",
       "52647  95                     95                       PUBLICAR    50.84579\n",
       "52648  17                     21                       PUBLICAR    36.51019\n",
       "52649  56                     62                       PUBLICAR    38.98832\n",
       "52650  21                     21                       PUBLICAR    40.90001\n",
       "52651  93                     96                       PUBLICAR    29.50433\n",
       "52652  29                     34                       PUBLICAR    41.27336\n",
       "52653  66                     62                       PUBLICAR    52.12639\n",
       "52654  62                     58                       PUBLICAR    54.18112\n",
       "52655  42                     39                       PUBLICAR    63.16856\n",
       "52656  60                     60                       PUBLICAR    49.44874\n",
       "52657  56                     57                       PUBLICAR    43.10047\n",
       "52658  31                     32                       PUBLICAR    55.88203\n",
       "52659  17                     17                       PUBLICAR    34.65459\n",
       "52660  17                     18                       PUBLICAR    58.50796\n",
       "52661  57                     63                       PUBLICAR    45.34484\n",
       "52662  12                     15                       PUBLICAR    39.95549\n",
       "52663   2                      2                       PUBLICAR    60.76680\n",
       "52664  88                     89                       PUBLICAR    69.01630\n",
       "52665  80                     80                       PUBLICAR    41.91418\n",
       "      NSE  ESTU_EDAD\n",
       "1     NSE3 26       \n",
       "2     NSE4 26       \n",
       "3     NSE2 21       \n",
       "4     NSE3 37       \n",
       "5     NSE1 28       \n",
       "6     NSE2 23       \n",
       "7     NSE1 41       \n",
       "8     NSE2 21       \n",
       "9     NSE4 27       \n",
       "10    NSE2 18       \n",
       "11    NSE2 39       \n",
       "12    NSE2 30       \n",
       "13    NSE2 26       \n",
       "14    NSE1 21       \n",
       "15    NSE2 30       \n",
       "16    NSE1 24       \n",
       "17    NSE4 21       \n",
       "18    NSE4 43       \n",
       "19    NSE1 20       \n",
       "20    NSE1 25       \n",
       "21    NSE2 26       \n",
       "22    NSE4 26       \n",
       "23    NSE4 20       \n",
       "24    NSE1 17       \n",
       "25    NSE1 21       \n",
       "26    NSE2 23       \n",
       "27    NSE1 22       \n",
       "28    NSE2 22       \n",
       "29    NSE4 21       \n",
       "30    NSE2 19       \n",
       "⋮     ⋮    ⋮        \n",
       "52636 NSE4 22       \n",
       "52637 NSE4 21       \n",
       "52638 NSE1 20       \n",
       "52639 NSE2 18       \n",
       "52640 NSE4 31       \n",
       "52641 NSE3 18       \n",
       "52642 NSE3 21       \n",
       "52643 NA   51       \n",
       "52644 NSE1 23       \n",
       "52645 NSE4 20       \n",
       "52646 NSE1 32       \n",
       "52647 NSE2 27       \n",
       "52648 NSE1 22       \n",
       "52649 NSE1 23       \n",
       "52650 NSE1 33       \n",
       "52651 NSE1 22       \n",
       "52652 NSE1 22       \n",
       "52653 NSE2 36       \n",
       "52654 NSE2 17       \n",
       "52655 NSE4 21       \n",
       "52656 NSE2 24       \n",
       "52657 NSE1 23       \n",
       "52658 NSE3 34       \n",
       "52659 NSE1 30       \n",
       "52660 NSE3 21       \n",
       "52661 NSE1 24       \n",
       "52662 NSE1 24       \n",
       "52663 NSE4 28       \n",
       "52664 NSE4 22       \n",
       "52665 NSE1 28       "
      ]
     },
     "metadata": {},
     "output_type": "display_data"
    }
   ],
   "source": [
    "df_published"
   ]
  },
  {
   "cell_type": "markdown",
   "metadata": {},
   "source": [
    "### Nivel de Ingles"
   ]
  },
  {
   "cell_type": "markdown",
   "metadata": {
    "ExecuteTime": {
     "end_time": "2021-08-24T17:31:16.627103Z",
     "start_time": "2021-08-24T17:31:10.667Z"
    }
   },
   "source": [
    "Agregaremos un campo que nos permita identificar si las personas llegarón a un nivel B1 o B2 de ingles."
   ]
  },
  {
   "cell_type": "code",
   "execution_count": 130,
   "metadata": {
    "ExecuteTime": {
     "end_time": "2021-08-24T20:04:07.102058Z",
     "start_time": "2021-08-24T20:04:05.805Z"
    }
   },
   "outputs": [],
   "source": [
    "alcanza_desempeño_ingles = lapply(df_published$MOD_INGLES_DESEM, function(x) { \n",
    "    if (x == \"B1\" | x == \"B2\") {\n",
    "        return(TRUE) \n",
    "    } else {\n",
    "        return(FALSE)\n",
    "    }\n",
    "})"
   ]
  },
  {
   "cell_type": "code",
   "execution_count": 132,
   "metadata": {
    "ExecuteTime": {
     "end_time": "2021-08-24T20:04:17.040383Z",
     "start_time": "2021-08-24T20:04:17.014Z"
    }
   },
   "outputs": [],
   "source": [
    "df_published$ESTU_ALCANZA_COMPETENCIA_INGLES = as.logical(alcanza_desempeño_ingles"
   ]
  },
  {
   "cell_type": "code",
   "execution_count": 133,
   "metadata": {
    "ExecuteTime": {
     "end_time": "2021-08-24T20:04:21.528070Z",
     "start_time": "2021-08-24T20:04:21.334Z"
    },
    "scrolled": true
   },
   "outputs": [
    {
     "data": {
      "text/html": [
       "<table>\n",
       "<caption>A data.table: 52665 × 37</caption>\n",
       "<thead>\n",
       "\t<tr><th scope=col>ESTU_TIPODOCUMENTO</th><th scope=col>ESTU_NACIONALIDAD</th><th scope=col>ESTU_GENERO</th><th scope=col>ESTU_FECHANACIMIENTO</th><th scope=col>PERIODO</th><th scope=col>ESTU_CONSECUTIVO</th><th scope=col>ESTU_ESTUDIANTE</th><th scope=col>ESTU_ESTADOCIVIL</th><th scope=col>ESTU_TIENE_ETNIA</th><th scope=col>ESTU_ETNIA</th><th scope=col>⋯</th><th scope=col>MOD_INGLES_PGREF</th><th scope=col>MOD_COMUNI_ESCRITA_PUNT</th><th scope=col>MOD_COMUNI_ESCRITA_DESEM</th><th scope=col>MOD_COMUNI_ESCRITA_PNAL</th><th scope=col>MOD_COMUNI_ESCRITA_PGREF</th><th scope=col>ESTU_ESTADO</th><th scope=col>INSE</th><th scope=col>NSE</th><th scope=col>ESTU_EDAD</th><th scope=col>ESTU_ALCANZA_COMPETENCIA_INGLES</th></tr>\n",
       "\t<tr><th scope=col>&lt;fct&gt;</th><th scope=col>&lt;fct&gt;</th><th scope=col>&lt;fct&gt;</th><th scope=col>&lt;date&gt;</th><th scope=col>&lt;fct&gt;</th><th scope=col>&lt;fct&gt;</th><th scope=col>&lt;fct&gt;</th><th scope=col>&lt;fct&gt;</th><th scope=col>&lt;lgl&gt;</th><th scope=col>&lt;fct&gt;</th><th scope=col>⋯</th><th scope=col>&lt;int&gt;</th><th scope=col>&lt;int&gt;</th><th scope=col>&lt;fct&gt;</th><th scope=col>&lt;int&gt;</th><th scope=col>&lt;int&gt;</th><th scope=col>&lt;fct&gt;</th><th scope=col>&lt;dbl&gt;</th><th scope=col>&lt;fct&gt;</th><th scope=col>&lt;int&gt;</th><th scope=col>&lt;list&gt;</th></tr>\n",
       "</thead>\n",
       "<tbody>\n",
       "\t<tr><td>CC</td><td>1 COLOMBIA</td><td>M</td><td>1990-08-15</td><td>20164</td><td>EK201640024941</td><td>ESTUDIANTE</td><td>UNIÓN LIBRE</td><td>FALSE</td><td>NA                              </td><td>⋯</td><td> 59</td><td>121</td><td>4</td><td>87</td><td>85</td><td>PUBLICAR</td><td>57.14241</td><td>NSE3</td><td>26</td><td>FALSE</td></tr>\n",
       "\t<tr><td>CC</td><td>1 COLOMBIA</td><td>M</td><td>1990-09-26</td><td>20164</td><td>EK201640012159</td><td>ESTUDIANTE</td><td>SOLTERO    </td><td>   NA</td><td>NA                              </td><td>⋯</td><td> 74</td><td>123</td><td>4</td><td>89</td><td>87</td><td>PUBLICAR</td><td>65.76637</td><td>NSE4</td><td>26</td><td>FALSE</td></tr>\n",
       "\t<tr><td>CC</td><td>1 COLOMBIA</td><td>F</td><td>1994-10-28</td><td>20164</td><td>EK201640041435</td><td>ESTUDIANTE</td><td>SOLTERO    </td><td>FALSE</td><td>NA                              </td><td>⋯</td><td> 98</td><td> 99</td><td>2</td><td>43</td><td>44</td><td>PUBLICAR</td><td>47.68200</td><td>NSE2</td><td>21</td><td>TRUE</td></tr>\n",
       "\t<tr><td>CC</td><td>1 COLOMBIA</td><td>F</td><td>1979-09-24</td><td>20164</td><td>EK201640003654</td><td>ESTUDIANTE</td><td>UNIÓN LIBRE</td><td>FALSE</td><td>NA                              </td><td>⋯</td><td> 30</td><td> 75</td><td>1</td><td>13</td><td>11</td><td>PUBLICAR</td><td>55.56398</td><td>NSE3</td><td>37</td><td>FALSE</td></tr>\n",
       "\t<tr><td>CC</td><td>1 COLOMBIA</td><td>M</td><td>1988-07-06</td><td>20164</td><td>EK201640018456</td><td>ESTUDIANTE</td><td>SOLTERO    </td><td>FALSE</td><td>NA                              </td><td>⋯</td><td> 19</td><td> 86</td><td>2</td><td>29</td><td>34</td><td>PUBLICAR</td><td>27.01330</td><td>NSE1</td><td>28</td><td>FALSE</td></tr>\n",
       "\t<tr><td>CC</td><td>1 COLOMBIA</td><td>M</td><td>1992-12-31</td><td>20164</td><td>EK201640035645</td><td>ESTUDIANTE</td><td>SOLTERO    </td><td>FALSE</td><td>NA                              </td><td>⋯</td><td> 81</td><td>105</td><td>3</td><td>63</td><td>63</td><td>PUBLICAR</td><td>50.76707</td><td>NSE2</td><td>23</td><td>FALSE</td></tr>\n",
       "\t<tr><td>CC</td><td>1 COLOMBIA</td><td>F</td><td>1975-04-19</td><td>20164</td><td>EK201640031656</td><td>ESTUDIANTE</td><td>UNIÓN LIBRE</td><td> TRUE</td><td>19 Otro grupo étnico minoritario</td><td>⋯</td><td> 14</td><td> 99</td><td>2</td><td>43</td><td>43</td><td>PUBLICAR</td><td>45.54980</td><td>NSE1</td><td>41</td><td>FALSE</td></tr>\n",
       "\t<tr><td>CC</td><td>1 COLOMBIA</td><td>M</td><td>1995-04-01</td><td>20164</td><td>EK201640018226</td><td>ESTUDIANTE</td><td>SOLTERO    </td><td>   NA</td><td>NA                              </td><td>⋯</td><td> 21</td><td> 84</td><td>2</td><td>22</td><td>22</td><td>PUBLICAR</td><td>55.05894</td><td>NSE2</td><td>21</td><td>FALSE</td></tr>\n",
       "\t<tr><td>CC</td><td>1 COLOMBIA</td><td>M</td><td>1988-12-20</td><td>20164</td><td>EK201640020916</td><td>ESTUDIANTE</td><td>SOLTERO    </td><td>FALSE</td><td>NA                              </td><td>⋯</td><td> 26</td><td>118</td><td>3</td><td>81</td><td>79</td><td>PUBLICAR</td><td>60.17477</td><td>NSE4</td><td>27</td><td>FALSE</td></tr>\n",
       "\t<tr><td>CC</td><td>1 COLOMBIA</td><td>F</td><td>1997-12-30</td><td>20164</td><td>EK201640025179</td><td>ESTUDIANTE</td><td>SOLTERO    </td><td>FALSE</td><td>NA                              </td><td>⋯</td><td> 94</td><td>127</td><td>4</td><td>94</td><td>93</td><td>PUBLICAR</td><td>48.95934</td><td>NSE2</td><td>18</td><td>TRUE</td></tr>\n",
       "\t<tr><td>CC</td><td>1 COLOMBIA</td><td>M</td><td>1977-03-05</td><td>20164</td><td>EK201640024939</td><td>ESTUDIANTE</td><td>CASADO     </td><td>FALSE</td><td>NA                              </td><td>⋯</td><td> 71</td><td>104</td><td>3</td><td>58</td><td>55</td><td>PUBLICAR</td><td>48.77295</td><td>NSE2</td><td>39</td><td>FALSE</td></tr>\n",
       "\t<tr><td>CC</td><td>1 COLOMBIA</td><td>F</td><td>1986-01-21</td><td>20164</td><td>EK201640019567</td><td>ESTUDIANTE</td><td>SOLTERO    </td><td>FALSE</td><td>NA                              </td><td>⋯</td><td>  2</td><td> 87</td><td>2</td><td>30</td><td>30</td><td>PUBLICAR</td><td>47.26551</td><td>NSE2</td><td>30</td><td>FALSE</td></tr>\n",
       "\t<tr><td>CC</td><td>1 COLOMBIA</td><td>F</td><td>1989-11-11</td><td>20164</td><td>EK201640034881</td><td>ESTUDIANTE</td><td>SOLTERO    </td><td>   NA</td><td>NA                              </td><td>⋯</td><td> 49</td><td>108</td><td>3</td><td>71</td><td>68</td><td>PUBLICAR</td><td>48.31694</td><td>NSE2</td><td>26</td><td>FALSE</td></tr>\n",
       "\t<tr><td>CC</td><td>1 COLOMBIA</td><td>F</td><td>1995-06-06</td><td>20164</td><td>EK201640022299</td><td>ESTUDIANTE</td><td>SOLTERO    </td><td>FALSE</td><td>NA                              </td><td>⋯</td><td> 84</td><td>115</td><td>3</td><td>75</td><td>72</td><td>PUBLICAR</td><td>35.79830</td><td>NSE1</td><td>21</td><td>FALSE</td></tr>\n",
       "\t<tr><td>CC</td><td>1 COLOMBIA</td><td>M</td><td>1985-11-09</td><td>20164</td><td>EK201640022060</td><td>ESTUDIANTE</td><td>CASADO     </td><td>FALSE</td><td>NA                              </td><td>⋯</td><td> 81</td><td>107</td><td>3</td><td>70</td><td>75</td><td>PUBLICAR</td><td>52.17062</td><td>NSE2</td><td>30</td><td>FALSE</td></tr>\n",
       "\t<tr><td>CC</td><td>1 COLOMBIA</td><td>F</td><td>1992-04-20</td><td>20164</td><td>EK201640035927</td><td>ESTUDIANTE</td><td>SOLTERO    </td><td>FALSE</td><td>NA                              </td><td>⋯</td><td> 49</td><td> 85</td><td>2</td><td>26</td><td>27</td><td>PUBLICAR</td><td>39.70657</td><td>NSE1</td><td>24</td><td>FALSE</td></tr>\n",
       "\t<tr><td>CC</td><td>1 COLOMBIA</td><td>F</td><td>1995-07-05</td><td>20164</td><td>EK201640015538</td><td>ESTUDIANTE</td><td>SOLTERO    </td><td> TRUE</td><td>1 Comunidad afrodescendiente    </td><td>⋯</td><td> 21</td><td>107</td><td>3</td><td>70</td><td>72</td><td>PUBLICAR</td><td>65.68092</td><td>NSE4</td><td>21</td><td>FALSE</td></tr>\n",
       "\t<tr><td>CC</td><td>1 COLOMBIA</td><td>M</td><td>1973-06-08</td><td>20164</td><td>EK201640015754</td><td>ESTUDIANTE</td><td>CASADO     </td><td>FALSE</td><td>NA                              </td><td>⋯</td><td> 50</td><td> 74</td><td>1</td><td>12</td><td>13</td><td>PUBLICAR</td><td>61.84396</td><td>NSE4</td><td>43</td><td>FALSE</td></tr>\n",
       "\t<tr><td>CC</td><td>1 COLOMBIA</td><td>M</td><td>1996-01-29</td><td>20164</td><td>EK201640019267</td><td>ESTUDIANTE</td><td>SOLTERO    </td><td>FALSE</td><td>NA                              </td><td>⋯</td><td>  9</td><td>110</td><td>3</td><td>73</td><td>70</td><td>PUBLICAR</td><td>41.84544</td><td>NSE1</td><td>20</td><td>FALSE</td></tr>\n",
       "\t<tr><td>CC</td><td>1 COLOMBIA</td><td>M</td><td>1991-01-03</td><td>20164</td><td>EK201640020311</td><td>ESTUDIANTE</td><td>SOLTERO    </td><td>FALSE</td><td>NA                              </td><td>⋯</td><td>  1</td><td> 85</td><td>2</td><td>27</td><td>32</td><td>PUBLICAR</td><td>45.51286</td><td>NSE1</td><td>25</td><td>FALSE</td></tr>\n",
       "\t<tr><td>CC</td><td>1 COLOMBIA</td><td>F</td><td>1990-05-15</td><td>20164</td><td>EK201640003286</td><td>ESTUDIANTE</td><td>UNIÓN LIBRE</td><td>FALSE</td><td>NA                              </td><td>⋯</td><td> 73</td><td>100</td><td>2</td><td>48</td><td>44</td><td>PUBLICAR</td><td>45.74596</td><td>NSE2</td><td>26</td><td>FALSE</td></tr>\n",
       "\t<tr><td>CC</td><td>1 COLOMBIA</td><td>M</td><td>1990-08-12</td><td>20164</td><td>EK201640014656</td><td>ESTUDIANTE</td><td>SOLTERO    </td><td>FALSE</td><td>NA                              </td><td>⋯</td><td> 79</td><td>104</td><td>3</td><td>55</td><td>51</td><td>PUBLICAR</td><td>67.44420</td><td>NSE4</td><td>26</td><td>TRUE</td></tr>\n",
       "\t<tr><td>CC</td><td>1 COLOMBIA</td><td>M</td><td>1996-07-29</td><td>20164</td><td>EK201640036254</td><td>ESTUDIANTE</td><td>SOLTERO    </td><td>FALSE</td><td>NA                              </td><td>⋯</td><td>100</td><td> 86</td><td>2</td><td>30</td><td>35</td><td>PUBLICAR</td><td>66.06796</td><td>NSE4</td><td>20</td><td>TRUE</td></tr>\n",
       "\t<tr><td>TI</td><td>1 COLOMBIA</td><td>F</td><td>1999-04-29</td><td>20164</td><td>EK201640038644</td><td>ESTUDIANTE</td><td>SOLTERO    </td><td>FALSE</td><td>NA                              </td><td>⋯</td><td> 80</td><td>103</td><td>3</td><td>54</td><td>62</td><td>PUBLICAR</td><td>45.49249</td><td>NSE1</td><td>17</td><td>FALSE</td></tr>\n",
       "\t<tr><td>CC</td><td>1 COLOMBIA</td><td>M</td><td>1994-10-14</td><td>20164</td><td>EK201640008561</td><td>ESTUDIANTE</td><td>SOLTERO    </td><td>   NA</td><td>NA                              </td><td>⋯</td><td>  2</td><td> 96</td><td>2</td><td>34</td><td>30</td><td>PUBLICAR</td><td>38.80205</td><td>NSE1</td><td>21</td><td>FALSE</td></tr>\n",
       "\t<tr><td>CC</td><td>1 COLOMBIA</td><td>F</td><td>1993-01-24</td><td>20164</td><td>EK201640025582</td><td>ESTUDIANTE</td><td>SOLTERO    </td><td>FALSE</td><td>NA                              </td><td>⋯</td><td> 34</td><td> 85</td><td>2</td><td>27</td><td>26</td><td>PUBLICAR</td><td>49.26491</td><td>NSE2</td><td>23</td><td>FALSE</td></tr>\n",
       "\t<tr><td>CC</td><td>1 COLOMBIA</td><td>M</td><td>1994-08-23</td><td>20164</td><td>EK201640024375</td><td>ESTUDIANTE</td><td>SOLTERO    </td><td>FALSE</td><td>NA                              </td><td>⋯</td><td> 54</td><td>106</td><td>3</td><td>66</td><td>72</td><td>PUBLICAR</td><td>35.89268</td><td>NSE1</td><td>22</td><td>FALSE</td></tr>\n",
       "\t<tr><td>CC</td><td>1 COLOMBIA</td><td>F</td><td>1994-02-15</td><td>20164</td><td>EK201640037272</td><td>ESTUDIANTE</td><td>SOLTERO    </td><td>FALSE</td><td>NA                              </td><td>⋯</td><td>  9</td><td> 57</td><td>1</td><td> 1</td><td> 1</td><td>PUBLICAR</td><td>52.95712</td><td>NSE2</td><td>22</td><td>FALSE</td></tr>\n",
       "\t<tr><td>CC</td><td>1 COLOMBIA</td><td>M</td><td>1995-05-12</td><td>20164</td><td>EK201640024654</td><td>ESTUDIANTE</td><td>SOLTERO    </td><td>FALSE</td><td>NA                              </td><td>⋯</td><td>100</td><td> 62</td><td>1</td><td> 3</td><td> 3</td><td>PUBLICAR</td><td>67.39774</td><td>NSE4</td><td>21</td><td>TRUE</td></tr>\n",
       "\t<tr><td>CC</td><td>1 COLOMBIA</td><td>M</td><td>1997-07-13</td><td>20164</td><td>EK201640038440</td><td>ESTUDIANTE</td><td>SOLTERO    </td><td>FALSE</td><td>NA                              </td><td>⋯</td><td>  5</td><td> 87</td><td>2</td><td>30</td><td>26</td><td>PUBLICAR</td><td>53.40542</td><td>NSE2</td><td>19</td><td>FALSE</td></tr>\n",
       "\t<tr><td>⋮</td><td>⋮</td><td>⋮</td><td>⋮</td><td>⋮</td><td>⋮</td><td>⋮</td><td>⋮</td><td>⋮</td><td>⋮</td><td>⋱</td><td>⋮</td><td>⋮</td><td>⋮</td><td>⋮</td><td>⋮</td><td>⋮</td><td>⋮</td><td>⋮</td><td>⋮</td><td>⋮</td></tr>\n",
       "\t<tr><td>CC</td><td>1 COLOMBIA</td><td>F</td><td>1993-12-10</td><td>20164</td><td>EK201640009311</td><td>ESTUDIANTE</td><td>SOLTERO    </td><td>FALSE</td><td>NA         </td><td>⋯</td><td>94</td><td>108</td><td>3</td><td> 71</td><td>68</td><td>PUBLICAR</td><td>62.11897</td><td>NSE4</td><td>22</td><td>TRUE</td></tr>\n",
       "\t<tr><td>CC</td><td>1 COLOMBIA</td><td>M</td><td>1994-10-30</td><td>20164</td><td>EK201640017032</td><td>ESTUDIANTE</td><td>SOLTERO    </td><td>FALSE</td><td>NA         </td><td>⋯</td><td>86</td><td> 99</td><td>2</td><td> 42</td><td>38</td><td>PUBLICAR</td><td>74.18563</td><td>NSE4</td><td>21</td><td>TRUE</td></tr>\n",
       "\t<tr><td>CC</td><td>1 COLOMBIA</td><td>M</td><td>1996-05-04</td><td>20164</td><td>EK201640004573</td><td>ESTUDIANTE</td><td>UNIÓN LIBRE</td><td>FALSE</td><td>NA         </td><td>⋯</td><td>99</td><td>142</td><td>4</td><td> 98</td><td>99</td><td>PUBLICAR</td><td>45.45835</td><td>NSE1</td><td>20</td><td>TRUE</td></tr>\n",
       "\t<tr><td>TI</td><td>1 COLOMBIA</td><td>M</td><td>1997-12-06</td><td>20164</td><td>EK201640009827</td><td>ESTUDIANTE</td><td>SOLTERO    </td><td> TRUE</td><td>100 Ninguno</td><td>⋯</td><td>81</td><td>120</td><td>3</td><td> 86</td><td>87</td><td>PUBLICAR</td><td>49.35806</td><td>NSE2</td><td>18</td><td>FALSE</td></tr>\n",
       "\t<tr><td>CC</td><td>1 COLOMBIA</td><td>M</td><td>1984-10-18</td><td>20164</td><td>EK201640014911</td><td>ESTUDIANTE</td><td>SOLTERO    </td><td>FALSE</td><td>NA         </td><td>⋯</td><td>83</td><td>151</td><td>4</td><td>100</td><td>99</td><td>PUBLICAR</td><td>60.00939</td><td>NSE4</td><td>31</td><td>TRUE</td></tr>\n",
       "\t<tr><td>CC</td><td>1 COLOMBIA</td><td>M</td><td>1997-10-27</td><td>20164</td><td>EK201640002398</td><td>ESTUDIANTE</td><td>SOLTERO    </td><td>FALSE</td><td>NA         </td><td>⋯</td><td>27</td><td> 83</td><td>2</td><td> 22</td><td>23</td><td>PUBLICAR</td><td>57.56484</td><td>NSE3</td><td>18</td><td>FALSE</td></tr>\n",
       "\t<tr><td>CC</td><td>1 COLOMBIA</td><td>M</td><td>1995-07-17</td><td>20164</td><td>EK201640019236</td><td>ESTUDIANTE</td><td>SOLTERO    </td><td>FALSE</td><td>NA         </td><td>⋯</td><td>45</td><td> 97</td><td>2</td><td> 35</td><td>35</td><td>PUBLICAR</td><td>58.47617</td><td>NSE3</td><td>21</td><td>FALSE</td></tr>\n",
       "\t<tr><td>CC</td><td>1 COLOMBIA</td><td>M</td><td>1965-08-11</td><td>20164</td><td>EK201640027307</td><td>ESTUDIANTE</td><td>UNIÓN LIBRE</td><td>FALSE</td><td>NA         </td><td>⋯</td><td>89</td><td>102</td><td>3</td><td> 52</td><td>48</td><td>PUBLICAR</td><td>      NA</td><td>NA  </td><td>51</td><td>TRUE</td></tr>\n",
       "\t<tr><td>CC</td><td>1 COLOMBIA</td><td>F</td><td>1993-01-23</td><td>20164</td><td>EK201640013986</td><td>ESTUDIANTE</td><td>SOLTERO    </td><td>FALSE</td><td>NA         </td><td>⋯</td><td>36</td><td>110</td><td>3</td><td> 73</td><td>70</td><td>PUBLICAR</td><td>45.47826</td><td>NSE1</td><td>23</td><td>FALSE</td></tr>\n",
       "\t<tr><td>CC</td><td>1 COLOMBIA</td><td>F</td><td>1996-03-16</td><td>20164</td><td>EK201640014683</td><td>ESTUDIANTE</td><td>SOLTERO    </td><td>FALSE</td><td>NA         </td><td>⋯</td><td>86</td><td>103</td><td>3</td><td> 54</td><td>50</td><td>PUBLICAR</td><td>59.37988</td><td>NSE4</td><td>20</td><td>TRUE</td></tr>\n",
       "\t<tr><td>CC</td><td>1 COLOMBIA</td><td>M</td><td>1983-10-11</td><td>20164</td><td>EK201640005781</td><td>ESTUDIANTE</td><td>CASADO     </td><td>FALSE</td><td>NA         </td><td>⋯</td><td>60</td><td>100</td><td>2</td><td> 49</td><td>49</td><td>PUBLICAR</td><td>40.61375</td><td>NSE1</td><td>32</td><td>FALSE</td></tr>\n",
       "\t<tr><td>CC</td><td>1 COLOMBIA</td><td>F</td><td>1988-10-19</td><td>20164</td><td>EK201640035572</td><td>ESTUDIANTE</td><td>SOLTERO    </td><td>FALSE</td><td>NA         </td><td>⋯</td><td>30</td><td>127</td><td>4</td><td> 95</td><td>95</td><td>PUBLICAR</td><td>50.84579</td><td>NSE2</td><td>27</td><td>FALSE</td></tr>\n",
       "\t<tr><td>CC</td><td>1 COLOMBIA</td><td>M</td><td>1993-11-13</td><td>20164</td><td>EK201640016125</td><td>ESTUDIANTE</td><td>SOLTERO    </td><td>FALSE</td><td>NA         </td><td>⋯</td><td>72</td><td> 79</td><td>1</td><td> 17</td><td>21</td><td>PUBLICAR</td><td>36.51019</td><td>NSE1</td><td>22</td><td>FALSE</td></tr>\n",
       "\t<tr><td>CC</td><td>1 COLOMBIA</td><td>M</td><td>1993-09-10</td><td>20164</td><td>EK201640005428</td><td>ESTUDIANTE</td><td>SOLTERO    </td><td>FALSE</td><td>NA         </td><td>⋯</td><td>68</td><td>104</td><td>3</td><td> 56</td><td>62</td><td>PUBLICAR</td><td>38.98832</td><td>NSE1</td><td>23</td><td>FALSE</td></tr>\n",
       "\t<tr><td>CC</td><td>1 COLOMBIA</td><td>M</td><td>1983-05-12</td><td>20164</td><td>EK201640017673</td><td>ESTUDIANTE</td><td>CASADO     </td><td>FALSE</td><td>NA         </td><td>⋯</td><td>31</td><td> 83</td><td>2</td><td> 21</td><td>21</td><td>PUBLICAR</td><td>40.90001</td><td>NSE1</td><td>33</td><td>FALSE</td></tr>\n",
       "\t<tr><td>CC</td><td>1 COLOMBIA</td><td>M</td><td>1994-01-08</td><td>20164</td><td>EK201640012284</td><td>ESTUDIANTE</td><td>SOLTERO    </td><td>FALSE</td><td>NA         </td><td>⋯</td><td>85</td><td>126</td><td>4</td><td> 93</td><td>96</td><td>PUBLICAR</td><td>29.50433</td><td>NSE1</td><td>22</td><td>FALSE</td></tr>\n",
       "\t<tr><td>CC</td><td>1 COLOMBIA</td><td>M</td><td>1994-02-12</td><td>20164</td><td>EK201640007449</td><td>ESTUDIANTE</td><td>SOLTERO    </td><td>FALSE</td><td>NA         </td><td>⋯</td><td>76</td><td> 86</td><td>2</td><td> 29</td><td>34</td><td>PUBLICAR</td><td>41.27336</td><td>NSE1</td><td>22</td><td>FALSE</td></tr>\n",
       "\t<tr><td>CC</td><td>1 COLOMBIA</td><td>F</td><td>1980-09-01</td><td>20164</td><td>EK201640029555</td><td>ESTUDIANTE</td><td>SOLTERO    </td><td>FALSE</td><td>NA         </td><td>⋯</td><td>48</td><td>106</td><td>3</td><td> 66</td><td>62</td><td>PUBLICAR</td><td>52.12639</td><td>NSE2</td><td>36</td><td>FALSE</td></tr>\n",
       "\t<tr><td>TI</td><td>1 COLOMBIA</td><td>F</td><td>1999-01-26</td><td>20164</td><td>EK201640019263</td><td>ESTUDIANTE</td><td>SOLTERO    </td><td>FALSE</td><td>NA         </td><td>⋯</td><td>35</td><td>105</td><td>3</td><td> 62</td><td>58</td><td>PUBLICAR</td><td>54.18112</td><td>NSE2</td><td>17</td><td>FALSE</td></tr>\n",
       "\t<tr><td>CC</td><td>1 COLOMBIA</td><td>F</td><td>1995-04-03</td><td>20164</td><td>EK201640028894</td><td>ESTUDIANTE</td><td>SOLTERO    </td><td>FALSE</td><td>NA         </td><td>⋯</td><td>58</td><td> 99</td><td>2</td><td> 42</td><td>39</td><td>PUBLICAR</td><td>63.16856</td><td>NSE4</td><td>21</td><td>FALSE</td></tr>\n",
       "\t<tr><td>CC</td><td>1 COLOMBIA</td><td>F</td><td>1992-09-23</td><td>20164</td><td>EK201640038187</td><td>ESTUDIANTE</td><td>CASADO     </td><td>FALSE</td><td>NA         </td><td>⋯</td><td>12</td><td>104</td><td>3</td><td> 60</td><td>60</td><td>PUBLICAR</td><td>49.44874</td><td>NSE2</td><td>24</td><td>FALSE</td></tr>\n",
       "\t<tr><td>CC</td><td>1 COLOMBIA</td><td>F</td><td>1993-08-08</td><td>20164</td><td>EK201640028017</td><td>ESTUDIANTE</td><td>SOLTERO    </td><td>FALSE</td><td>NA         </td><td>⋯</td><td>20</td><td>104</td><td>3</td><td> 56</td><td>57</td><td>PUBLICAR</td><td>43.10047</td><td>NSE1</td><td>23</td><td>FALSE</td></tr>\n",
       "\t<tr><td>CC</td><td>1 COLOMBIA</td><td>M</td><td>1981-10-14</td><td>20164</td><td>EK201640008378</td><td>ESTUDIANTE</td><td>CASADO     </td><td>FALSE</td><td>NA         </td><td>⋯</td><td>33</td><td> 88</td><td>2</td><td> 31</td><td>32</td><td>PUBLICAR</td><td>55.88203</td><td>NSE3</td><td>34</td><td>FALSE</td></tr>\n",
       "\t<tr><td>CC</td><td>1 COLOMBIA</td><td>F</td><td>1986-08-09</td><td>20164</td><td>EK201640024984</td><td>ESTUDIANTE</td><td>SOLTERO    </td><td>FALSE</td><td>NA         </td><td>⋯</td><td>59</td><td> 79</td><td>1</td><td> 17</td><td>17</td><td>PUBLICAR</td><td>34.65459</td><td>NSE1</td><td>30</td><td>FALSE</td></tr>\n",
       "\t<tr><td>CC</td><td>1 COLOMBIA</td><td>M</td><td>1995-08-10</td><td>20164</td><td>EK201640017927</td><td>ESTUDIANTE</td><td>SOLTERO    </td><td>FALSE</td><td>NA         </td><td>⋯</td><td>77</td><td> 79</td><td>1</td><td> 17</td><td>18</td><td>PUBLICAR</td><td>58.50796</td><td>NSE3</td><td>21</td><td>TRUE</td></tr>\n",
       "\t<tr><td>CC</td><td>1 COLOMBIA</td><td>M</td><td>1992-01-22</td><td>20164</td><td>EK201640005823</td><td>ESTUDIANTE</td><td>SOLTERO    </td><td>FALSE</td><td>NA         </td><td>⋯</td><td>56</td><td>104</td><td>3</td><td> 57</td><td>63</td><td>PUBLICAR</td><td>45.34484</td><td>NSE1</td><td>24</td><td>FALSE</td></tr>\n",
       "\t<tr><td>CC</td><td>1 COLOMBIA</td><td>M</td><td>1992-07-07</td><td>20164</td><td>EK201640005164</td><td>ESTUDIANTE</td><td>SOLTERO    </td><td>FALSE</td><td>NA         </td><td>⋯</td><td>68</td><td> 75</td><td>1</td><td> 12</td><td>15</td><td>PUBLICAR</td><td>39.95549</td><td>NSE1</td><td>24</td><td>FALSE</td></tr>\n",
       "\t<tr><td>CC</td><td>1 COLOMBIA</td><td>M</td><td>1988-09-07</td><td>20164</td><td>EK201640001818</td><td>ESTUDIANTE</td><td>UNIÓN LIBRE</td><td>FALSE</td><td>NA         </td><td>⋯</td><td>39</td><td> 60</td><td>1</td><td>  2</td><td> 2</td><td>PUBLICAR</td><td>60.76680</td><td>NSE4</td><td>28</td><td>FALSE</td></tr>\n",
       "\t<tr><td>CC</td><td>1 COLOMBIA</td><td>F</td><td>1994-02-02</td><td>20164</td><td>EK201640011583</td><td>ESTUDIANTE</td><td>SOLTERO    </td><td>FALSE</td><td>NA         </td><td>⋯</td><td>63</td><td>122</td><td>4</td><td> 88</td><td>89</td><td>PUBLICAR</td><td>69.01630</td><td>NSE4</td><td>22</td><td>FALSE</td></tr>\n",
       "\t<tr><td>CC</td><td>1 COLOMBIA</td><td>M</td><td>1988-02-15</td><td>20164</td><td>EK201640024848</td><td>ESTUDIANTE</td><td>SOLTERO    </td><td>FALSE</td><td>NA         </td><td>⋯</td><td> 3</td><td>118</td><td>3</td><td> 80</td><td>80</td><td>PUBLICAR</td><td>41.91418</td><td>NSE1</td><td>28</td><td>FALSE</td></tr>\n",
       "</tbody>\n",
       "</table>\n"
      ],
      "text/latex": [
       "A data.table: 52665 × 37\n",
       "\\begin{tabular}{lllllllllllllllllllll}\n",
       " ESTU\\_TIPODOCUMENTO & ESTU\\_NACIONALIDAD & ESTU\\_GENERO & ESTU\\_FECHANACIMIENTO & PERIODO & ESTU\\_CONSECUTIVO & ESTU\\_ESTUDIANTE & ESTU\\_ESTADOCIVIL & ESTU\\_TIENE\\_ETNIA & ESTU\\_ETNIA & ⋯ & MOD\\_INGLES\\_PGREF & MOD\\_COMUNI\\_ESCRITA\\_PUNT & MOD\\_COMUNI\\_ESCRITA\\_DESEM & MOD\\_COMUNI\\_ESCRITA\\_PNAL & MOD\\_COMUNI\\_ESCRITA\\_PGREF & ESTU\\_ESTADO & INSE & NSE & ESTU\\_EDAD & ESTU\\_ALCANZA\\_COMPETENCIA\\_INGLES\\\\\n",
       " <fct> & <fct> & <fct> & <date> & <fct> & <fct> & <fct> & <fct> & <lgl> & <fct> & ⋯ & <int> & <int> & <fct> & <int> & <int> & <fct> & <dbl> & <fct> & <int> & <list>\\\\\n",
       "\\hline\n",
       "\t CC & 1 COLOMBIA & M & 1990-08-15 & 20164 & EK201640024941 & ESTUDIANTE & UNIÓN LIBRE & FALSE & NA                               & ⋯ &  59 & 121 & 4 & 87 & 85 & PUBLICAR & 57.14241 & NSE3 & 26 & FALSE\\\\\n",
       "\t CC & 1 COLOMBIA & M & 1990-09-26 & 20164 & EK201640012159 & ESTUDIANTE & SOLTERO     &    NA & NA                               & ⋯ &  74 & 123 & 4 & 89 & 87 & PUBLICAR & 65.76637 & NSE4 & 26 & FALSE\\\\\n",
       "\t CC & 1 COLOMBIA & F & 1994-10-28 & 20164 & EK201640041435 & ESTUDIANTE & SOLTERO     & FALSE & NA                               & ⋯ &  98 &  99 & 2 & 43 & 44 & PUBLICAR & 47.68200 & NSE2 & 21 & TRUE\\\\\n",
       "\t CC & 1 COLOMBIA & F & 1979-09-24 & 20164 & EK201640003654 & ESTUDIANTE & UNIÓN LIBRE & FALSE & NA                               & ⋯ &  30 &  75 & 1 & 13 & 11 & PUBLICAR & 55.56398 & NSE3 & 37 & FALSE\\\\\n",
       "\t CC & 1 COLOMBIA & M & 1988-07-06 & 20164 & EK201640018456 & ESTUDIANTE & SOLTERO     & FALSE & NA                               & ⋯ &  19 &  86 & 2 & 29 & 34 & PUBLICAR & 27.01330 & NSE1 & 28 & FALSE\\\\\n",
       "\t CC & 1 COLOMBIA & M & 1992-12-31 & 20164 & EK201640035645 & ESTUDIANTE & SOLTERO     & FALSE & NA                               & ⋯ &  81 & 105 & 3 & 63 & 63 & PUBLICAR & 50.76707 & NSE2 & 23 & FALSE\\\\\n",
       "\t CC & 1 COLOMBIA & F & 1975-04-19 & 20164 & EK201640031656 & ESTUDIANTE & UNIÓN LIBRE &  TRUE & 19 Otro grupo étnico minoritario & ⋯ &  14 &  99 & 2 & 43 & 43 & PUBLICAR & 45.54980 & NSE1 & 41 & FALSE\\\\\n",
       "\t CC & 1 COLOMBIA & M & 1995-04-01 & 20164 & EK201640018226 & ESTUDIANTE & SOLTERO     &    NA & NA                               & ⋯ &  21 &  84 & 2 & 22 & 22 & PUBLICAR & 55.05894 & NSE2 & 21 & FALSE\\\\\n",
       "\t CC & 1 COLOMBIA & M & 1988-12-20 & 20164 & EK201640020916 & ESTUDIANTE & SOLTERO     & FALSE & NA                               & ⋯ &  26 & 118 & 3 & 81 & 79 & PUBLICAR & 60.17477 & NSE4 & 27 & FALSE\\\\\n",
       "\t CC & 1 COLOMBIA & F & 1997-12-30 & 20164 & EK201640025179 & ESTUDIANTE & SOLTERO     & FALSE & NA                               & ⋯ &  94 & 127 & 4 & 94 & 93 & PUBLICAR & 48.95934 & NSE2 & 18 & TRUE\\\\\n",
       "\t CC & 1 COLOMBIA & M & 1977-03-05 & 20164 & EK201640024939 & ESTUDIANTE & CASADO      & FALSE & NA                               & ⋯ &  71 & 104 & 3 & 58 & 55 & PUBLICAR & 48.77295 & NSE2 & 39 & FALSE\\\\\n",
       "\t CC & 1 COLOMBIA & F & 1986-01-21 & 20164 & EK201640019567 & ESTUDIANTE & SOLTERO     & FALSE & NA                               & ⋯ &   2 &  87 & 2 & 30 & 30 & PUBLICAR & 47.26551 & NSE2 & 30 & FALSE\\\\\n",
       "\t CC & 1 COLOMBIA & F & 1989-11-11 & 20164 & EK201640034881 & ESTUDIANTE & SOLTERO     &    NA & NA                               & ⋯ &  49 & 108 & 3 & 71 & 68 & PUBLICAR & 48.31694 & NSE2 & 26 & FALSE\\\\\n",
       "\t CC & 1 COLOMBIA & F & 1995-06-06 & 20164 & EK201640022299 & ESTUDIANTE & SOLTERO     & FALSE & NA                               & ⋯ &  84 & 115 & 3 & 75 & 72 & PUBLICAR & 35.79830 & NSE1 & 21 & FALSE\\\\\n",
       "\t CC & 1 COLOMBIA & M & 1985-11-09 & 20164 & EK201640022060 & ESTUDIANTE & CASADO      & FALSE & NA                               & ⋯ &  81 & 107 & 3 & 70 & 75 & PUBLICAR & 52.17062 & NSE2 & 30 & FALSE\\\\\n",
       "\t CC & 1 COLOMBIA & F & 1992-04-20 & 20164 & EK201640035927 & ESTUDIANTE & SOLTERO     & FALSE & NA                               & ⋯ &  49 &  85 & 2 & 26 & 27 & PUBLICAR & 39.70657 & NSE1 & 24 & FALSE\\\\\n",
       "\t CC & 1 COLOMBIA & F & 1995-07-05 & 20164 & EK201640015538 & ESTUDIANTE & SOLTERO     &  TRUE & 1 Comunidad afrodescendiente     & ⋯ &  21 & 107 & 3 & 70 & 72 & PUBLICAR & 65.68092 & NSE4 & 21 & FALSE\\\\\n",
       "\t CC & 1 COLOMBIA & M & 1973-06-08 & 20164 & EK201640015754 & ESTUDIANTE & CASADO      & FALSE & NA                               & ⋯ &  50 &  74 & 1 & 12 & 13 & PUBLICAR & 61.84396 & NSE4 & 43 & FALSE\\\\\n",
       "\t CC & 1 COLOMBIA & M & 1996-01-29 & 20164 & EK201640019267 & ESTUDIANTE & SOLTERO     & FALSE & NA                               & ⋯ &   9 & 110 & 3 & 73 & 70 & PUBLICAR & 41.84544 & NSE1 & 20 & FALSE\\\\\n",
       "\t CC & 1 COLOMBIA & M & 1991-01-03 & 20164 & EK201640020311 & ESTUDIANTE & SOLTERO     & FALSE & NA                               & ⋯ &   1 &  85 & 2 & 27 & 32 & PUBLICAR & 45.51286 & NSE1 & 25 & FALSE\\\\\n",
       "\t CC & 1 COLOMBIA & F & 1990-05-15 & 20164 & EK201640003286 & ESTUDIANTE & UNIÓN LIBRE & FALSE & NA                               & ⋯ &  73 & 100 & 2 & 48 & 44 & PUBLICAR & 45.74596 & NSE2 & 26 & FALSE\\\\\n",
       "\t CC & 1 COLOMBIA & M & 1990-08-12 & 20164 & EK201640014656 & ESTUDIANTE & SOLTERO     & FALSE & NA                               & ⋯ &  79 & 104 & 3 & 55 & 51 & PUBLICAR & 67.44420 & NSE4 & 26 & TRUE\\\\\n",
       "\t CC & 1 COLOMBIA & M & 1996-07-29 & 20164 & EK201640036254 & ESTUDIANTE & SOLTERO     & FALSE & NA                               & ⋯ & 100 &  86 & 2 & 30 & 35 & PUBLICAR & 66.06796 & NSE4 & 20 & TRUE\\\\\n",
       "\t TI & 1 COLOMBIA & F & 1999-04-29 & 20164 & EK201640038644 & ESTUDIANTE & SOLTERO     & FALSE & NA                               & ⋯ &  80 & 103 & 3 & 54 & 62 & PUBLICAR & 45.49249 & NSE1 & 17 & FALSE\\\\\n",
       "\t CC & 1 COLOMBIA & M & 1994-10-14 & 20164 & EK201640008561 & ESTUDIANTE & SOLTERO     &    NA & NA                               & ⋯ &   2 &  96 & 2 & 34 & 30 & PUBLICAR & 38.80205 & NSE1 & 21 & FALSE\\\\\n",
       "\t CC & 1 COLOMBIA & F & 1993-01-24 & 20164 & EK201640025582 & ESTUDIANTE & SOLTERO     & FALSE & NA                               & ⋯ &  34 &  85 & 2 & 27 & 26 & PUBLICAR & 49.26491 & NSE2 & 23 & FALSE\\\\\n",
       "\t CC & 1 COLOMBIA & M & 1994-08-23 & 20164 & EK201640024375 & ESTUDIANTE & SOLTERO     & FALSE & NA                               & ⋯ &  54 & 106 & 3 & 66 & 72 & PUBLICAR & 35.89268 & NSE1 & 22 & FALSE\\\\\n",
       "\t CC & 1 COLOMBIA & F & 1994-02-15 & 20164 & EK201640037272 & ESTUDIANTE & SOLTERO     & FALSE & NA                               & ⋯ &   9 &  57 & 1 &  1 &  1 & PUBLICAR & 52.95712 & NSE2 & 22 & FALSE\\\\\n",
       "\t CC & 1 COLOMBIA & M & 1995-05-12 & 20164 & EK201640024654 & ESTUDIANTE & SOLTERO     & FALSE & NA                               & ⋯ & 100 &  62 & 1 &  3 &  3 & PUBLICAR & 67.39774 & NSE4 & 21 & TRUE\\\\\n",
       "\t CC & 1 COLOMBIA & M & 1997-07-13 & 20164 & EK201640038440 & ESTUDIANTE & SOLTERO     & FALSE & NA                               & ⋯ &   5 &  87 & 2 & 30 & 26 & PUBLICAR & 53.40542 & NSE2 & 19 & FALSE\\\\\n",
       "\t ⋮ & ⋮ & ⋮ & ⋮ & ⋮ & ⋮ & ⋮ & ⋮ & ⋮ & ⋮ & ⋱ & ⋮ & ⋮ & ⋮ & ⋮ & ⋮ & ⋮ & ⋮ & ⋮ & ⋮ & ⋮\\\\\n",
       "\t CC & 1 COLOMBIA & F & 1993-12-10 & 20164 & EK201640009311 & ESTUDIANTE & SOLTERO     & FALSE & NA          & ⋯ & 94 & 108 & 3 &  71 & 68 & PUBLICAR & 62.11897 & NSE4 & 22 & TRUE\\\\\n",
       "\t CC & 1 COLOMBIA & M & 1994-10-30 & 20164 & EK201640017032 & ESTUDIANTE & SOLTERO     & FALSE & NA          & ⋯ & 86 &  99 & 2 &  42 & 38 & PUBLICAR & 74.18563 & NSE4 & 21 & TRUE\\\\\n",
       "\t CC & 1 COLOMBIA & M & 1996-05-04 & 20164 & EK201640004573 & ESTUDIANTE & UNIÓN LIBRE & FALSE & NA          & ⋯ & 99 & 142 & 4 &  98 & 99 & PUBLICAR & 45.45835 & NSE1 & 20 & TRUE\\\\\n",
       "\t TI & 1 COLOMBIA & M & 1997-12-06 & 20164 & EK201640009827 & ESTUDIANTE & SOLTERO     &  TRUE & 100 Ninguno & ⋯ & 81 & 120 & 3 &  86 & 87 & PUBLICAR & 49.35806 & NSE2 & 18 & FALSE\\\\\n",
       "\t CC & 1 COLOMBIA & M & 1984-10-18 & 20164 & EK201640014911 & ESTUDIANTE & SOLTERO     & FALSE & NA          & ⋯ & 83 & 151 & 4 & 100 & 99 & PUBLICAR & 60.00939 & NSE4 & 31 & TRUE\\\\\n",
       "\t CC & 1 COLOMBIA & M & 1997-10-27 & 20164 & EK201640002398 & ESTUDIANTE & SOLTERO     & FALSE & NA          & ⋯ & 27 &  83 & 2 &  22 & 23 & PUBLICAR & 57.56484 & NSE3 & 18 & FALSE\\\\\n",
       "\t CC & 1 COLOMBIA & M & 1995-07-17 & 20164 & EK201640019236 & ESTUDIANTE & SOLTERO     & FALSE & NA          & ⋯ & 45 &  97 & 2 &  35 & 35 & PUBLICAR & 58.47617 & NSE3 & 21 & FALSE\\\\\n",
       "\t CC & 1 COLOMBIA & M & 1965-08-11 & 20164 & EK201640027307 & ESTUDIANTE & UNIÓN LIBRE & FALSE & NA          & ⋯ & 89 & 102 & 3 &  52 & 48 & PUBLICAR &       NA & NA   & 51 & TRUE\\\\\n",
       "\t CC & 1 COLOMBIA & F & 1993-01-23 & 20164 & EK201640013986 & ESTUDIANTE & SOLTERO     & FALSE & NA          & ⋯ & 36 & 110 & 3 &  73 & 70 & PUBLICAR & 45.47826 & NSE1 & 23 & FALSE\\\\\n",
       "\t CC & 1 COLOMBIA & F & 1996-03-16 & 20164 & EK201640014683 & ESTUDIANTE & SOLTERO     & FALSE & NA          & ⋯ & 86 & 103 & 3 &  54 & 50 & PUBLICAR & 59.37988 & NSE4 & 20 & TRUE\\\\\n",
       "\t CC & 1 COLOMBIA & M & 1983-10-11 & 20164 & EK201640005781 & ESTUDIANTE & CASADO      & FALSE & NA          & ⋯ & 60 & 100 & 2 &  49 & 49 & PUBLICAR & 40.61375 & NSE1 & 32 & FALSE\\\\\n",
       "\t CC & 1 COLOMBIA & F & 1988-10-19 & 20164 & EK201640035572 & ESTUDIANTE & SOLTERO     & FALSE & NA          & ⋯ & 30 & 127 & 4 &  95 & 95 & PUBLICAR & 50.84579 & NSE2 & 27 & FALSE\\\\\n",
       "\t CC & 1 COLOMBIA & M & 1993-11-13 & 20164 & EK201640016125 & ESTUDIANTE & SOLTERO     & FALSE & NA          & ⋯ & 72 &  79 & 1 &  17 & 21 & PUBLICAR & 36.51019 & NSE1 & 22 & FALSE\\\\\n",
       "\t CC & 1 COLOMBIA & M & 1993-09-10 & 20164 & EK201640005428 & ESTUDIANTE & SOLTERO     & FALSE & NA          & ⋯ & 68 & 104 & 3 &  56 & 62 & PUBLICAR & 38.98832 & NSE1 & 23 & FALSE\\\\\n",
       "\t CC & 1 COLOMBIA & M & 1983-05-12 & 20164 & EK201640017673 & ESTUDIANTE & CASADO      & FALSE & NA          & ⋯ & 31 &  83 & 2 &  21 & 21 & PUBLICAR & 40.90001 & NSE1 & 33 & FALSE\\\\\n",
       "\t CC & 1 COLOMBIA & M & 1994-01-08 & 20164 & EK201640012284 & ESTUDIANTE & SOLTERO     & FALSE & NA          & ⋯ & 85 & 126 & 4 &  93 & 96 & PUBLICAR & 29.50433 & NSE1 & 22 & FALSE\\\\\n",
       "\t CC & 1 COLOMBIA & M & 1994-02-12 & 20164 & EK201640007449 & ESTUDIANTE & SOLTERO     & FALSE & NA          & ⋯ & 76 &  86 & 2 &  29 & 34 & PUBLICAR & 41.27336 & NSE1 & 22 & FALSE\\\\\n",
       "\t CC & 1 COLOMBIA & F & 1980-09-01 & 20164 & EK201640029555 & ESTUDIANTE & SOLTERO     & FALSE & NA          & ⋯ & 48 & 106 & 3 &  66 & 62 & PUBLICAR & 52.12639 & NSE2 & 36 & FALSE\\\\\n",
       "\t TI & 1 COLOMBIA & F & 1999-01-26 & 20164 & EK201640019263 & ESTUDIANTE & SOLTERO     & FALSE & NA          & ⋯ & 35 & 105 & 3 &  62 & 58 & PUBLICAR & 54.18112 & NSE2 & 17 & FALSE\\\\\n",
       "\t CC & 1 COLOMBIA & F & 1995-04-03 & 20164 & EK201640028894 & ESTUDIANTE & SOLTERO     & FALSE & NA          & ⋯ & 58 &  99 & 2 &  42 & 39 & PUBLICAR & 63.16856 & NSE4 & 21 & FALSE\\\\\n",
       "\t CC & 1 COLOMBIA & F & 1992-09-23 & 20164 & EK201640038187 & ESTUDIANTE & CASADO      & FALSE & NA          & ⋯ & 12 & 104 & 3 &  60 & 60 & PUBLICAR & 49.44874 & NSE2 & 24 & FALSE\\\\\n",
       "\t CC & 1 COLOMBIA & F & 1993-08-08 & 20164 & EK201640028017 & ESTUDIANTE & SOLTERO     & FALSE & NA          & ⋯ & 20 & 104 & 3 &  56 & 57 & PUBLICAR & 43.10047 & NSE1 & 23 & FALSE\\\\\n",
       "\t CC & 1 COLOMBIA & M & 1981-10-14 & 20164 & EK201640008378 & ESTUDIANTE & CASADO      & FALSE & NA          & ⋯ & 33 &  88 & 2 &  31 & 32 & PUBLICAR & 55.88203 & NSE3 & 34 & FALSE\\\\\n",
       "\t CC & 1 COLOMBIA & F & 1986-08-09 & 20164 & EK201640024984 & ESTUDIANTE & SOLTERO     & FALSE & NA          & ⋯ & 59 &  79 & 1 &  17 & 17 & PUBLICAR & 34.65459 & NSE1 & 30 & FALSE\\\\\n",
       "\t CC & 1 COLOMBIA & M & 1995-08-10 & 20164 & EK201640017927 & ESTUDIANTE & SOLTERO     & FALSE & NA          & ⋯ & 77 &  79 & 1 &  17 & 18 & PUBLICAR & 58.50796 & NSE3 & 21 & TRUE\\\\\n",
       "\t CC & 1 COLOMBIA & M & 1992-01-22 & 20164 & EK201640005823 & ESTUDIANTE & SOLTERO     & FALSE & NA          & ⋯ & 56 & 104 & 3 &  57 & 63 & PUBLICAR & 45.34484 & NSE1 & 24 & FALSE\\\\\n",
       "\t CC & 1 COLOMBIA & M & 1992-07-07 & 20164 & EK201640005164 & ESTUDIANTE & SOLTERO     & FALSE & NA          & ⋯ & 68 &  75 & 1 &  12 & 15 & PUBLICAR & 39.95549 & NSE1 & 24 & FALSE\\\\\n",
       "\t CC & 1 COLOMBIA & M & 1988-09-07 & 20164 & EK201640001818 & ESTUDIANTE & UNIÓN LIBRE & FALSE & NA          & ⋯ & 39 &  60 & 1 &   2 &  2 & PUBLICAR & 60.76680 & NSE4 & 28 & FALSE\\\\\n",
       "\t CC & 1 COLOMBIA & F & 1994-02-02 & 20164 & EK201640011583 & ESTUDIANTE & SOLTERO     & FALSE & NA          & ⋯ & 63 & 122 & 4 &  88 & 89 & PUBLICAR & 69.01630 & NSE4 & 22 & FALSE\\\\\n",
       "\t CC & 1 COLOMBIA & M & 1988-02-15 & 20164 & EK201640024848 & ESTUDIANTE & SOLTERO     & FALSE & NA          & ⋯ &  3 & 118 & 3 &  80 & 80 & PUBLICAR & 41.91418 & NSE1 & 28 & FALSE\\\\\n",
       "\\end{tabular}\n"
      ],
      "text/markdown": [
       "\n",
       "A data.table: 52665 × 37\n",
       "\n",
       "| ESTU_TIPODOCUMENTO &lt;fct&gt; | ESTU_NACIONALIDAD &lt;fct&gt; | ESTU_GENERO &lt;fct&gt; | ESTU_FECHANACIMIENTO &lt;date&gt; | PERIODO &lt;fct&gt; | ESTU_CONSECUTIVO &lt;fct&gt; | ESTU_ESTUDIANTE &lt;fct&gt; | ESTU_ESTADOCIVIL &lt;fct&gt; | ESTU_TIENE_ETNIA &lt;lgl&gt; | ESTU_ETNIA &lt;fct&gt; | ⋯ ⋯ | MOD_INGLES_PGREF &lt;int&gt; | MOD_COMUNI_ESCRITA_PUNT &lt;int&gt; | MOD_COMUNI_ESCRITA_DESEM &lt;fct&gt; | MOD_COMUNI_ESCRITA_PNAL &lt;int&gt; | MOD_COMUNI_ESCRITA_PGREF &lt;int&gt; | ESTU_ESTADO &lt;fct&gt; | INSE &lt;dbl&gt; | NSE &lt;fct&gt; | ESTU_EDAD &lt;int&gt; | ESTU_ALCANZA_COMPETENCIA_INGLES &lt;list&gt; |\n",
       "|---|---|---|---|---|---|---|---|---|---|---|---|---|---|---|---|---|---|---|---|---|\n",
       "| CC | 1 COLOMBIA | M | 1990-08-15 | 20164 | EK201640024941 | ESTUDIANTE | UNIÓN LIBRE | FALSE | NA                               | ⋯ |  59 | 121 | 4 | 87 | 85 | PUBLICAR | 57.14241 | NSE3 | 26 | FALSE |\n",
       "| CC | 1 COLOMBIA | M | 1990-09-26 | 20164 | EK201640012159 | ESTUDIANTE | SOLTERO     |    NA | NA                               | ⋯ |  74 | 123 | 4 | 89 | 87 | PUBLICAR | 65.76637 | NSE4 | 26 | FALSE |\n",
       "| CC | 1 COLOMBIA | F | 1994-10-28 | 20164 | EK201640041435 | ESTUDIANTE | SOLTERO     | FALSE | NA                               | ⋯ |  98 |  99 | 2 | 43 | 44 | PUBLICAR | 47.68200 | NSE2 | 21 | TRUE |\n",
       "| CC | 1 COLOMBIA | F | 1979-09-24 | 20164 | EK201640003654 | ESTUDIANTE | UNIÓN LIBRE | FALSE | NA                               | ⋯ |  30 |  75 | 1 | 13 | 11 | PUBLICAR | 55.56398 | NSE3 | 37 | FALSE |\n",
       "| CC | 1 COLOMBIA | M | 1988-07-06 | 20164 | EK201640018456 | ESTUDIANTE | SOLTERO     | FALSE | NA                               | ⋯ |  19 |  86 | 2 | 29 | 34 | PUBLICAR | 27.01330 | NSE1 | 28 | FALSE |\n",
       "| CC | 1 COLOMBIA | M | 1992-12-31 | 20164 | EK201640035645 | ESTUDIANTE | SOLTERO     | FALSE | NA                               | ⋯ |  81 | 105 | 3 | 63 | 63 | PUBLICAR | 50.76707 | NSE2 | 23 | FALSE |\n",
       "| CC | 1 COLOMBIA | F | 1975-04-19 | 20164 | EK201640031656 | ESTUDIANTE | UNIÓN LIBRE |  TRUE | 19 Otro grupo étnico minoritario | ⋯ |  14 |  99 | 2 | 43 | 43 | PUBLICAR | 45.54980 | NSE1 | 41 | FALSE |\n",
       "| CC | 1 COLOMBIA | M | 1995-04-01 | 20164 | EK201640018226 | ESTUDIANTE | SOLTERO     |    NA | NA                               | ⋯ |  21 |  84 | 2 | 22 | 22 | PUBLICAR | 55.05894 | NSE2 | 21 | FALSE |\n",
       "| CC | 1 COLOMBIA | M | 1988-12-20 | 20164 | EK201640020916 | ESTUDIANTE | SOLTERO     | FALSE | NA                               | ⋯ |  26 | 118 | 3 | 81 | 79 | PUBLICAR | 60.17477 | NSE4 | 27 | FALSE |\n",
       "| CC | 1 COLOMBIA | F | 1997-12-30 | 20164 | EK201640025179 | ESTUDIANTE | SOLTERO     | FALSE | NA                               | ⋯ |  94 | 127 | 4 | 94 | 93 | PUBLICAR | 48.95934 | NSE2 | 18 | TRUE |\n",
       "| CC | 1 COLOMBIA | M | 1977-03-05 | 20164 | EK201640024939 | ESTUDIANTE | CASADO      | FALSE | NA                               | ⋯ |  71 | 104 | 3 | 58 | 55 | PUBLICAR | 48.77295 | NSE2 | 39 | FALSE |\n",
       "| CC | 1 COLOMBIA | F | 1986-01-21 | 20164 | EK201640019567 | ESTUDIANTE | SOLTERO     | FALSE | NA                               | ⋯ |   2 |  87 | 2 | 30 | 30 | PUBLICAR | 47.26551 | NSE2 | 30 | FALSE |\n",
       "| CC | 1 COLOMBIA | F | 1989-11-11 | 20164 | EK201640034881 | ESTUDIANTE | SOLTERO     |    NA | NA                               | ⋯ |  49 | 108 | 3 | 71 | 68 | PUBLICAR | 48.31694 | NSE2 | 26 | FALSE |\n",
       "| CC | 1 COLOMBIA | F | 1995-06-06 | 20164 | EK201640022299 | ESTUDIANTE | SOLTERO     | FALSE | NA                               | ⋯ |  84 | 115 | 3 | 75 | 72 | PUBLICAR | 35.79830 | NSE1 | 21 | FALSE |\n",
       "| CC | 1 COLOMBIA | M | 1985-11-09 | 20164 | EK201640022060 | ESTUDIANTE | CASADO      | FALSE | NA                               | ⋯ |  81 | 107 | 3 | 70 | 75 | PUBLICAR | 52.17062 | NSE2 | 30 | FALSE |\n",
       "| CC | 1 COLOMBIA | F | 1992-04-20 | 20164 | EK201640035927 | ESTUDIANTE | SOLTERO     | FALSE | NA                               | ⋯ |  49 |  85 | 2 | 26 | 27 | PUBLICAR | 39.70657 | NSE1 | 24 | FALSE |\n",
       "| CC | 1 COLOMBIA | F | 1995-07-05 | 20164 | EK201640015538 | ESTUDIANTE | SOLTERO     |  TRUE | 1 Comunidad afrodescendiente     | ⋯ |  21 | 107 | 3 | 70 | 72 | PUBLICAR | 65.68092 | NSE4 | 21 | FALSE |\n",
       "| CC | 1 COLOMBIA | M | 1973-06-08 | 20164 | EK201640015754 | ESTUDIANTE | CASADO      | FALSE | NA                               | ⋯ |  50 |  74 | 1 | 12 | 13 | PUBLICAR | 61.84396 | NSE4 | 43 | FALSE |\n",
       "| CC | 1 COLOMBIA | M | 1996-01-29 | 20164 | EK201640019267 | ESTUDIANTE | SOLTERO     | FALSE | NA                               | ⋯ |   9 | 110 | 3 | 73 | 70 | PUBLICAR | 41.84544 | NSE1 | 20 | FALSE |\n",
       "| CC | 1 COLOMBIA | M | 1991-01-03 | 20164 | EK201640020311 | ESTUDIANTE | SOLTERO     | FALSE | NA                               | ⋯ |   1 |  85 | 2 | 27 | 32 | PUBLICAR | 45.51286 | NSE1 | 25 | FALSE |\n",
       "| CC | 1 COLOMBIA | F | 1990-05-15 | 20164 | EK201640003286 | ESTUDIANTE | UNIÓN LIBRE | FALSE | NA                               | ⋯ |  73 | 100 | 2 | 48 | 44 | PUBLICAR | 45.74596 | NSE2 | 26 | FALSE |\n",
       "| CC | 1 COLOMBIA | M | 1990-08-12 | 20164 | EK201640014656 | ESTUDIANTE | SOLTERO     | FALSE | NA                               | ⋯ |  79 | 104 | 3 | 55 | 51 | PUBLICAR | 67.44420 | NSE4 | 26 | TRUE |\n",
       "| CC | 1 COLOMBIA | M | 1996-07-29 | 20164 | EK201640036254 | ESTUDIANTE | SOLTERO     | FALSE | NA                               | ⋯ | 100 |  86 | 2 | 30 | 35 | PUBLICAR | 66.06796 | NSE4 | 20 | TRUE |\n",
       "| TI | 1 COLOMBIA | F | 1999-04-29 | 20164 | EK201640038644 | ESTUDIANTE | SOLTERO     | FALSE | NA                               | ⋯ |  80 | 103 | 3 | 54 | 62 | PUBLICAR | 45.49249 | NSE1 | 17 | FALSE |\n",
       "| CC | 1 COLOMBIA | M | 1994-10-14 | 20164 | EK201640008561 | ESTUDIANTE | SOLTERO     |    NA | NA                               | ⋯ |   2 |  96 | 2 | 34 | 30 | PUBLICAR | 38.80205 | NSE1 | 21 | FALSE |\n",
       "| CC | 1 COLOMBIA | F | 1993-01-24 | 20164 | EK201640025582 | ESTUDIANTE | SOLTERO     | FALSE | NA                               | ⋯ |  34 |  85 | 2 | 27 | 26 | PUBLICAR | 49.26491 | NSE2 | 23 | FALSE |\n",
       "| CC | 1 COLOMBIA | M | 1994-08-23 | 20164 | EK201640024375 | ESTUDIANTE | SOLTERO     | FALSE | NA                               | ⋯ |  54 | 106 | 3 | 66 | 72 | PUBLICAR | 35.89268 | NSE1 | 22 | FALSE |\n",
       "| CC | 1 COLOMBIA | F | 1994-02-15 | 20164 | EK201640037272 | ESTUDIANTE | SOLTERO     | FALSE | NA                               | ⋯ |   9 |  57 | 1 |  1 |  1 | PUBLICAR | 52.95712 | NSE2 | 22 | FALSE |\n",
       "| CC | 1 COLOMBIA | M | 1995-05-12 | 20164 | EK201640024654 | ESTUDIANTE | SOLTERO     | FALSE | NA                               | ⋯ | 100 |  62 | 1 |  3 |  3 | PUBLICAR | 67.39774 | NSE4 | 21 | TRUE |\n",
       "| CC | 1 COLOMBIA | M | 1997-07-13 | 20164 | EK201640038440 | ESTUDIANTE | SOLTERO     | FALSE | NA                               | ⋯ |   5 |  87 | 2 | 30 | 26 | PUBLICAR | 53.40542 | NSE2 | 19 | FALSE |\n",
       "| ⋮ | ⋮ | ⋮ | ⋮ | ⋮ | ⋮ | ⋮ | ⋮ | ⋮ | ⋮ | ⋱ | ⋮ | ⋮ | ⋮ | ⋮ | ⋮ | ⋮ | ⋮ | ⋮ | ⋮ | ⋮ |\n",
       "| CC | 1 COLOMBIA | F | 1993-12-10 | 20164 | EK201640009311 | ESTUDIANTE | SOLTERO     | FALSE | NA          | ⋯ | 94 | 108 | 3 |  71 | 68 | PUBLICAR | 62.11897 | NSE4 | 22 | TRUE |\n",
       "| CC | 1 COLOMBIA | M | 1994-10-30 | 20164 | EK201640017032 | ESTUDIANTE | SOLTERO     | FALSE | NA          | ⋯ | 86 |  99 | 2 |  42 | 38 | PUBLICAR | 74.18563 | NSE4 | 21 | TRUE |\n",
       "| CC | 1 COLOMBIA | M | 1996-05-04 | 20164 | EK201640004573 | ESTUDIANTE | UNIÓN LIBRE | FALSE | NA          | ⋯ | 99 | 142 | 4 |  98 | 99 | PUBLICAR | 45.45835 | NSE1 | 20 | TRUE |\n",
       "| TI | 1 COLOMBIA | M | 1997-12-06 | 20164 | EK201640009827 | ESTUDIANTE | SOLTERO     |  TRUE | 100 Ninguno | ⋯ | 81 | 120 | 3 |  86 | 87 | PUBLICAR | 49.35806 | NSE2 | 18 | FALSE |\n",
       "| CC | 1 COLOMBIA | M | 1984-10-18 | 20164 | EK201640014911 | ESTUDIANTE | SOLTERO     | FALSE | NA          | ⋯ | 83 | 151 | 4 | 100 | 99 | PUBLICAR | 60.00939 | NSE4 | 31 | TRUE |\n",
       "| CC | 1 COLOMBIA | M | 1997-10-27 | 20164 | EK201640002398 | ESTUDIANTE | SOLTERO     | FALSE | NA          | ⋯ | 27 |  83 | 2 |  22 | 23 | PUBLICAR | 57.56484 | NSE3 | 18 | FALSE |\n",
       "| CC | 1 COLOMBIA | M | 1995-07-17 | 20164 | EK201640019236 | ESTUDIANTE | SOLTERO     | FALSE | NA          | ⋯ | 45 |  97 | 2 |  35 | 35 | PUBLICAR | 58.47617 | NSE3 | 21 | FALSE |\n",
       "| CC | 1 COLOMBIA | M | 1965-08-11 | 20164 | EK201640027307 | ESTUDIANTE | UNIÓN LIBRE | FALSE | NA          | ⋯ | 89 | 102 | 3 |  52 | 48 | PUBLICAR |       NA | NA   | 51 | TRUE |\n",
       "| CC | 1 COLOMBIA | F | 1993-01-23 | 20164 | EK201640013986 | ESTUDIANTE | SOLTERO     | FALSE | NA          | ⋯ | 36 | 110 | 3 |  73 | 70 | PUBLICAR | 45.47826 | NSE1 | 23 | FALSE |\n",
       "| CC | 1 COLOMBIA | F | 1996-03-16 | 20164 | EK201640014683 | ESTUDIANTE | SOLTERO     | FALSE | NA          | ⋯ | 86 | 103 | 3 |  54 | 50 | PUBLICAR | 59.37988 | NSE4 | 20 | TRUE |\n",
       "| CC | 1 COLOMBIA | M | 1983-10-11 | 20164 | EK201640005781 | ESTUDIANTE | CASADO      | FALSE | NA          | ⋯ | 60 | 100 | 2 |  49 | 49 | PUBLICAR | 40.61375 | NSE1 | 32 | FALSE |\n",
       "| CC | 1 COLOMBIA | F | 1988-10-19 | 20164 | EK201640035572 | ESTUDIANTE | SOLTERO     | FALSE | NA          | ⋯ | 30 | 127 | 4 |  95 | 95 | PUBLICAR | 50.84579 | NSE2 | 27 | FALSE |\n",
       "| CC | 1 COLOMBIA | M | 1993-11-13 | 20164 | EK201640016125 | ESTUDIANTE | SOLTERO     | FALSE | NA          | ⋯ | 72 |  79 | 1 |  17 | 21 | PUBLICAR | 36.51019 | NSE1 | 22 | FALSE |\n",
       "| CC | 1 COLOMBIA | M | 1993-09-10 | 20164 | EK201640005428 | ESTUDIANTE | SOLTERO     | FALSE | NA          | ⋯ | 68 | 104 | 3 |  56 | 62 | PUBLICAR | 38.98832 | NSE1 | 23 | FALSE |\n",
       "| CC | 1 COLOMBIA | M | 1983-05-12 | 20164 | EK201640017673 | ESTUDIANTE | CASADO      | FALSE | NA          | ⋯ | 31 |  83 | 2 |  21 | 21 | PUBLICAR | 40.90001 | NSE1 | 33 | FALSE |\n",
       "| CC | 1 COLOMBIA | M | 1994-01-08 | 20164 | EK201640012284 | ESTUDIANTE | SOLTERO     | FALSE | NA          | ⋯ | 85 | 126 | 4 |  93 | 96 | PUBLICAR | 29.50433 | NSE1 | 22 | FALSE |\n",
       "| CC | 1 COLOMBIA | M | 1994-02-12 | 20164 | EK201640007449 | ESTUDIANTE | SOLTERO     | FALSE | NA          | ⋯ | 76 |  86 | 2 |  29 | 34 | PUBLICAR | 41.27336 | NSE1 | 22 | FALSE |\n",
       "| CC | 1 COLOMBIA | F | 1980-09-01 | 20164 | EK201640029555 | ESTUDIANTE | SOLTERO     | FALSE | NA          | ⋯ | 48 | 106 | 3 |  66 | 62 | PUBLICAR | 52.12639 | NSE2 | 36 | FALSE |\n",
       "| TI | 1 COLOMBIA | F | 1999-01-26 | 20164 | EK201640019263 | ESTUDIANTE | SOLTERO     | FALSE | NA          | ⋯ | 35 | 105 | 3 |  62 | 58 | PUBLICAR | 54.18112 | NSE2 | 17 | FALSE |\n",
       "| CC | 1 COLOMBIA | F | 1995-04-03 | 20164 | EK201640028894 | ESTUDIANTE | SOLTERO     | FALSE | NA          | ⋯ | 58 |  99 | 2 |  42 | 39 | PUBLICAR | 63.16856 | NSE4 | 21 | FALSE |\n",
       "| CC | 1 COLOMBIA | F | 1992-09-23 | 20164 | EK201640038187 | ESTUDIANTE | CASADO      | FALSE | NA          | ⋯ | 12 | 104 | 3 |  60 | 60 | PUBLICAR | 49.44874 | NSE2 | 24 | FALSE |\n",
       "| CC | 1 COLOMBIA | F | 1993-08-08 | 20164 | EK201640028017 | ESTUDIANTE | SOLTERO     | FALSE | NA          | ⋯ | 20 | 104 | 3 |  56 | 57 | PUBLICAR | 43.10047 | NSE1 | 23 | FALSE |\n",
       "| CC | 1 COLOMBIA | M | 1981-10-14 | 20164 | EK201640008378 | ESTUDIANTE | CASADO      | FALSE | NA          | ⋯ | 33 |  88 | 2 |  31 | 32 | PUBLICAR | 55.88203 | NSE3 | 34 | FALSE |\n",
       "| CC | 1 COLOMBIA | F | 1986-08-09 | 20164 | EK201640024984 | ESTUDIANTE | SOLTERO     | FALSE | NA          | ⋯ | 59 |  79 | 1 |  17 | 17 | PUBLICAR | 34.65459 | NSE1 | 30 | FALSE |\n",
       "| CC | 1 COLOMBIA | M | 1995-08-10 | 20164 | EK201640017927 | ESTUDIANTE | SOLTERO     | FALSE | NA          | ⋯ | 77 |  79 | 1 |  17 | 18 | PUBLICAR | 58.50796 | NSE3 | 21 | TRUE |\n",
       "| CC | 1 COLOMBIA | M | 1992-01-22 | 20164 | EK201640005823 | ESTUDIANTE | SOLTERO     | FALSE | NA          | ⋯ | 56 | 104 | 3 |  57 | 63 | PUBLICAR | 45.34484 | NSE1 | 24 | FALSE |\n",
       "| CC | 1 COLOMBIA | M | 1992-07-07 | 20164 | EK201640005164 | ESTUDIANTE | SOLTERO     | FALSE | NA          | ⋯ | 68 |  75 | 1 |  12 | 15 | PUBLICAR | 39.95549 | NSE1 | 24 | FALSE |\n",
       "| CC | 1 COLOMBIA | M | 1988-09-07 | 20164 | EK201640001818 | ESTUDIANTE | UNIÓN LIBRE | FALSE | NA          | ⋯ | 39 |  60 | 1 |   2 |  2 | PUBLICAR | 60.76680 | NSE4 | 28 | FALSE |\n",
       "| CC | 1 COLOMBIA | F | 1994-02-02 | 20164 | EK201640011583 | ESTUDIANTE | SOLTERO     | FALSE | NA          | ⋯ | 63 | 122 | 4 |  88 | 89 | PUBLICAR | 69.01630 | NSE4 | 22 | FALSE |\n",
       "| CC | 1 COLOMBIA | M | 1988-02-15 | 20164 | EK201640024848 | ESTUDIANTE | SOLTERO     | FALSE | NA          | ⋯ |  3 | 118 | 3 |  80 | 80 | PUBLICAR | 41.91418 | NSE1 | 28 | FALSE |\n",
       "\n"
      ],
      "text/plain": [
       "      ESTU_TIPODOCUMENTO ESTU_NACIONALIDAD ESTU_GENERO ESTU_FECHANACIMIENTO\n",
       "1     CC                 1 COLOMBIA        M           1990-08-15          \n",
       "2     CC                 1 COLOMBIA        M           1990-09-26          \n",
       "3     CC                 1 COLOMBIA        F           1994-10-28          \n",
       "4     CC                 1 COLOMBIA        F           1979-09-24          \n",
       "5     CC                 1 COLOMBIA        M           1988-07-06          \n",
       "6     CC                 1 COLOMBIA        M           1992-12-31          \n",
       "7     CC                 1 COLOMBIA        F           1975-04-19          \n",
       "8     CC                 1 COLOMBIA        M           1995-04-01          \n",
       "9     CC                 1 COLOMBIA        M           1988-12-20          \n",
       "10    CC                 1 COLOMBIA        F           1997-12-30          \n",
       "11    CC                 1 COLOMBIA        M           1977-03-05          \n",
       "12    CC                 1 COLOMBIA        F           1986-01-21          \n",
       "13    CC                 1 COLOMBIA        F           1989-11-11          \n",
       "14    CC                 1 COLOMBIA        F           1995-06-06          \n",
       "15    CC                 1 COLOMBIA        M           1985-11-09          \n",
       "16    CC                 1 COLOMBIA        F           1992-04-20          \n",
       "17    CC                 1 COLOMBIA        F           1995-07-05          \n",
       "18    CC                 1 COLOMBIA        M           1973-06-08          \n",
       "19    CC                 1 COLOMBIA        M           1996-01-29          \n",
       "20    CC                 1 COLOMBIA        M           1991-01-03          \n",
       "21    CC                 1 COLOMBIA        F           1990-05-15          \n",
       "22    CC                 1 COLOMBIA        M           1990-08-12          \n",
       "23    CC                 1 COLOMBIA        M           1996-07-29          \n",
       "24    TI                 1 COLOMBIA        F           1999-04-29          \n",
       "25    CC                 1 COLOMBIA        M           1994-10-14          \n",
       "26    CC                 1 COLOMBIA        F           1993-01-24          \n",
       "27    CC                 1 COLOMBIA        M           1994-08-23          \n",
       "28    CC                 1 COLOMBIA        F           1994-02-15          \n",
       "29    CC                 1 COLOMBIA        M           1995-05-12          \n",
       "30    CC                 1 COLOMBIA        M           1997-07-13          \n",
       "⋮     ⋮                  ⋮                 ⋮           ⋮                   \n",
       "52636 CC                 1 COLOMBIA        F           1993-12-10          \n",
       "52637 CC                 1 COLOMBIA        M           1994-10-30          \n",
       "52638 CC                 1 COLOMBIA        M           1996-05-04          \n",
       "52639 TI                 1 COLOMBIA        M           1997-12-06          \n",
       "52640 CC                 1 COLOMBIA        M           1984-10-18          \n",
       "52641 CC                 1 COLOMBIA        M           1997-10-27          \n",
       "52642 CC                 1 COLOMBIA        M           1995-07-17          \n",
       "52643 CC                 1 COLOMBIA        M           1965-08-11          \n",
       "52644 CC                 1 COLOMBIA        F           1993-01-23          \n",
       "52645 CC                 1 COLOMBIA        F           1996-03-16          \n",
       "52646 CC                 1 COLOMBIA        M           1983-10-11          \n",
       "52647 CC                 1 COLOMBIA        F           1988-10-19          \n",
       "52648 CC                 1 COLOMBIA        M           1993-11-13          \n",
       "52649 CC                 1 COLOMBIA        M           1993-09-10          \n",
       "52650 CC                 1 COLOMBIA        M           1983-05-12          \n",
       "52651 CC                 1 COLOMBIA        M           1994-01-08          \n",
       "52652 CC                 1 COLOMBIA        M           1994-02-12          \n",
       "52653 CC                 1 COLOMBIA        F           1980-09-01          \n",
       "52654 TI                 1 COLOMBIA        F           1999-01-26          \n",
       "52655 CC                 1 COLOMBIA        F           1995-04-03          \n",
       "52656 CC                 1 COLOMBIA        F           1992-09-23          \n",
       "52657 CC                 1 COLOMBIA        F           1993-08-08          \n",
       "52658 CC                 1 COLOMBIA        M           1981-10-14          \n",
       "52659 CC                 1 COLOMBIA        F           1986-08-09          \n",
       "52660 CC                 1 COLOMBIA        M           1995-08-10          \n",
       "52661 CC                 1 COLOMBIA        M           1992-01-22          \n",
       "52662 CC                 1 COLOMBIA        M           1992-07-07          \n",
       "52663 CC                 1 COLOMBIA        M           1988-09-07          \n",
       "52664 CC                 1 COLOMBIA        F           1994-02-02          \n",
       "52665 CC                 1 COLOMBIA        M           1988-02-15          \n",
       "      PERIODO ESTU_CONSECUTIVO ESTU_ESTUDIANTE ESTU_ESTADOCIVIL\n",
       "1     20164   EK201640024941   ESTUDIANTE      UNIÓN LIBRE     \n",
       "2     20164   EK201640012159   ESTUDIANTE      SOLTERO         \n",
       "3     20164   EK201640041435   ESTUDIANTE      SOLTERO         \n",
       "4     20164   EK201640003654   ESTUDIANTE      UNIÓN LIBRE     \n",
       "5     20164   EK201640018456   ESTUDIANTE      SOLTERO         \n",
       "6     20164   EK201640035645   ESTUDIANTE      SOLTERO         \n",
       "7     20164   EK201640031656   ESTUDIANTE      UNIÓN LIBRE     \n",
       "8     20164   EK201640018226   ESTUDIANTE      SOLTERO         \n",
       "9     20164   EK201640020916   ESTUDIANTE      SOLTERO         \n",
       "10    20164   EK201640025179   ESTUDIANTE      SOLTERO         \n",
       "11    20164   EK201640024939   ESTUDIANTE      CASADO          \n",
       "12    20164   EK201640019567   ESTUDIANTE      SOLTERO         \n",
       "13    20164   EK201640034881   ESTUDIANTE      SOLTERO         \n",
       "14    20164   EK201640022299   ESTUDIANTE      SOLTERO         \n",
       "15    20164   EK201640022060   ESTUDIANTE      CASADO          \n",
       "16    20164   EK201640035927   ESTUDIANTE      SOLTERO         \n",
       "17    20164   EK201640015538   ESTUDIANTE      SOLTERO         \n",
       "18    20164   EK201640015754   ESTUDIANTE      CASADO          \n",
       "19    20164   EK201640019267   ESTUDIANTE      SOLTERO         \n",
       "20    20164   EK201640020311   ESTUDIANTE      SOLTERO         \n",
       "21    20164   EK201640003286   ESTUDIANTE      UNIÓN LIBRE     \n",
       "22    20164   EK201640014656   ESTUDIANTE      SOLTERO         \n",
       "23    20164   EK201640036254   ESTUDIANTE      SOLTERO         \n",
       "24    20164   EK201640038644   ESTUDIANTE      SOLTERO         \n",
       "25    20164   EK201640008561   ESTUDIANTE      SOLTERO         \n",
       "26    20164   EK201640025582   ESTUDIANTE      SOLTERO         \n",
       "27    20164   EK201640024375   ESTUDIANTE      SOLTERO         \n",
       "28    20164   EK201640037272   ESTUDIANTE      SOLTERO         \n",
       "29    20164   EK201640024654   ESTUDIANTE      SOLTERO         \n",
       "30    20164   EK201640038440   ESTUDIANTE      SOLTERO         \n",
       "⋮     ⋮       ⋮                ⋮               ⋮               \n",
       "52636 20164   EK201640009311   ESTUDIANTE      SOLTERO         \n",
       "52637 20164   EK201640017032   ESTUDIANTE      SOLTERO         \n",
       "52638 20164   EK201640004573   ESTUDIANTE      UNIÓN LIBRE     \n",
       "52639 20164   EK201640009827   ESTUDIANTE      SOLTERO         \n",
       "52640 20164   EK201640014911   ESTUDIANTE      SOLTERO         \n",
       "52641 20164   EK201640002398   ESTUDIANTE      SOLTERO         \n",
       "52642 20164   EK201640019236   ESTUDIANTE      SOLTERO         \n",
       "52643 20164   EK201640027307   ESTUDIANTE      UNIÓN LIBRE     \n",
       "52644 20164   EK201640013986   ESTUDIANTE      SOLTERO         \n",
       "52645 20164   EK201640014683   ESTUDIANTE      SOLTERO         \n",
       "52646 20164   EK201640005781   ESTUDIANTE      CASADO          \n",
       "52647 20164   EK201640035572   ESTUDIANTE      SOLTERO         \n",
       "52648 20164   EK201640016125   ESTUDIANTE      SOLTERO         \n",
       "52649 20164   EK201640005428   ESTUDIANTE      SOLTERO         \n",
       "52650 20164   EK201640017673   ESTUDIANTE      CASADO          \n",
       "52651 20164   EK201640012284   ESTUDIANTE      SOLTERO         \n",
       "52652 20164   EK201640007449   ESTUDIANTE      SOLTERO         \n",
       "52653 20164   EK201640029555   ESTUDIANTE      SOLTERO         \n",
       "52654 20164   EK201640019263   ESTUDIANTE      SOLTERO         \n",
       "52655 20164   EK201640028894   ESTUDIANTE      SOLTERO         \n",
       "52656 20164   EK201640038187   ESTUDIANTE      CASADO          \n",
       "52657 20164   EK201640028017   ESTUDIANTE      SOLTERO         \n",
       "52658 20164   EK201640008378   ESTUDIANTE      CASADO          \n",
       "52659 20164   EK201640024984   ESTUDIANTE      SOLTERO         \n",
       "52660 20164   EK201640017927   ESTUDIANTE      SOLTERO         \n",
       "52661 20164   EK201640005823   ESTUDIANTE      SOLTERO         \n",
       "52662 20164   EK201640005164   ESTUDIANTE      SOLTERO         \n",
       "52663 20164   EK201640001818   ESTUDIANTE      UNIÓN LIBRE     \n",
       "52664 20164   EK201640011583   ESTUDIANTE      SOLTERO         \n",
       "52665 20164   EK201640024848   ESTUDIANTE      SOLTERO         \n",
       "      ESTU_TIENE_ETNIA ESTU_ETNIA                       ⋯ MOD_INGLES_PGREF\n",
       "1     FALSE            NA                               ⋯  59             \n",
       "2        NA            NA                               ⋯  74             \n",
       "3     FALSE            NA                               ⋯  98             \n",
       "4     FALSE            NA                               ⋯  30             \n",
       "5     FALSE            NA                               ⋯  19             \n",
       "6     FALSE            NA                               ⋯  81             \n",
       "7      TRUE            19 Otro grupo étnico minoritario ⋯  14             \n",
       "8        NA            NA                               ⋯  21             \n",
       "9     FALSE            NA                               ⋯  26             \n",
       "10    FALSE            NA                               ⋯  94             \n",
       "11    FALSE            NA                               ⋯  71             \n",
       "12    FALSE            NA                               ⋯   2             \n",
       "13       NA            NA                               ⋯  49             \n",
       "14    FALSE            NA                               ⋯  84             \n",
       "15    FALSE            NA                               ⋯  81             \n",
       "16    FALSE            NA                               ⋯  49             \n",
       "17     TRUE            1 Comunidad afrodescendiente     ⋯  21             \n",
       "18    FALSE            NA                               ⋯  50             \n",
       "19    FALSE            NA                               ⋯   9             \n",
       "20    FALSE            NA                               ⋯   1             \n",
       "21    FALSE            NA                               ⋯  73             \n",
       "22    FALSE            NA                               ⋯  79             \n",
       "23    FALSE            NA                               ⋯ 100             \n",
       "24    FALSE            NA                               ⋯  80             \n",
       "25       NA            NA                               ⋯   2             \n",
       "26    FALSE            NA                               ⋯  34             \n",
       "27    FALSE            NA                               ⋯  54             \n",
       "28    FALSE            NA                               ⋯   9             \n",
       "29    FALSE            NA                               ⋯ 100             \n",
       "30    FALSE            NA                               ⋯   5             \n",
       "⋮     ⋮                ⋮                                ⋱ ⋮               \n",
       "52636 FALSE            NA                               ⋯ 94              \n",
       "52637 FALSE            NA                               ⋯ 86              \n",
       "52638 FALSE            NA                               ⋯ 99              \n",
       "52639  TRUE            100 Ninguno                      ⋯ 81              \n",
       "52640 FALSE            NA                               ⋯ 83              \n",
       "52641 FALSE            NA                               ⋯ 27              \n",
       "52642 FALSE            NA                               ⋯ 45              \n",
       "52643 FALSE            NA                               ⋯ 89              \n",
       "52644 FALSE            NA                               ⋯ 36              \n",
       "52645 FALSE            NA                               ⋯ 86              \n",
       "52646 FALSE            NA                               ⋯ 60              \n",
       "52647 FALSE            NA                               ⋯ 30              \n",
       "52648 FALSE            NA                               ⋯ 72              \n",
       "52649 FALSE            NA                               ⋯ 68              \n",
       "52650 FALSE            NA                               ⋯ 31              \n",
       "52651 FALSE            NA                               ⋯ 85              \n",
       "52652 FALSE            NA                               ⋯ 76              \n",
       "52653 FALSE            NA                               ⋯ 48              \n",
       "52654 FALSE            NA                               ⋯ 35              \n",
       "52655 FALSE            NA                               ⋯ 58              \n",
       "52656 FALSE            NA                               ⋯ 12              \n",
       "52657 FALSE            NA                               ⋯ 20              \n",
       "52658 FALSE            NA                               ⋯ 33              \n",
       "52659 FALSE            NA                               ⋯ 59              \n",
       "52660 FALSE            NA                               ⋯ 77              \n",
       "52661 FALSE            NA                               ⋯ 56              \n",
       "52662 FALSE            NA                               ⋯ 68              \n",
       "52663 FALSE            NA                               ⋯ 39              \n",
       "52664 FALSE            NA                               ⋯ 63              \n",
       "52665 FALSE            NA                               ⋯  3              \n",
       "      MOD_COMUNI_ESCRITA_PUNT MOD_COMUNI_ESCRITA_DESEM MOD_COMUNI_ESCRITA_PNAL\n",
       "1     121                     4                        87                     \n",
       "2     123                     4                        89                     \n",
       "3      99                     2                        43                     \n",
       "4      75                     1                        13                     \n",
       "5      86                     2                        29                     \n",
       "6     105                     3                        63                     \n",
       "7      99                     2                        43                     \n",
       "8      84                     2                        22                     \n",
       "9     118                     3                        81                     \n",
       "10    127                     4                        94                     \n",
       "11    104                     3                        58                     \n",
       "12     87                     2                        30                     \n",
       "13    108                     3                        71                     \n",
       "14    115                     3                        75                     \n",
       "15    107                     3                        70                     \n",
       "16     85                     2                        26                     \n",
       "17    107                     3                        70                     \n",
       "18     74                     1                        12                     \n",
       "19    110                     3                        73                     \n",
       "20     85                     2                        27                     \n",
       "21    100                     2                        48                     \n",
       "22    104                     3                        55                     \n",
       "23     86                     2                        30                     \n",
       "24    103                     3                        54                     \n",
       "25     96                     2                        34                     \n",
       "26     85                     2                        27                     \n",
       "27    106                     3                        66                     \n",
       "28     57                     1                         1                     \n",
       "29     62                     1                         3                     \n",
       "30     87                     2                        30                     \n",
       "⋮     ⋮                       ⋮                        ⋮                      \n",
       "52636 108                     3                         71                    \n",
       "52637  99                     2                         42                    \n",
       "52638 142                     4                         98                    \n",
       "52639 120                     3                         86                    \n",
       "52640 151                     4                        100                    \n",
       "52641  83                     2                         22                    \n",
       "52642  97                     2                         35                    \n",
       "52643 102                     3                         52                    \n",
       "52644 110                     3                         73                    \n",
       "52645 103                     3                         54                    \n",
       "52646 100                     2                         49                    \n",
       "52647 127                     4                         95                    \n",
       "52648  79                     1                         17                    \n",
       "52649 104                     3                         56                    \n",
       "52650  83                     2                         21                    \n",
       "52651 126                     4                         93                    \n",
       "52652  86                     2                         29                    \n",
       "52653 106                     3                         66                    \n",
       "52654 105                     3                         62                    \n",
       "52655  99                     2                         42                    \n",
       "52656 104                     3                         60                    \n",
       "52657 104                     3                         56                    \n",
       "52658  88                     2                         31                    \n",
       "52659  79                     1                         17                    \n",
       "52660  79                     1                         17                    \n",
       "52661 104                     3                         57                    \n",
       "52662  75                     1                         12                    \n",
       "52663  60                     1                          2                    \n",
       "52664 122                     4                         88                    \n",
       "52665 118                     3                         80                    \n",
       "      MOD_COMUNI_ESCRITA_PGREF ESTU_ESTADO INSE     NSE  ESTU_EDAD\n",
       "1     85                       PUBLICAR    57.14241 NSE3 26       \n",
       "2     87                       PUBLICAR    65.76637 NSE4 26       \n",
       "3     44                       PUBLICAR    47.68200 NSE2 21       \n",
       "4     11                       PUBLICAR    55.56398 NSE3 37       \n",
       "5     34                       PUBLICAR    27.01330 NSE1 28       \n",
       "6     63                       PUBLICAR    50.76707 NSE2 23       \n",
       "7     43                       PUBLICAR    45.54980 NSE1 41       \n",
       "8     22                       PUBLICAR    55.05894 NSE2 21       \n",
       "9     79                       PUBLICAR    60.17477 NSE4 27       \n",
       "10    93                       PUBLICAR    48.95934 NSE2 18       \n",
       "11    55                       PUBLICAR    48.77295 NSE2 39       \n",
       "12    30                       PUBLICAR    47.26551 NSE2 30       \n",
       "13    68                       PUBLICAR    48.31694 NSE2 26       \n",
       "14    72                       PUBLICAR    35.79830 NSE1 21       \n",
       "15    75                       PUBLICAR    52.17062 NSE2 30       \n",
       "16    27                       PUBLICAR    39.70657 NSE1 24       \n",
       "17    72                       PUBLICAR    65.68092 NSE4 21       \n",
       "18    13                       PUBLICAR    61.84396 NSE4 43       \n",
       "19    70                       PUBLICAR    41.84544 NSE1 20       \n",
       "20    32                       PUBLICAR    45.51286 NSE1 25       \n",
       "21    44                       PUBLICAR    45.74596 NSE2 26       \n",
       "22    51                       PUBLICAR    67.44420 NSE4 26       \n",
       "23    35                       PUBLICAR    66.06796 NSE4 20       \n",
       "24    62                       PUBLICAR    45.49249 NSE1 17       \n",
       "25    30                       PUBLICAR    38.80205 NSE1 21       \n",
       "26    26                       PUBLICAR    49.26491 NSE2 23       \n",
       "27    72                       PUBLICAR    35.89268 NSE1 22       \n",
       "28     1                       PUBLICAR    52.95712 NSE2 22       \n",
       "29     3                       PUBLICAR    67.39774 NSE4 21       \n",
       "30    26                       PUBLICAR    53.40542 NSE2 19       \n",
       "⋮     ⋮                        ⋮           ⋮        ⋮    ⋮        \n",
       "52636 68                       PUBLICAR    62.11897 NSE4 22       \n",
       "52637 38                       PUBLICAR    74.18563 NSE4 21       \n",
       "52638 99                       PUBLICAR    45.45835 NSE1 20       \n",
       "52639 87                       PUBLICAR    49.35806 NSE2 18       \n",
       "52640 99                       PUBLICAR    60.00939 NSE4 31       \n",
       "52641 23                       PUBLICAR    57.56484 NSE3 18       \n",
       "52642 35                       PUBLICAR    58.47617 NSE3 21       \n",
       "52643 48                       PUBLICAR          NA NA   51       \n",
       "52644 70                       PUBLICAR    45.47826 NSE1 23       \n",
       "52645 50                       PUBLICAR    59.37988 NSE4 20       \n",
       "52646 49                       PUBLICAR    40.61375 NSE1 32       \n",
       "52647 95                       PUBLICAR    50.84579 NSE2 27       \n",
       "52648 21                       PUBLICAR    36.51019 NSE1 22       \n",
       "52649 62                       PUBLICAR    38.98832 NSE1 23       \n",
       "52650 21                       PUBLICAR    40.90001 NSE1 33       \n",
       "52651 96                       PUBLICAR    29.50433 NSE1 22       \n",
       "52652 34                       PUBLICAR    41.27336 NSE1 22       \n",
       "52653 62                       PUBLICAR    52.12639 NSE2 36       \n",
       "52654 58                       PUBLICAR    54.18112 NSE2 17       \n",
       "52655 39                       PUBLICAR    63.16856 NSE4 21       \n",
       "52656 60                       PUBLICAR    49.44874 NSE2 24       \n",
       "52657 57                       PUBLICAR    43.10047 NSE1 23       \n",
       "52658 32                       PUBLICAR    55.88203 NSE3 34       \n",
       "52659 17                       PUBLICAR    34.65459 NSE1 30       \n",
       "52660 18                       PUBLICAR    58.50796 NSE3 21       \n",
       "52661 63                       PUBLICAR    45.34484 NSE1 24       \n",
       "52662 15                       PUBLICAR    39.95549 NSE1 24       \n",
       "52663  2                       PUBLICAR    60.76680 NSE4 28       \n",
       "52664 89                       PUBLICAR    69.01630 NSE4 22       \n",
       "52665 80                       PUBLICAR    41.91418 NSE1 28       \n",
       "      ESTU_ALCANZA_COMPETENCIA_INGLES\n",
       "1     FALSE                          \n",
       "2     FALSE                          \n",
       "3     TRUE                           \n",
       "4     FALSE                          \n",
       "5     FALSE                          \n",
       "6     FALSE                          \n",
       "7     FALSE                          \n",
       "8     FALSE                          \n",
       "9     FALSE                          \n",
       "10    TRUE                           \n",
       "11    FALSE                          \n",
       "12    FALSE                          \n",
       "13    FALSE                          \n",
       "14    FALSE                          \n",
       "15    FALSE                          \n",
       "16    FALSE                          \n",
       "17    FALSE                          \n",
       "18    FALSE                          \n",
       "19    FALSE                          \n",
       "20    FALSE                          \n",
       "21    FALSE                          \n",
       "22    TRUE                           \n",
       "23    TRUE                           \n",
       "24    FALSE                          \n",
       "25    FALSE                          \n",
       "26    FALSE                          \n",
       "27    FALSE                          \n",
       "28    FALSE                          \n",
       "29    TRUE                           \n",
       "30    FALSE                          \n",
       "⋮     ⋮                              \n",
       "52636 TRUE                           \n",
       "52637 TRUE                           \n",
       "52638 TRUE                           \n",
       "52639 FALSE                          \n",
       "52640 TRUE                           \n",
       "52641 FALSE                          \n",
       "52642 FALSE                          \n",
       "52643 TRUE                           \n",
       "52644 FALSE                          \n",
       "52645 TRUE                           \n",
       "52646 FALSE                          \n",
       "52647 FALSE                          \n",
       "52648 FALSE                          \n",
       "52649 FALSE                          \n",
       "52650 FALSE                          \n",
       "52651 FALSE                          \n",
       "52652 FALSE                          \n",
       "52653 FALSE                          \n",
       "52654 FALSE                          \n",
       "52655 FALSE                          \n",
       "52656 FALSE                          \n",
       "52657 FALSE                          \n",
       "52658 FALSE                          \n",
       "52659 FALSE                          \n",
       "52660 TRUE                           \n",
       "52661 FALSE                          \n",
       "52662 FALSE                          \n",
       "52663 FALSE                          \n",
       "52664 FALSE                          \n",
       "52665 FALSE                          "
      ]
     },
     "metadata": {},
     "output_type": "display_data"
    }
   ],
   "source": [
    "df_published"
   ]
  }
 ],
 "metadata": {
  "kernelspec": {
   "display_name": "R",
   "language": "R",
   "name": "ir"
  },
  "language_info": {
   "codemirror_mode": "r",
   "file_extension": ".r",
   "mimetype": "text/x-r-source",
   "name": "R",
   "pygments_lexer": "r",
   "version": "4.1.1"
  },
  "toc": {
   "base_numbering": 1,
   "nav_menu": {},
   "number_sections": false,
   "sideBar": true,
   "skip_h1_title": false,
   "title_cell": "Table of Contents",
   "title_sidebar": "Contents",
   "toc_cell": false,
   "toc_position": {},
   "toc_section_display": true,
   "toc_window_display": false
  }
 },
 "nbformat": 4,
 "nbformat_minor": 4
}
